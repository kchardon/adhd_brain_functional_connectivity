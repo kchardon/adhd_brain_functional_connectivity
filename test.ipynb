{
 "cells": [
  {
   "cell_type": "code",
   "execution_count": 1,
   "metadata": {},
   "outputs": [],
   "source": [
    "import pandas as pd\n",
    "import numpy as np\n",
    "from ncafs import NCAFSC\n",
    "from sklearn.model_selection import LeaveOneOut\n",
    "from get_data import get_data"
   ]
  },
  {
   "cell_type": "code",
   "execution_count": 2,
   "metadata": {},
   "outputs": [
    {
     "name": "stderr",
     "output_type": "stream",
     "text": [
      "/storage/store3/work/kachardo/adhd_brain_functional_connectivity/get_data.py:40: FutureWarning: Calling int on a single element Series is deprecated and will raise a TypeError in the future. Use int(ser.iloc[0]) instead\n",
      "  session = int(subjects_data[subjects_data['subject_id']==subject[4:]]['session'])\n"
     ]
    },
    {
     "name": "stdout",
     "output_type": "stream",
     "text": [
      "Removing 5 compensators from info because not all compensation channels were picked.\n",
      "Connectivity computation...\n",
      "only using indices for lower-triangular matrix\n",
      "    computing connectivity for 34191 connections\n",
      "    using t=0.000s..10.000s for estimation (2001 points)\n",
      "    frequencies: 8.1Hz..12.0Hz (40 points)\n",
      "    connectivity scores will be averaged for each band\n",
      "    using FFT with a Hanning window to estimate spectra\n",
      "    the following metrics will be computed: Coherence\n",
      "    computing connectivity for epochs 1..28\n"
     ]
    },
    {
     "name": "stderr",
     "output_type": "stream",
     "text": [
      "/storage/store3/work/kachardo/adhd_brain_functional_connectivity/get_data.py:46: RuntimeWarning: There were no Annotations stored in <EpochsFIF |  28 events (all good), 0 – 10 s, baseline off, ~112.6 MB, data loaded,\n",
      " 'rest': 28>, so metadata was not modified.\n",
      "  connectivity = spectral_connectivity_epochs(epoch, fmin = frequency_bands[band][0], fmax = frequency_bands[band][1], faverage=True, n_jobs=40, mode = 'fourier', method = 'coh')\n",
      "[Parallel(n_jobs=40)]: Using backend LokyBackend with 40 concurrent workers.\n",
      "[Parallel(n_jobs=40)]: Done   7 out of  28 | elapsed:    6.0s remaining:   18.0s\n",
      "[Parallel(n_jobs=40)]: Done  13 out of  28 | elapsed:    6.3s remaining:    7.2s\n",
      "[Parallel(n_jobs=40)]: Done  19 out of  28 | elapsed:    6.6s remaining:    3.1s\n",
      "[Parallel(n_jobs=40)]: Done  25 out of  28 | elapsed:    6.9s remaining:    0.8s\n",
      "[Parallel(n_jobs=40)]: Done  28 out of  28 | elapsed:    7.0s finished\n"
     ]
    },
    {
     "name": "stdout",
     "output_type": "stream",
     "text": [
      "    assembling connectivity matrix\n",
      "[Connectivity computation done]\n",
      "[0.         0.32649031 0.         ... 0.11287741 0.06891407 0.        ]\n"
     ]
    },
    {
     "name": "stderr",
     "output_type": "stream",
     "text": [
      "/storage/store3/work/kachardo/adhd_brain_functional_connectivity/get_data.py:40: FutureWarning: Calling int on a single element Series is deprecated and will raise a TypeError in the future. Use int(ser.iloc[0]) instead\n",
      "  session = int(subjects_data[subjects_data['subject_id']==subject[4:]]['session'])\n"
     ]
    },
    {
     "name": "stdout",
     "output_type": "stream",
     "text": [
      "Removing 5 compensators from info because not all compensation channels were picked.\n",
      "Connectivity computation...\n",
      "only using indices for lower-triangular matrix\n",
      "    computing connectivity for 34191 connections\n",
      "    using t=0.000s..10.000s for estimation (2001 points)\n",
      "    frequencies: 8.1Hz..12.0Hz (40 points)\n",
      "    connectivity scores will be averaged for each band\n",
      "    using FFT with a Hanning window to estimate spectra\n",
      "    the following metrics will be computed: Coherence\n",
      "    computing connectivity for epochs 1..28\n"
     ]
    },
    {
     "name": "stderr",
     "output_type": "stream",
     "text": [
      "/storage/store3/work/kachardo/adhd_brain_functional_connectivity/get_data.py:46: RuntimeWarning: There were no Annotations stored in <EpochsFIF |  28 events (all good), 0 – 10 s, baseline off, ~112.6 MB, data loaded,\n",
      " 'rest': 28>, so metadata was not modified.\n",
      "  connectivity = spectral_connectivity_epochs(epoch, fmin = frequency_bands[band][0], fmax = frequency_bands[band][1], faverage=True, n_jobs=40, mode = 'fourier', method = 'coh')\n",
      "[Parallel(n_jobs=40)]: Using backend LokyBackend with 40 concurrent workers.\n",
      "[Parallel(n_jobs=40)]: Done   7 out of  28 | elapsed:    0.6s remaining:    1.7s\n",
      "[Parallel(n_jobs=40)]: Done  13 out of  28 | elapsed:    0.9s remaining:    1.0s\n",
      "[Parallel(n_jobs=40)]: Done  19 out of  28 | elapsed:    3.6s remaining:    1.7s\n",
      "[Parallel(n_jobs=40)]: Done  25 out of  28 | elapsed:    4.1s remaining:    0.5s\n",
      "[Parallel(n_jobs=40)]: Done  28 out of  28 | elapsed:    4.3s finished\n"
     ]
    },
    {
     "name": "stdout",
     "output_type": "stream",
     "text": [
      "    assembling connectivity matrix\n",
      "[Connectivity computation done]\n",
      "[0.         0.54213546 0.         ... 0.21442152 0.13534283 0.        ]\n"
     ]
    },
    {
     "name": "stderr",
     "output_type": "stream",
     "text": [
      "/storage/store3/work/kachardo/adhd_brain_functional_connectivity/get_data.py:40: FutureWarning: Calling int on a single element Series is deprecated and will raise a TypeError in the future. Use int(ser.iloc[0]) instead\n",
      "  session = int(subjects_data[subjects_data['subject_id']==subject[4:]]['session'])\n"
     ]
    },
    {
     "name": "stdout",
     "output_type": "stream",
     "text": [
      "Removing 5 compensators from info because not all compensation channels were picked.\n",
      "Connectivity computation...\n",
      "only using indices for lower-triangular matrix\n",
      "    computing connectivity for 34191 connections\n",
      "    using t=0.000s..10.000s for estimation (2001 points)\n",
      "    frequencies: 8.1Hz..12.0Hz (40 points)\n",
      "    connectivity scores will be averaged for each band\n",
      "    using FFT with a Hanning window to estimate spectra\n",
      "    the following metrics will be computed: Coherence\n",
      "    computing connectivity for epochs 1..28\n"
     ]
    },
    {
     "name": "stderr",
     "output_type": "stream",
     "text": [
      "/storage/store3/work/kachardo/adhd_brain_functional_connectivity/get_data.py:46: RuntimeWarning: There were no Annotations stored in <EpochsFIF |  28 events (all good), 0 – 10 s, baseline off, ~112.6 MB, data loaded,\n",
      " 'rest': 28>, so metadata was not modified.\n",
      "  connectivity = spectral_connectivity_epochs(epoch, fmin = frequency_bands[band][0], fmax = frequency_bands[band][1], faverage=True, n_jobs=40, mode = 'fourier', method = 'coh')\n",
      "[Parallel(n_jobs=40)]: Using backend LokyBackend with 40 concurrent workers.\n",
      "[Parallel(n_jobs=40)]: Done   7 out of  28 | elapsed:    0.5s remaining:    1.5s\n",
      "[Parallel(n_jobs=40)]: Done  13 out of  28 | elapsed:    0.7s remaining:    0.8s\n",
      "[Parallel(n_jobs=40)]: Done  19 out of  28 | elapsed:    1.0s remaining:    0.5s\n",
      "[Parallel(n_jobs=40)]: Done  25 out of  28 | elapsed:    1.2s remaining:    0.1s\n",
      "[Parallel(n_jobs=40)]: Done  28 out of  28 | elapsed:    1.4s finished\n"
     ]
    },
    {
     "name": "stdout",
     "output_type": "stream",
     "text": [
      "    assembling connectivity matrix\n",
      "[Connectivity computation done]\n",
      "[0.         0.40607525 0.         ... 0.22323828 0.02374937 0.        ]\n"
     ]
    },
    {
     "name": "stderr",
     "output_type": "stream",
     "text": [
      "/storage/store3/work/kachardo/adhd_brain_functional_connectivity/get_data.py:40: FutureWarning: Calling int on a single element Series is deprecated and will raise a TypeError in the future. Use int(ser.iloc[0]) instead\n",
      "  session = int(subjects_data[subjects_data['subject_id']==subject[4:]]['session'])\n"
     ]
    },
    {
     "name": "stdout",
     "output_type": "stream",
     "text": [
      "Removing 5 compensators from info because not all compensation channels were picked.\n",
      "Connectivity computation...\n",
      "only using indices for lower-triangular matrix\n",
      "    computing connectivity for 34191 connections\n",
      "    using t=0.000s..10.000s for estimation (2001 points)\n",
      "    frequencies: 8.1Hz..12.0Hz (40 points)\n",
      "    connectivity scores will be averaged for each band\n",
      "    using FFT with a Hanning window to estimate spectra\n",
      "    the following metrics will be computed: Coherence\n",
      "    computing connectivity for epochs 1..28\n"
     ]
    },
    {
     "name": "stderr",
     "output_type": "stream",
     "text": [
      "/storage/store3/work/kachardo/adhd_brain_functional_connectivity/get_data.py:46: RuntimeWarning: There were no Annotations stored in <EpochsFIF |  28 events (all good), 0 – 10 s, baseline off, ~112.6 MB, data loaded,\n",
      " 'rest': 28>, so metadata was not modified.\n",
      "  connectivity = spectral_connectivity_epochs(epoch, fmin = frequency_bands[band][0], fmax = frequency_bands[band][1], faverage=True, n_jobs=40, mode = 'fourier', method = 'coh')\n",
      "[Parallel(n_jobs=40)]: Using backend LokyBackend with 40 concurrent workers.\n",
      "[Parallel(n_jobs=40)]: Done   7 out of  28 | elapsed:    0.5s remaining:    1.6s\n",
      "[Parallel(n_jobs=40)]: Done  13 out of  28 | elapsed:    0.8s remaining:    0.9s\n",
      "[Parallel(n_jobs=40)]: Done  19 out of  28 | elapsed:    1.0s remaining:    0.5s\n",
      "[Parallel(n_jobs=40)]: Done  25 out of  28 | elapsed:    1.2s remaining:    0.1s\n",
      "[Parallel(n_jobs=40)]: Done  28 out of  28 | elapsed:    1.4s finished\n"
     ]
    },
    {
     "name": "stdout",
     "output_type": "stream",
     "text": [
      "    assembling connectivity matrix\n",
      "[Connectivity computation done]\n",
      "[0.         0.33095132 0.         ... 0.10937674 0.02794641 0.        ]\n"
     ]
    },
    {
     "name": "stderr",
     "output_type": "stream",
     "text": [
      "/storage/store3/work/kachardo/adhd_brain_functional_connectivity/get_data.py:40: FutureWarning: Calling int on a single element Series is deprecated and will raise a TypeError in the future. Use int(ser.iloc[0]) instead\n",
      "  session = int(subjects_data[subjects_data['subject_id']==subject[4:]]['session'])\n"
     ]
    },
    {
     "name": "stdout",
     "output_type": "stream",
     "text": [
      "Removing 5 compensators from info because not all compensation channels were picked.\n",
      "Connectivity computation...\n",
      "only using indices for lower-triangular matrix\n",
      "    computing connectivity for 34191 connections\n",
      "    using t=0.000s..10.000s for estimation (2001 points)\n",
      "    frequencies: 8.1Hz..12.0Hz (40 points)\n",
      "    connectivity scores will be averaged for each band\n",
      "    using FFT with a Hanning window to estimate spectra\n",
      "    the following metrics will be computed: Coherence\n",
      "    computing connectivity for epochs 1..28\n"
     ]
    },
    {
     "name": "stderr",
     "output_type": "stream",
     "text": [
      "/storage/store3/work/kachardo/adhd_brain_functional_connectivity/get_data.py:46: RuntimeWarning: There were no Annotations stored in <EpochsFIF |  28 events (all good), 0 – 10 s, baseline off, ~112.6 MB, data loaded,\n",
      " 'rest': 28>, so metadata was not modified.\n",
      "  connectivity = spectral_connectivity_epochs(epoch, fmin = frequency_bands[band][0], fmax = frequency_bands[band][1], faverage=True, n_jobs=40, mode = 'fourier', method = 'coh')\n",
      "[Parallel(n_jobs=40)]: Using backend LokyBackend with 40 concurrent workers.\n",
      "[Parallel(n_jobs=40)]: Done   7 out of  28 | elapsed:    0.4s remaining:    1.3s\n",
      "[Parallel(n_jobs=40)]: Done  13 out of  28 | elapsed:    0.7s remaining:    0.8s\n",
      "[Parallel(n_jobs=40)]: Done  19 out of  28 | elapsed:    0.8s remaining:    0.4s\n",
      "[Parallel(n_jobs=40)]: Done  25 out of  28 | elapsed:    1.0s remaining:    0.1s\n",
      "[Parallel(n_jobs=40)]: Done  28 out of  28 | elapsed:    1.1s finished\n"
     ]
    },
    {
     "name": "stdout",
     "output_type": "stream",
     "text": [
      "    assembling connectivity matrix\n",
      "[Connectivity computation done]\n",
      "[0.         0.19937997 0.         ... 0.04109701 0.10640154 0.        ]\n"
     ]
    },
    {
     "name": "stderr",
     "output_type": "stream",
     "text": [
      "/storage/store3/work/kachardo/adhd_brain_functional_connectivity/get_data.py:40: FutureWarning: Calling int on a single element Series is deprecated and will raise a TypeError in the future. Use int(ser.iloc[0]) instead\n",
      "  session = int(subjects_data[subjects_data['subject_id']==subject[4:]]['session'])\n"
     ]
    },
    {
     "name": "stdout",
     "output_type": "stream",
     "text": [
      "Removing 5 compensators from info because not all compensation channels were picked.\n",
      "Connectivity computation...\n",
      "only using indices for lower-triangular matrix\n",
      "    computing connectivity for 34191 connections\n",
      "    using t=0.000s..10.000s for estimation (2001 points)\n",
      "    frequencies: 8.1Hz..12.0Hz (40 points)\n",
      "    connectivity scores will be averaged for each band\n",
      "    using FFT with a Hanning window to estimate spectra\n",
      "    the following metrics will be computed: Coherence\n",
      "    computing connectivity for epochs 1..28\n"
     ]
    },
    {
     "name": "stderr",
     "output_type": "stream",
     "text": [
      "/storage/store3/work/kachardo/adhd_brain_functional_connectivity/get_data.py:46: RuntimeWarning: There were no Annotations stored in <EpochsFIF |  28 events (all good), 0 – 10 s, baseline off, ~112.6 MB, data loaded,\n",
      " 'rest': 28>, so metadata was not modified.\n",
      "  connectivity = spectral_connectivity_epochs(epoch, fmin = frequency_bands[band][0], fmax = frequency_bands[band][1], faverage=True, n_jobs=40, mode = 'fourier', method = 'coh')\n",
      "[Parallel(n_jobs=40)]: Using backend LokyBackend with 40 concurrent workers.\n",
      "[Parallel(n_jobs=40)]: Done   7 out of  28 | elapsed:    0.4s remaining:    1.3s\n",
      "[Parallel(n_jobs=40)]: Done  13 out of  28 | elapsed:    0.7s remaining:    0.8s\n",
      "[Parallel(n_jobs=40)]: Done  19 out of  28 | elapsed:    1.0s remaining:    0.5s\n",
      "[Parallel(n_jobs=40)]: Done  25 out of  28 | elapsed:    1.2s remaining:    0.1s\n",
      "[Parallel(n_jobs=40)]: Done  28 out of  28 | elapsed:    1.3s finished\n"
     ]
    },
    {
     "name": "stdout",
     "output_type": "stream",
     "text": [
      "    assembling connectivity matrix\n",
      "[Connectivity computation done]\n",
      "[0.         0.36724782 0.         ... 0.20809653 0.05691691 0.        ]\n"
     ]
    },
    {
     "name": "stderr",
     "output_type": "stream",
     "text": [
      "/storage/store3/work/kachardo/adhd_brain_functional_connectivity/get_data.py:40: FutureWarning: Calling int on a single element Series is deprecated and will raise a TypeError in the future. Use int(ser.iloc[0]) instead\n",
      "  session = int(subjects_data[subjects_data['subject_id']==subject[4:]]['session'])\n"
     ]
    },
    {
     "name": "stdout",
     "output_type": "stream",
     "text": [
      "Removing 5 compensators from info because not all compensation channels were picked.\n",
      "Connectivity computation...\n",
      "only using indices for lower-triangular matrix\n",
      "    computing connectivity for 34191 connections\n",
      "    using t=0.000s..10.000s for estimation (2001 points)\n",
      "    frequencies: 8.1Hz..12.0Hz (40 points)\n",
      "    connectivity scores will be averaged for each band\n",
      "    using FFT with a Hanning window to estimate spectra\n",
      "    the following metrics will be computed: Coherence\n",
      "    computing connectivity for epochs 1..28\n"
     ]
    },
    {
     "name": "stderr",
     "output_type": "stream",
     "text": [
      "/storage/store3/work/kachardo/adhd_brain_functional_connectivity/get_data.py:46: RuntimeWarning: There were no Annotations stored in <EpochsFIF |  28 events (all good), 0 – 10 s, baseline off, ~112.6 MB, data loaded,\n",
      " 'rest': 28>, so metadata was not modified.\n",
      "  connectivity = spectral_connectivity_epochs(epoch, fmin = frequency_bands[band][0], fmax = frequency_bands[band][1], faverage=True, n_jobs=40, mode = 'fourier', method = 'coh')\n",
      "[Parallel(n_jobs=40)]: Using backend LokyBackend with 40 concurrent workers.\n",
      "[Parallel(n_jobs=40)]: Done   7 out of  28 | elapsed:    0.5s remaining:    1.4s\n",
      "[Parallel(n_jobs=40)]: Done  13 out of  28 | elapsed:    0.7s remaining:    0.8s\n",
      "[Parallel(n_jobs=40)]: Done  19 out of  28 | elapsed:    0.9s remaining:    0.4s\n",
      "[Parallel(n_jobs=40)]: Done  25 out of  28 | elapsed:    1.1s remaining:    0.1s\n",
      "[Parallel(n_jobs=40)]: Done  28 out of  28 | elapsed:    1.2s finished\n"
     ]
    },
    {
     "name": "stdout",
     "output_type": "stream",
     "text": [
      "    assembling connectivity matrix\n",
      "[Connectivity computation done]\n",
      "[0.         0.64151154 0.         ... 0.06749958 0.05215885 0.        ]\n"
     ]
    },
    {
     "name": "stderr",
     "output_type": "stream",
     "text": [
      "/storage/store3/work/kachardo/adhd_brain_functional_connectivity/get_data.py:40: FutureWarning: Calling int on a single element Series is deprecated and will raise a TypeError in the future. Use int(ser.iloc[0]) instead\n",
      "  session = int(subjects_data[subjects_data['subject_id']==subject[4:]]['session'])\n"
     ]
    },
    {
     "name": "stdout",
     "output_type": "stream",
     "text": [
      "Removing 5 compensators from info because not all compensation channels were picked.\n",
      "Connectivity computation...\n",
      "only using indices for lower-triangular matrix\n",
      "    computing connectivity for 34191 connections\n",
      "    using t=0.000s..10.000s for estimation (2001 points)\n",
      "    frequencies: 8.1Hz..12.0Hz (40 points)\n",
      "    connectivity scores will be averaged for each band\n",
      "    using FFT with a Hanning window to estimate spectra\n",
      "    the following metrics will be computed: Coherence\n",
      "    computing connectivity for epochs 1..28\n"
     ]
    },
    {
     "name": "stderr",
     "output_type": "stream",
     "text": [
      "/storage/store3/work/kachardo/adhd_brain_functional_connectivity/get_data.py:46: RuntimeWarning: There were no Annotations stored in <EpochsFIF |  28 events (all good), 0 – 10 s, baseline off, ~112.6 MB, data loaded,\n",
      " 'rest': 28>, so metadata was not modified.\n",
      "  connectivity = spectral_connectivity_epochs(epoch, fmin = frequency_bands[band][0], fmax = frequency_bands[band][1], faverage=True, n_jobs=40, mode = 'fourier', method = 'coh')\n",
      "[Parallel(n_jobs=40)]: Using backend LokyBackend with 40 concurrent workers.\n",
      "[Parallel(n_jobs=40)]: Done   7 out of  28 | elapsed:    0.5s remaining:    1.4s\n",
      "[Parallel(n_jobs=40)]: Done  13 out of  28 | elapsed:    0.7s remaining:    0.8s\n",
      "[Parallel(n_jobs=40)]: Done  19 out of  28 | elapsed:    1.0s remaining:    0.5s\n",
      "[Parallel(n_jobs=40)]: Done  25 out of  28 | elapsed:    1.2s remaining:    0.1s\n",
      "[Parallel(n_jobs=40)]: Done  28 out of  28 | elapsed:    1.3s finished\n"
     ]
    },
    {
     "name": "stdout",
     "output_type": "stream",
     "text": [
      "    assembling connectivity matrix\n",
      "[Connectivity computation done]\n",
      "[0.         0.26928054 0.         ... 0.04576065 0.06515927 0.        ]\n"
     ]
    },
    {
     "name": "stderr",
     "output_type": "stream",
     "text": [
      "/storage/store3/work/kachardo/adhd_brain_functional_connectivity/get_data.py:40: FutureWarning: Calling int on a single element Series is deprecated and will raise a TypeError in the future. Use int(ser.iloc[0]) instead\n",
      "  session = int(subjects_data[subjects_data['subject_id']==subject[4:]]['session'])\n"
     ]
    },
    {
     "name": "stdout",
     "output_type": "stream",
     "text": [
      "Removing 5 compensators from info because not all compensation channels were picked.\n",
      "Connectivity computation...\n",
      "only using indices for lower-triangular matrix\n",
      "    computing connectivity for 34191 connections\n",
      "    using t=0.000s..10.000s for estimation (2001 points)\n",
      "    frequencies: 8.1Hz..12.0Hz (40 points)\n",
      "    connectivity scores will be averaged for each band\n",
      "    using FFT with a Hanning window to estimate spectra\n",
      "    the following metrics will be computed: Coherence\n",
      "    computing connectivity for epochs 1..28\n"
     ]
    },
    {
     "name": "stderr",
     "output_type": "stream",
     "text": [
      "/storage/store3/work/kachardo/adhd_brain_functional_connectivity/get_data.py:46: RuntimeWarning: There were no Annotations stored in <EpochsFIF |  28 events (all good), 0 – 10 s, baseline off, ~112.6 MB, data loaded,\n",
      " 'rest': 28>, so metadata was not modified.\n",
      "  connectivity = spectral_connectivity_epochs(epoch, fmin = frequency_bands[band][0], fmax = frequency_bands[band][1], faverage=True, n_jobs=40, mode = 'fourier', method = 'coh')\n",
      "[Parallel(n_jobs=40)]: Using backend LokyBackend with 40 concurrent workers.\n",
      "[Parallel(n_jobs=40)]: Done   7 out of  28 | elapsed:    0.5s remaining:    1.6s\n",
      "[Parallel(n_jobs=40)]: Done  13 out of  28 | elapsed:    0.8s remaining:    0.9s\n",
      "[Parallel(n_jobs=40)]: Done  19 out of  28 | elapsed:    1.0s remaining:    0.5s\n",
      "[Parallel(n_jobs=40)]: Done  25 out of  28 | elapsed:    1.3s remaining:    0.2s\n",
      "[Parallel(n_jobs=40)]: Done  28 out of  28 | elapsed:    1.4s finished\n"
     ]
    },
    {
     "name": "stdout",
     "output_type": "stream",
     "text": [
      "    assembling connectivity matrix\n",
      "[Connectivity computation done]\n",
      "[0.         0.53960457 0.         ... 0.04652704 0.05040969 0.        ]\n"
     ]
    },
    {
     "name": "stderr",
     "output_type": "stream",
     "text": [
      "/storage/store3/work/kachardo/adhd_brain_functional_connectivity/get_data.py:40: FutureWarning: Calling int on a single element Series is deprecated and will raise a TypeError in the future. Use int(ser.iloc[0]) instead\n",
      "  session = int(subjects_data[subjects_data['subject_id']==subject[4:]]['session'])\n"
     ]
    },
    {
     "name": "stdout",
     "output_type": "stream",
     "text": [
      "Removing 5 compensators from info because not all compensation channels were picked.\n",
      "Connectivity computation...\n",
      "only using indices for lower-triangular matrix\n",
      "    computing connectivity for 34191 connections\n",
      "    using t=0.000s..10.000s for estimation (2001 points)\n",
      "    frequencies: 8.1Hz..12.0Hz (40 points)\n",
      "    connectivity scores will be averaged for each band\n",
      "    using FFT with a Hanning window to estimate spectra\n",
      "    the following metrics will be computed: Coherence\n",
      "    computing connectivity for epochs 1..28\n"
     ]
    },
    {
     "name": "stderr",
     "output_type": "stream",
     "text": [
      "/storage/store3/work/kachardo/adhd_brain_functional_connectivity/get_data.py:46: RuntimeWarning: There were no Annotations stored in <EpochsFIF |  28 events (all good), 0 – 10 s, baseline off, ~112.6 MB, data loaded,\n",
      " 'rest': 28>, so metadata was not modified.\n",
      "  connectivity = spectral_connectivity_epochs(epoch, fmin = frequency_bands[band][0], fmax = frequency_bands[band][1], faverage=True, n_jobs=40, mode = 'fourier', method = 'coh')\n",
      "[Parallel(n_jobs=40)]: Using backend LokyBackend with 40 concurrent workers.\n",
      "[Parallel(n_jobs=40)]: Done   7 out of  28 | elapsed:    0.5s remaining:    1.6s\n",
      "[Parallel(n_jobs=40)]: Done  13 out of  28 | elapsed:    0.8s remaining:    0.9s\n",
      "[Parallel(n_jobs=40)]: Done  19 out of  28 | elapsed:    1.0s remaining:    0.5s\n",
      "[Parallel(n_jobs=40)]: Done  25 out of  28 | elapsed:    1.2s remaining:    0.1s\n",
      "[Parallel(n_jobs=40)]: Done  28 out of  28 | elapsed:    1.3s finished\n"
     ]
    },
    {
     "name": "stdout",
     "output_type": "stream",
     "text": [
      "    assembling connectivity matrix\n",
      "[Connectivity computation done]\n",
      "[0.         0.68673336 0.         ... 0.29138013 0.12867539 0.        ]\n"
     ]
    },
    {
     "name": "stderr",
     "output_type": "stream",
     "text": [
      "/storage/store3/work/kachardo/adhd_brain_functional_connectivity/get_data.py:40: FutureWarning: Calling int on a single element Series is deprecated and will raise a TypeError in the future. Use int(ser.iloc[0]) instead\n",
      "  session = int(subjects_data[subjects_data['subject_id']==subject[4:]]['session'])\n"
     ]
    },
    {
     "name": "stdout",
     "output_type": "stream",
     "text": [
      "Removing 5 compensators from info because not all compensation channels were picked.\n",
      "Connectivity computation...\n",
      "only using indices for lower-triangular matrix\n",
      "    computing connectivity for 34191 connections\n",
      "    using t=0.000s..10.000s for estimation (2001 points)\n",
      "    frequencies: 8.1Hz..12.0Hz (40 points)\n",
      "    connectivity scores will be averaged for each band\n",
      "    using FFT with a Hanning window to estimate spectra\n",
      "    the following metrics will be computed: Coherence\n",
      "    computing connectivity for epochs 1..28\n"
     ]
    },
    {
     "name": "stderr",
     "output_type": "stream",
     "text": [
      "/storage/store3/work/kachardo/adhd_brain_functional_connectivity/get_data.py:46: RuntimeWarning: There were no Annotations stored in <EpochsFIF |  28 events (all good), 0 – 10 s, baseline off, ~112.6 MB, data loaded,\n",
      " 'rest': 28>, so metadata was not modified.\n",
      "  connectivity = spectral_connectivity_epochs(epoch, fmin = frequency_bands[band][0], fmax = frequency_bands[band][1], faverage=True, n_jobs=40, mode = 'fourier', method = 'coh')\n",
      "[Parallel(n_jobs=40)]: Using backend LokyBackend with 40 concurrent workers.\n",
      "[Parallel(n_jobs=40)]: Done   7 out of  28 | elapsed:    0.4s remaining:    1.2s\n",
      "[Parallel(n_jobs=40)]: Done  13 out of  28 | elapsed:    0.6s remaining:    0.7s\n",
      "[Parallel(n_jobs=40)]: Done  19 out of  28 | elapsed:    0.8s remaining:    0.4s\n",
      "[Parallel(n_jobs=40)]: Done  25 out of  28 | elapsed:    1.0s remaining:    0.1s\n"
     ]
    },
    {
     "name": "stdout",
     "output_type": "stream",
     "text": [
      "    assembling connectivity matrix\n"
     ]
    },
    {
     "name": "stderr",
     "output_type": "stream",
     "text": [
      "[Parallel(n_jobs=40)]: Done  28 out of  28 | elapsed:    1.1s finished\n"
     ]
    },
    {
     "name": "stdout",
     "output_type": "stream",
     "text": [
      "[Connectivity computation done]\n",
      "[0.         0.54016214 0.         ... 0.21035925 0.07628493 0.        ]\n"
     ]
    },
    {
     "name": "stderr",
     "output_type": "stream",
     "text": [
      "/storage/store3/work/kachardo/adhd_brain_functional_connectivity/get_data.py:40: FutureWarning: Calling int on a single element Series is deprecated and will raise a TypeError in the future. Use int(ser.iloc[0]) instead\n",
      "  session = int(subjects_data[subjects_data['subject_id']==subject[4:]]['session'])\n"
     ]
    },
    {
     "name": "stdout",
     "output_type": "stream",
     "text": [
      "Removing 5 compensators from info because not all compensation channels were picked.\n",
      "Connectivity computation...\n",
      "only using indices for lower-triangular matrix\n",
      "    computing connectivity for 34191 connections\n",
      "    using t=0.000s..10.000s for estimation (2001 points)\n",
      "    frequencies: 8.1Hz..12.0Hz (40 points)\n",
      "    connectivity scores will be averaged for each band\n",
      "    using FFT with a Hanning window to estimate spectra\n",
      "    the following metrics will be computed: Coherence\n",
      "    computing connectivity for epochs 1..28\n"
     ]
    },
    {
     "name": "stderr",
     "output_type": "stream",
     "text": [
      "/storage/store3/work/kachardo/adhd_brain_functional_connectivity/get_data.py:46: RuntimeWarning: There were no Annotations stored in <EpochsFIF |  28 events (all good), 0 – 10 s, baseline off, ~112.6 MB, data loaded,\n",
      " 'rest': 28>, so metadata was not modified.\n",
      "  connectivity = spectral_connectivity_epochs(epoch, fmin = frequency_bands[band][0], fmax = frequency_bands[band][1], faverage=True, n_jobs=40, mode = 'fourier', method = 'coh')\n",
      "[Parallel(n_jobs=40)]: Using backend LokyBackend with 40 concurrent workers.\n",
      "[Parallel(n_jobs=40)]: Done   7 out of  28 | elapsed:    0.4s remaining:    1.2s\n",
      "[Parallel(n_jobs=40)]: Done  13 out of  28 | elapsed:    0.6s remaining:    0.7s\n",
      "[Parallel(n_jobs=40)]: Done  19 out of  28 | elapsed:    0.8s remaining:    0.4s\n",
      "[Parallel(n_jobs=40)]: Done  25 out of  28 | elapsed:    1.0s remaining:    0.1s\n"
     ]
    },
    {
     "name": "stdout",
     "output_type": "stream",
     "text": [
      "    assembling connectivity matrix\n"
     ]
    },
    {
     "name": "stderr",
     "output_type": "stream",
     "text": [
      "[Parallel(n_jobs=40)]: Done  28 out of  28 | elapsed:    1.1s finished\n"
     ]
    },
    {
     "name": "stdout",
     "output_type": "stream",
     "text": [
      "[Connectivity computation done]\n",
      "[0.         0.13769765 0.         ... 0.1224     0.02597271 0.        ]\n"
     ]
    },
    {
     "name": "stderr",
     "output_type": "stream",
     "text": [
      "/storage/store3/work/kachardo/adhd_brain_functional_connectivity/get_data.py:40: FutureWarning: Calling int on a single element Series is deprecated and will raise a TypeError in the future. Use int(ser.iloc[0]) instead\n",
      "  session = int(subjects_data[subjects_data['subject_id']==subject[4:]]['session'])\n"
     ]
    },
    {
     "name": "stdout",
     "output_type": "stream",
     "text": [
      "Removing 5 compensators from info because not all compensation channels were picked.\n",
      "Connectivity computation...\n",
      "only using indices for lower-triangular matrix\n",
      "    computing connectivity for 34191 connections\n",
      "    using t=0.000s..10.000s for estimation (2001 points)\n",
      "    frequencies: 8.1Hz..12.0Hz (40 points)\n",
      "    connectivity scores will be averaged for each band\n",
      "    using FFT with a Hanning window to estimate spectra\n",
      "    the following metrics will be computed: Coherence\n",
      "    computing connectivity for epochs 1..28\n"
     ]
    },
    {
     "name": "stderr",
     "output_type": "stream",
     "text": [
      "/storage/store3/work/kachardo/adhd_brain_functional_connectivity/get_data.py:46: RuntimeWarning: There were no Annotations stored in <EpochsFIF |  28 events (all good), 0 – 10 s, baseline off, ~112.6 MB, data loaded,\n",
      " 'rest': 28>, so metadata was not modified.\n",
      "  connectivity = spectral_connectivity_epochs(epoch, fmin = frequency_bands[band][0], fmax = frequency_bands[band][1], faverage=True, n_jobs=40, mode = 'fourier', method = 'coh')\n",
      "[Parallel(n_jobs=40)]: Using backend LokyBackend with 40 concurrent workers.\n",
      "[Parallel(n_jobs=40)]: Done   7 out of  28 | elapsed:    0.4s remaining:    1.3s\n",
      "[Parallel(n_jobs=40)]: Done  13 out of  28 | elapsed:    0.6s remaining:    0.7s\n",
      "[Parallel(n_jobs=40)]: Done  19 out of  28 | elapsed:    0.8s remaining:    0.4s\n",
      "[Parallel(n_jobs=40)]: Done  25 out of  28 | elapsed:    1.0s remaining:    0.1s\n"
     ]
    },
    {
     "name": "stdout",
     "output_type": "stream",
     "text": [
      "    assembling connectivity matrix\n"
     ]
    },
    {
     "name": "stderr",
     "output_type": "stream",
     "text": [
      "[Parallel(n_jobs=40)]: Done  28 out of  28 | elapsed:    1.1s finished\n"
     ]
    },
    {
     "name": "stdout",
     "output_type": "stream",
     "text": [
      "[Connectivity computation done]\n",
      "[0.         0.43673309 0.         ... 0.25213074 0.04887581 0.        ]\n"
     ]
    },
    {
     "name": "stderr",
     "output_type": "stream",
     "text": [
      "/storage/store3/work/kachardo/adhd_brain_functional_connectivity/get_data.py:40: FutureWarning: Calling int on a single element Series is deprecated and will raise a TypeError in the future. Use int(ser.iloc[0]) instead\n",
      "  session = int(subjects_data[subjects_data['subject_id']==subject[4:]]['session'])\n"
     ]
    },
    {
     "name": "stdout",
     "output_type": "stream",
     "text": [
      "Removing 5 compensators from info because not all compensation channels were picked.\n",
      "Connectivity computation...\n",
      "only using indices for lower-triangular matrix\n",
      "    computing connectivity for 34191 connections\n",
      "    using t=0.000s..10.000s for estimation (2001 points)\n",
      "    frequencies: 8.1Hz..12.0Hz (40 points)\n",
      "    connectivity scores will be averaged for each band\n",
      "    using FFT with a Hanning window to estimate spectra\n",
      "    the following metrics will be computed: Coherence\n",
      "    computing connectivity for epochs 1..28\n"
     ]
    },
    {
     "name": "stderr",
     "output_type": "stream",
     "text": [
      "/storage/store3/work/kachardo/adhd_brain_functional_connectivity/get_data.py:46: RuntimeWarning: There were no Annotations stored in <EpochsFIF |  28 events (all good), 0 – 10 s, baseline off, ~112.6 MB, data loaded,\n",
      " 'rest': 28>, so metadata was not modified.\n",
      "  connectivity = spectral_connectivity_epochs(epoch, fmin = frequency_bands[band][0], fmax = frequency_bands[band][1], faverage=True, n_jobs=40, mode = 'fourier', method = 'coh')\n",
      "[Parallel(n_jobs=40)]: Using backend LokyBackend with 40 concurrent workers.\n",
      "[Parallel(n_jobs=40)]: Done   7 out of  28 | elapsed:    0.4s remaining:    1.3s\n",
      "[Parallel(n_jobs=40)]: Done  13 out of  28 | elapsed:    0.6s remaining:    0.7s\n",
      "[Parallel(n_jobs=40)]: Done  19 out of  28 | elapsed:    0.9s remaining:    0.4s\n",
      "[Parallel(n_jobs=40)]: Done  25 out of  28 | elapsed:    1.1s remaining:    0.1s\n",
      "[Parallel(n_jobs=40)]: Done  28 out of  28 | elapsed:    1.2s finished\n"
     ]
    },
    {
     "name": "stdout",
     "output_type": "stream",
     "text": [
      "    assembling connectivity matrix\n",
      "[Connectivity computation done]\n",
      "[0.         0.39382316 0.         ... 0.03803174 0.0400588  0.        ]\n"
     ]
    },
    {
     "name": "stderr",
     "output_type": "stream",
     "text": [
      "/storage/store3/work/kachardo/adhd_brain_functional_connectivity/get_data.py:40: FutureWarning: Calling int on a single element Series is deprecated and will raise a TypeError in the future. Use int(ser.iloc[0]) instead\n",
      "  session = int(subjects_data[subjects_data['subject_id']==subject[4:]]['session'])\n"
     ]
    },
    {
     "name": "stdout",
     "output_type": "stream",
     "text": [
      "Removing 5 compensators from info because not all compensation channels were picked.\n",
      "Connectivity computation...\n",
      "only using indices for lower-triangular matrix\n",
      "    computing connectivity for 34191 connections\n",
      "    using t=0.000s..10.000s for estimation (2001 points)\n",
      "    frequencies: 8.1Hz..12.0Hz (40 points)\n",
      "    connectivity scores will be averaged for each band\n",
      "    using FFT with a Hanning window to estimate spectra\n",
      "    the following metrics will be computed: Coherence\n",
      "    computing connectivity for epochs 1..28\n"
     ]
    },
    {
     "name": "stderr",
     "output_type": "stream",
     "text": [
      "/storage/store3/work/kachardo/adhd_brain_functional_connectivity/get_data.py:46: RuntimeWarning: There were no Annotations stored in <EpochsFIF |  28 events (all good), 0 – 10 s, baseline off, ~112.6 MB, data loaded,\n",
      " 'rest': 28>, so metadata was not modified.\n",
      "  connectivity = spectral_connectivity_epochs(epoch, fmin = frequency_bands[band][0], fmax = frequency_bands[band][1], faverage=True, n_jobs=40, mode = 'fourier', method = 'coh')\n",
      "[Parallel(n_jobs=40)]: Using backend LokyBackend with 40 concurrent workers.\n",
      "[Parallel(n_jobs=40)]: Done   7 out of  28 | elapsed:    0.5s remaining:    1.5s\n",
      "[Parallel(n_jobs=40)]: Done  13 out of  28 | elapsed:    0.7s remaining:    0.8s\n",
      "[Parallel(n_jobs=40)]: Done  19 out of  28 | elapsed:    0.9s remaining:    0.4s\n",
      "[Parallel(n_jobs=40)]: Done  25 out of  28 | elapsed:    1.2s remaining:    0.1s\n",
      "[Parallel(n_jobs=40)]: Done  28 out of  28 | elapsed:    1.3s finished\n"
     ]
    },
    {
     "name": "stdout",
     "output_type": "stream",
     "text": [
      "    assembling connectivity matrix\n",
      "[Connectivity computation done]\n",
      "[0.         0.31141362 0.         ... 0.10987251 0.14296924 0.        ]\n"
     ]
    },
    {
     "name": "stderr",
     "output_type": "stream",
     "text": [
      "/storage/store3/work/kachardo/adhd_brain_functional_connectivity/get_data.py:40: FutureWarning: Calling int on a single element Series is deprecated and will raise a TypeError in the future. Use int(ser.iloc[0]) instead\n",
      "  session = int(subjects_data[subjects_data['subject_id']==subject[4:]]['session'])\n"
     ]
    },
    {
     "name": "stdout",
     "output_type": "stream",
     "text": [
      "Removing 5 compensators from info because not all compensation channels were picked.\n",
      "Connectivity computation...\n",
      "only using indices for lower-triangular matrix\n",
      "    computing connectivity for 34191 connections\n",
      "    using t=0.000s..10.000s for estimation (2001 points)\n",
      "    frequencies: 8.1Hz..12.0Hz (40 points)\n",
      "    connectivity scores will be averaged for each band\n",
      "    using FFT with a Hanning window to estimate spectra\n",
      "    the following metrics will be computed: Coherence\n",
      "    computing connectivity for epochs 1..28\n"
     ]
    },
    {
     "name": "stderr",
     "output_type": "stream",
     "text": [
      "/storage/store3/work/kachardo/adhd_brain_functional_connectivity/get_data.py:46: RuntimeWarning: There were no Annotations stored in <EpochsFIF |  28 events (all good), 0 – 10 s, baseline off, ~112.6 MB, data loaded,\n",
      " 'rest': 28>, so metadata was not modified.\n",
      "  connectivity = spectral_connectivity_epochs(epoch, fmin = frequency_bands[band][0], fmax = frequency_bands[band][1], faverage=True, n_jobs=40, mode = 'fourier', method = 'coh')\n",
      "[Parallel(n_jobs=40)]: Using backend LokyBackend with 40 concurrent workers.\n",
      "[Parallel(n_jobs=40)]: Done   7 out of  28 | elapsed:    0.4s remaining:    1.3s\n",
      "[Parallel(n_jobs=40)]: Done  13 out of  28 | elapsed:    0.6s remaining:    0.7s\n",
      "[Parallel(n_jobs=40)]: Done  19 out of  28 | elapsed:    0.8s remaining:    0.4s\n",
      "[Parallel(n_jobs=40)]: Done  25 out of  28 | elapsed:    1.0s remaining:    0.1s\n"
     ]
    },
    {
     "name": "stdout",
     "output_type": "stream",
     "text": [
      "    assembling connectivity matrix\n"
     ]
    },
    {
     "name": "stderr",
     "output_type": "stream",
     "text": [
      "[Parallel(n_jobs=40)]: Done  28 out of  28 | elapsed:    1.1s finished\n"
     ]
    },
    {
     "name": "stdout",
     "output_type": "stream",
     "text": [
      "[Connectivity computation done]\n",
      "[0.         0.52178312 0.         ... 0.15180328 0.05362766 0.        ]\n"
     ]
    },
    {
     "name": "stderr",
     "output_type": "stream",
     "text": [
      "/storage/store3/work/kachardo/adhd_brain_functional_connectivity/get_data.py:40: FutureWarning: Calling int on a single element Series is deprecated and will raise a TypeError in the future. Use int(ser.iloc[0]) instead\n",
      "  session = int(subjects_data[subjects_data['subject_id']==subject[4:]]['session'])\n"
     ]
    },
    {
     "name": "stdout",
     "output_type": "stream",
     "text": [
      "Removing 5 compensators from info because not all compensation channels were picked.\n",
      "Connectivity computation...\n",
      "only using indices for lower-triangular matrix\n",
      "    computing connectivity for 34191 connections\n",
      "    using t=0.000s..10.000s for estimation (2001 points)\n",
      "    frequencies: 8.1Hz..12.0Hz (40 points)\n",
      "    connectivity scores will be averaged for each band\n",
      "    using FFT with a Hanning window to estimate spectra\n",
      "    the following metrics will be computed: Coherence\n",
      "    computing connectivity for epochs 1..28\n"
     ]
    },
    {
     "name": "stderr",
     "output_type": "stream",
     "text": [
      "/storage/store3/work/kachardo/adhd_brain_functional_connectivity/get_data.py:46: RuntimeWarning: There were no Annotations stored in <EpochsFIF |  28 events (all good), 0 – 10 s, baseline off, ~112.6 MB, data loaded,\n",
      " 'rest': 28>, so metadata was not modified.\n",
      "  connectivity = spectral_connectivity_epochs(epoch, fmin = frequency_bands[band][0], fmax = frequency_bands[band][1], faverage=True, n_jobs=40, mode = 'fourier', method = 'coh')\n",
      "[Parallel(n_jobs=40)]: Using backend LokyBackend with 40 concurrent workers.\n",
      "[Parallel(n_jobs=40)]: Done   7 out of  28 | elapsed:    0.4s remaining:    1.3s\n",
      "[Parallel(n_jobs=40)]: Done  13 out of  28 | elapsed:    0.7s remaining:    0.8s\n",
      "[Parallel(n_jobs=40)]: Done  19 out of  28 | elapsed:    0.9s remaining:    0.4s\n",
      "[Parallel(n_jobs=40)]: Done  25 out of  28 | elapsed:    1.2s remaining:    0.1s\n",
      "[Parallel(n_jobs=40)]: Done  28 out of  28 | elapsed:    1.3s finished\n"
     ]
    },
    {
     "name": "stdout",
     "output_type": "stream",
     "text": [
      "    assembling connectivity matrix\n",
      "[Connectivity computation done]\n",
      "[0.         0.60508884 0.         ... 0.20088513 0.03092126 0.        ]\n"
     ]
    },
    {
     "name": "stderr",
     "output_type": "stream",
     "text": [
      "/storage/store3/work/kachardo/adhd_brain_functional_connectivity/get_data.py:40: FutureWarning: Calling int on a single element Series is deprecated and will raise a TypeError in the future. Use int(ser.iloc[0]) instead\n",
      "  session = int(subjects_data[subjects_data['subject_id']==subject[4:]]['session'])\n"
     ]
    },
    {
     "name": "stdout",
     "output_type": "stream",
     "text": [
      "Removing 5 compensators from info because not all compensation channels were picked.\n",
      "Connectivity computation...\n",
      "only using indices for lower-triangular matrix\n",
      "    computing connectivity for 34191 connections\n",
      "    using t=0.000s..10.000s for estimation (2001 points)\n",
      "    frequencies: 8.1Hz..12.0Hz (40 points)\n",
      "    connectivity scores will be averaged for each band\n",
      "    using FFT with a Hanning window to estimate spectra\n",
      "    the following metrics will be computed: Coherence\n",
      "    computing connectivity for epochs 1..28\n"
     ]
    },
    {
     "name": "stderr",
     "output_type": "stream",
     "text": [
      "/storage/store3/work/kachardo/adhd_brain_functional_connectivity/get_data.py:46: RuntimeWarning: There were no Annotations stored in <EpochsFIF |  28 events (all good), 0 – 10 s, baseline off, ~112.6 MB, data loaded,\n",
      " 'rest': 28>, so metadata was not modified.\n",
      "  connectivity = spectral_connectivity_epochs(epoch, fmin = frequency_bands[band][0], fmax = frequency_bands[band][1], faverage=True, n_jobs=40, mode = 'fourier', method = 'coh')\n",
      "[Parallel(n_jobs=40)]: Using backend LokyBackend with 40 concurrent workers.\n",
      "[Parallel(n_jobs=40)]: Done   7 out of  28 | elapsed:    0.4s remaining:    1.2s\n",
      "[Parallel(n_jobs=40)]: Done  13 out of  28 | elapsed:    0.6s remaining:    0.7s\n",
      "[Parallel(n_jobs=40)]: Done  19 out of  28 | elapsed:    0.8s remaining:    0.4s\n",
      "[Parallel(n_jobs=40)]: Done  25 out of  28 | elapsed:    1.0s remaining:    0.1s\n",
      "[Parallel(n_jobs=40)]: Done  28 out of  28 | elapsed:    1.1s finished\n"
     ]
    },
    {
     "name": "stdout",
     "output_type": "stream",
     "text": [
      "    assembling connectivity matrix\n",
      "[Connectivity computation done]\n",
      "[0.         0.61340543 0.         ... 0.04123304 0.04178458 0.        ]\n"
     ]
    },
    {
     "name": "stderr",
     "output_type": "stream",
     "text": [
      "/storage/store3/work/kachardo/adhd_brain_functional_connectivity/get_data.py:40: FutureWarning: Calling int on a single element Series is deprecated and will raise a TypeError in the future. Use int(ser.iloc[0]) instead\n",
      "  session = int(subjects_data[subjects_data['subject_id']==subject[4:]]['session'])\n"
     ]
    },
    {
     "name": "stdout",
     "output_type": "stream",
     "text": [
      "Removing 5 compensators from info because not all compensation channels were picked.\n",
      "Connectivity computation...\n",
      "only using indices for lower-triangular matrix\n",
      "    computing connectivity for 34191 connections\n",
      "    using t=0.000s..10.000s for estimation (2001 points)\n",
      "    frequencies: 8.1Hz..12.0Hz (40 points)\n",
      "    connectivity scores will be averaged for each band\n",
      "    using FFT with a Hanning window to estimate spectra\n",
      "    the following metrics will be computed: Coherence\n",
      "    computing connectivity for epochs 1..28\n"
     ]
    },
    {
     "name": "stderr",
     "output_type": "stream",
     "text": [
      "/storage/store3/work/kachardo/adhd_brain_functional_connectivity/get_data.py:46: RuntimeWarning: There were no Annotations stored in <EpochsFIF |  28 events (all good), 0 – 10 s, baseline off, ~112.6 MB, data loaded,\n",
      " 'rest': 28>, so metadata was not modified.\n",
      "  connectivity = spectral_connectivity_epochs(epoch, fmin = frequency_bands[band][0], fmax = frequency_bands[band][1], faverage=True, n_jobs=40, mode = 'fourier', method = 'coh')\n",
      "[Parallel(n_jobs=40)]: Using backend LokyBackend with 40 concurrent workers.\n",
      "[Parallel(n_jobs=40)]: Done   7 out of  28 | elapsed:    0.4s remaining:    1.2s\n",
      "[Parallel(n_jobs=40)]: Done  13 out of  28 | elapsed:    0.6s remaining:    0.7s\n",
      "[Parallel(n_jobs=40)]: Done  19 out of  28 | elapsed:    0.8s remaining:    0.4s\n",
      "[Parallel(n_jobs=40)]: Done  25 out of  28 | elapsed:    1.0s remaining:    0.1s\n"
     ]
    },
    {
     "name": "stdout",
     "output_type": "stream",
     "text": [
      "    assembling connectivity matrix\n"
     ]
    },
    {
     "name": "stderr",
     "output_type": "stream",
     "text": [
      "[Parallel(n_jobs=40)]: Done  28 out of  28 | elapsed:    1.1s finished\n"
     ]
    },
    {
     "name": "stdout",
     "output_type": "stream",
     "text": [
      "[Connectivity computation done]\n",
      "[0.         0.59043425 0.         ... 0.18299507 0.0306941  0.        ]\n"
     ]
    },
    {
     "name": "stderr",
     "output_type": "stream",
     "text": [
      "/storage/store3/work/kachardo/adhd_brain_functional_connectivity/get_data.py:40: FutureWarning: Calling int on a single element Series is deprecated and will raise a TypeError in the future. Use int(ser.iloc[0]) instead\n",
      "  session = int(subjects_data[subjects_data['subject_id']==subject[4:]]['session'])\n"
     ]
    },
    {
     "name": "stdout",
     "output_type": "stream",
     "text": [
      "Removing 5 compensators from info because not all compensation channels were picked.\n",
      "Connectivity computation...\n",
      "only using indices for lower-triangular matrix\n",
      "    computing connectivity for 34191 connections\n",
      "    using t=0.000s..10.000s for estimation (2001 points)\n",
      "    frequencies: 8.1Hz..12.0Hz (40 points)\n",
      "    connectivity scores will be averaged for each band\n",
      "    using FFT with a Hanning window to estimate spectra\n",
      "    the following metrics will be computed: Coherence\n",
      "    computing connectivity for epochs 1..28\n"
     ]
    },
    {
     "name": "stderr",
     "output_type": "stream",
     "text": [
      "/storage/store3/work/kachardo/adhd_brain_functional_connectivity/get_data.py:46: RuntimeWarning: There were no Annotations stored in <EpochsFIF |  28 events (all good), 0 – 10 s, baseline off, ~112.6 MB, data loaded,\n",
      " 'rest': 28>, so metadata was not modified.\n",
      "  connectivity = spectral_connectivity_epochs(epoch, fmin = frequency_bands[band][0], fmax = frequency_bands[band][1], faverage=True, n_jobs=40, mode = 'fourier', method = 'coh')\n",
      "[Parallel(n_jobs=40)]: Using backend LokyBackend with 40 concurrent workers.\n",
      "[Parallel(n_jobs=40)]: Done   7 out of  28 | elapsed:    0.5s remaining:    1.5s\n",
      "[Parallel(n_jobs=40)]: Done  13 out of  28 | elapsed:    0.7s remaining:    0.8s\n",
      "[Parallel(n_jobs=40)]: Done  19 out of  28 | elapsed:    0.9s remaining:    0.4s\n",
      "[Parallel(n_jobs=40)]: Done  25 out of  28 | elapsed:    1.1s remaining:    0.1s\n",
      "[Parallel(n_jobs=40)]: Done  28 out of  28 | elapsed:    1.3s finished\n"
     ]
    },
    {
     "name": "stdout",
     "output_type": "stream",
     "text": [
      "    assembling connectivity matrix\n",
      "[Connectivity computation done]\n",
      "[0.         0.64265375 0.         ... 0.05314614 0.05598009 0.        ]\n"
     ]
    },
    {
     "name": "stderr",
     "output_type": "stream",
     "text": [
      "/storage/store3/work/kachardo/adhd_brain_functional_connectivity/get_data.py:40: FutureWarning: Calling int on a single element Series is deprecated and will raise a TypeError in the future. Use int(ser.iloc[0]) instead\n",
      "  session = int(subjects_data[subjects_data['subject_id']==subject[4:]]['session'])\n"
     ]
    },
    {
     "name": "stdout",
     "output_type": "stream",
     "text": [
      "Removing 5 compensators from info because not all compensation channels were picked.\n",
      "Connectivity computation...\n",
      "only using indices for lower-triangular matrix\n",
      "    computing connectivity for 34191 connections\n",
      "    using t=0.000s..10.000s for estimation (2001 points)\n",
      "    frequencies: 8.1Hz..12.0Hz (40 points)\n",
      "    connectivity scores will be averaged for each band\n",
      "    using FFT with a Hanning window to estimate spectra\n",
      "    the following metrics will be computed: Coherence\n",
      "    computing connectivity for epochs 1..28\n"
     ]
    },
    {
     "name": "stderr",
     "output_type": "stream",
     "text": [
      "/storage/store3/work/kachardo/adhd_brain_functional_connectivity/get_data.py:46: RuntimeWarning: There were no Annotations stored in <EpochsFIF |  28 events (all good), 0 – 10 s, baseline off, ~112.6 MB, data loaded,\n",
      " 'rest': 28>, so metadata was not modified.\n",
      "  connectivity = spectral_connectivity_epochs(epoch, fmin = frequency_bands[band][0], fmax = frequency_bands[band][1], faverage=True, n_jobs=40, mode = 'fourier', method = 'coh')\n",
      "[Parallel(n_jobs=40)]: Using backend LokyBackend with 40 concurrent workers.\n",
      "[Parallel(n_jobs=40)]: Done   7 out of  28 | elapsed:    0.4s remaining:    1.2s\n",
      "[Parallel(n_jobs=40)]: Done  13 out of  28 | elapsed:    0.6s remaining:    0.7s\n",
      "[Parallel(n_jobs=40)]: Done  19 out of  28 | elapsed:    0.8s remaining:    0.4s\n",
      "[Parallel(n_jobs=40)]: Done  25 out of  28 | elapsed:    1.0s remaining:    0.1s\n"
     ]
    },
    {
     "name": "stdout",
     "output_type": "stream",
     "text": [
      "    assembling connectivity matrix\n"
     ]
    },
    {
     "name": "stderr",
     "output_type": "stream",
     "text": [
      "[Parallel(n_jobs=40)]: Done  28 out of  28 | elapsed:    1.1s finished\n"
     ]
    },
    {
     "name": "stdout",
     "output_type": "stream",
     "text": [
      "[Connectivity computation done]\n",
      "[0.         0.46339581 0.         ... 0.07116123 0.05702832 0.        ]\n"
     ]
    },
    {
     "name": "stderr",
     "output_type": "stream",
     "text": [
      "/storage/store3/work/kachardo/adhd_brain_functional_connectivity/get_data.py:40: FutureWarning: Calling int on a single element Series is deprecated and will raise a TypeError in the future. Use int(ser.iloc[0]) instead\n",
      "  session = int(subjects_data[subjects_data['subject_id']==subject[4:]]['session'])\n"
     ]
    },
    {
     "name": "stdout",
     "output_type": "stream",
     "text": [
      "Removing 5 compensators from info because not all compensation channels were picked.\n",
      "Connectivity computation...\n",
      "only using indices for lower-triangular matrix\n",
      "    computing connectivity for 34191 connections\n",
      "    using t=0.000s..10.000s for estimation (2001 points)\n",
      "    frequencies: 8.1Hz..12.0Hz (40 points)\n",
      "    connectivity scores will be averaged for each band\n",
      "    using FFT with a Hanning window to estimate spectra\n",
      "    the following metrics will be computed: Coherence\n",
      "    computing connectivity for epochs 1..28\n"
     ]
    },
    {
     "name": "stderr",
     "output_type": "stream",
     "text": [
      "/storage/store3/work/kachardo/adhd_brain_functional_connectivity/get_data.py:46: RuntimeWarning: There were no Annotations stored in <EpochsFIF |  28 events (all good), 0 – 10 s, baseline off, ~112.6 MB, data loaded,\n",
      " 'rest': 28>, so metadata was not modified.\n",
      "  connectivity = spectral_connectivity_epochs(epoch, fmin = frequency_bands[band][0], fmax = frequency_bands[band][1], faverage=True, n_jobs=40, mode = 'fourier', method = 'coh')\n",
      "[Parallel(n_jobs=40)]: Using backend LokyBackend with 40 concurrent workers.\n",
      "[Parallel(n_jobs=40)]: Done   7 out of  28 | elapsed:    0.4s remaining:    1.2s\n",
      "[Parallel(n_jobs=40)]: Done  13 out of  28 | elapsed:    0.6s remaining:    0.7s\n",
      "[Parallel(n_jobs=40)]: Done  19 out of  28 | elapsed:    0.8s remaining:    0.4s\n",
      "[Parallel(n_jobs=40)]: Done  25 out of  28 | elapsed:    1.0s remaining:    0.1s\n",
      "[Parallel(n_jobs=40)]: Done  28 out of  28 | elapsed:    1.1s finished\n"
     ]
    },
    {
     "name": "stdout",
     "output_type": "stream",
     "text": [
      "    assembling connectivity matrix\n",
      "[Connectivity computation done]\n",
      "[0.         0.39257076 0.         ... 0.0933115  0.08181307 0.        ]\n"
     ]
    },
    {
     "name": "stderr",
     "output_type": "stream",
     "text": [
      "/storage/store3/work/kachardo/adhd_brain_functional_connectivity/get_data.py:40: FutureWarning: Calling int on a single element Series is deprecated and will raise a TypeError in the future. Use int(ser.iloc[0]) instead\n",
      "  session = int(subjects_data[subjects_data['subject_id']==subject[4:]]['session'])\n"
     ]
    },
    {
     "name": "stdout",
     "output_type": "stream",
     "text": [
      "Removing 5 compensators from info because not all compensation channels were picked.\n",
      "Connectivity computation...\n",
      "only using indices for lower-triangular matrix\n",
      "    computing connectivity for 34191 connections\n",
      "    using t=0.000s..10.000s for estimation (2001 points)\n",
      "    frequencies: 8.1Hz..12.0Hz (40 points)\n",
      "    connectivity scores will be averaged for each band\n",
      "    using FFT with a Hanning window to estimate spectra\n",
      "    the following metrics will be computed: Coherence\n",
      "    computing connectivity for epochs 1..28\n"
     ]
    },
    {
     "name": "stderr",
     "output_type": "stream",
     "text": [
      "/storage/store3/work/kachardo/adhd_brain_functional_connectivity/get_data.py:46: RuntimeWarning: There were no Annotations stored in <EpochsFIF |  28 events (all good), 0 – 10 s, baseline off, ~112.6 MB, data loaded,\n",
      " 'rest': 28>, so metadata was not modified.\n",
      "  connectivity = spectral_connectivity_epochs(epoch, fmin = frequency_bands[band][0], fmax = frequency_bands[band][1], faverage=True, n_jobs=40, mode = 'fourier', method = 'coh')\n",
      "[Parallel(n_jobs=40)]: Using backend LokyBackend with 40 concurrent workers.\n",
      "[Parallel(n_jobs=40)]: Done   7 out of  28 | elapsed:    0.4s remaining:    1.2s\n",
      "[Parallel(n_jobs=40)]: Done  13 out of  28 | elapsed:    0.6s remaining:    0.7s\n",
      "[Parallel(n_jobs=40)]: Done  19 out of  28 | elapsed:    0.9s remaining:    0.4s\n",
      "[Parallel(n_jobs=40)]: Done  25 out of  28 | elapsed:    1.1s remaining:    0.1s\n",
      "[Parallel(n_jobs=40)]: Done  28 out of  28 | elapsed:    1.2s finished\n"
     ]
    },
    {
     "name": "stdout",
     "output_type": "stream",
     "text": [
      "    assembling connectivity matrix\n",
      "[Connectivity computation done]\n",
      "[0.         0.62624593 0.         ... 0.18614976 0.09278178 0.        ]\n"
     ]
    },
    {
     "name": "stderr",
     "output_type": "stream",
     "text": [
      "/storage/store3/work/kachardo/adhd_brain_functional_connectivity/get_data.py:40: FutureWarning: Calling int on a single element Series is deprecated and will raise a TypeError in the future. Use int(ser.iloc[0]) instead\n",
      "  session = int(subjects_data[subjects_data['subject_id']==subject[4:]]['session'])\n"
     ]
    },
    {
     "name": "stdout",
     "output_type": "stream",
     "text": [
      "Removing 5 compensators from info because not all compensation channels were picked.\n",
      "Connectivity computation...\n",
      "only using indices for lower-triangular matrix\n",
      "    computing connectivity for 34191 connections\n",
      "    using t=0.000s..10.000s for estimation (2001 points)\n",
      "    frequencies: 8.1Hz..12.0Hz (40 points)\n",
      "    connectivity scores will be averaged for each band\n",
      "    using FFT with a Hanning window to estimate spectra\n",
      "    the following metrics will be computed: Coherence\n",
      "    computing connectivity for epochs 1..28\n"
     ]
    },
    {
     "name": "stderr",
     "output_type": "stream",
     "text": [
      "/storage/store3/work/kachardo/adhd_brain_functional_connectivity/get_data.py:46: RuntimeWarning: There were no Annotations stored in <EpochsFIF |  28 events (all good), 0 – 10 s, baseline off, ~112.6 MB, data loaded,\n",
      " 'rest': 28>, so metadata was not modified.\n",
      "  connectivity = spectral_connectivity_epochs(epoch, fmin = frequency_bands[band][0], fmax = frequency_bands[band][1], faverage=True, n_jobs=40, mode = 'fourier', method = 'coh')\n",
      "[Parallel(n_jobs=40)]: Using backend LokyBackend with 40 concurrent workers.\n",
      "[Parallel(n_jobs=40)]: Done   7 out of  28 | elapsed:    0.4s remaining:    1.2s\n",
      "[Parallel(n_jobs=40)]: Done  13 out of  28 | elapsed:    0.6s remaining:    0.7s\n",
      "[Parallel(n_jobs=40)]: Done  19 out of  28 | elapsed:    0.9s remaining:    0.4s\n",
      "[Parallel(n_jobs=40)]: Done  25 out of  28 | elapsed:    1.1s remaining:    0.1s\n",
      "[Parallel(n_jobs=40)]: Done  28 out of  28 | elapsed:    1.2s finished\n"
     ]
    },
    {
     "name": "stdout",
     "output_type": "stream",
     "text": [
      "    assembling connectivity matrix\n",
      "[Connectivity computation done]\n",
      "[0.         0.51819825 0.         ... 0.06955491 0.04688278 0.        ]\n"
     ]
    },
    {
     "name": "stderr",
     "output_type": "stream",
     "text": [
      "/storage/store3/work/kachardo/adhd_brain_functional_connectivity/get_data.py:40: FutureWarning: Calling int on a single element Series is deprecated and will raise a TypeError in the future. Use int(ser.iloc[0]) instead\n",
      "  session = int(subjects_data[subjects_data['subject_id']==subject[4:]]['session'])\n"
     ]
    },
    {
     "name": "stdout",
     "output_type": "stream",
     "text": [
      "Removing 5 compensators from info because not all compensation channels were picked.\n",
      "Connectivity computation...\n",
      "only using indices for lower-triangular matrix\n",
      "    computing connectivity for 34191 connections\n",
      "    using t=0.000s..10.000s for estimation (2001 points)\n",
      "    frequencies: 8.1Hz..12.0Hz (40 points)\n",
      "    connectivity scores will be averaged for each band\n",
      "    using FFT with a Hanning window to estimate spectra\n",
      "    the following metrics will be computed: Coherence\n",
      "    computing connectivity for epochs 1..28\n"
     ]
    },
    {
     "name": "stderr",
     "output_type": "stream",
     "text": [
      "/storage/store3/work/kachardo/adhd_brain_functional_connectivity/get_data.py:46: RuntimeWarning: There were no Annotations stored in <EpochsFIF |  28 events (all good), 0 – 10 s, baseline off, ~112.6 MB, data loaded,\n",
      " 'rest': 28>, so metadata was not modified.\n",
      "  connectivity = spectral_connectivity_epochs(epoch, fmin = frequency_bands[band][0], fmax = frequency_bands[band][1], faverage=True, n_jobs=40, mode = 'fourier', method = 'coh')\n",
      "[Parallel(n_jobs=40)]: Using backend LokyBackend with 40 concurrent workers.\n",
      "[Parallel(n_jobs=40)]: Done   7 out of  28 | elapsed:    0.4s remaining:    1.3s\n",
      "[Parallel(n_jobs=40)]: Done  13 out of  28 | elapsed:    0.7s remaining:    0.8s\n",
      "[Parallel(n_jobs=40)]: Done  19 out of  28 | elapsed:    0.9s remaining:    0.4s\n",
      "[Parallel(n_jobs=40)]: Done  25 out of  28 | elapsed:    1.1s remaining:    0.1s\n",
      "[Parallel(n_jobs=40)]: Done  28 out of  28 | elapsed:    1.2s finished\n"
     ]
    },
    {
     "name": "stdout",
     "output_type": "stream",
     "text": [
      "    assembling connectivity matrix\n",
      "[Connectivity computation done]\n",
      "[0.         0.45968197 0.         ... 0.07284486 0.05110975 0.        ]\n"
     ]
    },
    {
     "name": "stderr",
     "output_type": "stream",
     "text": [
      "/storage/store3/work/kachardo/adhd_brain_functional_connectivity/get_data.py:40: FutureWarning: Calling int on a single element Series is deprecated and will raise a TypeError in the future. Use int(ser.iloc[0]) instead\n",
      "  session = int(subjects_data[subjects_data['subject_id']==subject[4:]]['session'])\n"
     ]
    },
    {
     "name": "stdout",
     "output_type": "stream",
     "text": [
      "Removing 5 compensators from info because not all compensation channels were picked.\n",
      "Connectivity computation...\n",
      "only using indices for lower-triangular matrix\n",
      "    computing connectivity for 34191 connections\n",
      "    using t=0.000s..10.000s for estimation (2001 points)\n",
      "    frequencies: 8.1Hz..12.0Hz (40 points)\n",
      "    connectivity scores will be averaged for each band\n",
      "    using FFT with a Hanning window to estimate spectra\n",
      "    the following metrics will be computed: Coherence\n",
      "    computing connectivity for epochs 1..28\n"
     ]
    },
    {
     "name": "stderr",
     "output_type": "stream",
     "text": [
      "/storage/store3/work/kachardo/adhd_brain_functional_connectivity/get_data.py:46: RuntimeWarning: There were no Annotations stored in <EpochsFIF |  28 events (all good), 0 – 10 s, baseline off, ~112.6 MB, data loaded,\n",
      " 'rest': 28>, so metadata was not modified.\n",
      "  connectivity = spectral_connectivity_epochs(epoch, fmin = frequency_bands[band][0], fmax = frequency_bands[band][1], faverage=True, n_jobs=40, mode = 'fourier', method = 'coh')\n",
      "[Parallel(n_jobs=40)]: Using backend LokyBackend with 40 concurrent workers.\n",
      "[Parallel(n_jobs=40)]: Done   7 out of  28 | elapsed:    0.4s remaining:    1.3s\n",
      "[Parallel(n_jobs=40)]: Done  13 out of  28 | elapsed:    0.6s remaining:    0.7s\n",
      "[Parallel(n_jobs=40)]: Done  19 out of  28 | elapsed:    0.8s remaining:    0.4s\n",
      "[Parallel(n_jobs=40)]: Done  25 out of  28 | elapsed:    1.0s remaining:    0.1s\n",
      "[Parallel(n_jobs=40)]: Done  28 out of  28 | elapsed:    1.1s finished\n"
     ]
    },
    {
     "name": "stdout",
     "output_type": "stream",
     "text": [
      "    assembling connectivity matrix\n",
      "[Connectivity computation done]\n",
      "[0.         0.31369904 0.         ... 0.05493296 0.05936339 0.        ]\n"
     ]
    },
    {
     "name": "stderr",
     "output_type": "stream",
     "text": [
      "/storage/store3/work/kachardo/adhd_brain_functional_connectivity/get_data.py:40: FutureWarning: Calling int on a single element Series is deprecated and will raise a TypeError in the future. Use int(ser.iloc[0]) instead\n",
      "  session = int(subjects_data[subjects_data['subject_id']==subject[4:]]['session'])\n"
     ]
    },
    {
     "name": "stdout",
     "output_type": "stream",
     "text": [
      "Removing 5 compensators from info because not all compensation channels were picked.\n",
      "Connectivity computation...\n",
      "only using indices for lower-triangular matrix\n",
      "    computing connectivity for 34191 connections\n",
      "    using t=0.000s..10.000s for estimation (2001 points)\n",
      "    frequencies: 8.1Hz..12.0Hz (40 points)\n",
      "    connectivity scores will be averaged for each band\n",
      "    using FFT with a Hanning window to estimate spectra\n",
      "    the following metrics will be computed: Coherence\n",
      "    computing connectivity for epochs 1..28\n"
     ]
    },
    {
     "name": "stderr",
     "output_type": "stream",
     "text": [
      "/storage/store3/work/kachardo/adhd_brain_functional_connectivity/get_data.py:46: RuntimeWarning: There were no Annotations stored in <EpochsFIF |  28 events (all good), 0 – 10 s, baseline off, ~112.6 MB, data loaded,\n",
      " 'rest': 28>, so metadata was not modified.\n",
      "  connectivity = spectral_connectivity_epochs(epoch, fmin = frequency_bands[band][0], fmax = frequency_bands[band][1], faverage=True, n_jobs=40, mode = 'fourier', method = 'coh')\n",
      "[Parallel(n_jobs=40)]: Using backend LokyBackend with 40 concurrent workers.\n",
      "[Parallel(n_jobs=40)]: Done   7 out of  28 | elapsed:    0.4s remaining:    1.2s\n",
      "[Parallel(n_jobs=40)]: Done  13 out of  28 | elapsed:    0.6s remaining:    0.7s\n",
      "[Parallel(n_jobs=40)]: Done  19 out of  28 | elapsed:    0.8s remaining:    0.4s\n",
      "[Parallel(n_jobs=40)]: Done  25 out of  28 | elapsed:    1.0s remaining:    0.1s\n",
      "[Parallel(n_jobs=40)]: Done  28 out of  28 | elapsed:    1.1s finished\n"
     ]
    },
    {
     "name": "stdout",
     "output_type": "stream",
     "text": [
      "    assembling connectivity matrix\n",
      "[Connectivity computation done]\n",
      "[0.         0.21958895 0.         ... 0.03734899 0.06641874 0.        ]\n"
     ]
    },
    {
     "name": "stderr",
     "output_type": "stream",
     "text": [
      "/storage/store3/work/kachardo/adhd_brain_functional_connectivity/get_data.py:40: FutureWarning: Calling int on a single element Series is deprecated and will raise a TypeError in the future. Use int(ser.iloc[0]) instead\n",
      "  session = int(subjects_data[subjects_data['subject_id']==subject[4:]]['session'])\n"
     ]
    },
    {
     "name": "stdout",
     "output_type": "stream",
     "text": [
      "Removing 5 compensators from info because not all compensation channels were picked.\n",
      "Connectivity computation...\n",
      "only using indices for lower-triangular matrix\n",
      "    computing connectivity for 34191 connections\n",
      "    using t=0.000s..10.000s for estimation (2001 points)\n",
      "    frequencies: 8.1Hz..12.0Hz (40 points)\n",
      "    connectivity scores will be averaged for each band\n",
      "    using FFT with a Hanning window to estimate spectra\n",
      "    the following metrics will be computed: Coherence\n",
      "    computing connectivity for epochs 1..28\n"
     ]
    },
    {
     "name": "stderr",
     "output_type": "stream",
     "text": [
      "/storage/store3/work/kachardo/adhd_brain_functional_connectivity/get_data.py:46: RuntimeWarning: There were no Annotations stored in <EpochsFIF |  28 events (all good), 0 – 10 s, baseline off, ~112.6 MB, data loaded,\n",
      " 'rest': 28>, so metadata was not modified.\n",
      "  connectivity = spectral_connectivity_epochs(epoch, fmin = frequency_bands[band][0], fmax = frequency_bands[band][1], faverage=True, n_jobs=40, mode = 'fourier', method = 'coh')\n",
      "[Parallel(n_jobs=40)]: Using backend LokyBackend with 40 concurrent workers.\n",
      "[Parallel(n_jobs=40)]: Done   7 out of  28 | elapsed:    0.4s remaining:    1.2s\n",
      "[Parallel(n_jobs=40)]: Done  13 out of  28 | elapsed:    0.6s remaining:    0.7s\n",
      "[Parallel(n_jobs=40)]: Done  19 out of  28 | elapsed:    0.9s remaining:    0.4s\n",
      "[Parallel(n_jobs=40)]: Done  25 out of  28 | elapsed:    1.1s remaining:    0.1s\n"
     ]
    },
    {
     "name": "stdout",
     "output_type": "stream",
     "text": [
      "    assembling connectivity matrix\n"
     ]
    },
    {
     "name": "stderr",
     "output_type": "stream",
     "text": [
      "[Parallel(n_jobs=40)]: Done  28 out of  28 | elapsed:    1.2s finished\n"
     ]
    },
    {
     "name": "stdout",
     "output_type": "stream",
     "text": [
      "[Connectivity computation done]\n",
      "[0.         0.57915764 0.         ... 0.07348457 0.06890699 0.        ]\n"
     ]
    },
    {
     "name": "stderr",
     "output_type": "stream",
     "text": [
      "/storage/store3/work/kachardo/adhd_brain_functional_connectivity/get_data.py:40: FutureWarning: Calling int on a single element Series is deprecated and will raise a TypeError in the future. Use int(ser.iloc[0]) instead\n",
      "  session = int(subjects_data[subjects_data['subject_id']==subject[4:]]['session'])\n"
     ]
    },
    {
     "name": "stdout",
     "output_type": "stream",
     "text": [
      "Removing 5 compensators from info because not all compensation channels were picked.\n",
      "Connectivity computation...\n",
      "only using indices for lower-triangular matrix\n",
      "    computing connectivity for 34191 connections\n",
      "    using t=0.000s..10.000s for estimation (2001 points)\n",
      "    frequencies: 8.1Hz..12.0Hz (40 points)\n",
      "    connectivity scores will be averaged for each band\n",
      "    using FFT with a Hanning window to estimate spectra\n",
      "    the following metrics will be computed: Coherence\n",
      "    computing connectivity for epochs 1..28\n"
     ]
    },
    {
     "name": "stderr",
     "output_type": "stream",
     "text": [
      "/storage/store3/work/kachardo/adhd_brain_functional_connectivity/get_data.py:46: RuntimeWarning: There were no Annotations stored in <EpochsFIF |  28 events (all good), 0 – 10 s, baseline off, ~112.6 MB, data loaded,\n",
      " 'rest': 28>, so metadata was not modified.\n",
      "  connectivity = spectral_connectivity_epochs(epoch, fmin = frequency_bands[band][0], fmax = frequency_bands[band][1], faverage=True, n_jobs=40, mode = 'fourier', method = 'coh')\n",
      "[Parallel(n_jobs=40)]: Using backend LokyBackend with 40 concurrent workers.\n",
      "[Parallel(n_jobs=40)]: Done   7 out of  28 | elapsed:    0.4s remaining:    1.2s\n",
      "[Parallel(n_jobs=40)]: Done  13 out of  28 | elapsed:    0.6s remaining:    0.7s\n",
      "[Parallel(n_jobs=40)]: Done  19 out of  28 | elapsed:    0.9s remaining:    0.4s\n",
      "[Parallel(n_jobs=40)]: Done  25 out of  28 | elapsed:    1.2s remaining:    0.1s\n",
      "[Parallel(n_jobs=40)]: Done  28 out of  28 | elapsed:    1.4s finished\n"
     ]
    },
    {
     "name": "stdout",
     "output_type": "stream",
     "text": [
      "    assembling connectivity matrix\n",
      "[Connectivity computation done]\n",
      "[0.         0.37337557 0.         ... 0.03633546 0.15270416 0.        ]\n"
     ]
    },
    {
     "name": "stderr",
     "output_type": "stream",
     "text": [
      "/storage/store3/work/kachardo/adhd_brain_functional_connectivity/get_data.py:40: FutureWarning: Calling int on a single element Series is deprecated and will raise a TypeError in the future. Use int(ser.iloc[0]) instead\n",
      "  session = int(subjects_data[subjects_data['subject_id']==subject[4:]]['session'])\n"
     ]
    },
    {
     "name": "stdout",
     "output_type": "stream",
     "text": [
      "Removing 5 compensators from info because not all compensation channels were picked.\n",
      "Connectivity computation...\n",
      "only using indices for lower-triangular matrix\n",
      "    computing connectivity for 34191 connections\n",
      "    using t=0.000s..10.000s for estimation (2001 points)\n",
      "    frequencies: 8.1Hz..12.0Hz (40 points)\n",
      "    connectivity scores will be averaged for each band\n",
      "    using FFT with a Hanning window to estimate spectra\n",
      "    the following metrics will be computed: Coherence\n",
      "    computing connectivity for epochs 1..28\n"
     ]
    },
    {
     "name": "stderr",
     "output_type": "stream",
     "text": [
      "/storage/store3/work/kachardo/adhd_brain_functional_connectivity/get_data.py:46: RuntimeWarning: There were no Annotations stored in <EpochsFIF |  28 events (all good), 0 – 10 s, baseline off, ~112.6 MB, data loaded,\n",
      " 'rest': 28>, so metadata was not modified.\n",
      "  connectivity = spectral_connectivity_epochs(epoch, fmin = frequency_bands[band][0], fmax = frequency_bands[band][1], faverage=True, n_jobs=40, mode = 'fourier', method = 'coh')\n",
      "[Parallel(n_jobs=40)]: Using backend LokyBackend with 40 concurrent workers.\n",
      "[Parallel(n_jobs=40)]: Done   7 out of  28 | elapsed:    0.5s remaining:    1.5s\n",
      "[Parallel(n_jobs=40)]: Done  13 out of  28 | elapsed:    0.7s remaining:    0.9s\n",
      "[Parallel(n_jobs=40)]: Done  19 out of  28 | elapsed:    1.0s remaining:    0.5s\n",
      "[Parallel(n_jobs=40)]: Done  25 out of  28 | elapsed:    1.3s remaining:    0.2s\n",
      "[Parallel(n_jobs=40)]: Done  28 out of  28 | elapsed:    1.4s finished\n"
     ]
    },
    {
     "name": "stdout",
     "output_type": "stream",
     "text": [
      "    assembling connectivity matrix\n",
      "[Connectivity computation done]\n",
      "[0.         0.36213422 0.         ... 0.04326373 0.03008182 0.        ]\n"
     ]
    },
    {
     "name": "stderr",
     "output_type": "stream",
     "text": [
      "/storage/store3/work/kachardo/adhd_brain_functional_connectivity/get_data.py:40: FutureWarning: Calling int on a single element Series is deprecated and will raise a TypeError in the future. Use int(ser.iloc[0]) instead\n",
      "  session = int(subjects_data[subjects_data['subject_id']==subject[4:]]['session'])\n"
     ]
    },
    {
     "name": "stdout",
     "output_type": "stream",
     "text": [
      "Removing 5 compensators from info because not all compensation channels were picked.\n",
      "Connectivity computation...\n",
      "only using indices for lower-triangular matrix\n",
      "    computing connectivity for 34191 connections\n",
      "    using t=0.000s..10.000s for estimation (2001 points)\n",
      "    frequencies: 8.1Hz..12.0Hz (40 points)\n",
      "    connectivity scores will be averaged for each band\n",
      "    using FFT with a Hanning window to estimate spectra\n",
      "    the following metrics will be computed: Coherence\n",
      "    computing connectivity for epochs 1..28\n"
     ]
    },
    {
     "name": "stderr",
     "output_type": "stream",
     "text": [
      "/storage/store3/work/kachardo/adhd_brain_functional_connectivity/get_data.py:46: RuntimeWarning: There were no Annotations stored in <EpochsFIF |  28 events (all good), 0 – 10 s, baseline off, ~112.6 MB, data loaded,\n",
      " 'rest': 28>, so metadata was not modified.\n",
      "  connectivity = spectral_connectivity_epochs(epoch, fmin = frequency_bands[band][0], fmax = frequency_bands[band][1], faverage=True, n_jobs=40, mode = 'fourier', method = 'coh')\n",
      "[Parallel(n_jobs=40)]: Using backend LokyBackend with 40 concurrent workers.\n",
      "[Parallel(n_jobs=40)]: Done   7 out of  28 | elapsed:    0.5s remaining:    1.5s\n",
      "[Parallel(n_jobs=40)]: Done  13 out of  28 | elapsed:    0.7s remaining:    0.8s\n",
      "[Parallel(n_jobs=40)]: Done  19 out of  28 | elapsed:    0.9s remaining:    0.4s\n",
      "[Parallel(n_jobs=40)]: Done  25 out of  28 | elapsed:    1.1s remaining:    0.1s\n",
      "[Parallel(n_jobs=40)]: Done  28 out of  28 | elapsed:    1.2s finished\n"
     ]
    },
    {
     "name": "stdout",
     "output_type": "stream",
     "text": [
      "    assembling connectivity matrix\n",
      "[Connectivity computation done]\n",
      "[0.         0.42594398 0.         ... 0.08822633 0.02518473 0.        ]\n"
     ]
    },
    {
     "name": "stderr",
     "output_type": "stream",
     "text": [
      "/storage/store3/work/kachardo/adhd_brain_functional_connectivity/get_data.py:40: FutureWarning: Calling int on a single element Series is deprecated and will raise a TypeError in the future. Use int(ser.iloc[0]) instead\n",
      "  session = int(subjects_data[subjects_data['subject_id']==subject[4:]]['session'])\n"
     ]
    },
    {
     "name": "stdout",
     "output_type": "stream",
     "text": [
      "Removing 5 compensators from info because not all compensation channels were picked.\n",
      "Connectivity computation...\n",
      "only using indices for lower-triangular matrix\n",
      "    computing connectivity for 34191 connections\n",
      "    using t=0.000s..10.000s for estimation (2001 points)\n",
      "    frequencies: 8.1Hz..12.0Hz (40 points)\n",
      "    connectivity scores will be averaged for each band\n",
      "    using FFT with a Hanning window to estimate spectra\n",
      "    the following metrics will be computed: Coherence\n",
      "    computing connectivity for epochs 1..28\n"
     ]
    },
    {
     "name": "stderr",
     "output_type": "stream",
     "text": [
      "/storage/store3/work/kachardo/adhd_brain_functional_connectivity/get_data.py:46: RuntimeWarning: There were no Annotations stored in <EpochsFIF |  28 events (all good), 0 – 10 s, baseline off, ~112.6 MB, data loaded,\n",
      " 'rest': 28>, so metadata was not modified.\n",
      "  connectivity = spectral_connectivity_epochs(epoch, fmin = frequency_bands[band][0], fmax = frequency_bands[band][1], faverage=True, n_jobs=40, mode = 'fourier', method = 'coh')\n",
      "[Parallel(n_jobs=40)]: Using backend LokyBackend with 40 concurrent workers.\n",
      "[Parallel(n_jobs=40)]: Done   7 out of  28 | elapsed:    0.4s remaining:    1.2s\n",
      "[Parallel(n_jobs=40)]: Done  13 out of  28 | elapsed:    0.6s remaining:    0.7s\n",
      "[Parallel(n_jobs=40)]: Done  19 out of  28 | elapsed:    0.9s remaining:    0.4s\n",
      "[Parallel(n_jobs=40)]: Done  25 out of  28 | elapsed:    1.2s remaining:    0.1s\n",
      "[Parallel(n_jobs=40)]: Done  28 out of  28 | elapsed:    1.3s finished\n"
     ]
    },
    {
     "name": "stdout",
     "output_type": "stream",
     "text": [
      "    assembling connectivity matrix\n",
      "[Connectivity computation done]\n",
      "[0.         0.47862391 0.         ... 0.08023403 0.04529941 0.        ]\n"
     ]
    },
    {
     "name": "stderr",
     "output_type": "stream",
     "text": [
      "/storage/store3/work/kachardo/adhd_brain_functional_connectivity/get_data.py:40: FutureWarning: Calling int on a single element Series is deprecated and will raise a TypeError in the future. Use int(ser.iloc[0]) instead\n",
      "  session = int(subjects_data[subjects_data['subject_id']==subject[4:]]['session'])\n"
     ]
    },
    {
     "name": "stdout",
     "output_type": "stream",
     "text": [
      "Removing 5 compensators from info because not all compensation channels were picked.\n",
      "Connectivity computation...\n",
      "only using indices for lower-triangular matrix\n",
      "    computing connectivity for 34191 connections\n",
      "    using t=0.000s..10.000s for estimation (2001 points)\n",
      "    frequencies: 8.1Hz..12.0Hz (40 points)\n",
      "    connectivity scores will be averaged for each band\n",
      "    using FFT with a Hanning window to estimate spectra\n",
      "    the following metrics will be computed: Coherence\n",
      "    computing connectivity for epochs 1..28\n"
     ]
    },
    {
     "name": "stderr",
     "output_type": "stream",
     "text": [
      "/storage/store3/work/kachardo/adhd_brain_functional_connectivity/get_data.py:46: RuntimeWarning: There were no Annotations stored in <EpochsFIF |  28 events (all good), 0 – 10 s, baseline off, ~112.6 MB, data loaded,\n",
      " 'rest': 28>, so metadata was not modified.\n",
      "  connectivity = spectral_connectivity_epochs(epoch, fmin = frequency_bands[band][0], fmax = frequency_bands[band][1], faverage=True, n_jobs=40, mode = 'fourier', method = 'coh')\n",
      "[Parallel(n_jobs=40)]: Using backend LokyBackend with 40 concurrent workers.\n",
      "[Parallel(n_jobs=40)]: Done   7 out of  28 | elapsed:    0.4s remaining:    1.2s\n",
      "[Parallel(n_jobs=40)]: Done  13 out of  28 | elapsed:    0.6s remaining:    0.7s\n",
      "[Parallel(n_jobs=40)]: Done  19 out of  28 | elapsed:    0.9s remaining:    0.4s\n",
      "[Parallel(n_jobs=40)]: Done  25 out of  28 | elapsed:    1.1s remaining:    0.1s\n",
      "[Parallel(n_jobs=40)]: Done  28 out of  28 | elapsed:    1.2s finished\n"
     ]
    },
    {
     "name": "stdout",
     "output_type": "stream",
     "text": [
      "    assembling connectivity matrix\n",
      "[Connectivity computation done]\n",
      "[0.         0.53455887 0.         ... 0.03703068 0.05491372 0.        ]\n"
     ]
    },
    {
     "name": "stderr",
     "output_type": "stream",
     "text": [
      "/storage/store3/work/kachardo/adhd_brain_functional_connectivity/get_data.py:40: FutureWarning: Calling int on a single element Series is deprecated and will raise a TypeError in the future. Use int(ser.iloc[0]) instead\n",
      "  session = int(subjects_data[subjects_data['subject_id']==subject[4:]]['session'])\n"
     ]
    },
    {
     "name": "stdout",
     "output_type": "stream",
     "text": [
      "Removing 5 compensators from info because not all compensation channels were picked.\n",
      "Connectivity computation...\n",
      "only using indices for lower-triangular matrix\n",
      "    computing connectivity for 34191 connections\n",
      "    using t=0.000s..10.000s for estimation (2001 points)\n",
      "    frequencies: 8.1Hz..12.0Hz (40 points)\n",
      "    connectivity scores will be averaged for each band\n",
      "    using FFT with a Hanning window to estimate spectra\n",
      "    the following metrics will be computed: Coherence\n",
      "    computing connectivity for epochs 1..28\n"
     ]
    },
    {
     "name": "stderr",
     "output_type": "stream",
     "text": [
      "/storage/store3/work/kachardo/adhd_brain_functional_connectivity/get_data.py:46: RuntimeWarning: There were no Annotations stored in <EpochsFIF |  28 events (all good), 0 – 10 s, baseline off, ~112.6 MB, data loaded,\n",
      " 'rest': 28>, so metadata was not modified.\n",
      "  connectivity = spectral_connectivity_epochs(epoch, fmin = frequency_bands[band][0], fmax = frequency_bands[band][1], faverage=True, n_jobs=40, mode = 'fourier', method = 'coh')\n",
      "[Parallel(n_jobs=40)]: Using backend LokyBackend with 40 concurrent workers.\n",
      "[Parallel(n_jobs=40)]: Done   7 out of  28 | elapsed:    0.5s remaining:    1.5s\n",
      "[Parallel(n_jobs=40)]: Done  13 out of  28 | elapsed:    0.8s remaining:    0.9s\n",
      "[Parallel(n_jobs=40)]: Done  19 out of  28 | elapsed:    1.0s remaining:    0.5s\n",
      "[Parallel(n_jobs=40)]: Done  25 out of  28 | elapsed:    1.2s remaining:    0.1s\n",
      "[Parallel(n_jobs=40)]: Done  28 out of  28 | elapsed:    1.3s finished\n"
     ]
    },
    {
     "name": "stdout",
     "output_type": "stream",
     "text": [
      "    assembling connectivity matrix\n",
      "[Connectivity computation done]\n",
      "[0.         0.39116837 0.         ... 0.03050744 0.06107777 0.        ]\n"
     ]
    },
    {
     "name": "stderr",
     "output_type": "stream",
     "text": [
      "/storage/store3/work/kachardo/adhd_brain_functional_connectivity/get_data.py:40: FutureWarning: Calling int on a single element Series is deprecated and will raise a TypeError in the future. Use int(ser.iloc[0]) instead\n",
      "  session = int(subjects_data[subjects_data['subject_id']==subject[4:]]['session'])\n"
     ]
    },
    {
     "name": "stdout",
     "output_type": "stream",
     "text": [
      "Removing 5 compensators from info because not all compensation channels were picked.\n",
      "Connectivity computation...\n",
      "only using indices for lower-triangular matrix\n",
      "    computing connectivity for 34191 connections\n",
      "    using t=0.000s..10.000s for estimation (2001 points)\n",
      "    frequencies: 8.1Hz..12.0Hz (40 points)\n",
      "    connectivity scores will be averaged for each band\n",
      "    using FFT with a Hanning window to estimate spectra\n",
      "    the following metrics will be computed: Coherence\n",
      "    computing connectivity for epochs 1..28\n"
     ]
    },
    {
     "name": "stderr",
     "output_type": "stream",
     "text": [
      "/storage/store3/work/kachardo/adhd_brain_functional_connectivity/get_data.py:46: RuntimeWarning: There were no Annotations stored in <EpochsFIF |  28 events (all good), 0 – 10 s, baseline off, ~112.6 MB, data loaded,\n",
      " 'rest': 28>, so metadata was not modified.\n",
      "  connectivity = spectral_connectivity_epochs(epoch, fmin = frequency_bands[band][0], fmax = frequency_bands[band][1], faverage=True, n_jobs=40, mode = 'fourier', method = 'coh')\n",
      "[Parallel(n_jobs=40)]: Using backend LokyBackend with 40 concurrent workers.\n",
      "[Parallel(n_jobs=40)]: Done   7 out of  28 | elapsed:    0.4s remaining:    1.2s\n",
      "[Parallel(n_jobs=40)]: Done  13 out of  28 | elapsed:    0.6s remaining:    0.7s\n",
      "[Parallel(n_jobs=40)]: Done  19 out of  28 | elapsed:    0.8s remaining:    0.4s\n",
      "[Parallel(n_jobs=40)]: Done  25 out of  28 | elapsed:    1.0s remaining:    0.1s\n",
      "[Parallel(n_jobs=40)]: Done  28 out of  28 | elapsed:    1.1s finished\n"
     ]
    },
    {
     "name": "stdout",
     "output_type": "stream",
     "text": [
      "    assembling connectivity matrix\n",
      "[Connectivity computation done]\n",
      "[0.         0.4425797  0.         ... 0.11807661 0.06836357 0.        ]\n"
     ]
    },
    {
     "name": "stderr",
     "output_type": "stream",
     "text": [
      "/storage/store3/work/kachardo/adhd_brain_functional_connectivity/get_data.py:40: FutureWarning: Calling int on a single element Series is deprecated and will raise a TypeError in the future. Use int(ser.iloc[0]) instead\n",
      "  session = int(subjects_data[subjects_data['subject_id']==subject[4:]]['session'])\n"
     ]
    },
    {
     "name": "stdout",
     "output_type": "stream",
     "text": [
      "Removing 5 compensators from info because not all compensation channels were picked.\n",
      "Connectivity computation...\n",
      "only using indices for lower-triangular matrix\n",
      "    computing connectivity for 34191 connections\n",
      "    using t=0.000s..10.000s for estimation (2001 points)\n",
      "    frequencies: 8.1Hz..12.0Hz (40 points)\n",
      "    connectivity scores will be averaged for each band\n",
      "    using FFT with a Hanning window to estimate spectra\n",
      "    the following metrics will be computed: Coherence\n",
      "    computing connectivity for epochs 1..28\n"
     ]
    },
    {
     "name": "stderr",
     "output_type": "stream",
     "text": [
      "/storage/store3/work/kachardo/adhd_brain_functional_connectivity/get_data.py:46: RuntimeWarning: There were no Annotations stored in <EpochsFIF |  28 events (all good), 0 – 10 s, baseline off, ~112.6 MB, data loaded,\n",
      " 'rest': 28>, so metadata was not modified.\n",
      "  connectivity = spectral_connectivity_epochs(epoch, fmin = frequency_bands[band][0], fmax = frequency_bands[band][1], faverage=True, n_jobs=40, mode = 'fourier', method = 'coh')\n",
      "[Parallel(n_jobs=40)]: Using backend LokyBackend with 40 concurrent workers.\n",
      "[Parallel(n_jobs=40)]: Done   7 out of  28 | elapsed:    0.4s remaining:    1.3s\n",
      "[Parallel(n_jobs=40)]: Done  13 out of  28 | elapsed:    0.6s remaining:    0.7s\n",
      "[Parallel(n_jobs=40)]: Done  19 out of  28 | elapsed:    0.8s remaining:    0.4s\n",
      "[Parallel(n_jobs=40)]: Done  25 out of  28 | elapsed:    1.0s remaining:    0.1s\n",
      "[Parallel(n_jobs=40)]: Done  28 out of  28 | elapsed:    1.1s finished\n"
     ]
    },
    {
     "name": "stdout",
     "output_type": "stream",
     "text": [
      "    assembling connectivity matrix\n",
      "[Connectivity computation done]\n",
      "[0.         0.35655305 0.         ... 0.06392926 0.04640346 0.        ]\n"
     ]
    },
    {
     "name": "stderr",
     "output_type": "stream",
     "text": [
      "/storage/store3/work/kachardo/adhd_brain_functional_connectivity/get_data.py:40: FutureWarning: Calling int on a single element Series is deprecated and will raise a TypeError in the future. Use int(ser.iloc[0]) instead\n",
      "  session = int(subjects_data[subjects_data['subject_id']==subject[4:]]['session'])\n"
     ]
    },
    {
     "name": "stdout",
     "output_type": "stream",
     "text": [
      "Removing 5 compensators from info because not all compensation channels were picked.\n",
      "Connectivity computation...\n",
      "only using indices for lower-triangular matrix\n",
      "    computing connectivity for 34191 connections\n",
      "    using t=0.000s..10.000s for estimation (2001 points)\n",
      "    frequencies: 8.1Hz..12.0Hz (40 points)\n",
      "    connectivity scores will be averaged for each band\n",
      "    using FFT with a Hanning window to estimate spectra\n",
      "    the following metrics will be computed: Coherence\n",
      "    computing connectivity for epochs 1..28\n"
     ]
    },
    {
     "name": "stderr",
     "output_type": "stream",
     "text": [
      "/storage/store3/work/kachardo/adhd_brain_functional_connectivity/get_data.py:46: RuntimeWarning: There were no Annotations stored in <EpochsFIF |  28 events (all good), 0 – 10 s, baseline off, ~112.6 MB, data loaded,\n",
      " 'rest': 28>, so metadata was not modified.\n",
      "  connectivity = spectral_connectivity_epochs(epoch, fmin = frequency_bands[band][0], fmax = frequency_bands[band][1], faverage=True, n_jobs=40, mode = 'fourier', method = 'coh')\n",
      "[Parallel(n_jobs=40)]: Using backend LokyBackend with 40 concurrent workers.\n",
      "[Parallel(n_jobs=40)]: Done   7 out of  28 | elapsed:    0.4s remaining:    1.3s\n",
      "[Parallel(n_jobs=40)]: Done  13 out of  28 | elapsed:    0.7s remaining:    0.8s\n",
      "[Parallel(n_jobs=40)]: Done  19 out of  28 | elapsed:    0.9s remaining:    0.4s\n",
      "[Parallel(n_jobs=40)]: Done  25 out of  28 | elapsed:    1.1s remaining:    0.1s\n",
      "[Parallel(n_jobs=40)]: Done  28 out of  28 | elapsed:    1.2s finished\n"
     ]
    },
    {
     "name": "stdout",
     "output_type": "stream",
     "text": [
      "    assembling connectivity matrix\n",
      "[Connectivity computation done]\n",
      "[0.         0.51198674 0.         ... 0.09906913 0.11171814 0.        ]\n"
     ]
    },
    {
     "name": "stderr",
     "output_type": "stream",
     "text": [
      "/storage/store3/work/kachardo/adhd_brain_functional_connectivity/get_data.py:40: FutureWarning: Calling int on a single element Series is deprecated and will raise a TypeError in the future. Use int(ser.iloc[0]) instead\n",
      "  session = int(subjects_data[subjects_data['subject_id']==subject[4:]]['session'])\n"
     ]
    },
    {
     "name": "stdout",
     "output_type": "stream",
     "text": [
      "Removing 5 compensators from info because not all compensation channels were picked.\n",
      "Connectivity computation...\n",
      "only using indices for lower-triangular matrix\n",
      "    computing connectivity for 34191 connections\n",
      "    using t=0.000s..10.000s for estimation (2001 points)\n",
      "    frequencies: 8.1Hz..12.0Hz (40 points)\n",
      "    connectivity scores will be averaged for each band\n",
      "    using FFT with a Hanning window to estimate spectra\n",
      "    the following metrics will be computed: Coherence\n",
      "    computing connectivity for epochs 1..28\n"
     ]
    },
    {
     "name": "stderr",
     "output_type": "stream",
     "text": [
      "/storage/store3/work/kachardo/adhd_brain_functional_connectivity/get_data.py:46: RuntimeWarning: There were no Annotations stored in <EpochsFIF |  28 events (all good), 0 – 10 s, baseline off, ~112.6 MB, data loaded,\n",
      " 'rest': 28>, so metadata was not modified.\n",
      "  connectivity = spectral_connectivity_epochs(epoch, fmin = frequency_bands[band][0], fmax = frequency_bands[band][1], faverage=True, n_jobs=40, mode = 'fourier', method = 'coh')\n",
      "[Parallel(n_jobs=40)]: Using backend LokyBackend with 40 concurrent workers.\n",
      "[Parallel(n_jobs=40)]: Done   7 out of  28 | elapsed:    0.5s remaining:    1.4s\n",
      "[Parallel(n_jobs=40)]: Done  13 out of  28 | elapsed:    0.7s remaining:    0.8s\n",
      "[Parallel(n_jobs=40)]: Done  19 out of  28 | elapsed:    1.0s remaining:    0.5s\n",
      "[Parallel(n_jobs=40)]: Done  25 out of  28 | elapsed:    1.2s remaining:    0.1s\n",
      "[Parallel(n_jobs=40)]: Done  28 out of  28 | elapsed:    1.3s finished\n"
     ]
    },
    {
     "name": "stdout",
     "output_type": "stream",
     "text": [
      "    assembling connectivity matrix\n",
      "[Connectivity computation done]\n",
      "[0.         0.41899648 0.         ... 0.03679718 0.03574779 0.        ]\n"
     ]
    },
    {
     "name": "stderr",
     "output_type": "stream",
     "text": [
      "/storage/store3/work/kachardo/adhd_brain_functional_connectivity/get_data.py:40: FutureWarning: Calling int on a single element Series is deprecated and will raise a TypeError in the future. Use int(ser.iloc[0]) instead\n",
      "  session = int(subjects_data[subjects_data['subject_id']==subject[4:]]['session'])\n"
     ]
    },
    {
     "name": "stdout",
     "output_type": "stream",
     "text": [
      "Removing 5 compensators from info because not all compensation channels were picked.\n",
      "Connectivity computation...\n",
      "only using indices for lower-triangular matrix\n",
      "    computing connectivity for 34191 connections\n",
      "    using t=0.000s..10.000s for estimation (2001 points)\n",
      "    frequencies: 8.1Hz..12.0Hz (40 points)\n",
      "    connectivity scores will be averaged for each band\n",
      "    using FFT with a Hanning window to estimate spectra\n",
      "    the following metrics will be computed: Coherence\n",
      "    computing connectivity for epochs 1..28\n"
     ]
    },
    {
     "name": "stderr",
     "output_type": "stream",
     "text": [
      "/storage/store3/work/kachardo/adhd_brain_functional_connectivity/get_data.py:46: RuntimeWarning: There were no Annotations stored in <EpochsFIF |  28 events (all good), 0 – 10 s, baseline off, ~112.6 MB, data loaded,\n",
      " 'rest': 28>, so metadata was not modified.\n",
      "  connectivity = spectral_connectivity_epochs(epoch, fmin = frequency_bands[band][0], fmax = frequency_bands[band][1], faverage=True, n_jobs=40, mode = 'fourier', method = 'coh')\n",
      "[Parallel(n_jobs=40)]: Using backend LokyBackend with 40 concurrent workers.\n",
      "[Parallel(n_jobs=40)]: Done   7 out of  28 | elapsed:    0.4s remaining:    1.2s\n",
      "[Parallel(n_jobs=40)]: Done  13 out of  28 | elapsed:    0.7s remaining:    0.8s\n",
      "[Parallel(n_jobs=40)]: Done  19 out of  28 | elapsed:    0.9s remaining:    0.4s\n",
      "[Parallel(n_jobs=40)]: Done  25 out of  28 | elapsed:    1.2s remaining:    0.1s\n",
      "[Parallel(n_jobs=40)]: Done  28 out of  28 | elapsed:    1.3s finished\n"
     ]
    },
    {
     "name": "stdout",
     "output_type": "stream",
     "text": [
      "    assembling connectivity matrix\n",
      "[Connectivity computation done]\n",
      "[0.         0.40296965 0.         ... 0.03302755 0.05701245 0.        ]\n"
     ]
    },
    {
     "name": "stderr",
     "output_type": "stream",
     "text": [
      "/storage/store3/work/kachardo/adhd_brain_functional_connectivity/get_data.py:40: FutureWarning: Calling int on a single element Series is deprecated and will raise a TypeError in the future. Use int(ser.iloc[0]) instead\n",
      "  session = int(subjects_data[subjects_data['subject_id']==subject[4:]]['session'])\n"
     ]
    },
    {
     "name": "stdout",
     "output_type": "stream",
     "text": [
      "Removing 5 compensators from info because not all compensation channels were picked.\n",
      "Connectivity computation...\n",
      "only using indices for lower-triangular matrix\n",
      "    computing connectivity for 34191 connections\n",
      "    using t=0.000s..10.000s for estimation (2001 points)\n",
      "    frequencies: 8.1Hz..12.0Hz (40 points)\n",
      "    connectivity scores will be averaged for each band\n",
      "    using FFT with a Hanning window to estimate spectra\n",
      "    the following metrics will be computed: Coherence\n",
      "    computing connectivity for epochs 1..28\n"
     ]
    },
    {
     "name": "stderr",
     "output_type": "stream",
     "text": [
      "/storage/store3/work/kachardo/adhd_brain_functional_connectivity/get_data.py:46: RuntimeWarning: There were no Annotations stored in <EpochsFIF |  28 events (all good), 0 – 10 s, baseline off, ~112.6 MB, data loaded,\n",
      " 'rest': 28>, so metadata was not modified.\n",
      "  connectivity = spectral_connectivity_epochs(epoch, fmin = frequency_bands[band][0], fmax = frequency_bands[band][1], faverage=True, n_jobs=40, mode = 'fourier', method = 'coh')\n",
      "[Parallel(n_jobs=40)]: Using backend LokyBackend with 40 concurrent workers.\n",
      "[Parallel(n_jobs=40)]: Done   7 out of  28 | elapsed:    0.4s remaining:    1.3s\n",
      "[Parallel(n_jobs=40)]: Done  13 out of  28 | elapsed:    0.7s remaining:    0.8s\n",
      "[Parallel(n_jobs=40)]: Done  19 out of  28 | elapsed:    0.9s remaining:    0.4s\n",
      "[Parallel(n_jobs=40)]: Done  25 out of  28 | elapsed:    1.2s remaining:    0.1s\n",
      "[Parallel(n_jobs=40)]: Done  28 out of  28 | elapsed:    1.3s finished\n"
     ]
    },
    {
     "name": "stdout",
     "output_type": "stream",
     "text": [
      "    assembling connectivity matrix\n",
      "[Connectivity computation done]\n",
      "[0.         0.31033771 0.         ... 0.04174238 0.04857588 0.        ]\n"
     ]
    },
    {
     "name": "stderr",
     "output_type": "stream",
     "text": [
      "/storage/store3/work/kachardo/adhd_brain_functional_connectivity/get_data.py:40: FutureWarning: Calling int on a single element Series is deprecated and will raise a TypeError in the future. Use int(ser.iloc[0]) instead\n",
      "  session = int(subjects_data[subjects_data['subject_id']==subject[4:]]['session'])\n"
     ]
    },
    {
     "name": "stdout",
     "output_type": "stream",
     "text": [
      "Removing 5 compensators from info because not all compensation channels were picked.\n",
      "Connectivity computation...\n",
      "only using indices for lower-triangular matrix\n",
      "    computing connectivity for 34191 connections\n",
      "    using t=0.000s..10.000s for estimation (2001 points)\n",
      "    frequencies: 8.1Hz..12.0Hz (40 points)\n",
      "    connectivity scores will be averaged for each band\n",
      "    using FFT with a Hanning window to estimate spectra\n",
      "    the following metrics will be computed: Coherence\n",
      "    computing connectivity for epochs 1..28\n"
     ]
    },
    {
     "name": "stderr",
     "output_type": "stream",
     "text": [
      "/storage/store3/work/kachardo/adhd_brain_functional_connectivity/get_data.py:46: RuntimeWarning: There were no Annotations stored in <EpochsFIF |  28 events (all good), 0 – 10 s, baseline off, ~112.6 MB, data loaded,\n",
      " 'rest': 28>, so metadata was not modified.\n",
      "  connectivity = spectral_connectivity_epochs(epoch, fmin = frequency_bands[band][0], fmax = frequency_bands[band][1], faverage=True, n_jobs=40, mode = 'fourier', method = 'coh')\n",
      "[Parallel(n_jobs=40)]: Using backend LokyBackend with 40 concurrent workers.\n",
      "[Parallel(n_jobs=40)]: Done   7 out of  28 | elapsed:    0.4s remaining:    1.3s\n",
      "[Parallel(n_jobs=40)]: Done  13 out of  28 | elapsed:    0.7s remaining:    0.8s\n",
      "[Parallel(n_jobs=40)]: Done  19 out of  28 | elapsed:    0.9s remaining:    0.4s\n",
      "[Parallel(n_jobs=40)]: Done  25 out of  28 | elapsed:    1.2s remaining:    0.1s\n",
      "[Parallel(n_jobs=40)]: Done  28 out of  28 | elapsed:    1.3s finished\n"
     ]
    },
    {
     "name": "stdout",
     "output_type": "stream",
     "text": [
      "    assembling connectivity matrix\n",
      "[Connectivity computation done]\n",
      "[0.         0.57488667 0.         ... 0.03003835 0.07990193 0.        ]\n"
     ]
    },
    {
     "name": "stderr",
     "output_type": "stream",
     "text": [
      "/storage/store3/work/kachardo/adhd_brain_functional_connectivity/get_data.py:40: FutureWarning: Calling int on a single element Series is deprecated and will raise a TypeError in the future. Use int(ser.iloc[0]) instead\n",
      "  session = int(subjects_data[subjects_data['subject_id']==subject[4:]]['session'])\n"
     ]
    },
    {
     "name": "stdout",
     "output_type": "stream",
     "text": [
      "Removing 5 compensators from info because not all compensation channels were picked.\n",
      "Connectivity computation...\n",
      "only using indices for lower-triangular matrix\n",
      "    computing connectivity for 34191 connections\n",
      "    using t=0.000s..10.000s for estimation (2001 points)\n",
      "    frequencies: 8.1Hz..12.0Hz (40 points)\n",
      "    connectivity scores will be averaged for each band\n",
      "    using FFT with a Hanning window to estimate spectra\n",
      "    the following metrics will be computed: Coherence\n",
      "    computing connectivity for epochs 1..28\n"
     ]
    },
    {
     "name": "stderr",
     "output_type": "stream",
     "text": [
      "/storage/store3/work/kachardo/adhd_brain_functional_connectivity/get_data.py:46: RuntimeWarning: There were no Annotations stored in <EpochsFIF |  28 events (all good), 0 – 10 s, baseline off, ~112.6 MB, data loaded,\n",
      " 'rest': 28>, so metadata was not modified.\n",
      "  connectivity = spectral_connectivity_epochs(epoch, fmin = frequency_bands[band][0], fmax = frequency_bands[band][1], faverage=True, n_jobs=40, mode = 'fourier', method = 'coh')\n",
      "[Parallel(n_jobs=40)]: Using backend LokyBackend with 40 concurrent workers.\n",
      "[Parallel(n_jobs=40)]: Done   7 out of  28 | elapsed:    0.4s remaining:    1.2s\n",
      "[Parallel(n_jobs=40)]: Done  13 out of  28 | elapsed:    0.6s remaining:    0.7s\n",
      "[Parallel(n_jobs=40)]: Done  19 out of  28 | elapsed:    0.9s remaining:    0.4s\n",
      "[Parallel(n_jobs=40)]: Done  25 out of  28 | elapsed:    1.1s remaining:    0.1s\n",
      "[Parallel(n_jobs=40)]: Done  28 out of  28 | elapsed:    1.3s finished\n"
     ]
    },
    {
     "name": "stdout",
     "output_type": "stream",
     "text": [
      "    assembling connectivity matrix\n",
      "[Connectivity computation done]\n",
      "[0.         0.53071432 0.         ... 0.22454092 0.10216578 0.        ]\n"
     ]
    },
    {
     "name": "stderr",
     "output_type": "stream",
     "text": [
      "/storage/store3/work/kachardo/adhd_brain_functional_connectivity/get_data.py:40: FutureWarning: Calling int on a single element Series is deprecated and will raise a TypeError in the future. Use int(ser.iloc[0]) instead\n",
      "  session = int(subjects_data[subjects_data['subject_id']==subject[4:]]['session'])\n"
     ]
    },
    {
     "name": "stdout",
     "output_type": "stream",
     "text": [
      "Removing 5 compensators from info because not all compensation channels were picked.\n",
      "Connectivity computation...\n",
      "only using indices for lower-triangular matrix\n",
      "    computing connectivity for 34191 connections\n",
      "    using t=0.000s..10.000s for estimation (2001 points)\n",
      "    frequencies: 8.1Hz..12.0Hz (40 points)\n",
      "    connectivity scores will be averaged for each band\n",
      "    using FFT with a Hanning window to estimate spectra\n",
      "    the following metrics will be computed: Coherence\n",
      "    computing connectivity for epochs 1..28\n"
     ]
    },
    {
     "name": "stderr",
     "output_type": "stream",
     "text": [
      "/storage/store3/work/kachardo/adhd_brain_functional_connectivity/get_data.py:46: RuntimeWarning: There were no Annotations stored in <EpochsFIF |  28 events (all good), 0 – 10 s, baseline off, ~112.6 MB, data loaded,\n",
      " 'rest': 28>, so metadata was not modified.\n",
      "  connectivity = spectral_connectivity_epochs(epoch, fmin = frequency_bands[band][0], fmax = frequency_bands[band][1], faverage=True, n_jobs=40, mode = 'fourier', method = 'coh')\n",
      "[Parallel(n_jobs=40)]: Using backend LokyBackend with 40 concurrent workers.\n",
      "[Parallel(n_jobs=40)]: Done   7 out of  28 | elapsed:    0.4s remaining:    1.3s\n",
      "[Parallel(n_jobs=40)]: Done  13 out of  28 | elapsed:    0.6s remaining:    0.7s\n",
      "[Parallel(n_jobs=40)]: Done  19 out of  28 | elapsed:    0.9s remaining:    0.4s\n",
      "[Parallel(n_jobs=40)]: Done  25 out of  28 | elapsed:    1.2s remaining:    0.1s\n",
      "[Parallel(n_jobs=40)]: Done  28 out of  28 | elapsed:    1.3s finished\n"
     ]
    },
    {
     "name": "stdout",
     "output_type": "stream",
     "text": [
      "    assembling connectivity matrix\n",
      "[Connectivity computation done]\n",
      "[0.         0.48786525 0.         ... 0.06502002 0.04185946 0.        ]\n"
     ]
    },
    {
     "name": "stderr",
     "output_type": "stream",
     "text": [
      "/storage/store3/work/kachardo/adhd_brain_functional_connectivity/get_data.py:40: FutureWarning: Calling int on a single element Series is deprecated and will raise a TypeError in the future. Use int(ser.iloc[0]) instead\n",
      "  session = int(subjects_data[subjects_data['subject_id']==subject[4:]]['session'])\n"
     ]
    },
    {
     "name": "stdout",
     "output_type": "stream",
     "text": [
      "Removing 5 compensators from info because not all compensation channels were picked.\n",
      "Connectivity computation...\n",
      "only using indices for lower-triangular matrix\n",
      "    computing connectivity for 34191 connections\n",
      "    using t=0.000s..10.000s for estimation (2001 points)\n",
      "    frequencies: 8.1Hz..12.0Hz (40 points)\n",
      "    connectivity scores will be averaged for each band\n",
      "    using FFT with a Hanning window to estimate spectra\n",
      "    the following metrics will be computed: Coherence\n",
      "    computing connectivity for epochs 1..28\n"
     ]
    },
    {
     "name": "stderr",
     "output_type": "stream",
     "text": [
      "/storage/store3/work/kachardo/adhd_brain_functional_connectivity/get_data.py:46: RuntimeWarning: There were no Annotations stored in <EpochsFIF |  28 events (all good), 0 – 10 s, baseline off, ~112.6 MB, data loaded,\n",
      " 'rest': 28>, so metadata was not modified.\n",
      "  connectivity = spectral_connectivity_epochs(epoch, fmin = frequency_bands[band][0], fmax = frequency_bands[band][1], faverage=True, n_jobs=40, mode = 'fourier', method = 'coh')\n",
      "[Parallel(n_jobs=40)]: Using backend LokyBackend with 40 concurrent workers.\n",
      "[Parallel(n_jobs=40)]: Done   7 out of  28 | elapsed:    0.5s remaining:    1.5s\n",
      "[Parallel(n_jobs=40)]: Done  13 out of  28 | elapsed:    0.8s remaining:    0.9s\n",
      "[Parallel(n_jobs=40)]: Done  19 out of  28 | elapsed:    1.1s remaining:    0.5s\n",
      "[Parallel(n_jobs=40)]: Done  25 out of  28 | elapsed:    1.4s remaining:    0.2s\n",
      "[Parallel(n_jobs=40)]: Done  28 out of  28 | elapsed:    1.5s finished\n"
     ]
    },
    {
     "name": "stdout",
     "output_type": "stream",
     "text": [
      "    assembling connectivity matrix\n",
      "[Connectivity computation done]\n",
      "[0.         0.22226878 0.         ... 0.07573681 0.02570829 0.        ]\n"
     ]
    },
    {
     "name": "stderr",
     "output_type": "stream",
     "text": [
      "/storage/store3/work/kachardo/adhd_brain_functional_connectivity/get_data.py:40: FutureWarning: Calling int on a single element Series is deprecated and will raise a TypeError in the future. Use int(ser.iloc[0]) instead\n",
      "  session = int(subjects_data[subjects_data['subject_id']==subject[4:]]['session'])\n"
     ]
    },
    {
     "name": "stdout",
     "output_type": "stream",
     "text": [
      "Removing 5 compensators from info because not all compensation channels were picked.\n",
      "Connectivity computation...\n",
      "only using indices for lower-triangular matrix\n",
      "    computing connectivity for 34191 connections\n",
      "    using t=0.000s..10.000s for estimation (2001 points)\n",
      "    frequencies: 8.1Hz..12.0Hz (40 points)\n",
      "    connectivity scores will be averaged for each band\n",
      "    using FFT with a Hanning window to estimate spectra\n",
      "    the following metrics will be computed: Coherence\n",
      "    computing connectivity for epochs 1..28\n"
     ]
    },
    {
     "name": "stderr",
     "output_type": "stream",
     "text": [
      "/storage/store3/work/kachardo/adhd_brain_functional_connectivity/get_data.py:46: RuntimeWarning: There were no Annotations stored in <EpochsFIF |  28 events (all good), 0 – 10 s, baseline off, ~112.6 MB, data loaded,\n",
      " 'rest': 28>, so metadata was not modified.\n",
      "  connectivity = spectral_connectivity_epochs(epoch, fmin = frequency_bands[band][0], fmax = frequency_bands[band][1], faverage=True, n_jobs=40, mode = 'fourier', method = 'coh')\n",
      "[Parallel(n_jobs=40)]: Using backend LokyBackend with 40 concurrent workers.\n",
      "[Parallel(n_jobs=40)]: Done   7 out of  28 | elapsed:    0.5s remaining:    1.6s\n",
      "[Parallel(n_jobs=40)]: Done  13 out of  28 | elapsed:    0.8s remaining:    0.9s\n",
      "[Parallel(n_jobs=40)]: Done  19 out of  28 | elapsed:    1.1s remaining:    0.5s\n",
      "[Parallel(n_jobs=40)]: Done  25 out of  28 | elapsed:    1.3s remaining:    0.2s\n",
      "[Parallel(n_jobs=40)]: Done  28 out of  28 | elapsed:    1.5s finished\n"
     ]
    },
    {
     "name": "stdout",
     "output_type": "stream",
     "text": [
      "    assembling connectivity matrix\n",
      "[Connectivity computation done]\n",
      "[0.         0.54653629 0.         ... 0.12872723 0.06214226 0.        ]\n"
     ]
    },
    {
     "name": "stderr",
     "output_type": "stream",
     "text": [
      "/storage/store3/work/kachardo/adhd_brain_functional_connectivity/get_data.py:40: FutureWarning: Calling int on a single element Series is deprecated and will raise a TypeError in the future. Use int(ser.iloc[0]) instead\n",
      "  session = int(subjects_data[subjects_data['subject_id']==subject[4:]]['session'])\n"
     ]
    },
    {
     "name": "stdout",
     "output_type": "stream",
     "text": [
      "Removing 5 compensators from info because not all compensation channels were picked.\n",
      "Connectivity computation...\n",
      "only using indices for lower-triangular matrix\n",
      "    computing connectivity for 34191 connections\n",
      "    using t=0.000s..10.000s for estimation (2001 points)\n",
      "    frequencies: 8.1Hz..12.0Hz (40 points)\n",
      "    connectivity scores will be averaged for each band\n",
      "    using FFT with a Hanning window to estimate spectra\n",
      "    the following metrics will be computed: Coherence\n",
      "    computing connectivity for epochs 1..28\n"
     ]
    },
    {
     "name": "stderr",
     "output_type": "stream",
     "text": [
      "/storage/store3/work/kachardo/adhd_brain_functional_connectivity/get_data.py:46: RuntimeWarning: There were no Annotations stored in <EpochsFIF |  28 events (all good), 0 – 10 s, baseline off, ~112.6 MB, data loaded,\n",
      " 'rest': 28>, so metadata was not modified.\n",
      "  connectivity = spectral_connectivity_epochs(epoch, fmin = frequency_bands[band][0], fmax = frequency_bands[band][1], faverage=True, n_jobs=40, mode = 'fourier', method = 'coh')\n",
      "[Parallel(n_jobs=40)]: Using backend LokyBackend with 40 concurrent workers.\n",
      "[Parallel(n_jobs=40)]: Done   7 out of  28 | elapsed:    0.5s remaining:    1.5s\n",
      "[Parallel(n_jobs=40)]: Done  13 out of  28 | elapsed:    0.8s remaining:    0.9s\n",
      "[Parallel(n_jobs=40)]: Done  19 out of  28 | elapsed:    1.0s remaining:    0.5s\n",
      "[Parallel(n_jobs=40)]: Done  25 out of  28 | elapsed:    1.3s remaining:    0.2s\n",
      "[Parallel(n_jobs=40)]: Done  28 out of  28 | elapsed:    1.4s finished\n"
     ]
    },
    {
     "name": "stdout",
     "output_type": "stream",
     "text": [
      "    assembling connectivity matrix\n",
      "[Connectivity computation done]\n",
      "[0.         0.33951384 0.         ... 0.02919497 0.03311305 0.        ]\n"
     ]
    },
    {
     "name": "stderr",
     "output_type": "stream",
     "text": [
      "/storage/store3/work/kachardo/adhd_brain_functional_connectivity/get_data.py:40: FutureWarning: Calling int on a single element Series is deprecated and will raise a TypeError in the future. Use int(ser.iloc[0]) instead\n",
      "  session = int(subjects_data[subjects_data['subject_id']==subject[4:]]['session'])\n"
     ]
    },
    {
     "name": "stdout",
     "output_type": "stream",
     "text": [
      "Removing 5 compensators from info because not all compensation channels were picked.\n",
      "Connectivity computation...\n",
      "only using indices for lower-triangular matrix\n",
      "    computing connectivity for 34191 connections\n",
      "    using t=0.000s..10.000s for estimation (2001 points)\n",
      "    frequencies: 8.1Hz..12.0Hz (40 points)\n",
      "    connectivity scores will be averaged for each band\n",
      "    using FFT with a Hanning window to estimate spectra\n",
      "    the following metrics will be computed: Coherence\n",
      "    computing connectivity for epochs 1..28\n"
     ]
    },
    {
     "name": "stderr",
     "output_type": "stream",
     "text": [
      "/storage/store3/work/kachardo/adhd_brain_functional_connectivity/get_data.py:46: RuntimeWarning: There were no Annotations stored in <EpochsFIF |  28 events (all good), 0 – 10 s, baseline off, ~112.6 MB, data loaded,\n",
      " 'rest': 28>, so metadata was not modified.\n",
      "  connectivity = spectral_connectivity_epochs(epoch, fmin = frequency_bands[band][0], fmax = frequency_bands[band][1], faverage=True, n_jobs=40, mode = 'fourier', method = 'coh')\n",
      "[Parallel(n_jobs=40)]: Using backend LokyBackend with 40 concurrent workers.\n",
      "[Parallel(n_jobs=40)]: Done   7 out of  28 | elapsed:    0.6s remaining:    1.7s\n",
      "[Parallel(n_jobs=40)]: Done  13 out of  28 | elapsed:    0.8s remaining:    1.0s\n",
      "[Parallel(n_jobs=40)]: Done  19 out of  28 | elapsed:    1.1s remaining:    0.5s\n",
      "[Parallel(n_jobs=40)]: Done  25 out of  28 | elapsed:    1.4s remaining:    0.2s\n",
      "[Parallel(n_jobs=40)]: Done  28 out of  28 | elapsed:    1.5s finished\n"
     ]
    },
    {
     "name": "stdout",
     "output_type": "stream",
     "text": [
      "    assembling connectivity matrix\n",
      "[Connectivity computation done]\n",
      "[0.         0.42109697 0.         ... 0.03607547 0.03436593 0.        ]\n"
     ]
    },
    {
     "name": "stderr",
     "output_type": "stream",
     "text": [
      "/storage/store3/work/kachardo/adhd_brain_functional_connectivity/get_data.py:40: FutureWarning: Calling int on a single element Series is deprecated and will raise a TypeError in the future. Use int(ser.iloc[0]) instead\n",
      "  session = int(subjects_data[subjects_data['subject_id']==subject[4:]]['session'])\n"
     ]
    },
    {
     "name": "stdout",
     "output_type": "stream",
     "text": [
      "Removing 5 compensators from info because not all compensation channels were picked.\n",
      "Connectivity computation...\n",
      "only using indices for lower-triangular matrix\n",
      "    computing connectivity for 34191 connections\n",
      "    using t=0.000s..10.000s for estimation (2001 points)\n",
      "    frequencies: 8.1Hz..12.0Hz (40 points)\n",
      "    connectivity scores will be averaged for each band\n",
      "    using FFT with a Hanning window to estimate spectra\n",
      "    the following metrics will be computed: Coherence\n",
      "    computing connectivity for epochs 1..28\n"
     ]
    },
    {
     "name": "stderr",
     "output_type": "stream",
     "text": [
      "/storage/store3/work/kachardo/adhd_brain_functional_connectivity/get_data.py:46: RuntimeWarning: There were no Annotations stored in <EpochsFIF |  28 events (all good), 0 – 10 s, baseline off, ~112.6 MB, data loaded,\n",
      " 'rest': 28>, so metadata was not modified.\n",
      "  connectivity = spectral_connectivity_epochs(epoch, fmin = frequency_bands[band][0], fmax = frequency_bands[band][1], faverage=True, n_jobs=40, mode = 'fourier', method = 'coh')\n",
      "[Parallel(n_jobs=40)]: Using backend LokyBackend with 40 concurrent workers.\n",
      "[Parallel(n_jobs=40)]: Done   7 out of  28 | elapsed:    0.5s remaining:    1.6s\n",
      "[Parallel(n_jobs=40)]: Done  13 out of  28 | elapsed:    0.8s remaining:    0.9s\n",
      "[Parallel(n_jobs=40)]: Done  19 out of  28 | elapsed:    1.1s remaining:    0.5s\n",
      "[Parallel(n_jobs=40)]: Done  25 out of  28 | elapsed:    1.3s remaining:    0.2s\n",
      "[Parallel(n_jobs=40)]: Done  28 out of  28 | elapsed:    1.5s finished\n"
     ]
    },
    {
     "name": "stdout",
     "output_type": "stream",
     "text": [
      "    assembling connectivity matrix\n",
      "[Connectivity computation done]\n",
      "[0.         0.36459971 0.         ... 0.05008087 0.04390036 0.        ]\n"
     ]
    },
    {
     "name": "stderr",
     "output_type": "stream",
     "text": [
      "/storage/store3/work/kachardo/adhd_brain_functional_connectivity/get_data.py:40: FutureWarning: Calling int on a single element Series is deprecated and will raise a TypeError in the future. Use int(ser.iloc[0]) instead\n",
      "  session = int(subjects_data[subjects_data['subject_id']==subject[4:]]['session'])\n"
     ]
    },
    {
     "name": "stdout",
     "output_type": "stream",
     "text": [
      "Removing 5 compensators from info because not all compensation channels were picked.\n",
      "Connectivity computation...\n",
      "only using indices for lower-triangular matrix\n",
      "    computing connectivity for 34191 connections\n",
      "    using t=0.000s..10.000s for estimation (2001 points)\n",
      "    frequencies: 8.1Hz..12.0Hz (40 points)\n",
      "    connectivity scores will be averaged for each band\n",
      "    using FFT with a Hanning window to estimate spectra\n",
      "    the following metrics will be computed: Coherence\n",
      "    computing connectivity for epochs 1..28\n"
     ]
    },
    {
     "name": "stderr",
     "output_type": "stream",
     "text": [
      "/storage/store3/work/kachardo/adhd_brain_functional_connectivity/get_data.py:46: RuntimeWarning: There were no Annotations stored in <EpochsFIF |  28 events (all good), 0 – 10 s, baseline off, ~112.6 MB, data loaded,\n",
      " 'rest': 28>, so metadata was not modified.\n",
      "  connectivity = spectral_connectivity_epochs(epoch, fmin = frequency_bands[band][0], fmax = frequency_bands[band][1], faverage=True, n_jobs=40, mode = 'fourier', method = 'coh')\n",
      "[Parallel(n_jobs=40)]: Using backend LokyBackend with 40 concurrent workers.\n",
      "[Parallel(n_jobs=40)]: Done   7 out of  28 | elapsed:    0.5s remaining:    1.6s\n",
      "[Parallel(n_jobs=40)]: Done  13 out of  28 | elapsed:    0.8s remaining:    0.9s\n",
      "[Parallel(n_jobs=40)]: Done  19 out of  28 | elapsed:    1.1s remaining:    0.5s\n",
      "[Parallel(n_jobs=40)]: Done  25 out of  28 | elapsed:    1.3s remaining:    0.2s\n",
      "[Parallel(n_jobs=40)]: Done  28 out of  28 | elapsed:    1.4s finished\n"
     ]
    },
    {
     "name": "stdout",
     "output_type": "stream",
     "text": [
      "    assembling connectivity matrix\n",
      "[Connectivity computation done]\n",
      "[0.         0.50475083 0.         ... 0.12038122 0.09796621 0.        ]\n"
     ]
    },
    {
     "name": "stderr",
     "output_type": "stream",
     "text": [
      "/storage/store3/work/kachardo/adhd_brain_functional_connectivity/get_data.py:40: FutureWarning: Calling int on a single element Series is deprecated and will raise a TypeError in the future. Use int(ser.iloc[0]) instead\n",
      "  session = int(subjects_data[subjects_data['subject_id']==subject[4:]]['session'])\n"
     ]
    },
    {
     "name": "stdout",
     "output_type": "stream",
     "text": [
      "Removing 5 compensators from info because not all compensation channels were picked.\n",
      "Connectivity computation...\n",
      "only using indices for lower-triangular matrix\n",
      "    computing connectivity for 34191 connections\n",
      "    using t=0.000s..10.000s for estimation (2001 points)\n",
      "    frequencies: 8.1Hz..12.0Hz (40 points)\n",
      "    connectivity scores will be averaged for each band\n",
      "    using FFT with a Hanning window to estimate spectra\n",
      "    the following metrics will be computed: Coherence\n",
      "    computing connectivity for epochs 1..28\n"
     ]
    },
    {
     "name": "stderr",
     "output_type": "stream",
     "text": [
      "/storage/store3/work/kachardo/adhd_brain_functional_connectivity/get_data.py:46: RuntimeWarning: There were no Annotations stored in <EpochsFIF |  28 events (all good), 0 – 10 s, baseline off, ~112.6 MB, data loaded,\n",
      " 'rest': 28>, so metadata was not modified.\n",
      "  connectivity = spectral_connectivity_epochs(epoch, fmin = frequency_bands[band][0], fmax = frequency_bands[band][1], faverage=True, n_jobs=40, mode = 'fourier', method = 'coh')\n",
      "[Parallel(n_jobs=40)]: Using backend LokyBackend with 40 concurrent workers.\n",
      "[Parallel(n_jobs=40)]: Done   7 out of  28 | elapsed:    0.5s remaining:    1.6s\n",
      "[Parallel(n_jobs=40)]: Done  13 out of  28 | elapsed:    0.8s remaining:    0.9s\n",
      "[Parallel(n_jobs=40)]: Done  19 out of  28 | elapsed:    1.1s remaining:    0.5s\n",
      "[Parallel(n_jobs=40)]: Done  25 out of  28 | elapsed:    1.3s remaining:    0.2s\n",
      "[Parallel(n_jobs=40)]: Done  28 out of  28 | elapsed:    1.4s finished\n"
     ]
    },
    {
     "name": "stdout",
     "output_type": "stream",
     "text": [
      "    assembling connectivity matrix\n",
      "[Connectivity computation done]\n",
      "[0.         0.26750363 0.         ... 0.05952957 0.02583594 0.        ]\n"
     ]
    },
    {
     "name": "stderr",
     "output_type": "stream",
     "text": [
      "/storage/store3/work/kachardo/adhd_brain_functional_connectivity/get_data.py:40: FutureWarning: Calling int on a single element Series is deprecated and will raise a TypeError in the future. Use int(ser.iloc[0]) instead\n",
      "  session = int(subjects_data[subjects_data['subject_id']==subject[4:]]['session'])\n"
     ]
    },
    {
     "name": "stdout",
     "output_type": "stream",
     "text": [
      "Removing 5 compensators from info because not all compensation channels were picked.\n",
      "Connectivity computation...\n",
      "only using indices for lower-triangular matrix\n",
      "    computing connectivity for 34191 connections\n",
      "    using t=0.000s..10.000s for estimation (2001 points)\n",
      "    frequencies: 8.1Hz..12.0Hz (40 points)\n",
      "    connectivity scores will be averaged for each band\n",
      "    using FFT with a Hanning window to estimate spectra\n",
      "    the following metrics will be computed: Coherence\n",
      "    computing connectivity for epochs 1..28\n"
     ]
    },
    {
     "name": "stderr",
     "output_type": "stream",
     "text": [
      "/storage/store3/work/kachardo/adhd_brain_functional_connectivity/get_data.py:46: RuntimeWarning: There were no Annotations stored in <EpochsFIF |  28 events (all good), 0 – 10 s, baseline off, ~112.6 MB, data loaded,\n",
      " 'rest': 28>, so metadata was not modified.\n",
      "  connectivity = spectral_connectivity_epochs(epoch, fmin = frequency_bands[band][0], fmax = frequency_bands[band][1], faverage=True, n_jobs=40, mode = 'fourier', method = 'coh')\n",
      "[Parallel(n_jobs=40)]: Using backend LokyBackend with 40 concurrent workers.\n",
      "[Parallel(n_jobs=40)]: Done   7 out of  28 | elapsed:    0.5s remaining:    1.5s\n",
      "[Parallel(n_jobs=40)]: Done  13 out of  28 | elapsed:    0.8s remaining:    0.9s\n",
      "[Parallel(n_jobs=40)]: Done  19 out of  28 | elapsed:    1.0s remaining:    0.5s\n",
      "[Parallel(n_jobs=40)]: Done  25 out of  28 | elapsed:    1.3s remaining:    0.2s\n",
      "[Parallel(n_jobs=40)]: Done  28 out of  28 | elapsed:    1.4s finished\n"
     ]
    },
    {
     "name": "stdout",
     "output_type": "stream",
     "text": [
      "    assembling connectivity matrix\n",
      "[Connectivity computation done]\n",
      "[0.         0.47836127 0.         ... 0.14101391 0.03769372 0.        ]\n"
     ]
    },
    {
     "name": "stderr",
     "output_type": "stream",
     "text": [
      "/storage/store3/work/kachardo/adhd_brain_functional_connectivity/get_data.py:40: FutureWarning: Calling int on a single element Series is deprecated and will raise a TypeError in the future. Use int(ser.iloc[0]) instead\n",
      "  session = int(subjects_data[subjects_data['subject_id']==subject[4:]]['session'])\n"
     ]
    },
    {
     "name": "stdout",
     "output_type": "stream",
     "text": [
      "Removing 5 compensators from info because not all compensation channels were picked.\n",
      "Connectivity computation...\n",
      "only using indices for lower-triangular matrix\n",
      "    computing connectivity for 34191 connections\n",
      "    using t=0.000s..10.000s for estimation (2001 points)\n",
      "    frequencies: 8.1Hz..12.0Hz (40 points)\n",
      "    connectivity scores will be averaged for each band\n",
      "    using FFT with a Hanning window to estimate spectra\n",
      "    the following metrics will be computed: Coherence\n",
      "    computing connectivity for epochs 1..28\n"
     ]
    },
    {
     "name": "stderr",
     "output_type": "stream",
     "text": [
      "/storage/store3/work/kachardo/adhd_brain_functional_connectivity/get_data.py:46: RuntimeWarning: There were no Annotations stored in <EpochsFIF |  28 events (all good), 0 – 10 s, baseline off, ~112.6 MB, data loaded,\n",
      " 'rest': 28>, so metadata was not modified.\n",
      "  connectivity = spectral_connectivity_epochs(epoch, fmin = frequency_bands[band][0], fmax = frequency_bands[band][1], faverage=True, n_jobs=40, mode = 'fourier', method = 'coh')\n",
      "[Parallel(n_jobs=40)]: Using backend LokyBackend with 40 concurrent workers.\n",
      "[Parallel(n_jobs=40)]: Done   7 out of  28 | elapsed:    0.5s remaining:    1.6s\n",
      "[Parallel(n_jobs=40)]: Done  13 out of  28 | elapsed:    0.8s remaining:    0.9s\n",
      "[Parallel(n_jobs=40)]: Done  19 out of  28 | elapsed:    1.0s remaining:    0.5s\n",
      "[Parallel(n_jobs=40)]: Done  25 out of  28 | elapsed:    1.3s remaining:    0.2s\n",
      "[Parallel(n_jobs=40)]: Done  28 out of  28 | elapsed:    1.4s finished\n"
     ]
    },
    {
     "name": "stdout",
     "output_type": "stream",
     "text": [
      "    assembling connectivity matrix\n",
      "[Connectivity computation done]\n",
      "[0.         0.67644038 0.         ... 0.04633113 0.09222005 0.        ]\n"
     ]
    },
    {
     "name": "stderr",
     "output_type": "stream",
     "text": [
      "/storage/store3/work/kachardo/adhd_brain_functional_connectivity/get_data.py:40: FutureWarning: Calling int on a single element Series is deprecated and will raise a TypeError in the future. Use int(ser.iloc[0]) instead\n",
      "  session = int(subjects_data[subjects_data['subject_id']==subject[4:]]['session'])\n"
     ]
    },
    {
     "name": "stdout",
     "output_type": "stream",
     "text": [
      "Removing 5 compensators from info because not all compensation channels were picked.\n",
      "Connectivity computation...\n",
      "only using indices for lower-triangular matrix\n",
      "    computing connectivity for 34191 connections\n",
      "    using t=0.000s..10.000s for estimation (2001 points)\n",
      "    frequencies: 8.1Hz..12.0Hz (40 points)\n",
      "    connectivity scores will be averaged for each band\n",
      "    using FFT with a Hanning window to estimate spectra\n",
      "    the following metrics will be computed: Coherence\n",
      "    computing connectivity for epochs 1..28\n"
     ]
    },
    {
     "name": "stderr",
     "output_type": "stream",
     "text": [
      "/storage/store3/work/kachardo/adhd_brain_functional_connectivity/get_data.py:46: RuntimeWarning: There were no Annotations stored in <EpochsFIF |  28 events (all good), 0 – 10 s, baseline off, ~112.6 MB, data loaded,\n",
      " 'rest': 28>, so metadata was not modified.\n",
      "  connectivity = spectral_connectivity_epochs(epoch, fmin = frequency_bands[band][0], fmax = frequency_bands[band][1], faverage=True, n_jobs=40, mode = 'fourier', method = 'coh')\n",
      "[Parallel(n_jobs=40)]: Using backend LokyBackend with 40 concurrent workers.\n",
      "[Parallel(n_jobs=40)]: Done   7 out of  28 | elapsed:    0.5s remaining:    1.6s\n",
      "[Parallel(n_jobs=40)]: Done  13 out of  28 | elapsed:    0.8s remaining:    0.9s\n",
      "[Parallel(n_jobs=40)]: Done  19 out of  28 | elapsed:    1.0s remaining:    0.5s\n",
      "[Parallel(n_jobs=40)]: Done  25 out of  28 | elapsed:    1.3s remaining:    0.2s\n",
      "[Parallel(n_jobs=40)]: Done  28 out of  28 | elapsed:    1.4s finished\n"
     ]
    },
    {
     "name": "stdout",
     "output_type": "stream",
     "text": [
      "    assembling connectivity matrix\n",
      "[Connectivity computation done]\n",
      "[0.         0.48708995 0.         ... 0.0841862  0.04530463 0.        ]\n"
     ]
    },
    {
     "name": "stderr",
     "output_type": "stream",
     "text": [
      "/storage/store3/work/kachardo/adhd_brain_functional_connectivity/get_data.py:40: FutureWarning: Calling int on a single element Series is deprecated and will raise a TypeError in the future. Use int(ser.iloc[0]) instead\n",
      "  session = int(subjects_data[subjects_data['subject_id']==subject[4:]]['session'])\n"
     ]
    },
    {
     "name": "stdout",
     "output_type": "stream",
     "text": [
      "Removing 5 compensators from info because not all compensation channels were picked.\n",
      "Connectivity computation...\n",
      "only using indices for lower-triangular matrix\n",
      "    computing connectivity for 34191 connections\n",
      "    using t=0.000s..10.000s for estimation (2001 points)\n",
      "    frequencies: 8.1Hz..12.0Hz (40 points)\n",
      "    connectivity scores will be averaged for each band\n",
      "    using FFT with a Hanning window to estimate spectra\n",
      "    the following metrics will be computed: Coherence\n",
      "    computing connectivity for epochs 1..28\n"
     ]
    },
    {
     "name": "stderr",
     "output_type": "stream",
     "text": [
      "/storage/store3/work/kachardo/adhd_brain_functional_connectivity/get_data.py:46: RuntimeWarning: There were no Annotations stored in <EpochsFIF |  28 events (all good), 0 – 10 s, baseline off, ~112.6 MB, data loaded,\n",
      " 'rest': 28>, so metadata was not modified.\n",
      "  connectivity = spectral_connectivity_epochs(epoch, fmin = frequency_bands[band][0], fmax = frequency_bands[band][1], faverage=True, n_jobs=40, mode = 'fourier', method = 'coh')\n",
      "[Parallel(n_jobs=40)]: Using backend LokyBackend with 40 concurrent workers.\n",
      "[Parallel(n_jobs=40)]: Done   7 out of  28 | elapsed:    0.5s remaining:    1.5s\n",
      "[Parallel(n_jobs=40)]: Done  13 out of  28 | elapsed:    0.8s remaining:    0.9s\n",
      "[Parallel(n_jobs=40)]: Done  19 out of  28 | elapsed:    1.0s remaining:    0.5s\n",
      "[Parallel(n_jobs=40)]: Done  25 out of  28 | elapsed:    1.3s remaining:    0.2s\n",
      "[Parallel(n_jobs=40)]: Done  28 out of  28 | elapsed:    1.4s finished\n"
     ]
    },
    {
     "name": "stdout",
     "output_type": "stream",
     "text": [
      "    assembling connectivity matrix\n",
      "[Connectivity computation done]\n",
      "[0.         0.35472986 0.         ... 0.02344366 0.0404853  0.        ]\n"
     ]
    },
    {
     "name": "stderr",
     "output_type": "stream",
     "text": [
      "/storage/store3/work/kachardo/adhd_brain_functional_connectivity/get_data.py:40: FutureWarning: Calling int on a single element Series is deprecated and will raise a TypeError in the future. Use int(ser.iloc[0]) instead\n",
      "  session = int(subjects_data[subjects_data['subject_id']==subject[4:]]['session'])\n"
     ]
    },
    {
     "name": "stdout",
     "output_type": "stream",
     "text": [
      "Removing 5 compensators from info because not all compensation channels were picked.\n",
      "Connectivity computation...\n",
      "only using indices for lower-triangular matrix\n",
      "    computing connectivity for 34191 connections\n",
      "    using t=0.000s..10.000s for estimation (2001 points)\n",
      "    frequencies: 8.1Hz..12.0Hz (40 points)\n",
      "    connectivity scores will be averaged for each band\n",
      "    using FFT with a Hanning window to estimate spectra\n",
      "    the following metrics will be computed: Coherence\n",
      "    computing connectivity for epochs 1..28\n"
     ]
    },
    {
     "name": "stderr",
     "output_type": "stream",
     "text": [
      "/storage/store3/work/kachardo/adhd_brain_functional_connectivity/get_data.py:46: RuntimeWarning: There were no Annotations stored in <EpochsFIF |  28 events (all good), 0 – 10 s, baseline off, ~112.6 MB, data loaded,\n",
      " 'rest': 28>, so metadata was not modified.\n",
      "  connectivity = spectral_connectivity_epochs(epoch, fmin = frequency_bands[band][0], fmax = frequency_bands[band][1], faverage=True, n_jobs=40, mode = 'fourier', method = 'coh')\n",
      "[Parallel(n_jobs=40)]: Using backend LokyBackend with 40 concurrent workers.\n",
      "[Parallel(n_jobs=40)]: Done   7 out of  28 | elapsed:    0.5s remaining:    1.6s\n",
      "[Parallel(n_jobs=40)]: Done  13 out of  28 | elapsed:    0.8s remaining:    0.9s\n",
      "[Parallel(n_jobs=40)]: Done  19 out of  28 | elapsed:    1.0s remaining:    0.5s\n",
      "[Parallel(n_jobs=40)]: Done  25 out of  28 | elapsed:    1.3s remaining:    0.2s\n",
      "[Parallel(n_jobs=40)]: Done  28 out of  28 | elapsed:    1.4s finished\n"
     ]
    },
    {
     "name": "stdout",
     "output_type": "stream",
     "text": [
      "    assembling connectivity matrix\n",
      "[Connectivity computation done]\n",
      "[0.         0.5530934  0.         ... 0.14120435 0.05572897 0.        ]\n"
     ]
    },
    {
     "name": "stderr",
     "output_type": "stream",
     "text": [
      "/storage/store3/work/kachardo/adhd_brain_functional_connectivity/get_data.py:40: FutureWarning: Calling int on a single element Series is deprecated and will raise a TypeError in the future. Use int(ser.iloc[0]) instead\n",
      "  session = int(subjects_data[subjects_data['subject_id']==subject[4:]]['session'])\n"
     ]
    },
    {
     "name": "stdout",
     "output_type": "stream",
     "text": [
      "Removing 5 compensators from info because not all compensation channels were picked.\n",
      "Connectivity computation...\n",
      "only using indices for lower-triangular matrix\n",
      "    computing connectivity for 34191 connections\n",
      "    using t=0.000s..10.000s for estimation (2001 points)\n",
      "    frequencies: 8.1Hz..12.0Hz (40 points)\n",
      "    connectivity scores will be averaged for each band\n",
      "    using FFT with a Hanning window to estimate spectra\n",
      "    the following metrics will be computed: Coherence\n",
      "    computing connectivity for epochs 1..28\n"
     ]
    },
    {
     "name": "stderr",
     "output_type": "stream",
     "text": [
      "/storage/store3/work/kachardo/adhd_brain_functional_connectivity/get_data.py:46: RuntimeWarning: There were no Annotations stored in <EpochsFIF |  28 events (all good), 0 – 10 s, baseline off, ~112.6 MB, data loaded,\n",
      " 'rest': 28>, so metadata was not modified.\n",
      "  connectivity = spectral_connectivity_epochs(epoch, fmin = frequency_bands[band][0], fmax = frequency_bands[band][1], faverage=True, n_jobs=40, mode = 'fourier', method = 'coh')\n",
      "[Parallel(n_jobs=40)]: Using backend LokyBackend with 40 concurrent workers.\n",
      "[Parallel(n_jobs=40)]: Done   7 out of  28 | elapsed:    0.5s remaining:    1.6s\n",
      "[Parallel(n_jobs=40)]: Done  13 out of  28 | elapsed:    0.8s remaining:    0.9s\n",
      "[Parallel(n_jobs=40)]: Done  19 out of  28 | elapsed:    1.0s remaining:    0.5s\n",
      "[Parallel(n_jobs=40)]: Done  25 out of  28 | elapsed:    1.3s remaining:    0.2s\n",
      "[Parallel(n_jobs=40)]: Done  28 out of  28 | elapsed:    1.4s finished\n"
     ]
    },
    {
     "name": "stdout",
     "output_type": "stream",
     "text": [
      "    assembling connectivity matrix\n",
      "[Connectivity computation done]\n",
      "[0.         0.36608126 0.         ... 0.0298163  0.02899074 0.        ]\n"
     ]
    },
    {
     "name": "stderr",
     "output_type": "stream",
     "text": [
      "/storage/store3/work/kachardo/adhd_brain_functional_connectivity/get_data.py:40: FutureWarning: Calling int on a single element Series is deprecated and will raise a TypeError in the future. Use int(ser.iloc[0]) instead\n",
      "  session = int(subjects_data[subjects_data['subject_id']==subject[4:]]['session'])\n"
     ]
    },
    {
     "name": "stdout",
     "output_type": "stream",
     "text": [
      "Removing 5 compensators from info because not all compensation channels were picked.\n",
      "Connectivity computation...\n",
      "only using indices for lower-triangular matrix\n",
      "    computing connectivity for 34191 connections\n",
      "    using t=0.000s..10.000s for estimation (2001 points)\n",
      "    frequencies: 8.1Hz..12.0Hz (40 points)\n",
      "    connectivity scores will be averaged for each band\n",
      "    using FFT with a Hanning window to estimate spectra\n",
      "    the following metrics will be computed: Coherence\n",
      "    computing connectivity for epochs 1..28\n"
     ]
    },
    {
     "name": "stderr",
     "output_type": "stream",
     "text": [
      "/storage/store3/work/kachardo/adhd_brain_functional_connectivity/get_data.py:46: RuntimeWarning: There were no Annotations stored in <EpochsFIF |  28 events (all good), 0 – 10 s, baseline off, ~112.6 MB, data loaded,\n",
      " 'rest': 28>, so metadata was not modified.\n",
      "  connectivity = spectral_connectivity_epochs(epoch, fmin = frequency_bands[band][0], fmax = frequency_bands[band][1], faverage=True, n_jobs=40, mode = 'fourier', method = 'coh')\n",
      "[Parallel(n_jobs=40)]: Using backend LokyBackend with 40 concurrent workers.\n",
      "[Parallel(n_jobs=40)]: Done   7 out of  28 | elapsed:    0.5s remaining:    1.6s\n",
      "[Parallel(n_jobs=40)]: Done  13 out of  28 | elapsed:    0.8s remaining:    0.9s\n",
      "[Parallel(n_jobs=40)]: Done  19 out of  28 | elapsed:    1.0s remaining:    0.5s\n",
      "[Parallel(n_jobs=40)]: Done  25 out of  28 | elapsed:    1.3s remaining:    0.2s\n",
      "[Parallel(n_jobs=40)]: Done  28 out of  28 | elapsed:    1.4s finished\n"
     ]
    },
    {
     "name": "stdout",
     "output_type": "stream",
     "text": [
      "    assembling connectivity matrix\n",
      "[Connectivity computation done]\n",
      "[0.         0.62472703 0.         ... 0.04440528 0.03485677 0.        ]\n"
     ]
    },
    {
     "name": "stderr",
     "output_type": "stream",
     "text": [
      "/storage/store3/work/kachardo/adhd_brain_functional_connectivity/get_data.py:40: FutureWarning: Calling int on a single element Series is deprecated and will raise a TypeError in the future. Use int(ser.iloc[0]) instead\n",
      "  session = int(subjects_data[subjects_data['subject_id']==subject[4:]]['session'])\n"
     ]
    },
    {
     "name": "stdout",
     "output_type": "stream",
     "text": [
      "Removing 5 compensators from info because not all compensation channels were picked.\n",
      "Connectivity computation...\n",
      "only using indices for lower-triangular matrix\n",
      "    computing connectivity for 34191 connections\n",
      "    using t=0.000s..10.000s for estimation (2001 points)\n",
      "    frequencies: 8.1Hz..12.0Hz (40 points)\n",
      "    connectivity scores will be averaged for each band\n",
      "    using FFT with a Hanning window to estimate spectra\n",
      "    the following metrics will be computed: Coherence\n",
      "    computing connectivity for epochs 1..28\n"
     ]
    },
    {
     "name": "stderr",
     "output_type": "stream",
     "text": [
      "/storage/store3/work/kachardo/adhd_brain_functional_connectivity/get_data.py:46: RuntimeWarning: There were no Annotations stored in <EpochsFIF |  28 events (all good), 0 – 10 s, baseline off, ~112.6 MB, data loaded,\n",
      " 'rest': 28>, so metadata was not modified.\n",
      "  connectivity = spectral_connectivity_epochs(epoch, fmin = frequency_bands[band][0], fmax = frequency_bands[band][1], faverage=True, n_jobs=40, mode = 'fourier', method = 'coh')\n",
      "[Parallel(n_jobs=40)]: Using backend LokyBackend with 40 concurrent workers.\n",
      "[Parallel(n_jobs=40)]: Done   7 out of  28 | elapsed:    0.6s remaining:    1.7s\n",
      "[Parallel(n_jobs=40)]: Done  13 out of  28 | elapsed:    0.8s remaining:    0.9s\n",
      "[Parallel(n_jobs=40)]: Done  19 out of  28 | elapsed:    1.1s remaining:    0.5s\n",
      "[Parallel(n_jobs=40)]: Done  25 out of  28 | elapsed:    1.3s remaining:    0.2s\n",
      "[Parallel(n_jobs=40)]: Done  28 out of  28 | elapsed:    1.5s finished\n"
     ]
    },
    {
     "name": "stdout",
     "output_type": "stream",
     "text": [
      "    assembling connectivity matrix\n",
      "[Connectivity computation done]\n",
      "[0.         0.32041757 0.         ... 0.07236246 0.04706602 0.        ]\n"
     ]
    },
    {
     "name": "stderr",
     "output_type": "stream",
     "text": [
      "/storage/store3/work/kachardo/adhd_brain_functional_connectivity/get_data.py:40: FutureWarning: Calling int on a single element Series is deprecated and will raise a TypeError in the future. Use int(ser.iloc[0]) instead\n",
      "  session = int(subjects_data[subjects_data['subject_id']==subject[4:]]['session'])\n"
     ]
    },
    {
     "name": "stdout",
     "output_type": "stream",
     "text": [
      "Removing 5 compensators from info because not all compensation channels were picked.\n",
      "Connectivity computation...\n",
      "only using indices for lower-triangular matrix\n",
      "    computing connectivity for 34191 connections\n",
      "    using t=0.000s..10.000s for estimation (2001 points)\n",
      "    frequencies: 8.1Hz..12.0Hz (40 points)\n",
      "    connectivity scores will be averaged for each band\n",
      "    using FFT with a Hanning window to estimate spectra\n",
      "    the following metrics will be computed: Coherence\n",
      "    computing connectivity for epochs 1..28\n"
     ]
    },
    {
     "name": "stderr",
     "output_type": "stream",
     "text": [
      "/storage/store3/work/kachardo/adhd_brain_functional_connectivity/get_data.py:46: RuntimeWarning: There were no Annotations stored in <EpochsFIF |  28 events (all good), 0 – 10 s, baseline off, ~112.6 MB, data loaded,\n",
      " 'rest': 28>, so metadata was not modified.\n",
      "  connectivity = spectral_connectivity_epochs(epoch, fmin = frequency_bands[band][0], fmax = frequency_bands[band][1], faverage=True, n_jobs=40, mode = 'fourier', method = 'coh')\n",
      "[Parallel(n_jobs=40)]: Using backend LokyBackend with 40 concurrent workers.\n",
      "[Parallel(n_jobs=40)]: Done   7 out of  28 | elapsed:    0.5s remaining:    1.6s\n",
      "[Parallel(n_jobs=40)]: Done  13 out of  28 | elapsed:    0.8s remaining:    0.9s\n",
      "[Parallel(n_jobs=40)]: Done  19 out of  28 | elapsed:    1.0s remaining:    0.5s\n",
      "[Parallel(n_jobs=40)]: Done  25 out of  28 | elapsed:    1.3s remaining:    0.2s\n",
      "[Parallel(n_jobs=40)]: Done  28 out of  28 | elapsed:    1.4s finished\n"
     ]
    },
    {
     "name": "stdout",
     "output_type": "stream",
     "text": [
      "    assembling connectivity matrix\n",
      "[Connectivity computation done]\n",
      "[0.         0.42681067 0.         ... 0.06024848 0.03044203 0.        ]\n"
     ]
    },
    {
     "name": "stderr",
     "output_type": "stream",
     "text": [
      "/storage/store3/work/kachardo/adhd_brain_functional_connectivity/get_data.py:40: FutureWarning: Calling int on a single element Series is deprecated and will raise a TypeError in the future. Use int(ser.iloc[0]) instead\n",
      "  session = int(subjects_data[subjects_data['subject_id']==subject[4:]]['session'])\n"
     ]
    },
    {
     "name": "stdout",
     "output_type": "stream",
     "text": [
      "Removing 5 compensators from info because not all compensation channels were picked.\n",
      "Connectivity computation...\n",
      "only using indices for lower-triangular matrix\n",
      "    computing connectivity for 34191 connections\n",
      "    using t=0.000s..10.000s for estimation (2001 points)\n",
      "    frequencies: 8.1Hz..12.0Hz (40 points)\n",
      "    connectivity scores will be averaged for each band\n",
      "    using FFT with a Hanning window to estimate spectra\n",
      "    the following metrics will be computed: Coherence\n",
      "    computing connectivity for epochs 1..28\n"
     ]
    },
    {
     "name": "stderr",
     "output_type": "stream",
     "text": [
      "/storage/store3/work/kachardo/adhd_brain_functional_connectivity/get_data.py:46: RuntimeWarning: There were no Annotations stored in <EpochsFIF |  28 events (all good), 0 – 10 s, baseline off, ~112.6 MB, data loaded,\n",
      " 'rest': 28>, so metadata was not modified.\n",
      "  connectivity = spectral_connectivity_epochs(epoch, fmin = frequency_bands[band][0], fmax = frequency_bands[band][1], faverage=True, n_jobs=40, mode = 'fourier', method = 'coh')\n",
      "[Parallel(n_jobs=40)]: Using backend LokyBackend with 40 concurrent workers.\n",
      "[Parallel(n_jobs=40)]: Done   7 out of  28 | elapsed:    0.6s remaining:    1.7s\n",
      "[Parallel(n_jobs=40)]: Done  13 out of  28 | elapsed:    0.8s remaining:    0.9s\n",
      "[Parallel(n_jobs=40)]: Done  19 out of  28 | elapsed:    1.1s remaining:    0.5s\n",
      "[Parallel(n_jobs=40)]: Done  25 out of  28 | elapsed:    1.4s remaining:    0.2s\n",
      "[Parallel(n_jobs=40)]: Done  28 out of  28 | elapsed:    1.5s finished\n"
     ]
    },
    {
     "name": "stdout",
     "output_type": "stream",
     "text": [
      "    assembling connectivity matrix\n",
      "[Connectivity computation done]\n",
      "[0.         0.26341803 0.         ... 0.09089416 0.0255707  0.        ]\n"
     ]
    },
    {
     "name": "stderr",
     "output_type": "stream",
     "text": [
      "/storage/store3/work/kachardo/adhd_brain_functional_connectivity/get_data.py:40: FutureWarning: Calling int on a single element Series is deprecated and will raise a TypeError in the future. Use int(ser.iloc[0]) instead\n",
      "  session = int(subjects_data[subjects_data['subject_id']==subject[4:]]['session'])\n"
     ]
    },
    {
     "name": "stdout",
     "output_type": "stream",
     "text": [
      "Removing 5 compensators from info because not all compensation channels were picked.\n",
      "Connectivity computation...\n",
      "only using indices for lower-triangular matrix\n",
      "    computing connectivity for 34191 connections\n",
      "    using t=0.000s..10.000s for estimation (2001 points)\n",
      "    frequencies: 8.1Hz..12.0Hz (40 points)\n",
      "    connectivity scores will be averaged for each band\n",
      "    using FFT with a Hanning window to estimate spectra\n",
      "    the following metrics will be computed: Coherence\n",
      "    computing connectivity for epochs 1..28\n"
     ]
    },
    {
     "name": "stderr",
     "output_type": "stream",
     "text": [
      "/storage/store3/work/kachardo/adhd_brain_functional_connectivity/get_data.py:46: RuntimeWarning: There were no Annotations stored in <EpochsFIF |  28 events (all good), 0 – 10 s, baseline off, ~112.6 MB, data loaded,\n",
      " 'rest': 28>, so metadata was not modified.\n",
      "  connectivity = spectral_connectivity_epochs(epoch, fmin = frequency_bands[band][0], fmax = frequency_bands[band][1], faverage=True, n_jobs=40, mode = 'fourier', method = 'coh')\n",
      "[Parallel(n_jobs=40)]: Using backend LokyBackend with 40 concurrent workers.\n",
      "[Parallel(n_jobs=40)]: Done   7 out of  28 | elapsed:    0.6s remaining:    1.7s\n",
      "[Parallel(n_jobs=40)]: Done  13 out of  28 | elapsed:    0.9s remaining:    1.0s\n",
      "[Parallel(n_jobs=40)]: Done  19 out of  28 | elapsed:    1.1s remaining:    0.5s\n",
      "[Parallel(n_jobs=40)]: Done  25 out of  28 | elapsed:    1.4s remaining:    0.2s\n",
      "[Parallel(n_jobs=40)]: Done  28 out of  28 | elapsed:    1.5s finished\n"
     ]
    },
    {
     "name": "stdout",
     "output_type": "stream",
     "text": [
      "    assembling connectivity matrix\n",
      "[Connectivity computation done]\n",
      "[0.         0.63218098 0.         ... 0.09954138 0.07624566 0.        ]\n"
     ]
    },
    {
     "name": "stderr",
     "output_type": "stream",
     "text": [
      "/storage/store3/work/kachardo/adhd_brain_functional_connectivity/get_data.py:40: FutureWarning: Calling int on a single element Series is deprecated and will raise a TypeError in the future. Use int(ser.iloc[0]) instead\n",
      "  session = int(subjects_data[subjects_data['subject_id']==subject[4:]]['session'])\n"
     ]
    },
    {
     "name": "stdout",
     "output_type": "stream",
     "text": [
      "Removing 5 compensators from info because not all compensation channels were picked.\n",
      "Connectivity computation...\n",
      "only using indices for lower-triangular matrix\n",
      "    computing connectivity for 34191 connections\n",
      "    using t=0.000s..10.000s for estimation (2001 points)\n",
      "    frequencies: 8.1Hz..12.0Hz (40 points)\n",
      "    connectivity scores will be averaged for each band\n",
      "    using FFT with a Hanning window to estimate spectra\n",
      "    the following metrics will be computed: Coherence\n",
      "    computing connectivity for epochs 1..28\n"
     ]
    },
    {
     "name": "stderr",
     "output_type": "stream",
     "text": [
      "/storage/store3/work/kachardo/adhd_brain_functional_connectivity/get_data.py:46: RuntimeWarning: There were no Annotations stored in <EpochsFIF |  28 events (all good), 0 – 10 s, baseline off, ~112.6 MB, data loaded,\n",
      " 'rest': 28>, so metadata was not modified.\n",
      "  connectivity = spectral_connectivity_epochs(epoch, fmin = frequency_bands[band][0], fmax = frequency_bands[band][1], faverage=True, n_jobs=40, mode = 'fourier', method = 'coh')\n",
      "[Parallel(n_jobs=40)]: Using backend LokyBackend with 40 concurrent workers.\n",
      "[Parallel(n_jobs=40)]: Done   7 out of  28 | elapsed:    0.5s remaining:    1.6s\n",
      "[Parallel(n_jobs=40)]: Done  13 out of  28 | elapsed:    0.8s remaining:    0.9s\n",
      "[Parallel(n_jobs=40)]: Done  19 out of  28 | elapsed:    1.1s remaining:    0.5s\n",
      "[Parallel(n_jobs=40)]: Done  25 out of  28 | elapsed:    1.3s remaining:    0.2s\n",
      "[Parallel(n_jobs=40)]: Done  28 out of  28 | elapsed:    1.4s finished\n"
     ]
    },
    {
     "name": "stdout",
     "output_type": "stream",
     "text": [
      "    assembling connectivity matrix\n",
      "[Connectivity computation done]\n",
      "[0.         0.26485587 0.         ... 0.05450193 0.03527583 0.        ]\n"
     ]
    },
    {
     "name": "stderr",
     "output_type": "stream",
     "text": [
      "/storage/store3/work/kachardo/adhd_brain_functional_connectivity/get_data.py:40: FutureWarning: Calling int on a single element Series is deprecated and will raise a TypeError in the future. Use int(ser.iloc[0]) instead\n",
      "  session = int(subjects_data[subjects_data['subject_id']==subject[4:]]['session'])\n"
     ]
    },
    {
     "name": "stdout",
     "output_type": "stream",
     "text": [
      "Removing 5 compensators from info because not all compensation channels were picked.\n",
      "Connectivity computation...\n",
      "only using indices for lower-triangular matrix\n",
      "    computing connectivity for 34191 connections\n",
      "    using t=0.000s..10.000s for estimation (2001 points)\n",
      "    frequencies: 8.1Hz..12.0Hz (40 points)\n",
      "    connectivity scores will be averaged for each band\n",
      "    using FFT with a Hanning window to estimate spectra\n",
      "    the following metrics will be computed: Coherence\n",
      "    computing connectivity for epochs 1..28\n"
     ]
    },
    {
     "name": "stderr",
     "output_type": "stream",
     "text": [
      "/storage/store3/work/kachardo/adhd_brain_functional_connectivity/get_data.py:46: RuntimeWarning: There were no Annotations stored in <EpochsFIF |  28 events (all good), 0 – 10 s, baseline off, ~112.6 MB, data loaded,\n",
      " 'rest': 28>, so metadata was not modified.\n",
      "  connectivity = spectral_connectivity_epochs(epoch, fmin = frequency_bands[band][0], fmax = frequency_bands[band][1], faverage=True, n_jobs=40, mode = 'fourier', method = 'coh')\n",
      "[Parallel(n_jobs=40)]: Using backend LokyBackend with 40 concurrent workers.\n",
      "[Parallel(n_jobs=40)]: Done   7 out of  28 | elapsed:    0.6s remaining:    1.7s\n",
      "[Parallel(n_jobs=40)]: Done  13 out of  28 | elapsed:    0.8s remaining:    1.0s\n",
      "[Parallel(n_jobs=40)]: Done  19 out of  28 | elapsed:    1.1s remaining:    0.5s\n",
      "[Parallel(n_jobs=40)]: Done  25 out of  28 | elapsed:    1.4s remaining:    0.2s\n",
      "[Parallel(n_jobs=40)]: Done  28 out of  28 | elapsed:    1.5s finished\n"
     ]
    },
    {
     "name": "stdout",
     "output_type": "stream",
     "text": [
      "    assembling connectivity matrix\n",
      "[Connectivity computation done]\n",
      "[0.         0.45495054 0.         ... 0.17746295 0.03794035 0.        ]\n"
     ]
    },
    {
     "name": "stderr",
     "output_type": "stream",
     "text": [
      "/storage/store3/work/kachardo/adhd_brain_functional_connectivity/get_data.py:40: FutureWarning: Calling int on a single element Series is deprecated and will raise a TypeError in the future. Use int(ser.iloc[0]) instead\n",
      "  session = int(subjects_data[subjects_data['subject_id']==subject[4:]]['session'])\n"
     ]
    },
    {
     "name": "stdout",
     "output_type": "stream",
     "text": [
      "Removing 5 compensators from info because not all compensation channels were picked.\n",
      "Connectivity computation...\n",
      "only using indices for lower-triangular matrix\n",
      "    computing connectivity for 34191 connections\n",
      "    using t=0.000s..10.000s for estimation (2001 points)\n",
      "    frequencies: 8.1Hz..12.0Hz (40 points)\n",
      "    connectivity scores will be averaged for each band\n",
      "    using FFT with a Hanning window to estimate spectra\n",
      "    the following metrics will be computed: Coherence\n",
      "    computing connectivity for epochs 1..28\n"
     ]
    },
    {
     "name": "stderr",
     "output_type": "stream",
     "text": [
      "/storage/store3/work/kachardo/adhd_brain_functional_connectivity/get_data.py:46: RuntimeWarning: There were no Annotations stored in <EpochsFIF |  28 events (all good), 0 – 10 s, baseline off, ~112.6 MB, data loaded,\n",
      " 'rest': 28>, so metadata was not modified.\n",
      "  connectivity = spectral_connectivity_epochs(epoch, fmin = frequency_bands[band][0], fmax = frequency_bands[band][1], faverage=True, n_jobs=40, mode = 'fourier', method = 'coh')\n",
      "[Parallel(n_jobs=40)]: Using backend LokyBackend with 40 concurrent workers.\n",
      "[Parallel(n_jobs=40)]: Done   7 out of  28 | elapsed:    0.6s remaining:    1.8s\n",
      "[Parallel(n_jobs=40)]: Done  13 out of  28 | elapsed:    0.9s remaining:    1.0s\n",
      "[Parallel(n_jobs=40)]: Done  19 out of  28 | elapsed:    1.2s remaining:    0.6s\n",
      "[Parallel(n_jobs=40)]: Done  25 out of  28 | elapsed:    1.5s remaining:    0.2s\n",
      "[Parallel(n_jobs=40)]: Done  28 out of  28 | elapsed:    1.6s finished\n"
     ]
    },
    {
     "name": "stdout",
     "output_type": "stream",
     "text": [
      "    assembling connectivity matrix\n",
      "[Connectivity computation done]\n",
      "[0.         0.19788082 0.         ... 0.04481913 0.04155282 0.        ]\n"
     ]
    },
    {
     "name": "stderr",
     "output_type": "stream",
     "text": [
      "/storage/store3/work/kachardo/adhd_brain_functional_connectivity/get_data.py:40: FutureWarning: Calling int on a single element Series is deprecated and will raise a TypeError in the future. Use int(ser.iloc[0]) instead\n",
      "  session = int(subjects_data[subjects_data['subject_id']==subject[4:]]['session'])\n"
     ]
    },
    {
     "name": "stdout",
     "output_type": "stream",
     "text": [
      "Removing 5 compensators from info because not all compensation channels were picked.\n",
      "Connectivity computation...\n",
      "only using indices for lower-triangular matrix\n",
      "    computing connectivity for 34191 connections\n",
      "    using t=0.000s..10.000s for estimation (2001 points)\n",
      "    frequencies: 8.1Hz..12.0Hz (40 points)\n",
      "    connectivity scores will be averaged for each band\n",
      "    using FFT with a Hanning window to estimate spectra\n",
      "    the following metrics will be computed: Coherence\n",
      "    computing connectivity for epochs 1..28\n"
     ]
    },
    {
     "name": "stderr",
     "output_type": "stream",
     "text": [
      "/storage/store3/work/kachardo/adhd_brain_functional_connectivity/get_data.py:46: RuntimeWarning: There were no Annotations stored in <EpochsFIF |  28 events (all good), 0 – 10 s, baseline off, ~112.6 MB, data loaded,\n",
      " 'rest': 28>, so metadata was not modified.\n",
      "  connectivity = spectral_connectivity_epochs(epoch, fmin = frequency_bands[band][0], fmax = frequency_bands[band][1], faverage=True, n_jobs=40, mode = 'fourier', method = 'coh')\n",
      "[Parallel(n_jobs=40)]: Using backend LokyBackend with 40 concurrent workers.\n",
      "[Parallel(n_jobs=40)]: Done   7 out of  28 | elapsed:    0.6s remaining:    1.8s\n",
      "[Parallel(n_jobs=40)]: Done  13 out of  28 | elapsed:    0.8s remaining:    1.0s\n",
      "[Parallel(n_jobs=40)]: Done  19 out of  28 | elapsed:    1.1s remaining:    0.5s\n",
      "[Parallel(n_jobs=40)]: Done  25 out of  28 | elapsed:    1.4s remaining:    0.2s\n",
      "[Parallel(n_jobs=40)]: Done  28 out of  28 | elapsed:    1.5s finished\n"
     ]
    },
    {
     "name": "stdout",
     "output_type": "stream",
     "text": [
      "    assembling connectivity matrix\n",
      "[Connectivity computation done]\n",
      "[0.         0.55317749 0.         ... 0.09844347 0.02848109 0.        ]\n"
     ]
    },
    {
     "name": "stderr",
     "output_type": "stream",
     "text": [
      "/storage/store3/work/kachardo/adhd_brain_functional_connectivity/get_data.py:40: FutureWarning: Calling int on a single element Series is deprecated and will raise a TypeError in the future. Use int(ser.iloc[0]) instead\n",
      "  session = int(subjects_data[subjects_data['subject_id']==subject[4:]]['session'])\n"
     ]
    },
    {
     "name": "stdout",
     "output_type": "stream",
     "text": [
      "Removing 5 compensators from info because not all compensation channels were picked.\n",
      "Connectivity computation...\n",
      "only using indices for lower-triangular matrix\n",
      "    computing connectivity for 34191 connections\n",
      "    using t=0.000s..10.000s for estimation (2001 points)\n",
      "    frequencies: 8.1Hz..12.0Hz (40 points)\n",
      "    connectivity scores will be averaged for each band\n",
      "    using FFT with a Hanning window to estimate spectra\n",
      "    the following metrics will be computed: Coherence\n",
      "    computing connectivity for epochs 1..28\n"
     ]
    },
    {
     "name": "stderr",
     "output_type": "stream",
     "text": [
      "/storage/store3/work/kachardo/adhd_brain_functional_connectivity/get_data.py:46: RuntimeWarning: There were no Annotations stored in <EpochsFIF |  28 events (all good), 0 – 10 s, baseline off, ~112.6 MB, data loaded,\n",
      " 'rest': 28>, so metadata was not modified.\n",
      "  connectivity = spectral_connectivity_epochs(epoch, fmin = frequency_bands[band][0], fmax = frequency_bands[band][1], faverage=True, n_jobs=40, mode = 'fourier', method = 'coh')\n",
      "[Parallel(n_jobs=40)]: Using backend LokyBackend with 40 concurrent workers.\n",
      "[Parallel(n_jobs=40)]: Done   7 out of  28 | elapsed:    0.6s remaining:    1.7s\n",
      "[Parallel(n_jobs=40)]: Done  13 out of  28 | elapsed:    0.8s remaining:    0.9s\n",
      "[Parallel(n_jobs=40)]: Done  19 out of  28 | elapsed:    1.1s remaining:    0.5s\n",
      "[Parallel(n_jobs=40)]: Done  25 out of  28 | elapsed:    1.3s remaining:    0.2s\n",
      "[Parallel(n_jobs=40)]: Done  28 out of  28 | elapsed:    1.5s finished\n"
     ]
    },
    {
     "name": "stdout",
     "output_type": "stream",
     "text": [
      "    assembling connectivity matrix\n",
      "[Connectivity computation done]\n",
      "[0.         0.61001652 0.         ... 0.08642648 0.05634431 0.        ]\n"
     ]
    },
    {
     "name": "stderr",
     "output_type": "stream",
     "text": [
      "/storage/store3/work/kachardo/adhd_brain_functional_connectivity/get_data.py:40: FutureWarning: Calling int on a single element Series is deprecated and will raise a TypeError in the future. Use int(ser.iloc[0]) instead\n",
      "  session = int(subjects_data[subjects_data['subject_id']==subject[4:]]['session'])\n"
     ]
    },
    {
     "name": "stdout",
     "output_type": "stream",
     "text": [
      "Removing 5 compensators from info because not all compensation channels were picked.\n",
      "Connectivity computation...\n",
      "only using indices for lower-triangular matrix\n",
      "    computing connectivity for 34191 connections\n",
      "    using t=0.000s..10.000s for estimation (2001 points)\n",
      "    frequencies: 8.1Hz..12.0Hz (40 points)\n",
      "    connectivity scores will be averaged for each band\n",
      "    using FFT with a Hanning window to estimate spectra\n",
      "    the following metrics will be computed: Coherence\n",
      "    computing connectivity for epochs 1..28\n"
     ]
    },
    {
     "name": "stderr",
     "output_type": "stream",
     "text": [
      "/storage/store3/work/kachardo/adhd_brain_functional_connectivity/get_data.py:46: RuntimeWarning: There were no Annotations stored in <EpochsFIF |  28 events (all good), 0 – 10 s, baseline off, ~112.6 MB, data loaded,\n",
      " 'rest': 28>, so metadata was not modified.\n",
      "  connectivity = spectral_connectivity_epochs(epoch, fmin = frequency_bands[band][0], fmax = frequency_bands[band][1], faverage=True, n_jobs=40, mode = 'fourier', method = 'coh')\n",
      "[Parallel(n_jobs=40)]: Using backend LokyBackend with 40 concurrent workers.\n",
      "[Parallel(n_jobs=40)]: Done   7 out of  28 | elapsed:    0.6s remaining:    1.7s\n",
      "[Parallel(n_jobs=40)]: Done  13 out of  28 | elapsed:    0.8s remaining:    0.9s\n",
      "[Parallel(n_jobs=40)]: Done  19 out of  28 | elapsed:    1.1s remaining:    0.5s\n",
      "[Parallel(n_jobs=40)]: Done  25 out of  28 | elapsed:    1.3s remaining:    0.2s\n",
      "[Parallel(n_jobs=40)]: Done  28 out of  28 | elapsed:    1.4s finished\n"
     ]
    },
    {
     "name": "stdout",
     "output_type": "stream",
     "text": [
      "    assembling connectivity matrix\n",
      "[Connectivity computation done]\n",
      "[0.         0.41103516 0.         ... 0.07465638 0.05195984 0.        ]\n"
     ]
    },
    {
     "name": "stderr",
     "output_type": "stream",
     "text": [
      "/storage/store3/work/kachardo/adhd_brain_functional_connectivity/get_data.py:40: FutureWarning: Calling int on a single element Series is deprecated and will raise a TypeError in the future. Use int(ser.iloc[0]) instead\n",
      "  session = int(subjects_data[subjects_data['subject_id']==subject[4:]]['session'])\n"
     ]
    },
    {
     "name": "stdout",
     "output_type": "stream",
     "text": [
      "Removing 5 compensators from info because not all compensation channels were picked.\n",
      "Connectivity computation...\n",
      "only using indices for lower-triangular matrix\n",
      "    computing connectivity for 34191 connections\n",
      "    using t=0.000s..10.000s for estimation (2001 points)\n",
      "    frequencies: 8.1Hz..12.0Hz (40 points)\n",
      "    connectivity scores will be averaged for each band\n",
      "    using FFT with a Hanning window to estimate spectra\n",
      "    the following metrics will be computed: Coherence\n",
      "    computing connectivity for epochs 1..28\n"
     ]
    },
    {
     "name": "stderr",
     "output_type": "stream",
     "text": [
      "/storage/store3/work/kachardo/adhd_brain_functional_connectivity/get_data.py:46: RuntimeWarning: There were no Annotations stored in <EpochsFIF |  28 events (all good), 0 – 10 s, baseline off, ~112.6 MB, data loaded,\n",
      " 'rest': 28>, so metadata was not modified.\n",
      "  connectivity = spectral_connectivity_epochs(epoch, fmin = frequency_bands[band][0], fmax = frequency_bands[band][1], faverage=True, n_jobs=40, mode = 'fourier', method = 'coh')\n",
      "[Parallel(n_jobs=40)]: Using backend LokyBackend with 40 concurrent workers.\n",
      "[Parallel(n_jobs=40)]: Done   7 out of  28 | elapsed:    0.6s remaining:    1.7s\n",
      "[Parallel(n_jobs=40)]: Done  13 out of  28 | elapsed:    0.9s remaining:    1.0s\n",
      "[Parallel(n_jobs=40)]: Done  19 out of  28 | elapsed:    1.1s remaining:    0.5s\n",
      "[Parallel(n_jobs=40)]: Done  25 out of  28 | elapsed:    1.4s remaining:    0.2s\n",
      "[Parallel(n_jobs=40)]: Done  28 out of  28 | elapsed:    1.5s finished\n"
     ]
    },
    {
     "name": "stdout",
     "output_type": "stream",
     "text": [
      "    assembling connectivity matrix\n",
      "[Connectivity computation done]\n",
      "[0.         0.23897361 0.         ... 0.04499086 0.02788319 0.        ]\n"
     ]
    },
    {
     "name": "stderr",
     "output_type": "stream",
     "text": [
      "/storage/store3/work/kachardo/adhd_brain_functional_connectivity/get_data.py:40: FutureWarning: Calling int on a single element Series is deprecated and will raise a TypeError in the future. Use int(ser.iloc[0]) instead\n",
      "  session = int(subjects_data[subjects_data['subject_id']==subject[4:]]['session'])\n"
     ]
    },
    {
     "name": "stdout",
     "output_type": "stream",
     "text": [
      "Removing 5 compensators from info because not all compensation channels were picked.\n",
      "Connectivity computation...\n",
      "only using indices for lower-triangular matrix\n",
      "    computing connectivity for 34191 connections\n",
      "    using t=0.000s..10.000s for estimation (2001 points)\n",
      "    frequencies: 8.1Hz..12.0Hz (40 points)\n",
      "    connectivity scores will be averaged for each band\n",
      "    using FFT with a Hanning window to estimate spectra\n",
      "    the following metrics will be computed: Coherence\n",
      "    computing connectivity for epochs 1..28\n"
     ]
    },
    {
     "name": "stderr",
     "output_type": "stream",
     "text": [
      "/storage/store3/work/kachardo/adhd_brain_functional_connectivity/get_data.py:46: RuntimeWarning: There were no Annotations stored in <EpochsFIF |  28 events (all good), 0 – 10 s, baseline off, ~112.6 MB, data loaded,\n",
      " 'rest': 28>, so metadata was not modified.\n",
      "  connectivity = spectral_connectivity_epochs(epoch, fmin = frequency_bands[band][0], fmax = frequency_bands[band][1], faverage=True, n_jobs=40, mode = 'fourier', method = 'coh')\n",
      "[Parallel(n_jobs=40)]: Using backend LokyBackend with 40 concurrent workers.\n",
      "[Parallel(n_jobs=40)]: Done   7 out of  28 | elapsed:    0.5s remaining:    1.6s\n",
      "[Parallel(n_jobs=40)]: Done  13 out of  28 | elapsed:    0.8s remaining:    0.9s\n",
      "[Parallel(n_jobs=40)]: Done  19 out of  28 | elapsed:    1.0s remaining:    0.5s\n",
      "[Parallel(n_jobs=40)]: Done  25 out of  28 | elapsed:    1.3s remaining:    0.2s\n",
      "[Parallel(n_jobs=40)]: Done  28 out of  28 | elapsed:    1.4s finished\n"
     ]
    },
    {
     "name": "stdout",
     "output_type": "stream",
     "text": [
      "    assembling connectivity matrix\n",
      "[Connectivity computation done]\n",
      "[0.         0.46303658 0.         ... 0.09593207 0.05826843 0.        ]\n"
     ]
    },
    {
     "name": "stderr",
     "output_type": "stream",
     "text": [
      "/storage/store3/work/kachardo/adhd_brain_functional_connectivity/get_data.py:40: FutureWarning: Calling int on a single element Series is deprecated and will raise a TypeError in the future. Use int(ser.iloc[0]) instead\n",
      "  session = int(subjects_data[subjects_data['subject_id']==subject[4:]]['session'])\n"
     ]
    },
    {
     "name": "stdout",
     "output_type": "stream",
     "text": [
      "Removing 5 compensators from info because not all compensation channels were picked.\n",
      "Connectivity computation...\n",
      "only using indices for lower-triangular matrix\n",
      "    computing connectivity for 34191 connections\n",
      "    using t=0.000s..10.000s for estimation (2001 points)\n",
      "    frequencies: 8.1Hz..12.0Hz (40 points)\n",
      "    connectivity scores will be averaged for each band\n",
      "    using FFT with a Hanning window to estimate spectra\n",
      "    the following metrics will be computed: Coherence\n",
      "    computing connectivity for epochs 1..28\n"
     ]
    },
    {
     "name": "stderr",
     "output_type": "stream",
     "text": [
      "/storage/store3/work/kachardo/adhd_brain_functional_connectivity/get_data.py:46: RuntimeWarning: There were no Annotations stored in <EpochsFIF |  28 events (all good), 0 – 10 s, baseline off, ~112.6 MB, data loaded,\n",
      " 'rest': 28>, so metadata was not modified.\n",
      "  connectivity = spectral_connectivity_epochs(epoch, fmin = frequency_bands[band][0], fmax = frequency_bands[band][1], faverage=True, n_jobs=40, mode = 'fourier', method = 'coh')\n",
      "[Parallel(n_jobs=40)]: Using backend LokyBackend with 40 concurrent workers.\n",
      "[Parallel(n_jobs=40)]: Done   7 out of  28 | elapsed:    0.5s remaining:    1.6s\n",
      "[Parallel(n_jobs=40)]: Done  13 out of  28 | elapsed:    0.8s remaining:    0.9s\n",
      "[Parallel(n_jobs=40)]: Done  19 out of  28 | elapsed:    1.0s remaining:    0.5s\n",
      "[Parallel(n_jobs=40)]: Done  25 out of  28 | elapsed:    1.3s remaining:    0.2s\n",
      "[Parallel(n_jobs=40)]: Done  28 out of  28 | elapsed:    1.4s finished\n"
     ]
    },
    {
     "name": "stdout",
     "output_type": "stream",
     "text": [
      "    assembling connectivity matrix\n",
      "[Connectivity computation done]\n",
      "[0.         0.60233724 0.         ... 0.0742032  0.05827322 0.        ]\n"
     ]
    },
    {
     "name": "stderr",
     "output_type": "stream",
     "text": [
      "/storage/store3/work/kachardo/adhd_brain_functional_connectivity/get_data.py:40: FutureWarning: Calling int on a single element Series is deprecated and will raise a TypeError in the future. Use int(ser.iloc[0]) instead\n",
      "  session = int(subjects_data[subjects_data['subject_id']==subject[4:]]['session'])\n"
     ]
    },
    {
     "name": "stdout",
     "output_type": "stream",
     "text": [
      "Removing 5 compensators from info because not all compensation channels were picked.\n",
      "Connectivity computation...\n",
      "only using indices for lower-triangular matrix\n",
      "    computing connectivity for 34191 connections\n",
      "    using t=0.000s..10.000s for estimation (2001 points)\n",
      "    frequencies: 8.1Hz..12.0Hz (40 points)\n",
      "    connectivity scores will be averaged for each band\n",
      "    using FFT with a Hanning window to estimate spectra\n",
      "    the following metrics will be computed: Coherence\n",
      "    computing connectivity for epochs 1..28\n"
     ]
    },
    {
     "name": "stderr",
     "output_type": "stream",
     "text": [
      "/storage/store3/work/kachardo/adhd_brain_functional_connectivity/get_data.py:46: RuntimeWarning: There were no Annotations stored in <EpochsFIF |  28 events (all good), 0 – 10 s, baseline off, ~112.6 MB, data loaded,\n",
      " 'rest': 28>, so metadata was not modified.\n",
      "  connectivity = spectral_connectivity_epochs(epoch, fmin = frequency_bands[band][0], fmax = frequency_bands[band][1], faverage=True, n_jobs=40, mode = 'fourier', method = 'coh')\n",
      "[Parallel(n_jobs=40)]: Using backend LokyBackend with 40 concurrent workers.\n",
      "[Parallel(n_jobs=40)]: Done   7 out of  28 | elapsed:    0.5s remaining:    1.5s\n",
      "[Parallel(n_jobs=40)]: Done  13 out of  28 | elapsed:    0.7s remaining:    0.8s\n",
      "[Parallel(n_jobs=40)]: Done  19 out of  28 | elapsed:    1.0s remaining:    0.5s\n",
      "[Parallel(n_jobs=40)]: Done  25 out of  28 | elapsed:    1.2s remaining:    0.1s\n",
      "[Parallel(n_jobs=40)]: Done  28 out of  28 | elapsed:    1.4s finished\n"
     ]
    },
    {
     "name": "stdout",
     "output_type": "stream",
     "text": [
      "    assembling connectivity matrix\n",
      "[Connectivity computation done]\n",
      "[0.         0.54071431 0.         ... 0.03641646 0.03137982 0.        ]\n"
     ]
    },
    {
     "name": "stderr",
     "output_type": "stream",
     "text": [
      "/storage/store3/work/kachardo/adhd_brain_functional_connectivity/get_data.py:40: FutureWarning: Calling int on a single element Series is deprecated and will raise a TypeError in the future. Use int(ser.iloc[0]) instead\n",
      "  session = int(subjects_data[subjects_data['subject_id']==subject[4:]]['session'])\n"
     ]
    },
    {
     "name": "stdout",
     "output_type": "stream",
     "text": [
      "Removing 5 compensators from info because not all compensation channels were picked.\n",
      "Connectivity computation...\n",
      "only using indices for lower-triangular matrix\n",
      "    computing connectivity for 34191 connections\n",
      "    using t=0.000s..10.000s for estimation (2001 points)\n",
      "    frequencies: 8.1Hz..12.0Hz (40 points)\n",
      "    connectivity scores will be averaged for each band\n",
      "    using FFT with a Hanning window to estimate spectra\n",
      "    the following metrics will be computed: Coherence\n",
      "    computing connectivity for epochs 1..28\n"
     ]
    },
    {
     "name": "stderr",
     "output_type": "stream",
     "text": [
      "/storage/store3/work/kachardo/adhd_brain_functional_connectivity/get_data.py:46: RuntimeWarning: There were no Annotations stored in <EpochsFIF |  28 events (all good), 0 – 10 s, baseline off, ~112.6 MB, data loaded,\n",
      " 'rest': 28>, so metadata was not modified.\n",
      "  connectivity = spectral_connectivity_epochs(epoch, fmin = frequency_bands[band][0], fmax = frequency_bands[band][1], faverage=True, n_jobs=40, mode = 'fourier', method = 'coh')\n",
      "[Parallel(n_jobs=40)]: Using backend LokyBackend with 40 concurrent workers.\n",
      "[Parallel(n_jobs=40)]: Done   7 out of  28 | elapsed:    0.6s remaining:    1.7s\n",
      "[Parallel(n_jobs=40)]: Done  13 out of  28 | elapsed:    0.8s remaining:    0.9s\n",
      "[Parallel(n_jobs=40)]: Done  19 out of  28 | elapsed:    1.1s remaining:    0.5s\n",
      "[Parallel(n_jobs=40)]: Done  25 out of  28 | elapsed:    1.3s remaining:    0.2s\n",
      "[Parallel(n_jobs=40)]: Done  28 out of  28 | elapsed:    1.5s finished\n"
     ]
    },
    {
     "name": "stdout",
     "output_type": "stream",
     "text": [
      "    assembling connectivity matrix\n",
      "[Connectivity computation done]\n",
      "[0.         0.42211952 0.         ... 0.11425094 0.02780051 0.        ]\n"
     ]
    },
    {
     "name": "stderr",
     "output_type": "stream",
     "text": [
      "/storage/store3/work/kachardo/adhd_brain_functional_connectivity/get_data.py:40: FutureWarning: Calling int on a single element Series is deprecated and will raise a TypeError in the future. Use int(ser.iloc[0]) instead\n",
      "  session = int(subjects_data[subjects_data['subject_id']==subject[4:]]['session'])\n"
     ]
    },
    {
     "name": "stdout",
     "output_type": "stream",
     "text": [
      "Removing 5 compensators from info because not all compensation channels were picked.\n",
      "Connectivity computation...\n",
      "only using indices for lower-triangular matrix\n",
      "    computing connectivity for 34191 connections\n",
      "    using t=0.000s..10.000s for estimation (2001 points)\n",
      "    frequencies: 8.1Hz..12.0Hz (40 points)\n",
      "    connectivity scores will be averaged for each band\n",
      "    using FFT with a Hanning window to estimate spectra\n",
      "    the following metrics will be computed: Coherence\n",
      "    computing connectivity for epochs 1..28\n"
     ]
    },
    {
     "name": "stderr",
     "output_type": "stream",
     "text": [
      "/storage/store3/work/kachardo/adhd_brain_functional_connectivity/get_data.py:46: RuntimeWarning: There were no Annotations stored in <EpochsFIF |  28 events (all good), 0 – 10 s, baseline off, ~112.6 MB, data loaded,\n",
      " 'rest': 28>, so metadata was not modified.\n",
      "  connectivity = spectral_connectivity_epochs(epoch, fmin = frequency_bands[band][0], fmax = frequency_bands[band][1], faverage=True, n_jobs=40, mode = 'fourier', method = 'coh')\n",
      "[Parallel(n_jobs=40)]: Using backend LokyBackend with 40 concurrent workers.\n",
      "[Parallel(n_jobs=40)]: Done   7 out of  28 | elapsed:    0.6s remaining:    1.7s\n",
      "[Parallel(n_jobs=40)]: Done  13 out of  28 | elapsed:    0.8s remaining:    0.9s\n",
      "[Parallel(n_jobs=40)]: Done  19 out of  28 | elapsed:    1.1s remaining:    0.5s\n",
      "[Parallel(n_jobs=40)]: Done  25 out of  28 | elapsed:    1.3s remaining:    0.2s\n",
      "[Parallel(n_jobs=40)]: Done  28 out of  28 | elapsed:    1.4s finished\n"
     ]
    },
    {
     "name": "stdout",
     "output_type": "stream",
     "text": [
      "    assembling connectivity matrix\n",
      "[Connectivity computation done]\n",
      "[0.         0.28618381 0.         ... 0.05177322 0.05562397 0.        ]\n"
     ]
    },
    {
     "name": "stderr",
     "output_type": "stream",
     "text": [
      "/storage/store3/work/kachardo/adhd_brain_functional_connectivity/get_data.py:40: FutureWarning: Calling int on a single element Series is deprecated and will raise a TypeError in the future. Use int(ser.iloc[0]) instead\n",
      "  session = int(subjects_data[subjects_data['subject_id']==subject[4:]]['session'])\n"
     ]
    },
    {
     "name": "stdout",
     "output_type": "stream",
     "text": [
      "Removing 5 compensators from info because not all compensation channels were picked.\n",
      "Connectivity computation...\n",
      "only using indices for lower-triangular matrix\n",
      "    computing connectivity for 34191 connections\n",
      "    using t=0.000s..10.000s for estimation (2001 points)\n",
      "    frequencies: 8.1Hz..12.0Hz (40 points)\n",
      "    connectivity scores will be averaged for each band\n",
      "    using FFT with a Hanning window to estimate spectra\n",
      "    the following metrics will be computed: Coherence\n",
      "    computing connectivity for epochs 1..28\n"
     ]
    },
    {
     "name": "stderr",
     "output_type": "stream",
     "text": [
      "/storage/store3/work/kachardo/adhd_brain_functional_connectivity/get_data.py:46: RuntimeWarning: There were no Annotations stored in <EpochsFIF |  28 events (all good), 0 – 10 s, baseline off, ~112.6 MB, data loaded,\n",
      " 'rest': 28>, so metadata was not modified.\n",
      "  connectivity = spectral_connectivity_epochs(epoch, fmin = frequency_bands[band][0], fmax = frequency_bands[band][1], faverage=True, n_jobs=40, mode = 'fourier', method = 'coh')\n",
      "[Parallel(n_jobs=40)]: Using backend LokyBackend with 40 concurrent workers.\n",
      "[Parallel(n_jobs=40)]: Done   7 out of  28 | elapsed:    0.5s remaining:    1.6s\n",
      "[Parallel(n_jobs=40)]: Done  13 out of  28 | elapsed:    0.8s remaining:    0.9s\n",
      "[Parallel(n_jobs=40)]: Done  19 out of  28 | elapsed:    1.1s remaining:    0.5s\n",
      "[Parallel(n_jobs=40)]: Done  25 out of  28 | elapsed:    1.3s remaining:    0.2s\n",
      "[Parallel(n_jobs=40)]: Done  28 out of  28 | elapsed:    1.4s finished\n"
     ]
    },
    {
     "name": "stdout",
     "output_type": "stream",
     "text": [
      "    assembling connectivity matrix\n",
      "[Connectivity computation done]\n",
      "[0.         0.44080164 0.         ... 0.27413912 0.04139041 0.        ]\n"
     ]
    },
    {
     "name": "stderr",
     "output_type": "stream",
     "text": [
      "/storage/store3/work/kachardo/adhd_brain_functional_connectivity/get_data.py:40: FutureWarning: Calling int on a single element Series is deprecated and will raise a TypeError in the future. Use int(ser.iloc[0]) instead\n",
      "  session = int(subjects_data[subjects_data['subject_id']==subject[4:]]['session'])\n"
     ]
    },
    {
     "name": "stdout",
     "output_type": "stream",
     "text": [
      "Removing 5 compensators from info because not all compensation channels were picked.\n",
      "Connectivity computation...\n",
      "only using indices for lower-triangular matrix\n",
      "    computing connectivity for 34191 connections\n",
      "    using t=0.000s..10.000s for estimation (2001 points)\n",
      "    frequencies: 8.1Hz..12.0Hz (40 points)\n",
      "    connectivity scores will be averaged for each band\n",
      "    using FFT with a Hanning window to estimate spectra\n",
      "    the following metrics will be computed: Coherence\n",
      "    computing connectivity for epochs 1..28\n"
     ]
    },
    {
     "name": "stderr",
     "output_type": "stream",
     "text": [
      "/storage/store3/work/kachardo/adhd_brain_functional_connectivity/get_data.py:46: RuntimeWarning: There were no Annotations stored in <EpochsFIF |  28 events (all good), 0 – 10 s, baseline off, ~112.6 MB, data loaded,\n",
      " 'rest': 28>, so metadata was not modified.\n",
      "  connectivity = spectral_connectivity_epochs(epoch, fmin = frequency_bands[band][0], fmax = frequency_bands[band][1], faverage=True, n_jobs=40, mode = 'fourier', method = 'coh')\n",
      "[Parallel(n_jobs=40)]: Using backend LokyBackend with 40 concurrent workers.\n",
      "[Parallel(n_jobs=40)]: Done   7 out of  28 | elapsed:    0.5s remaining:    1.6s\n",
      "[Parallel(n_jobs=40)]: Done  13 out of  28 | elapsed:    0.8s remaining:    0.9s\n",
      "[Parallel(n_jobs=40)]: Done  19 out of  28 | elapsed:    1.0s remaining:    0.5s\n",
      "[Parallel(n_jobs=40)]: Done  25 out of  28 | elapsed:    1.3s remaining:    0.2s\n",
      "[Parallel(n_jobs=40)]: Done  28 out of  28 | elapsed:    1.4s finished\n"
     ]
    },
    {
     "name": "stdout",
     "output_type": "stream",
     "text": [
      "    assembling connectivity matrix\n",
      "[Connectivity computation done]\n",
      "[0.         0.22253837 0.         ... 0.04952515 0.04818443 0.        ]\n"
     ]
    },
    {
     "name": "stderr",
     "output_type": "stream",
     "text": [
      "/storage/store3/work/kachardo/adhd_brain_functional_connectivity/get_data.py:40: FutureWarning: Calling int on a single element Series is deprecated and will raise a TypeError in the future. Use int(ser.iloc[0]) instead\n",
      "  session = int(subjects_data[subjects_data['subject_id']==subject[4:]]['session'])\n"
     ]
    },
    {
     "name": "stdout",
     "output_type": "stream",
     "text": [
      "Removing 5 compensators from info because not all compensation channels were picked.\n",
      "Connectivity computation...\n",
      "only using indices for lower-triangular matrix\n",
      "    computing connectivity for 34191 connections\n",
      "    using t=0.000s..10.000s for estimation (2001 points)\n",
      "    frequencies: 8.1Hz..12.0Hz (40 points)\n",
      "    connectivity scores will be averaged for each band\n",
      "    using FFT with a Hanning window to estimate spectra\n",
      "    the following metrics will be computed: Coherence\n",
      "    computing connectivity for epochs 1..28\n"
     ]
    },
    {
     "name": "stderr",
     "output_type": "stream",
     "text": [
      "/storage/store3/work/kachardo/adhd_brain_functional_connectivity/get_data.py:46: RuntimeWarning: There were no Annotations stored in <EpochsFIF |  28 events (all good), 0 – 10 s, baseline off, ~112.6 MB, data loaded,\n",
      " 'rest': 28>, so metadata was not modified.\n",
      "  connectivity = spectral_connectivity_epochs(epoch, fmin = frequency_bands[band][0], fmax = frequency_bands[band][1], faverage=True, n_jobs=40, mode = 'fourier', method = 'coh')\n",
      "[Parallel(n_jobs=40)]: Using backend LokyBackend with 40 concurrent workers.\n",
      "[Parallel(n_jobs=40)]: Done   7 out of  28 | elapsed:    0.5s remaining:    1.6s\n",
      "[Parallel(n_jobs=40)]: Done  13 out of  28 | elapsed:    0.8s remaining:    0.9s\n",
      "[Parallel(n_jobs=40)]: Done  19 out of  28 | elapsed:    1.1s remaining:    0.5s\n",
      "[Parallel(n_jobs=40)]: Done  25 out of  28 | elapsed:    1.4s remaining:    0.2s\n",
      "[Parallel(n_jobs=40)]: Done  28 out of  28 | elapsed:    1.5s finished\n"
     ]
    },
    {
     "name": "stdout",
     "output_type": "stream",
     "text": [
      "    assembling connectivity matrix\n",
      "[Connectivity computation done]\n",
      "[0.         0.34853473 0.         ... 0.08625151 0.02975674 0.        ]\n"
     ]
    },
    {
     "name": "stderr",
     "output_type": "stream",
     "text": [
      "/storage/store3/work/kachardo/adhd_brain_functional_connectivity/get_data.py:40: FutureWarning: Calling int on a single element Series is deprecated and will raise a TypeError in the future. Use int(ser.iloc[0]) instead\n",
      "  session = int(subjects_data[subjects_data['subject_id']==subject[4:]]['session'])\n"
     ]
    },
    {
     "name": "stdout",
     "output_type": "stream",
     "text": [
      "Removing 5 compensators from info because not all compensation channels were picked.\n",
      "Connectivity computation...\n",
      "only using indices for lower-triangular matrix\n",
      "    computing connectivity for 34191 connections\n",
      "    using t=0.000s..10.000s for estimation (2001 points)\n",
      "    frequencies: 8.1Hz..12.0Hz (40 points)\n",
      "    connectivity scores will be averaged for each band\n",
      "    using FFT with a Hanning window to estimate spectra\n",
      "    the following metrics will be computed: Coherence\n",
      "    computing connectivity for epochs 1..28\n"
     ]
    },
    {
     "name": "stderr",
     "output_type": "stream",
     "text": [
      "/storage/store3/work/kachardo/adhd_brain_functional_connectivity/get_data.py:46: RuntimeWarning: There were no Annotations stored in <EpochsFIF |  28 events (all good), 0 – 10 s, baseline off, ~112.6 MB, data loaded,\n",
      " 'rest': 28>, so metadata was not modified.\n",
      "  connectivity = spectral_connectivity_epochs(epoch, fmin = frequency_bands[band][0], fmax = frequency_bands[band][1], faverage=True, n_jobs=40, mode = 'fourier', method = 'coh')\n",
      "[Parallel(n_jobs=40)]: Using backend LokyBackend with 40 concurrent workers.\n",
      "[Parallel(n_jobs=40)]: Done   7 out of  28 | elapsed:    0.5s remaining:    1.6s\n",
      "[Parallel(n_jobs=40)]: Done  13 out of  28 | elapsed:    0.8s remaining:    0.9s\n",
      "[Parallel(n_jobs=40)]: Done  19 out of  28 | elapsed:    1.0s remaining:    0.5s\n",
      "[Parallel(n_jobs=40)]: Done  25 out of  28 | elapsed:    1.3s remaining:    0.2s\n",
      "[Parallel(n_jobs=40)]: Done  28 out of  28 | elapsed:    1.4s finished\n"
     ]
    },
    {
     "name": "stdout",
     "output_type": "stream",
     "text": [
      "    assembling connectivity matrix\n",
      "[Connectivity computation done]\n",
      "[0.         0.59665685 0.         ... 0.13123438 0.11264102 0.        ]\n"
     ]
    },
    {
     "name": "stderr",
     "output_type": "stream",
     "text": [
      "/storage/store3/work/kachardo/adhd_brain_functional_connectivity/get_data.py:40: FutureWarning: Calling int on a single element Series is deprecated and will raise a TypeError in the future. Use int(ser.iloc[0]) instead\n",
      "  session = int(subjects_data[subjects_data['subject_id']==subject[4:]]['session'])\n"
     ]
    },
    {
     "name": "stdout",
     "output_type": "stream",
     "text": [
      "Removing 5 compensators from info because not all compensation channels were picked.\n",
      "Connectivity computation...\n",
      "only using indices for lower-triangular matrix\n",
      "    computing connectivity for 34191 connections\n",
      "    using t=0.000s..10.000s for estimation (2001 points)\n",
      "    frequencies: 8.1Hz..12.0Hz (40 points)\n",
      "    connectivity scores will be averaged for each band\n",
      "    using FFT with a Hanning window to estimate spectra\n",
      "    the following metrics will be computed: Coherence\n",
      "    computing connectivity for epochs 1..28\n"
     ]
    },
    {
     "name": "stderr",
     "output_type": "stream",
     "text": [
      "/storage/store3/work/kachardo/adhd_brain_functional_connectivity/get_data.py:46: RuntimeWarning: There were no Annotations stored in <EpochsFIF |  28 events (all good), 0 – 10 s, baseline off, ~112.6 MB, data loaded,\n",
      " 'rest': 28>, so metadata was not modified.\n",
      "  connectivity = spectral_connectivity_epochs(epoch, fmin = frequency_bands[band][0], fmax = frequency_bands[band][1], faverage=True, n_jobs=40, mode = 'fourier', method = 'coh')\n",
      "[Parallel(n_jobs=40)]: Using backend LokyBackend with 40 concurrent workers.\n",
      "[Parallel(n_jobs=40)]: Done   7 out of  28 | elapsed:    0.6s remaining:    1.7s\n",
      "[Parallel(n_jobs=40)]: Done  13 out of  28 | elapsed:    0.8s remaining:    1.0s\n",
      "[Parallel(n_jobs=40)]: Done  19 out of  28 | elapsed:    1.1s remaining:    0.5s\n",
      "[Parallel(n_jobs=40)]: Done  25 out of  28 | elapsed:    1.4s remaining:    0.2s\n",
      "[Parallel(n_jobs=40)]: Done  28 out of  28 | elapsed:    1.5s finished\n"
     ]
    },
    {
     "name": "stdout",
     "output_type": "stream",
     "text": [
      "    assembling connectivity matrix\n",
      "[Connectivity computation done]\n",
      "[0.         0.46277596 0.         ... 0.04329207 0.05071934 0.        ]\n"
     ]
    },
    {
     "name": "stderr",
     "output_type": "stream",
     "text": [
      "/storage/store3/work/kachardo/adhd_brain_functional_connectivity/get_data.py:40: FutureWarning: Calling int on a single element Series is deprecated and will raise a TypeError in the future. Use int(ser.iloc[0]) instead\n",
      "  session = int(subjects_data[subjects_data['subject_id']==subject[4:]]['session'])\n"
     ]
    },
    {
     "name": "stdout",
     "output_type": "stream",
     "text": [
      "Removing 5 compensators from info because not all compensation channels were picked.\n",
      "Connectivity computation...\n",
      "only using indices for lower-triangular matrix\n",
      "    computing connectivity for 34191 connections\n",
      "    using t=0.000s..10.000s for estimation (2001 points)\n",
      "    frequencies: 8.1Hz..12.0Hz (40 points)\n",
      "    connectivity scores will be averaged for each band\n",
      "    using FFT with a Hanning window to estimate spectra\n",
      "    the following metrics will be computed: Coherence\n",
      "    computing connectivity for epochs 1..28\n"
     ]
    },
    {
     "name": "stderr",
     "output_type": "stream",
     "text": [
      "/storage/store3/work/kachardo/adhd_brain_functional_connectivity/get_data.py:46: RuntimeWarning: There were no Annotations stored in <EpochsFIF |  28 events (all good), 0 – 10 s, baseline off, ~112.6 MB, data loaded,\n",
      " 'rest': 28>, so metadata was not modified.\n",
      "  connectivity = spectral_connectivity_epochs(epoch, fmin = frequency_bands[band][0], fmax = frequency_bands[band][1], faverage=True, n_jobs=40, mode = 'fourier', method = 'coh')\n",
      "[Parallel(n_jobs=40)]: Using backend LokyBackend with 40 concurrent workers.\n",
      "[Parallel(n_jobs=40)]: Done   7 out of  28 | elapsed:    0.5s remaining:    1.6s\n",
      "[Parallel(n_jobs=40)]: Done  13 out of  28 | elapsed:    0.8s remaining:    0.9s\n",
      "[Parallel(n_jobs=40)]: Done  19 out of  28 | elapsed:    1.0s remaining:    0.5s\n",
      "[Parallel(n_jobs=40)]: Done  25 out of  28 | elapsed:    1.3s remaining:    0.2s\n",
      "[Parallel(n_jobs=40)]: Done  28 out of  28 | elapsed:    1.4s finished\n"
     ]
    },
    {
     "name": "stdout",
     "output_type": "stream",
     "text": [
      "    assembling connectivity matrix\n",
      "[Connectivity computation done]\n",
      "[0.         0.3792543  0.         ... 0.08485535 0.03681482 0.        ]\n"
     ]
    },
    {
     "name": "stderr",
     "output_type": "stream",
     "text": [
      "/storage/store3/work/kachardo/adhd_brain_functional_connectivity/get_data.py:40: FutureWarning: Calling int on a single element Series is deprecated and will raise a TypeError in the future. Use int(ser.iloc[0]) instead\n",
      "  session = int(subjects_data[subjects_data['subject_id']==subject[4:]]['session'])\n"
     ]
    },
    {
     "name": "stdout",
     "output_type": "stream",
     "text": [
      "Removing 5 compensators from info because not all compensation channels were picked.\n",
      "Connectivity computation...\n",
      "only using indices for lower-triangular matrix\n",
      "    computing connectivity for 34191 connections\n",
      "    using t=0.000s..10.000s for estimation (2001 points)\n",
      "    frequencies: 8.1Hz..12.0Hz (40 points)\n",
      "    connectivity scores will be averaged for each band\n",
      "    using FFT with a Hanning window to estimate spectra\n",
      "    the following metrics will be computed: Coherence\n",
      "    computing connectivity for epochs 1..28\n"
     ]
    },
    {
     "name": "stderr",
     "output_type": "stream",
     "text": [
      "/storage/store3/work/kachardo/adhd_brain_functional_connectivity/get_data.py:46: RuntimeWarning: There were no Annotations stored in <EpochsFIF |  28 events (all good), 0 – 10 s, baseline off, ~112.6 MB, data loaded,\n",
      " 'rest': 28>, so metadata was not modified.\n",
      "  connectivity = spectral_connectivity_epochs(epoch, fmin = frequency_bands[band][0], fmax = frequency_bands[band][1], faverage=True, n_jobs=40, mode = 'fourier', method = 'coh')\n",
      "[Parallel(n_jobs=40)]: Using backend LokyBackend with 40 concurrent workers.\n",
      "[Parallel(n_jobs=40)]: Done   7 out of  28 | elapsed:    0.5s remaining:    1.6s\n",
      "[Parallel(n_jobs=40)]: Done  13 out of  28 | elapsed:    0.8s remaining:    0.9s\n",
      "[Parallel(n_jobs=40)]: Done  19 out of  28 | elapsed:    1.0s remaining:    0.5s\n",
      "[Parallel(n_jobs=40)]: Done  25 out of  28 | elapsed:    1.3s remaining:    0.2s\n",
      "[Parallel(n_jobs=40)]: Done  28 out of  28 | elapsed:    1.4s finished\n"
     ]
    },
    {
     "name": "stdout",
     "output_type": "stream",
     "text": [
      "    assembling connectivity matrix\n",
      "[Connectivity computation done]\n",
      "[0.         0.60498126 0.         ... 0.15185419 0.04404618 0.        ]\n"
     ]
    },
    {
     "name": "stderr",
     "output_type": "stream",
     "text": [
      "/storage/store3/work/kachardo/adhd_brain_functional_connectivity/get_data.py:40: FutureWarning: Calling int on a single element Series is deprecated and will raise a TypeError in the future. Use int(ser.iloc[0]) instead\n",
      "  session = int(subjects_data[subjects_data['subject_id']==subject[4:]]['session'])\n"
     ]
    },
    {
     "name": "stdout",
     "output_type": "stream",
     "text": [
      "Removing 5 compensators from info because not all compensation channels were picked.\n",
      "Connectivity computation...\n",
      "only using indices for lower-triangular matrix\n",
      "    computing connectivity for 34191 connections\n",
      "    using t=0.000s..10.000s for estimation (2001 points)\n",
      "    frequencies: 8.1Hz..12.0Hz (40 points)\n",
      "    connectivity scores will be averaged for each band\n",
      "    using FFT with a Hanning window to estimate spectra\n",
      "    the following metrics will be computed: Coherence\n",
      "    computing connectivity for epochs 1..28\n"
     ]
    },
    {
     "name": "stderr",
     "output_type": "stream",
     "text": [
      "/storage/store3/work/kachardo/adhd_brain_functional_connectivity/get_data.py:46: RuntimeWarning: There were no Annotations stored in <EpochsFIF |  28 events (all good), 0 – 10 s, baseline off, ~112.6 MB, data loaded,\n",
      " 'rest': 28>, so metadata was not modified.\n",
      "  connectivity = spectral_connectivity_epochs(epoch, fmin = frequency_bands[band][0], fmax = frequency_bands[band][1], faverage=True, n_jobs=40, mode = 'fourier', method = 'coh')\n",
      "[Parallel(n_jobs=40)]: Using backend LokyBackend with 40 concurrent workers.\n",
      "[Parallel(n_jobs=40)]: Done   7 out of  28 | elapsed:    0.5s remaining:    1.6s\n",
      "[Parallel(n_jobs=40)]: Done  13 out of  28 | elapsed:    0.8s remaining:    0.9s\n",
      "[Parallel(n_jobs=40)]: Done  19 out of  28 | elapsed:    1.0s remaining:    0.5s\n",
      "[Parallel(n_jobs=40)]: Done  25 out of  28 | elapsed:    1.3s remaining:    0.2s\n",
      "[Parallel(n_jobs=40)]: Done  28 out of  28 | elapsed:    1.5s finished\n"
     ]
    },
    {
     "name": "stdout",
     "output_type": "stream",
     "text": [
      "    assembling connectivity matrix\n",
      "[Connectivity computation done]\n",
      "[0.         0.35972014 0.         ... 0.12372423 0.03468619 0.        ]\n"
     ]
    },
    {
     "name": "stderr",
     "output_type": "stream",
     "text": [
      "/storage/store3/work/kachardo/adhd_brain_functional_connectivity/get_data.py:40: FutureWarning: Calling int on a single element Series is deprecated and will raise a TypeError in the future. Use int(ser.iloc[0]) instead\n",
      "  session = int(subjects_data[subjects_data['subject_id']==subject[4:]]['session'])\n"
     ]
    },
    {
     "name": "stdout",
     "output_type": "stream",
     "text": [
      "Removing 5 compensators from info because not all compensation channels were picked.\n",
      "Connectivity computation...\n",
      "only using indices for lower-triangular matrix\n",
      "    computing connectivity for 34191 connections\n",
      "    using t=0.000s..10.000s for estimation (2001 points)\n",
      "    frequencies: 8.1Hz..12.0Hz (40 points)\n",
      "    connectivity scores will be averaged for each band\n",
      "    using FFT with a Hanning window to estimate spectra\n",
      "    the following metrics will be computed: Coherence\n",
      "    computing connectivity for epochs 1..28\n"
     ]
    },
    {
     "name": "stderr",
     "output_type": "stream",
     "text": [
      "/storage/store3/work/kachardo/adhd_brain_functional_connectivity/get_data.py:46: RuntimeWarning: There were no Annotations stored in <EpochsFIF |  28 events (all good), 0 – 10 s, baseline off, ~112.6 MB, data loaded,\n",
      " 'rest': 28>, so metadata was not modified.\n",
      "  connectivity = spectral_connectivity_epochs(epoch, fmin = frequency_bands[band][0], fmax = frequency_bands[band][1], faverage=True, n_jobs=40, mode = 'fourier', method = 'coh')\n",
      "[Parallel(n_jobs=40)]: Using backend LokyBackend with 40 concurrent workers.\n",
      "[Parallel(n_jobs=40)]: Done   7 out of  28 | elapsed:    0.5s remaining:    1.6s\n",
      "[Parallel(n_jobs=40)]: Done  13 out of  28 | elapsed:    0.8s remaining:    0.9s\n",
      "[Parallel(n_jobs=40)]: Done  19 out of  28 | elapsed:    1.1s remaining:    0.5s\n",
      "[Parallel(n_jobs=40)]: Done  25 out of  28 | elapsed:    1.4s remaining:    0.2s\n",
      "[Parallel(n_jobs=40)]: Done  28 out of  28 | elapsed:    1.5s finished\n"
     ]
    },
    {
     "name": "stdout",
     "output_type": "stream",
     "text": [
      "    assembling connectivity matrix\n",
      "[Connectivity computation done]\n",
      "[0.         0.1628721  0.         ... 0.04854567 0.10399061 0.        ]\n"
     ]
    },
    {
     "name": "stderr",
     "output_type": "stream",
     "text": [
      "/storage/store3/work/kachardo/adhd_brain_functional_connectivity/get_data.py:40: FutureWarning: Calling int on a single element Series is deprecated and will raise a TypeError in the future. Use int(ser.iloc[0]) instead\n",
      "  session = int(subjects_data[subjects_data['subject_id']==subject[4:]]['session'])\n"
     ]
    },
    {
     "name": "stdout",
     "output_type": "stream",
     "text": [
      "Removing 5 compensators from info because not all compensation channels were picked.\n",
      "Connectivity computation...\n",
      "only using indices for lower-triangular matrix\n",
      "    computing connectivity for 34191 connections\n",
      "    using t=0.000s..10.000s for estimation (2001 points)\n",
      "    frequencies: 8.1Hz..12.0Hz (40 points)\n",
      "    connectivity scores will be averaged for each band\n",
      "    using FFT with a Hanning window to estimate spectra\n",
      "    the following metrics will be computed: Coherence\n",
      "    computing connectivity for epochs 1..28\n"
     ]
    },
    {
     "name": "stderr",
     "output_type": "stream",
     "text": [
      "/storage/store3/work/kachardo/adhd_brain_functional_connectivity/get_data.py:46: RuntimeWarning: There were no Annotations stored in <EpochsFIF |  28 events (all good), 0 – 10 s, baseline off, ~112.6 MB, data loaded,\n",
      " 'rest': 28>, so metadata was not modified.\n",
      "  connectivity = spectral_connectivity_epochs(epoch, fmin = frequency_bands[band][0], fmax = frequency_bands[band][1], faverage=True, n_jobs=40, mode = 'fourier', method = 'coh')\n",
      "[Parallel(n_jobs=40)]: Using backend LokyBackend with 40 concurrent workers.\n",
      "[Parallel(n_jobs=40)]: Done   7 out of  28 | elapsed:    0.6s remaining:    1.7s\n",
      "[Parallel(n_jobs=40)]: Done  13 out of  28 | elapsed:    0.8s remaining:    0.9s\n",
      "[Parallel(n_jobs=40)]: Done  19 out of  28 | elapsed:    1.1s remaining:    0.5s\n",
      "[Parallel(n_jobs=40)]: Done  25 out of  28 | elapsed:    1.4s remaining:    0.2s\n",
      "[Parallel(n_jobs=40)]: Done  28 out of  28 | elapsed:    1.5s finished\n"
     ]
    },
    {
     "name": "stdout",
     "output_type": "stream",
     "text": [
      "    assembling connectivity matrix\n",
      "[Connectivity computation done]\n",
      "[0.         0.40551135 0.         ... 0.20496308 0.18170379 0.        ]\n"
     ]
    },
    {
     "name": "stderr",
     "output_type": "stream",
     "text": [
      "/storage/store3/work/kachardo/adhd_brain_functional_connectivity/get_data.py:40: FutureWarning: Calling int on a single element Series is deprecated and will raise a TypeError in the future. Use int(ser.iloc[0]) instead\n",
      "  session = int(subjects_data[subjects_data['subject_id']==subject[4:]]['session'])\n"
     ]
    },
    {
     "name": "stdout",
     "output_type": "stream",
     "text": [
      "Removing 5 compensators from info because not all compensation channels were picked.\n",
      "Connectivity computation...\n",
      "only using indices for lower-triangular matrix\n",
      "    computing connectivity for 34191 connections\n",
      "    using t=0.000s..10.000s for estimation (2001 points)\n",
      "    frequencies: 8.1Hz..12.0Hz (40 points)\n",
      "    connectivity scores will be averaged for each band\n",
      "    using FFT with a Hanning window to estimate spectra\n",
      "    the following metrics will be computed: Coherence\n",
      "    computing connectivity for epochs 1..28\n"
     ]
    },
    {
     "name": "stderr",
     "output_type": "stream",
     "text": [
      "/storage/store3/work/kachardo/adhd_brain_functional_connectivity/get_data.py:46: RuntimeWarning: There were no Annotations stored in <EpochsFIF |  28 events (all good), 0 – 10 s, baseline off, ~112.6 MB, data loaded,\n",
      " 'rest': 28>, so metadata was not modified.\n",
      "  connectivity = spectral_connectivity_epochs(epoch, fmin = frequency_bands[band][0], fmax = frequency_bands[band][1], faverage=True, n_jobs=40, mode = 'fourier', method = 'coh')\n",
      "[Parallel(n_jobs=40)]: Using backend LokyBackend with 40 concurrent workers.\n",
      "[Parallel(n_jobs=40)]: Done   7 out of  28 | elapsed:    0.5s remaining:    1.6s\n",
      "[Parallel(n_jobs=40)]: Done  13 out of  28 | elapsed:    0.8s remaining:    0.9s\n",
      "[Parallel(n_jobs=40)]: Done  19 out of  28 | elapsed:    1.1s remaining:    0.5s\n",
      "[Parallel(n_jobs=40)]: Done  25 out of  28 | elapsed:    1.3s remaining:    0.2s\n",
      "[Parallel(n_jobs=40)]: Done  28 out of  28 | elapsed:    1.4s finished\n"
     ]
    },
    {
     "name": "stdout",
     "output_type": "stream",
     "text": [
      "    assembling connectivity matrix\n",
      "[Connectivity computation done]\n",
      "[0.         0.52089305 0.         ... 0.101424   0.06528988 0.        ]\n"
     ]
    },
    {
     "name": "stderr",
     "output_type": "stream",
     "text": [
      "/storage/store3/work/kachardo/adhd_brain_functional_connectivity/get_data.py:40: FutureWarning: Calling int on a single element Series is deprecated and will raise a TypeError in the future. Use int(ser.iloc[0]) instead\n",
      "  session = int(subjects_data[subjects_data['subject_id']==subject[4:]]['session'])\n"
     ]
    },
    {
     "name": "stdout",
     "output_type": "stream",
     "text": [
      "Removing 5 compensators from info because not all compensation channels were picked.\n",
      "Connectivity computation...\n",
      "only using indices for lower-triangular matrix\n",
      "    computing connectivity for 34191 connections\n",
      "    using t=0.000s..10.000s for estimation (2001 points)\n",
      "    frequencies: 8.1Hz..12.0Hz (40 points)\n",
      "    connectivity scores will be averaged for each band\n",
      "    using FFT with a Hanning window to estimate spectra\n",
      "    the following metrics will be computed: Coherence\n",
      "    computing connectivity for epochs 1..28\n"
     ]
    },
    {
     "name": "stderr",
     "output_type": "stream",
     "text": [
      "/storage/store3/work/kachardo/adhd_brain_functional_connectivity/get_data.py:46: RuntimeWarning: There were no Annotations stored in <EpochsFIF |  28 events (all good), 0 – 10 s, baseline off, ~112.6 MB, data loaded,\n",
      " 'rest': 28>, so metadata was not modified.\n",
      "  connectivity = spectral_connectivity_epochs(epoch, fmin = frequency_bands[band][0], fmax = frequency_bands[band][1], faverage=True, n_jobs=40, mode = 'fourier', method = 'coh')\n",
      "[Parallel(n_jobs=40)]: Using backend LokyBackend with 40 concurrent workers.\n",
      "[Parallel(n_jobs=40)]: Done   7 out of  28 | elapsed:    0.6s remaining:    1.7s\n",
      "[Parallel(n_jobs=40)]: Done  13 out of  28 | elapsed:    0.8s remaining:    0.9s\n",
      "[Parallel(n_jobs=40)]: Done  19 out of  28 | elapsed:    1.1s remaining:    0.5s\n",
      "[Parallel(n_jobs=40)]: Done  25 out of  28 | elapsed:    1.3s remaining:    0.2s\n",
      "[Parallel(n_jobs=40)]: Done  28 out of  28 | elapsed:    1.5s finished\n"
     ]
    },
    {
     "name": "stdout",
     "output_type": "stream",
     "text": [
      "    assembling connectivity matrix\n",
      "[Connectivity computation done]\n",
      "[0.         0.44834115 0.         ... 0.0683382  0.06910562 0.        ]\n"
     ]
    },
    {
     "name": "stderr",
     "output_type": "stream",
     "text": [
      "/storage/store3/work/kachardo/adhd_brain_functional_connectivity/get_data.py:40: FutureWarning: Calling int on a single element Series is deprecated and will raise a TypeError in the future. Use int(ser.iloc[0]) instead\n",
      "  session = int(subjects_data[subjects_data['subject_id']==subject[4:]]['session'])\n"
     ]
    },
    {
     "name": "stdout",
     "output_type": "stream",
     "text": [
      "Removing 5 compensators from info because not all compensation channels were picked.\n",
      "Connectivity computation...\n",
      "only using indices for lower-triangular matrix\n",
      "    computing connectivity for 34191 connections\n",
      "    using t=0.000s..10.000s for estimation (2001 points)\n",
      "    frequencies: 8.1Hz..12.0Hz (40 points)\n",
      "    connectivity scores will be averaged for each band\n",
      "    using FFT with a Hanning window to estimate spectra\n",
      "    the following metrics will be computed: Coherence\n",
      "    computing connectivity for epochs 1..28\n"
     ]
    },
    {
     "name": "stderr",
     "output_type": "stream",
     "text": [
      "/storage/store3/work/kachardo/adhd_brain_functional_connectivity/get_data.py:46: RuntimeWarning: There were no Annotations stored in <EpochsFIF |  28 events (all good), 0 – 10 s, baseline off, ~112.6 MB, data loaded,\n",
      " 'rest': 28>, so metadata was not modified.\n",
      "  connectivity = spectral_connectivity_epochs(epoch, fmin = frequency_bands[band][0], fmax = frequency_bands[band][1], faverage=True, n_jobs=40, mode = 'fourier', method = 'coh')\n",
      "[Parallel(n_jobs=40)]: Using backend LokyBackend with 40 concurrent workers.\n",
      "[Parallel(n_jobs=40)]: Done   7 out of  28 | elapsed:    0.5s remaining:    1.5s\n",
      "[Parallel(n_jobs=40)]: Done  13 out of  28 | elapsed:    0.8s remaining:    0.9s\n",
      "[Parallel(n_jobs=40)]: Done  19 out of  28 | elapsed:    1.1s remaining:    0.5s\n",
      "[Parallel(n_jobs=40)]: Done  25 out of  28 | elapsed:    1.3s remaining:    0.2s\n",
      "[Parallel(n_jobs=40)]: Done  28 out of  28 | elapsed:    1.4s finished\n"
     ]
    },
    {
     "name": "stdout",
     "output_type": "stream",
     "text": [
      "    assembling connectivity matrix\n",
      "[Connectivity computation done]\n",
      "[0.         0.43231729 0.         ... 0.12709502 0.05658991 0.        ]\n"
     ]
    },
    {
     "name": "stderr",
     "output_type": "stream",
     "text": [
      "/storage/store3/work/kachardo/adhd_brain_functional_connectivity/get_data.py:40: FutureWarning: Calling int on a single element Series is deprecated and will raise a TypeError in the future. Use int(ser.iloc[0]) instead\n",
      "  session = int(subjects_data[subjects_data['subject_id']==subject[4:]]['session'])\n"
     ]
    },
    {
     "name": "stdout",
     "output_type": "stream",
     "text": [
      "Removing 5 compensators from info because not all compensation channels were picked.\n",
      "Connectivity computation...\n",
      "only using indices for lower-triangular matrix\n",
      "    computing connectivity for 34191 connections\n",
      "    using t=0.000s..10.000s for estimation (2001 points)\n",
      "    frequencies: 8.1Hz..12.0Hz (40 points)\n",
      "    connectivity scores will be averaged for each band\n",
      "    using FFT with a Hanning window to estimate spectra\n",
      "    the following metrics will be computed: Coherence\n",
      "    computing connectivity for epochs 1..28\n"
     ]
    },
    {
     "name": "stderr",
     "output_type": "stream",
     "text": [
      "/storage/store3/work/kachardo/adhd_brain_functional_connectivity/get_data.py:46: RuntimeWarning: There were no Annotations stored in <EpochsFIF |  28 events (all good), 0 – 10 s, baseline off, ~112.6 MB, data loaded,\n",
      " 'rest': 28>, so metadata was not modified.\n",
      "  connectivity = spectral_connectivity_epochs(epoch, fmin = frequency_bands[band][0], fmax = frequency_bands[band][1], faverage=True, n_jobs=40, mode = 'fourier', method = 'coh')\n",
      "[Parallel(n_jobs=40)]: Using backend LokyBackend with 40 concurrent workers.\n",
      "[Parallel(n_jobs=40)]: Done   7 out of  28 | elapsed:    0.5s remaining:    1.5s\n",
      "[Parallel(n_jobs=40)]: Done  13 out of  28 | elapsed:    0.8s remaining:    0.9s\n",
      "[Parallel(n_jobs=40)]: Done  19 out of  28 | elapsed:    1.1s remaining:    0.5s\n",
      "[Parallel(n_jobs=40)]: Done  25 out of  28 | elapsed:    1.3s remaining:    0.2s\n",
      "[Parallel(n_jobs=40)]: Done  28 out of  28 | elapsed:    1.4s finished\n"
     ]
    },
    {
     "name": "stdout",
     "output_type": "stream",
     "text": [
      "    assembling connectivity matrix\n",
      "[Connectivity computation done]\n",
      "[0.         0.13156865 0.         ... 0.10345729 0.07992428 0.        ]\n"
     ]
    },
    {
     "name": "stderr",
     "output_type": "stream",
     "text": [
      "/storage/store3/work/kachardo/adhd_brain_functional_connectivity/get_data.py:40: FutureWarning: Calling int on a single element Series is deprecated and will raise a TypeError in the future. Use int(ser.iloc[0]) instead\n",
      "  session = int(subjects_data[subjects_data['subject_id']==subject[4:]]['session'])\n"
     ]
    },
    {
     "name": "stdout",
     "output_type": "stream",
     "text": [
      "Removing 5 compensators from info because not all compensation channels were picked.\n",
      "Connectivity computation...\n",
      "only using indices for lower-triangular matrix\n",
      "    computing connectivity for 34191 connections\n",
      "    using t=0.000s..10.000s for estimation (2001 points)\n",
      "    frequencies: 8.1Hz..12.0Hz (40 points)\n",
      "    connectivity scores will be averaged for each band\n",
      "    using FFT with a Hanning window to estimate spectra\n",
      "    the following metrics will be computed: Coherence\n",
      "    computing connectivity for epochs 1..28\n"
     ]
    },
    {
     "name": "stderr",
     "output_type": "stream",
     "text": [
      "/storage/store3/work/kachardo/adhd_brain_functional_connectivity/get_data.py:46: RuntimeWarning: There were no Annotations stored in <EpochsFIF |  28 events (all good), 0 – 10 s, baseline off, ~112.6 MB, data loaded,\n",
      " 'rest': 28>, so metadata was not modified.\n",
      "  connectivity = spectral_connectivity_epochs(epoch, fmin = frequency_bands[band][0], fmax = frequency_bands[band][1], faverage=True, n_jobs=40, mode = 'fourier', method = 'coh')\n",
      "[Parallel(n_jobs=40)]: Using backend LokyBackend with 40 concurrent workers.\n",
      "[Parallel(n_jobs=40)]: Done   7 out of  28 | elapsed:    0.5s remaining:    1.6s\n",
      "[Parallel(n_jobs=40)]: Done  13 out of  28 | elapsed:    0.8s remaining:    0.9s\n",
      "[Parallel(n_jobs=40)]: Done  19 out of  28 | elapsed:    1.1s remaining:    0.5s\n",
      "[Parallel(n_jobs=40)]: Done  25 out of  28 | elapsed:    1.3s remaining:    0.2s\n",
      "[Parallel(n_jobs=40)]: Done  28 out of  28 | elapsed:    1.5s finished\n"
     ]
    },
    {
     "name": "stdout",
     "output_type": "stream",
     "text": [
      "    assembling connectivity matrix\n",
      "[Connectivity computation done]\n",
      "[0.         0.58615932 0.         ... 0.11877704 0.06712334 0.        ]\n"
     ]
    },
    {
     "name": "stderr",
     "output_type": "stream",
     "text": [
      "/storage/store3/work/kachardo/adhd_brain_functional_connectivity/get_data.py:40: FutureWarning: Calling int on a single element Series is deprecated and will raise a TypeError in the future. Use int(ser.iloc[0]) instead\n",
      "  session = int(subjects_data[subjects_data['subject_id']==subject[4:]]['session'])\n"
     ]
    },
    {
     "name": "stdout",
     "output_type": "stream",
     "text": [
      "Removing 5 compensators from info because not all compensation channels were picked.\n",
      "Connectivity computation...\n",
      "only using indices for lower-triangular matrix\n",
      "    computing connectivity for 34191 connections\n",
      "    using t=0.000s..10.000s for estimation (2001 points)\n",
      "    frequencies: 8.1Hz..12.0Hz (40 points)\n",
      "    connectivity scores will be averaged for each band\n",
      "    using FFT with a Hanning window to estimate spectra\n",
      "    the following metrics will be computed: Coherence\n",
      "    computing connectivity for epochs 1..28\n"
     ]
    },
    {
     "name": "stderr",
     "output_type": "stream",
     "text": [
      "/storage/store3/work/kachardo/adhd_brain_functional_connectivity/get_data.py:46: RuntimeWarning: There were no Annotations stored in <EpochsFIF |  28 events (all good), 0 – 10 s, baseline off, ~112.6 MB, data loaded,\n",
      " 'rest': 28>, so metadata was not modified.\n",
      "  connectivity = spectral_connectivity_epochs(epoch, fmin = frequency_bands[band][0], fmax = frequency_bands[band][1], faverage=True, n_jobs=40, mode = 'fourier', method = 'coh')\n",
      "[Parallel(n_jobs=40)]: Using backend LokyBackend with 40 concurrent workers.\n",
      "[Parallel(n_jobs=40)]: Done   7 out of  28 | elapsed:    0.4s remaining:    1.3s\n",
      "[Parallel(n_jobs=40)]: Done  13 out of  28 | elapsed:    0.7s remaining:    0.8s\n",
      "[Parallel(n_jobs=40)]: Done  19 out of  28 | elapsed:    0.9s remaining:    0.4s\n",
      "[Parallel(n_jobs=40)]: Done  25 out of  28 | elapsed:    1.2s remaining:    0.1s\n",
      "[Parallel(n_jobs=40)]: Done  28 out of  28 | elapsed:    1.3s finished\n"
     ]
    },
    {
     "name": "stdout",
     "output_type": "stream",
     "text": [
      "    assembling connectivity matrix\n",
      "[Connectivity computation done]\n",
      "[0.         0.44043112 0.         ... 0.07757515 0.02693801 0.        ]\n"
     ]
    },
    {
     "name": "stderr",
     "output_type": "stream",
     "text": [
      "/storage/store3/work/kachardo/adhd_brain_functional_connectivity/get_data.py:40: FutureWarning: Calling int on a single element Series is deprecated and will raise a TypeError in the future. Use int(ser.iloc[0]) instead\n",
      "  session = int(subjects_data[subjects_data['subject_id']==subject[4:]]['session'])\n"
     ]
    },
    {
     "name": "stdout",
     "output_type": "stream",
     "text": [
      "Removing 5 compensators from info because not all compensation channels were picked.\n",
      "Connectivity computation...\n",
      "only using indices for lower-triangular matrix\n",
      "    computing connectivity for 34191 connections\n",
      "    using t=0.000s..10.000s for estimation (2001 points)\n",
      "    frequencies: 8.1Hz..12.0Hz (40 points)\n",
      "    connectivity scores will be averaged for each band\n",
      "    using FFT with a Hanning window to estimate spectra\n",
      "    the following metrics will be computed: Coherence\n",
      "    computing connectivity for epochs 1..28\n"
     ]
    },
    {
     "name": "stderr",
     "output_type": "stream",
     "text": [
      "/storage/store3/work/kachardo/adhd_brain_functional_connectivity/get_data.py:46: RuntimeWarning: There were no Annotations stored in <EpochsFIF |  28 events (all good), 0 – 10 s, baseline off, ~112.6 MB, data loaded,\n",
      " 'rest': 28>, so metadata was not modified.\n",
      "  connectivity = spectral_connectivity_epochs(epoch, fmin = frequency_bands[band][0], fmax = frequency_bands[band][1], faverage=True, n_jobs=40, mode = 'fourier', method = 'coh')\n",
      "[Parallel(n_jobs=40)]: Using backend LokyBackend with 40 concurrent workers.\n",
      "[Parallel(n_jobs=40)]: Done   7 out of  28 | elapsed:    0.5s remaining:    1.6s\n",
      "[Parallel(n_jobs=40)]: Done  13 out of  28 | elapsed:    0.8s remaining:    0.9s\n",
      "[Parallel(n_jobs=40)]: Done  19 out of  28 | elapsed:    1.1s remaining:    0.5s\n",
      "[Parallel(n_jobs=40)]: Done  25 out of  28 | elapsed:    1.3s remaining:    0.2s\n",
      "[Parallel(n_jobs=40)]: Done  28 out of  28 | elapsed:    1.5s finished\n"
     ]
    },
    {
     "name": "stdout",
     "output_type": "stream",
     "text": [
      "    assembling connectivity matrix\n",
      "[Connectivity computation done]\n",
      "[0.         0.5030765  0.         ... 0.04478747 0.07601697 0.        ]\n"
     ]
    },
    {
     "name": "stderr",
     "output_type": "stream",
     "text": [
      "/storage/store3/work/kachardo/adhd_brain_functional_connectivity/get_data.py:40: FutureWarning: Calling int on a single element Series is deprecated and will raise a TypeError in the future. Use int(ser.iloc[0]) instead\n",
      "  session = int(subjects_data[subjects_data['subject_id']==subject[4:]]['session'])\n"
     ]
    },
    {
     "name": "stdout",
     "output_type": "stream",
     "text": [
      "Removing 5 compensators from info because not all compensation channels were picked.\n",
      "Connectivity computation...\n",
      "only using indices for lower-triangular matrix\n",
      "    computing connectivity for 34191 connections\n",
      "    using t=0.000s..10.000s for estimation (2001 points)\n",
      "    frequencies: 8.1Hz..12.0Hz (40 points)\n",
      "    connectivity scores will be averaged for each band\n",
      "    using FFT with a Hanning window to estimate spectra\n",
      "    the following metrics will be computed: Coherence\n",
      "    computing connectivity for epochs 1..28\n"
     ]
    },
    {
     "name": "stderr",
     "output_type": "stream",
     "text": [
      "/storage/store3/work/kachardo/adhd_brain_functional_connectivity/get_data.py:46: RuntimeWarning: There were no Annotations stored in <EpochsFIF |  28 events (all good), 0 – 10 s, baseline off, ~112.6 MB, data loaded,\n",
      " 'rest': 28>, so metadata was not modified.\n",
      "  connectivity = spectral_connectivity_epochs(epoch, fmin = frequency_bands[band][0], fmax = frequency_bands[band][1], faverage=True, n_jobs=40, mode = 'fourier', method = 'coh')\n",
      "[Parallel(n_jobs=40)]: Using backend LokyBackend with 40 concurrent workers.\n",
      "[Parallel(n_jobs=40)]: Done   7 out of  28 | elapsed:    0.5s remaining:    1.4s\n",
      "[Parallel(n_jobs=40)]: Done  13 out of  28 | elapsed:    0.7s remaining:    0.8s\n",
      "[Parallel(n_jobs=40)]: Done  19 out of  28 | elapsed:    1.0s remaining:    0.5s\n",
      "[Parallel(n_jobs=40)]: Done  25 out of  28 | elapsed:    1.3s remaining:    0.2s\n",
      "[Parallel(n_jobs=40)]: Done  28 out of  28 | elapsed:    1.4s finished\n"
     ]
    },
    {
     "name": "stdout",
     "output_type": "stream",
     "text": [
      "    assembling connectivity matrix\n",
      "[Connectivity computation done]\n",
      "[0.         0.38051542 0.         ... 0.13374616 0.0456663  0.        ]\n"
     ]
    },
    {
     "name": "stderr",
     "output_type": "stream",
     "text": [
      "/storage/store3/work/kachardo/adhd_brain_functional_connectivity/get_data.py:40: FutureWarning: Calling int on a single element Series is deprecated and will raise a TypeError in the future. Use int(ser.iloc[0]) instead\n",
      "  session = int(subjects_data[subjects_data['subject_id']==subject[4:]]['session'])\n"
     ]
    },
    {
     "name": "stdout",
     "output_type": "stream",
     "text": [
      "Removing 5 compensators from info because not all compensation channels were picked.\n",
      "Connectivity computation...\n",
      "only using indices for lower-triangular matrix\n",
      "    computing connectivity for 34191 connections\n",
      "    using t=0.000s..10.000s for estimation (2001 points)\n",
      "    frequencies: 8.1Hz..12.0Hz (40 points)\n",
      "    connectivity scores will be averaged for each band\n",
      "    using FFT with a Hanning window to estimate spectra\n",
      "    the following metrics will be computed: Coherence\n",
      "    computing connectivity for epochs 1..28\n"
     ]
    },
    {
     "name": "stderr",
     "output_type": "stream",
     "text": [
      "/storage/store3/work/kachardo/adhd_brain_functional_connectivity/get_data.py:46: RuntimeWarning: There were no Annotations stored in <EpochsFIF |  28 events (all good), 0 – 10 s, baseline off, ~112.6 MB, data loaded,\n",
      " 'rest': 28>, so metadata was not modified.\n",
      "  connectivity = spectral_connectivity_epochs(epoch, fmin = frequency_bands[band][0], fmax = frequency_bands[band][1], faverage=True, n_jobs=40, mode = 'fourier', method = 'coh')\n",
      "[Parallel(n_jobs=40)]: Using backend LokyBackend with 40 concurrent workers.\n",
      "[Parallel(n_jobs=40)]: Done   7 out of  28 | elapsed:    0.5s remaining:    1.4s\n",
      "[Parallel(n_jobs=40)]: Done  13 out of  28 | elapsed:    0.8s remaining:    0.9s\n",
      "[Parallel(n_jobs=40)]: Done  19 out of  28 | elapsed:    1.0s remaining:    0.5s\n",
      "[Parallel(n_jobs=40)]: Done  25 out of  28 | elapsed:    1.3s remaining:    0.2s\n",
      "[Parallel(n_jobs=40)]: Done  28 out of  28 | elapsed:    1.4s finished\n"
     ]
    },
    {
     "name": "stdout",
     "output_type": "stream",
     "text": [
      "    assembling connectivity matrix\n",
      "[Connectivity computation done]\n",
      "[0.         0.46570358 0.         ... 0.07677637 0.05511218 0.        ]\n"
     ]
    },
    {
     "name": "stderr",
     "output_type": "stream",
     "text": [
      "/storage/store3/work/kachardo/adhd_brain_functional_connectivity/get_data.py:40: FutureWarning: Calling int on a single element Series is deprecated and will raise a TypeError in the future. Use int(ser.iloc[0]) instead\n",
      "  session = int(subjects_data[subjects_data['subject_id']==subject[4:]]['session'])\n"
     ]
    },
    {
     "name": "stdout",
     "output_type": "stream",
     "text": [
      "Removing 5 compensators from info because not all compensation channels were picked.\n",
      "Connectivity computation...\n",
      "only using indices for lower-triangular matrix\n",
      "    computing connectivity for 34191 connections\n",
      "    using t=0.000s..10.000s for estimation (2001 points)\n",
      "    frequencies: 8.1Hz..12.0Hz (40 points)\n",
      "    connectivity scores will be averaged for each band\n",
      "    using FFT with a Hanning window to estimate spectra\n",
      "    the following metrics will be computed: Coherence\n",
      "    computing connectivity for epochs 1..28\n"
     ]
    },
    {
     "name": "stderr",
     "output_type": "stream",
     "text": [
      "/storage/store3/work/kachardo/adhd_brain_functional_connectivity/get_data.py:46: RuntimeWarning: There were no Annotations stored in <EpochsFIF |  28 events (all good), 0 – 10 s, baseline off, ~112.6 MB, data loaded,\n",
      " 'rest': 28>, so metadata was not modified.\n",
      "  connectivity = spectral_connectivity_epochs(epoch, fmin = frequency_bands[band][0], fmax = frequency_bands[band][1], faverage=True, n_jobs=40, mode = 'fourier', method = 'coh')\n",
      "[Parallel(n_jobs=40)]: Using backend LokyBackend with 40 concurrent workers.\n",
      "[Parallel(n_jobs=40)]: Done   7 out of  28 | elapsed:    0.5s remaining:    1.5s\n",
      "[Parallel(n_jobs=40)]: Done  13 out of  28 | elapsed:    0.8s remaining:    0.9s\n",
      "[Parallel(n_jobs=40)]: Done  19 out of  28 | elapsed:    1.0s remaining:    0.5s\n",
      "[Parallel(n_jobs=40)]: Done  25 out of  28 | elapsed:    1.3s remaining:    0.2s\n",
      "[Parallel(n_jobs=40)]: Done  28 out of  28 | elapsed:    1.4s finished\n"
     ]
    },
    {
     "name": "stdout",
     "output_type": "stream",
     "text": [
      "    assembling connectivity matrix\n",
      "[Connectivity computation done]\n",
      "[0.         0.59897313 0.         ... 0.04908803 0.05973408 0.        ]\n"
     ]
    },
    {
     "name": "stderr",
     "output_type": "stream",
     "text": [
      "/storage/store3/work/kachardo/adhd_brain_functional_connectivity/get_data.py:40: FutureWarning: Calling int on a single element Series is deprecated and will raise a TypeError in the future. Use int(ser.iloc[0]) instead\n",
      "  session = int(subjects_data[subjects_data['subject_id']==subject[4:]]['session'])\n"
     ]
    },
    {
     "name": "stdout",
     "output_type": "stream",
     "text": [
      "Removing 5 compensators from info because not all compensation channels were picked.\n",
      "Connectivity computation...\n",
      "only using indices for lower-triangular matrix\n",
      "    computing connectivity for 34191 connections\n",
      "    using t=0.000s..10.000s for estimation (2001 points)\n",
      "    frequencies: 8.1Hz..12.0Hz (40 points)\n",
      "    connectivity scores will be averaged for each band\n",
      "    using FFT with a Hanning window to estimate spectra\n",
      "    the following metrics will be computed: Coherence\n",
      "    computing connectivity for epochs 1..28\n"
     ]
    },
    {
     "name": "stderr",
     "output_type": "stream",
     "text": [
      "/storage/store3/work/kachardo/adhd_brain_functional_connectivity/get_data.py:46: RuntimeWarning: There were no Annotations stored in <EpochsFIF |  28 events (all good), 0 – 10 s, baseline off, ~112.6 MB, data loaded,\n",
      " 'rest': 28>, so metadata was not modified.\n",
      "  connectivity = spectral_connectivity_epochs(epoch, fmin = frequency_bands[band][0], fmax = frequency_bands[band][1], faverage=True, n_jobs=40, mode = 'fourier', method = 'coh')\n",
      "[Parallel(n_jobs=40)]: Using backend LokyBackend with 40 concurrent workers.\n",
      "[Parallel(n_jobs=40)]: Done   7 out of  28 | elapsed:    0.5s remaining:    1.5s\n",
      "[Parallel(n_jobs=40)]: Done  13 out of  28 | elapsed:    0.8s remaining:    0.9s\n",
      "[Parallel(n_jobs=40)]: Done  19 out of  28 | elapsed:    1.0s remaining:    0.5s\n",
      "[Parallel(n_jobs=40)]: Done  25 out of  28 | elapsed:    1.3s remaining:    0.2s\n",
      "[Parallel(n_jobs=40)]: Done  28 out of  28 | elapsed:    1.4s finished\n"
     ]
    },
    {
     "name": "stdout",
     "output_type": "stream",
     "text": [
      "    assembling connectivity matrix\n",
      "[Connectivity computation done]\n",
      "[0.         0.4044416  0.         ... 0.04055666 0.02321145 0.        ]\n"
     ]
    },
    {
     "name": "stderr",
     "output_type": "stream",
     "text": [
      "/storage/store3/work/kachardo/adhd_brain_functional_connectivity/get_data.py:40: FutureWarning: Calling int on a single element Series is deprecated and will raise a TypeError in the future. Use int(ser.iloc[0]) instead\n",
      "  session = int(subjects_data[subjects_data['subject_id']==subject[4:]]['session'])\n"
     ]
    },
    {
     "name": "stdout",
     "output_type": "stream",
     "text": [
      "Removing 5 compensators from info because not all compensation channels were picked.\n",
      "Connectivity computation...\n",
      "only using indices for lower-triangular matrix\n",
      "    computing connectivity for 34191 connections\n",
      "    using t=0.000s..10.000s for estimation (2001 points)\n",
      "    frequencies: 8.1Hz..12.0Hz (40 points)\n",
      "    connectivity scores will be averaged for each band\n",
      "    using FFT with a Hanning window to estimate spectra\n",
      "    the following metrics will be computed: Coherence\n",
      "    computing connectivity for epochs 1..28\n"
     ]
    },
    {
     "name": "stderr",
     "output_type": "stream",
     "text": [
      "/storage/store3/work/kachardo/adhd_brain_functional_connectivity/get_data.py:46: RuntimeWarning: There were no Annotations stored in <EpochsFIF |  28 events (all good), 0 – 10 s, baseline off, ~112.6 MB, data loaded,\n",
      " 'rest': 28>, so metadata was not modified.\n",
      "  connectivity = spectral_connectivity_epochs(epoch, fmin = frequency_bands[band][0], fmax = frequency_bands[band][1], faverage=True, n_jobs=40, mode = 'fourier', method = 'coh')\n",
      "[Parallel(n_jobs=40)]: Using backend LokyBackend with 40 concurrent workers.\n",
      "[Parallel(n_jobs=40)]: Done   7 out of  28 | elapsed:    0.5s remaining:    1.5s\n",
      "[Parallel(n_jobs=40)]: Done  13 out of  28 | elapsed:    0.8s remaining:    0.9s\n",
      "[Parallel(n_jobs=40)]: Done  19 out of  28 | elapsed:    1.0s remaining:    0.5s\n",
      "[Parallel(n_jobs=40)]: Done  25 out of  28 | elapsed:    1.3s remaining:    0.2s\n",
      "[Parallel(n_jobs=40)]: Done  28 out of  28 | elapsed:    1.4s finished\n"
     ]
    },
    {
     "name": "stdout",
     "output_type": "stream",
     "text": [
      "    assembling connectivity matrix\n",
      "[Connectivity computation done]\n",
      "[0.         0.39561019 0.         ... 0.08481497 0.03650256 0.        ]\n"
     ]
    },
    {
     "name": "stderr",
     "output_type": "stream",
     "text": [
      "/storage/store3/work/kachardo/adhd_brain_functional_connectivity/get_data.py:40: FutureWarning: Calling int on a single element Series is deprecated and will raise a TypeError in the future. Use int(ser.iloc[0]) instead\n",
      "  session = int(subjects_data[subjects_data['subject_id']==subject[4:]]['session'])\n"
     ]
    },
    {
     "name": "stdout",
     "output_type": "stream",
     "text": [
      "Removing 5 compensators from info because not all compensation channels were picked.\n",
      "Connectivity computation...\n",
      "only using indices for lower-triangular matrix\n",
      "    computing connectivity for 34191 connections\n",
      "    using t=0.000s..10.000s for estimation (2001 points)\n",
      "    frequencies: 8.1Hz..12.0Hz (40 points)\n",
      "    connectivity scores will be averaged for each band\n",
      "    using FFT with a Hanning window to estimate spectra\n",
      "    the following metrics will be computed: Coherence\n",
      "    computing connectivity for epochs 1..28\n"
     ]
    },
    {
     "name": "stderr",
     "output_type": "stream",
     "text": [
      "/storage/store3/work/kachardo/adhd_brain_functional_connectivity/get_data.py:46: RuntimeWarning: There were no Annotations stored in <EpochsFIF |  28 events (all good), 0 – 10 s, baseline off, ~112.6 MB, data loaded,\n",
      " 'rest': 28>, so metadata was not modified.\n",
      "  connectivity = spectral_connectivity_epochs(epoch, fmin = frequency_bands[band][0], fmax = frequency_bands[band][1], faverage=True, n_jobs=40, mode = 'fourier', method = 'coh')\n",
      "[Parallel(n_jobs=40)]: Using backend LokyBackend with 40 concurrent workers.\n",
      "[Parallel(n_jobs=40)]: Done   7 out of  28 | elapsed:    0.5s remaining:    1.6s\n",
      "[Parallel(n_jobs=40)]: Done  13 out of  28 | elapsed:    0.8s remaining:    0.9s\n",
      "[Parallel(n_jobs=40)]: Done  19 out of  28 | elapsed:    1.1s remaining:    0.5s\n",
      "[Parallel(n_jobs=40)]: Done  25 out of  28 | elapsed:    1.4s remaining:    0.2s\n",
      "[Parallel(n_jobs=40)]: Done  28 out of  28 | elapsed:    1.5s finished\n"
     ]
    },
    {
     "name": "stdout",
     "output_type": "stream",
     "text": [
      "    assembling connectivity matrix\n",
      "[Connectivity computation done]\n",
      "[0.         0.34789697 0.         ... 0.10438352 0.03107976 0.        ]\n"
     ]
    },
    {
     "name": "stderr",
     "output_type": "stream",
     "text": [
      "/storage/store3/work/kachardo/adhd_brain_functional_connectivity/get_data.py:40: FutureWarning: Calling int on a single element Series is deprecated and will raise a TypeError in the future. Use int(ser.iloc[0]) instead\n",
      "  session = int(subjects_data[subjects_data['subject_id']==subject[4:]]['session'])\n"
     ]
    },
    {
     "name": "stdout",
     "output_type": "stream",
     "text": [
      "Removing 5 compensators from info because not all compensation channels were picked.\n",
      "Connectivity computation...\n",
      "only using indices for lower-triangular matrix\n",
      "    computing connectivity for 34191 connections\n",
      "    using t=0.000s..10.000s for estimation (2001 points)\n",
      "    frequencies: 8.1Hz..12.0Hz (40 points)\n",
      "    connectivity scores will be averaged for each band\n",
      "    using FFT with a Hanning window to estimate spectra\n",
      "    the following metrics will be computed: Coherence\n",
      "    computing connectivity for epochs 1..28\n"
     ]
    },
    {
     "name": "stderr",
     "output_type": "stream",
     "text": [
      "/storage/store3/work/kachardo/adhd_brain_functional_connectivity/get_data.py:46: RuntimeWarning: There were no Annotations stored in <EpochsFIF |  28 events (all good), 0 – 10 s, baseline off, ~112.6 MB, data loaded,\n",
      " 'rest': 28>, so metadata was not modified.\n",
      "  connectivity = spectral_connectivity_epochs(epoch, fmin = frequency_bands[band][0], fmax = frequency_bands[band][1], faverage=True, n_jobs=40, mode = 'fourier', method = 'coh')\n",
      "[Parallel(n_jobs=40)]: Using backend LokyBackend with 40 concurrent workers.\n",
      "[Parallel(n_jobs=40)]: Done   7 out of  28 | elapsed:    0.5s remaining:    1.5s\n",
      "[Parallel(n_jobs=40)]: Done  13 out of  28 | elapsed:    0.8s remaining:    0.9s\n",
      "[Parallel(n_jobs=40)]: Done  19 out of  28 | elapsed:    1.0s remaining:    0.5s\n",
      "[Parallel(n_jobs=40)]: Done  25 out of  28 | elapsed:    1.2s remaining:    0.1s\n",
      "[Parallel(n_jobs=40)]: Done  28 out of  28 | elapsed:    1.4s finished\n"
     ]
    },
    {
     "name": "stdout",
     "output_type": "stream",
     "text": [
      "    assembling connectivity matrix\n",
      "[Connectivity computation done]\n",
      "[0.         0.42240684 0.         ... 0.11544845 0.03695507 0.        ]\n"
     ]
    },
    {
     "name": "stderr",
     "output_type": "stream",
     "text": [
      "/storage/store3/work/kachardo/adhd_brain_functional_connectivity/get_data.py:40: FutureWarning: Calling int on a single element Series is deprecated and will raise a TypeError in the future. Use int(ser.iloc[0]) instead\n",
      "  session = int(subjects_data[subjects_data['subject_id']==subject[4:]]['session'])\n"
     ]
    },
    {
     "name": "stdout",
     "output_type": "stream",
     "text": [
      "Removing 5 compensators from info because not all compensation channels were picked.\n",
      "Connectivity computation...\n",
      "only using indices for lower-triangular matrix\n",
      "    computing connectivity for 34191 connections\n",
      "    using t=0.000s..10.000s for estimation (2001 points)\n",
      "    frequencies: 8.1Hz..12.0Hz (40 points)\n",
      "    connectivity scores will be averaged for each band\n",
      "    using FFT with a Hanning window to estimate spectra\n",
      "    the following metrics will be computed: Coherence\n",
      "    computing connectivity for epochs 1..28\n"
     ]
    },
    {
     "name": "stderr",
     "output_type": "stream",
     "text": [
      "/storage/store3/work/kachardo/adhd_brain_functional_connectivity/get_data.py:46: RuntimeWarning: There were no Annotations stored in <EpochsFIF |  28 events (all good), 0 – 10 s, baseline off, ~112.6 MB, data loaded,\n",
      " 'rest': 28>, so metadata was not modified.\n",
      "  connectivity = spectral_connectivity_epochs(epoch, fmin = frequency_bands[band][0], fmax = frequency_bands[band][1], faverage=True, n_jobs=40, mode = 'fourier', method = 'coh')\n",
      "[Parallel(n_jobs=40)]: Using backend LokyBackend with 40 concurrent workers.\n",
      "[Parallel(n_jobs=40)]: Done   7 out of  28 | elapsed:    0.5s remaining:    1.5s\n",
      "[Parallel(n_jobs=40)]: Done  13 out of  28 | elapsed:    0.7s remaining:    0.8s\n",
      "[Parallel(n_jobs=40)]: Done  19 out of  28 | elapsed:    1.0s remaining:    0.5s\n",
      "[Parallel(n_jobs=40)]: Done  25 out of  28 | elapsed:    1.2s remaining:    0.1s\n",
      "[Parallel(n_jobs=40)]: Done  28 out of  28 | elapsed:    1.4s finished\n"
     ]
    },
    {
     "name": "stdout",
     "output_type": "stream",
     "text": [
      "    assembling connectivity matrix\n",
      "[Connectivity computation done]\n",
      "[0.         0.23354979 0.         ... 0.07494253 0.03176118 0.        ]\n"
     ]
    },
    {
     "name": "stderr",
     "output_type": "stream",
     "text": [
      "/storage/store3/work/kachardo/adhd_brain_functional_connectivity/get_data.py:40: FutureWarning: Calling int on a single element Series is deprecated and will raise a TypeError in the future. Use int(ser.iloc[0]) instead\n",
      "  session = int(subjects_data[subjects_data['subject_id']==subject[4:]]['session'])\n"
     ]
    },
    {
     "name": "stdout",
     "output_type": "stream",
     "text": [
      "Removing 5 compensators from info because not all compensation channels were picked.\n",
      "Connectivity computation...\n",
      "only using indices for lower-triangular matrix\n",
      "    computing connectivity for 34191 connections\n",
      "    using t=0.000s..10.000s for estimation (2001 points)\n",
      "    frequencies: 8.1Hz..12.0Hz (40 points)\n",
      "    connectivity scores will be averaged for each band\n",
      "    using FFT with a Hanning window to estimate spectra\n",
      "    the following metrics will be computed: Coherence\n",
      "    computing connectivity for epochs 1..28\n"
     ]
    },
    {
     "name": "stderr",
     "output_type": "stream",
     "text": [
      "/storage/store3/work/kachardo/adhd_brain_functional_connectivity/get_data.py:46: RuntimeWarning: There were no Annotations stored in <EpochsFIF |  28 events (all good), 0 – 10 s, baseline off, ~112.6 MB, data loaded,\n",
      " 'rest': 28>, so metadata was not modified.\n",
      "  connectivity = spectral_connectivity_epochs(epoch, fmin = frequency_bands[band][0], fmax = frequency_bands[band][1], faverage=True, n_jobs=40, mode = 'fourier', method = 'coh')\n",
      "[Parallel(n_jobs=40)]: Using backend LokyBackend with 40 concurrent workers.\n",
      "[Parallel(n_jobs=40)]: Done   7 out of  28 | elapsed:    0.5s remaining:    1.5s\n",
      "[Parallel(n_jobs=40)]: Done  13 out of  28 | elapsed:    0.8s remaining:    0.9s\n",
      "[Parallel(n_jobs=40)]: Done  19 out of  28 | elapsed:    1.0s remaining:    0.5s\n",
      "[Parallel(n_jobs=40)]: Done  25 out of  28 | elapsed:    1.3s remaining:    0.2s\n",
      "[Parallel(n_jobs=40)]: Done  28 out of  28 | elapsed:    1.4s finished\n"
     ]
    },
    {
     "name": "stdout",
     "output_type": "stream",
     "text": [
      "    assembling connectivity matrix\n",
      "[Connectivity computation done]\n",
      "[0.         0.39984913 0.         ... 0.20122417 0.03094872 0.        ]\n"
     ]
    },
    {
     "name": "stderr",
     "output_type": "stream",
     "text": [
      "/storage/store3/work/kachardo/adhd_brain_functional_connectivity/get_data.py:40: FutureWarning: Calling int on a single element Series is deprecated and will raise a TypeError in the future. Use int(ser.iloc[0]) instead\n",
      "  session = int(subjects_data[subjects_data['subject_id']==subject[4:]]['session'])\n"
     ]
    },
    {
     "name": "stdout",
     "output_type": "stream",
     "text": [
      "Removing 5 compensators from info because not all compensation channels were picked.\n",
      "Connectivity computation...\n",
      "only using indices for lower-triangular matrix\n",
      "    computing connectivity for 34191 connections\n",
      "    using t=0.000s..10.000s for estimation (2001 points)\n",
      "    frequencies: 8.1Hz..12.0Hz (40 points)\n",
      "    connectivity scores will be averaged for each band\n",
      "    using FFT with a Hanning window to estimate spectra\n",
      "    the following metrics will be computed: Coherence\n",
      "    computing connectivity for epochs 1..28\n"
     ]
    },
    {
     "name": "stderr",
     "output_type": "stream",
     "text": [
      "/storage/store3/work/kachardo/adhd_brain_functional_connectivity/get_data.py:46: RuntimeWarning: There were no Annotations stored in <EpochsFIF |  28 events (all good), 0 – 10 s, baseline off, ~112.6 MB, data loaded,\n",
      " 'rest': 28>, so metadata was not modified.\n",
      "  connectivity = spectral_connectivity_epochs(epoch, fmin = frequency_bands[band][0], fmax = frequency_bands[band][1], faverage=True, n_jobs=40, mode = 'fourier', method = 'coh')\n",
      "[Parallel(n_jobs=40)]: Using backend LokyBackend with 40 concurrent workers.\n",
      "[Parallel(n_jobs=40)]: Done   7 out of  28 | elapsed:    0.5s remaining:    1.5s\n",
      "[Parallel(n_jobs=40)]: Done  13 out of  28 | elapsed:    0.7s remaining:    0.8s\n",
      "[Parallel(n_jobs=40)]: Done  19 out of  28 | elapsed:    1.0s remaining:    0.5s\n",
      "[Parallel(n_jobs=40)]: Done  25 out of  28 | elapsed:    1.2s remaining:    0.1s\n",
      "[Parallel(n_jobs=40)]: Done  28 out of  28 | elapsed:    1.4s finished\n"
     ]
    },
    {
     "name": "stdout",
     "output_type": "stream",
     "text": [
      "    assembling connectivity matrix\n",
      "[Connectivity computation done]\n",
      "[0.         0.23974487 0.         ... 0.31811478 0.08729489 0.        ]\n"
     ]
    },
    {
     "name": "stderr",
     "output_type": "stream",
     "text": [
      "/storage/store3/work/kachardo/adhd_brain_functional_connectivity/get_data.py:40: FutureWarning: Calling int on a single element Series is deprecated and will raise a TypeError in the future. Use int(ser.iloc[0]) instead\n",
      "  session = int(subjects_data[subjects_data['subject_id']==subject[4:]]['session'])\n"
     ]
    },
    {
     "name": "stdout",
     "output_type": "stream",
     "text": [
      "Removing 5 compensators from info because not all compensation channels were picked.\n",
      "Connectivity computation...\n",
      "only using indices for lower-triangular matrix\n",
      "    computing connectivity for 34191 connections\n",
      "    using t=0.000s..10.000s for estimation (2001 points)\n",
      "    frequencies: 8.1Hz..12.0Hz (40 points)\n",
      "    connectivity scores will be averaged for each band\n",
      "    using FFT with a Hanning window to estimate spectra\n",
      "    the following metrics will be computed: Coherence\n",
      "    computing connectivity for epochs 1..28\n"
     ]
    },
    {
     "name": "stderr",
     "output_type": "stream",
     "text": [
      "/storage/store3/work/kachardo/adhd_brain_functional_connectivity/get_data.py:46: RuntimeWarning: There were no Annotations stored in <EpochsFIF |  28 events (all good), 0 – 10 s, baseline off, ~112.6 MB, data loaded,\n",
      " 'rest': 28>, so metadata was not modified.\n",
      "  connectivity = spectral_connectivity_epochs(epoch, fmin = frequency_bands[band][0], fmax = frequency_bands[band][1], faverage=True, n_jobs=40, mode = 'fourier', method = 'coh')\n",
      "[Parallel(n_jobs=40)]: Using backend LokyBackend with 40 concurrent workers.\n",
      "[Parallel(n_jobs=40)]: Done   7 out of  28 | elapsed:    0.5s remaining:    1.6s\n",
      "[Parallel(n_jobs=40)]: Done  13 out of  28 | elapsed:    0.8s remaining:    0.9s\n",
      "[Parallel(n_jobs=40)]: Done  19 out of  28 | elapsed:    1.1s remaining:    0.5s\n",
      "[Parallel(n_jobs=40)]: Done  25 out of  28 | elapsed:    1.3s remaining:    0.2s\n",
      "[Parallel(n_jobs=40)]: Done  28 out of  28 | elapsed:    1.4s finished\n"
     ]
    },
    {
     "name": "stdout",
     "output_type": "stream",
     "text": [
      "    assembling connectivity matrix\n",
      "[Connectivity computation done]\n",
      "[0.         0.35152114 0.         ... 0.09610976 0.0426398  0.        ]\n"
     ]
    },
    {
     "name": "stderr",
     "output_type": "stream",
     "text": [
      "/storage/store3/work/kachardo/adhd_brain_functional_connectivity/get_data.py:40: FutureWarning: Calling int on a single element Series is deprecated and will raise a TypeError in the future. Use int(ser.iloc[0]) instead\n",
      "  session = int(subjects_data[subjects_data['subject_id']==subject[4:]]['session'])\n"
     ]
    },
    {
     "name": "stdout",
     "output_type": "stream",
     "text": [
      "Removing 5 compensators from info because not all compensation channels were picked.\n",
      "Connectivity computation...\n",
      "only using indices for lower-triangular matrix\n",
      "    computing connectivity for 34191 connections\n",
      "    using t=0.000s..10.000s for estimation (2001 points)\n",
      "    frequencies: 8.1Hz..12.0Hz (40 points)\n",
      "    connectivity scores will be averaged for each band\n",
      "    using FFT with a Hanning window to estimate spectra\n",
      "    the following metrics will be computed: Coherence\n",
      "    computing connectivity for epochs 1..28\n"
     ]
    },
    {
     "name": "stderr",
     "output_type": "stream",
     "text": [
      "/storage/store3/work/kachardo/adhd_brain_functional_connectivity/get_data.py:46: RuntimeWarning: There were no Annotations stored in <EpochsFIF |  28 events (all good), 0 – 10 s, baseline off, ~112.6 MB, data loaded,\n",
      " 'rest': 28>, so metadata was not modified.\n",
      "  connectivity = spectral_connectivity_epochs(epoch, fmin = frequency_bands[band][0], fmax = frequency_bands[band][1], faverage=True, n_jobs=40, mode = 'fourier', method = 'coh')\n",
      "[Parallel(n_jobs=40)]: Using backend LokyBackend with 40 concurrent workers.\n",
      "[Parallel(n_jobs=40)]: Done   7 out of  28 | elapsed:    0.5s remaining:    1.5s\n",
      "[Parallel(n_jobs=40)]: Done  13 out of  28 | elapsed:    0.8s remaining:    0.9s\n",
      "[Parallel(n_jobs=40)]: Done  19 out of  28 | elapsed:    1.0s remaining:    0.5s\n",
      "[Parallel(n_jobs=40)]: Done  25 out of  28 | elapsed:    1.3s remaining:    0.2s\n",
      "[Parallel(n_jobs=40)]: Done  28 out of  28 | elapsed:    1.4s finished\n"
     ]
    },
    {
     "name": "stdout",
     "output_type": "stream",
     "text": [
      "    assembling connectivity matrix\n",
      "[Connectivity computation done]\n",
      "[0.         0.32053181 0.         ... 0.12037409 0.0347692  0.        ]\n"
     ]
    },
    {
     "name": "stderr",
     "output_type": "stream",
     "text": [
      "/storage/store3/work/kachardo/adhd_brain_functional_connectivity/get_data.py:40: FutureWarning: Calling int on a single element Series is deprecated and will raise a TypeError in the future. Use int(ser.iloc[0]) instead\n",
      "  session = int(subjects_data[subjects_data['subject_id']==subject[4:]]['session'])\n"
     ]
    },
    {
     "name": "stdout",
     "output_type": "stream",
     "text": [
      "Removing 5 compensators from info because not all compensation channels were picked.\n",
      "Connectivity computation...\n",
      "only using indices for lower-triangular matrix\n",
      "    computing connectivity for 34191 connections\n",
      "    using t=0.000s..10.000s for estimation (2001 points)\n",
      "    frequencies: 8.1Hz..12.0Hz (40 points)\n",
      "    connectivity scores will be averaged for each band\n",
      "    using FFT with a Hanning window to estimate spectra\n",
      "    the following metrics will be computed: Coherence\n",
      "    computing connectivity for epochs 1..28\n"
     ]
    },
    {
     "name": "stderr",
     "output_type": "stream",
     "text": [
      "/storage/store3/work/kachardo/adhd_brain_functional_connectivity/get_data.py:46: RuntimeWarning: There were no Annotations stored in <EpochsFIF |  28 events (all good), 0 – 10 s, baseline off, ~112.6 MB, data loaded,\n",
      " 'rest': 28>, so metadata was not modified.\n",
      "  connectivity = spectral_connectivity_epochs(epoch, fmin = frequency_bands[band][0], fmax = frequency_bands[band][1], faverage=True, n_jobs=40, mode = 'fourier', method = 'coh')\n",
      "[Parallel(n_jobs=40)]: Using backend LokyBackend with 40 concurrent workers.\n",
      "[Parallel(n_jobs=40)]: Done   7 out of  28 | elapsed:    0.5s remaining:    1.5s\n",
      "[Parallel(n_jobs=40)]: Done  13 out of  28 | elapsed:    0.8s remaining:    0.9s\n",
      "[Parallel(n_jobs=40)]: Done  19 out of  28 | elapsed:    1.0s remaining:    0.5s\n",
      "[Parallel(n_jobs=40)]: Done  25 out of  28 | elapsed:    1.2s remaining:    0.1s\n",
      "[Parallel(n_jobs=40)]: Done  28 out of  28 | elapsed:    1.4s finished\n"
     ]
    },
    {
     "name": "stdout",
     "output_type": "stream",
     "text": [
      "    assembling connectivity matrix\n",
      "[Connectivity computation done]\n",
      "[0.         0.28640277 0.         ... 0.06442791 0.05766833 0.        ]\n"
     ]
    },
    {
     "name": "stderr",
     "output_type": "stream",
     "text": [
      "/storage/store3/work/kachardo/adhd_brain_functional_connectivity/get_data.py:40: FutureWarning: Calling int on a single element Series is deprecated and will raise a TypeError in the future. Use int(ser.iloc[0]) instead\n",
      "  session = int(subjects_data[subjects_data['subject_id']==subject[4:]]['session'])\n"
     ]
    },
    {
     "name": "stdout",
     "output_type": "stream",
     "text": [
      "Removing 5 compensators from info because not all compensation channels were picked.\n",
      "Connectivity computation...\n",
      "only using indices for lower-triangular matrix\n",
      "    computing connectivity for 34191 connections\n",
      "    using t=0.000s..10.000s for estimation (2001 points)\n",
      "    frequencies: 8.1Hz..12.0Hz (40 points)\n",
      "    connectivity scores will be averaged for each band\n",
      "    using FFT with a Hanning window to estimate spectra\n",
      "    the following metrics will be computed: Coherence\n",
      "    computing connectivity for epochs 1..29\n"
     ]
    },
    {
     "name": "stderr",
     "output_type": "stream",
     "text": [
      "/storage/store3/work/kachardo/adhd_brain_functional_connectivity/get_data.py:46: RuntimeWarning: There were no Annotations stored in <EpochsFIF |  29 events (all good), 0 – 10 s, baseline off, ~116.6 MB, data loaded,\n",
      " 'rest': 29>, so metadata was not modified.\n",
      "  connectivity = spectral_connectivity_epochs(epoch, fmin = frequency_bands[band][0], fmax = frequency_bands[band][1], faverage=True, n_jobs=40, mode = 'fourier', method = 'coh')\n",
      "[Parallel(n_jobs=40)]: Using backend LokyBackend with 40 concurrent workers.\n",
      "[Parallel(n_jobs=40)]: Done   2 out of  29 | elapsed:    0.3s remaining:    4.0s\n",
      "[Parallel(n_jobs=40)]: Done   8 out of  29 | elapsed:    0.6s remaining:    1.6s\n",
      "[Parallel(n_jobs=40)]: Done  14 out of  29 | elapsed:    0.9s remaining:    0.9s\n",
      "[Parallel(n_jobs=40)]: Done  20 out of  29 | elapsed:    1.1s remaining:    0.5s\n",
      "[Parallel(n_jobs=40)]: Done  26 out of  29 | elapsed:    1.4s remaining:    0.2s\n",
      "[Parallel(n_jobs=40)]: Done  29 out of  29 | elapsed:    1.5s finished\n"
     ]
    },
    {
     "name": "stdout",
     "output_type": "stream",
     "text": [
      "    assembling connectivity matrix\n",
      "[Connectivity computation done]\n",
      "[0.         0.24583907 0.         ... 0.07761013 0.03918135 0.        ]\n"
     ]
    },
    {
     "name": "stderr",
     "output_type": "stream",
     "text": [
      "/storage/store3/work/kachardo/adhd_brain_functional_connectivity/get_data.py:40: FutureWarning: Calling int on a single element Series is deprecated and will raise a TypeError in the future. Use int(ser.iloc[0]) instead\n",
      "  session = int(subjects_data[subjects_data['subject_id']==subject[4:]]['session'])\n"
     ]
    },
    {
     "name": "stdout",
     "output_type": "stream",
     "text": [
      "Removing 5 compensators from info because not all compensation channels were picked.\n",
      "Connectivity computation...\n",
      "only using indices for lower-triangular matrix\n",
      "    computing connectivity for 34191 connections\n",
      "    using t=0.000s..10.000s for estimation (2001 points)\n",
      "    frequencies: 8.1Hz..12.0Hz (40 points)\n",
      "    connectivity scores will be averaged for each band\n",
      "    using FFT with a Hanning window to estimate spectra\n",
      "    the following metrics will be computed: Coherence\n",
      "    computing connectivity for epochs 1..28\n"
     ]
    },
    {
     "name": "stderr",
     "output_type": "stream",
     "text": [
      "/storage/store3/work/kachardo/adhd_brain_functional_connectivity/get_data.py:46: RuntimeWarning: There were no Annotations stored in <EpochsFIF |  28 events (all good), 0 – 10 s, baseline off, ~112.6 MB, data loaded,\n",
      " 'rest': 28>, so metadata was not modified.\n",
      "  connectivity = spectral_connectivity_epochs(epoch, fmin = frequency_bands[band][0], fmax = frequency_bands[band][1], faverage=True, n_jobs=40, mode = 'fourier', method = 'coh')\n",
      "[Parallel(n_jobs=40)]: Using backend LokyBackend with 40 concurrent workers.\n",
      "[Parallel(n_jobs=40)]: Done   7 out of  28 | elapsed:    0.5s remaining:    1.5s\n",
      "[Parallel(n_jobs=40)]: Done  13 out of  28 | elapsed:    0.7s remaining:    0.9s\n",
      "[Parallel(n_jobs=40)]: Done  19 out of  28 | elapsed:    1.0s remaining:    0.5s\n",
      "[Parallel(n_jobs=40)]: Done  25 out of  28 | elapsed:    1.2s remaining:    0.1s\n",
      "[Parallel(n_jobs=40)]: Done  28 out of  28 | elapsed:    1.3s finished\n"
     ]
    },
    {
     "name": "stdout",
     "output_type": "stream",
     "text": [
      "    assembling connectivity matrix\n",
      "[Connectivity computation done]\n",
      "[0.         0.19687158 0.         ... 0.06650435 0.02545393 0.        ]\n"
     ]
    },
    {
     "name": "stderr",
     "output_type": "stream",
     "text": [
      "/storage/store3/work/kachardo/adhd_brain_functional_connectivity/get_data.py:40: FutureWarning: Calling int on a single element Series is deprecated and will raise a TypeError in the future. Use int(ser.iloc[0]) instead\n",
      "  session = int(subjects_data[subjects_data['subject_id']==subject[4:]]['session'])\n"
     ]
    },
    {
     "name": "stdout",
     "output_type": "stream",
     "text": [
      "Removing 5 compensators from info because not all compensation channels were picked.\n",
      "Connectivity computation...\n",
      "only using indices for lower-triangular matrix\n",
      "    computing connectivity for 34191 connections\n",
      "    using t=0.000s..10.000s for estimation (2001 points)\n",
      "    frequencies: 8.1Hz..12.0Hz (40 points)\n",
      "    connectivity scores will be averaged for each band\n",
      "    using FFT with a Hanning window to estimate spectra\n",
      "    the following metrics will be computed: Coherence\n",
      "    computing connectivity for epochs 1..28\n"
     ]
    },
    {
     "name": "stderr",
     "output_type": "stream",
     "text": [
      "/storage/store3/work/kachardo/adhd_brain_functional_connectivity/get_data.py:46: RuntimeWarning: There were no Annotations stored in <EpochsFIF |  28 events (all good), 0 – 10 s, baseline off, ~112.6 MB, data loaded,\n",
      " 'rest': 28>, so metadata was not modified.\n",
      "  connectivity = spectral_connectivity_epochs(epoch, fmin = frequency_bands[band][0], fmax = frequency_bands[band][1], faverage=True, n_jobs=40, mode = 'fourier', method = 'coh')\n",
      "[Parallel(n_jobs=40)]: Using backend LokyBackend with 40 concurrent workers.\n",
      "[Parallel(n_jobs=40)]: Done   7 out of  28 | elapsed:    0.5s remaining:    1.5s\n",
      "[Parallel(n_jobs=40)]: Done  13 out of  28 | elapsed:    0.7s remaining:    0.9s\n",
      "[Parallel(n_jobs=40)]: Done  19 out of  28 | elapsed:    1.0s remaining:    0.5s\n",
      "[Parallel(n_jobs=40)]: Done  25 out of  28 | elapsed:    1.2s remaining:    0.1s\n",
      "[Parallel(n_jobs=40)]: Done  28 out of  28 | elapsed:    1.4s finished\n"
     ]
    },
    {
     "name": "stdout",
     "output_type": "stream",
     "text": [
      "    assembling connectivity matrix\n",
      "[Connectivity computation done]\n",
      "[0.         0.28739484 0.         ... 0.03763559 0.03486478 0.        ]\n"
     ]
    },
    {
     "name": "stderr",
     "output_type": "stream",
     "text": [
      "/storage/store3/work/kachardo/adhd_brain_functional_connectivity/get_data.py:40: FutureWarning: Calling int on a single element Series is deprecated and will raise a TypeError in the future. Use int(ser.iloc[0]) instead\n",
      "  session = int(subjects_data[subjects_data['subject_id']==subject[4:]]['session'])\n"
     ]
    },
    {
     "name": "stdout",
     "output_type": "stream",
     "text": [
      "Removing 5 compensators from info because not all compensation channels were picked.\n",
      "Connectivity computation...\n",
      "only using indices for lower-triangular matrix\n",
      "    computing connectivity for 34191 connections\n",
      "    using t=0.000s..10.000s for estimation (2001 points)\n",
      "    frequencies: 8.1Hz..12.0Hz (40 points)\n",
      "    connectivity scores will be averaged for each band\n",
      "    using FFT with a Hanning window to estimate spectra\n",
      "    the following metrics will be computed: Coherence\n",
      "    computing connectivity for epochs 1..28\n"
     ]
    },
    {
     "name": "stderr",
     "output_type": "stream",
     "text": [
      "/storage/store3/work/kachardo/adhd_brain_functional_connectivity/get_data.py:46: RuntimeWarning: There were no Annotations stored in <EpochsFIF |  28 events (all good), 0 – 10 s, baseline off, ~112.6 MB, data loaded,\n",
      " 'rest': 28>, so metadata was not modified.\n",
      "  connectivity = spectral_connectivity_epochs(epoch, fmin = frequency_bands[band][0], fmax = frequency_bands[band][1], faverage=True, n_jobs=40, mode = 'fourier', method = 'coh')\n",
      "[Parallel(n_jobs=40)]: Using backend LokyBackend with 40 concurrent workers.\n",
      "[Parallel(n_jobs=40)]: Done   7 out of  28 | elapsed:    0.5s remaining:    1.5s\n",
      "[Parallel(n_jobs=40)]: Done  13 out of  28 | elapsed:    0.7s remaining:    0.9s\n",
      "[Parallel(n_jobs=40)]: Done  19 out of  28 | elapsed:    1.0s remaining:    0.5s\n",
      "[Parallel(n_jobs=40)]: Done  25 out of  28 | elapsed:    1.2s remaining:    0.1s\n",
      "[Parallel(n_jobs=40)]: Done  28 out of  28 | elapsed:    1.4s finished\n"
     ]
    },
    {
     "name": "stdout",
     "output_type": "stream",
     "text": [
      "    assembling connectivity matrix\n",
      "[Connectivity computation done]\n",
      "[0.         0.17905171 0.         ... 0.09259044 0.05703532 0.        ]\n"
     ]
    },
    {
     "name": "stderr",
     "output_type": "stream",
     "text": [
      "/storage/store3/work/kachardo/adhd_brain_functional_connectivity/get_data.py:40: FutureWarning: Calling int on a single element Series is deprecated and will raise a TypeError in the future. Use int(ser.iloc[0]) instead\n",
      "  session = int(subjects_data[subjects_data['subject_id']==subject[4:]]['session'])\n"
     ]
    },
    {
     "name": "stdout",
     "output_type": "stream",
     "text": [
      "Removing 5 compensators from info because not all compensation channels were picked.\n",
      "Connectivity computation...\n",
      "only using indices for lower-triangular matrix\n",
      "    computing connectivity for 34191 connections\n",
      "    using t=0.000s..10.000s for estimation (2001 points)\n",
      "    frequencies: 8.1Hz..12.0Hz (40 points)\n",
      "    connectivity scores will be averaged for each band\n",
      "    using FFT with a Hanning window to estimate spectra\n",
      "    the following metrics will be computed: Coherence\n",
      "    computing connectivity for epochs 1..28\n"
     ]
    },
    {
     "name": "stderr",
     "output_type": "stream",
     "text": [
      "/storage/store3/work/kachardo/adhd_brain_functional_connectivity/get_data.py:46: RuntimeWarning: There were no Annotations stored in <EpochsFIF |  28 events (all good), 0 – 10 s, baseline off, ~112.6 MB, data loaded,\n",
      " 'rest': 28>, so metadata was not modified.\n",
      "  connectivity = spectral_connectivity_epochs(epoch, fmin = frequency_bands[band][0], fmax = frequency_bands[band][1], faverage=True, n_jobs=40, mode = 'fourier', method = 'coh')\n",
      "[Parallel(n_jobs=40)]: Using backend LokyBackend with 40 concurrent workers.\n",
      "[Parallel(n_jobs=40)]: Done   7 out of  28 | elapsed:    0.5s remaining:    1.5s\n",
      "[Parallel(n_jobs=40)]: Done  13 out of  28 | elapsed:    0.7s remaining:    0.9s\n",
      "[Parallel(n_jobs=40)]: Done  19 out of  28 | elapsed:    1.0s remaining:    0.5s\n",
      "[Parallel(n_jobs=40)]: Done  25 out of  28 | elapsed:    1.2s remaining:    0.1s\n",
      "[Parallel(n_jobs=40)]: Done  28 out of  28 | elapsed:    1.4s finished\n"
     ]
    },
    {
     "name": "stdout",
     "output_type": "stream",
     "text": [
      "    assembling connectivity matrix\n",
      "[Connectivity computation done]\n",
      "[0.         0.35621367 0.         ... 0.07513965 0.06777022 0.        ]\n"
     ]
    },
    {
     "name": "stderr",
     "output_type": "stream",
     "text": [
      "/storage/store3/work/kachardo/adhd_brain_functional_connectivity/get_data.py:40: FutureWarning: Calling int on a single element Series is deprecated and will raise a TypeError in the future. Use int(ser.iloc[0]) instead\n",
      "  session = int(subjects_data[subjects_data['subject_id']==subject[4:]]['session'])\n"
     ]
    },
    {
     "name": "stdout",
     "output_type": "stream",
     "text": [
      "Removing 5 compensators from info because not all compensation channels were picked.\n",
      "Connectivity computation...\n",
      "only using indices for lower-triangular matrix\n",
      "    computing connectivity for 34191 connections\n",
      "    using t=0.000s..10.000s for estimation (2001 points)\n",
      "    frequencies: 8.1Hz..12.0Hz (40 points)\n",
      "    connectivity scores will be averaged for each band\n",
      "    using FFT with a Hanning window to estimate spectra\n",
      "    the following metrics will be computed: Coherence\n",
      "    computing connectivity for epochs 1..28\n"
     ]
    },
    {
     "name": "stderr",
     "output_type": "stream",
     "text": [
      "/storage/store3/work/kachardo/adhd_brain_functional_connectivity/get_data.py:46: RuntimeWarning: There were no Annotations stored in <EpochsFIF |  28 events (all good), 0 – 10 s, baseline off, ~112.6 MB, data loaded,\n",
      " 'rest': 28>, so metadata was not modified.\n",
      "  connectivity = spectral_connectivity_epochs(epoch, fmin = frequency_bands[band][0], fmax = frequency_bands[band][1], faverage=True, n_jobs=40, mode = 'fourier', method = 'coh')\n",
      "[Parallel(n_jobs=40)]: Using backend LokyBackend with 40 concurrent workers.\n",
      "[Parallel(n_jobs=40)]: Done   7 out of  28 | elapsed:    0.5s remaining:    1.5s\n",
      "[Parallel(n_jobs=40)]: Done  13 out of  28 | elapsed:    0.7s remaining:    0.8s\n",
      "[Parallel(n_jobs=40)]: Done  19 out of  28 | elapsed:    1.0s remaining:    0.5s\n",
      "[Parallel(n_jobs=40)]: Done  25 out of  28 | elapsed:    1.2s remaining:    0.1s\n",
      "[Parallel(n_jobs=40)]: Done  28 out of  28 | elapsed:    1.4s finished\n"
     ]
    },
    {
     "name": "stdout",
     "output_type": "stream",
     "text": [
      "    assembling connectivity matrix\n",
      "[Connectivity computation done]\n",
      "[0.         0.52568452 0.         ... 0.08257746 0.0599577  0.        ]\n"
     ]
    },
    {
     "name": "stderr",
     "output_type": "stream",
     "text": [
      "/storage/store3/work/kachardo/adhd_brain_functional_connectivity/get_data.py:40: FutureWarning: Calling int on a single element Series is deprecated and will raise a TypeError in the future. Use int(ser.iloc[0]) instead\n",
      "  session = int(subjects_data[subjects_data['subject_id']==subject[4:]]['session'])\n"
     ]
    },
    {
     "name": "stdout",
     "output_type": "stream",
     "text": [
      "Removing 5 compensators from info because not all compensation channels were picked.\n",
      "Connectivity computation...\n",
      "only using indices for lower-triangular matrix\n",
      "    computing connectivity for 34191 connections\n",
      "    using t=0.000s..10.000s for estimation (2001 points)\n",
      "    frequencies: 8.1Hz..12.0Hz (40 points)\n",
      "    connectivity scores will be averaged for each band\n",
      "    using FFT with a Hanning window to estimate spectra\n",
      "    the following metrics will be computed: Coherence\n",
      "    computing connectivity for epochs 1..28\n"
     ]
    },
    {
     "name": "stderr",
     "output_type": "stream",
     "text": [
      "/storage/store3/work/kachardo/adhd_brain_functional_connectivity/get_data.py:46: RuntimeWarning: There were no Annotations stored in <EpochsFIF |  28 events (all good), 0 – 10 s, baseline off, ~112.6 MB, data loaded,\n",
      " 'rest': 28>, so metadata was not modified.\n",
      "  connectivity = spectral_connectivity_epochs(epoch, fmin = frequency_bands[band][0], fmax = frequency_bands[band][1], faverage=True, n_jobs=40, mode = 'fourier', method = 'coh')\n",
      "[Parallel(n_jobs=40)]: Using backend LokyBackend with 40 concurrent workers.\n",
      "[Parallel(n_jobs=40)]: Done   7 out of  28 | elapsed:    0.5s remaining:    1.6s\n",
      "[Parallel(n_jobs=40)]: Done  13 out of  28 | elapsed:    0.8s remaining:    0.9s\n",
      "[Parallel(n_jobs=40)]: Done  19 out of  28 | elapsed:    1.1s remaining:    0.5s\n",
      "[Parallel(n_jobs=40)]: Done  25 out of  28 | elapsed:    1.3s remaining:    0.2s\n",
      "[Parallel(n_jobs=40)]: Done  28 out of  28 | elapsed:    1.4s finished\n"
     ]
    },
    {
     "name": "stdout",
     "output_type": "stream",
     "text": [
      "    assembling connectivity matrix\n",
      "[Connectivity computation done]\n",
      "[0.         0.47807946 0.         ... 0.25906659 0.06712377 0.        ]\n"
     ]
    },
    {
     "name": "stderr",
     "output_type": "stream",
     "text": [
      "/storage/store3/work/kachardo/adhd_brain_functional_connectivity/get_data.py:40: FutureWarning: Calling int on a single element Series is deprecated and will raise a TypeError in the future. Use int(ser.iloc[0]) instead\n",
      "  session = int(subjects_data[subjects_data['subject_id']==subject[4:]]['session'])\n"
     ]
    },
    {
     "name": "stdout",
     "output_type": "stream",
     "text": [
      "Removing 5 compensators from info because not all compensation channels were picked.\n",
      "Connectivity computation...\n",
      "only using indices for lower-triangular matrix\n",
      "    computing connectivity for 34191 connections\n",
      "    using t=0.000s..10.000s for estimation (2001 points)\n",
      "    frequencies: 8.1Hz..12.0Hz (40 points)\n",
      "    connectivity scores will be averaged for each band\n",
      "    using FFT with a Hanning window to estimate spectra\n",
      "    the following metrics will be computed: Coherence\n",
      "    computing connectivity for epochs 1..28\n"
     ]
    },
    {
     "name": "stderr",
     "output_type": "stream",
     "text": [
      "/storage/store3/work/kachardo/adhd_brain_functional_connectivity/get_data.py:46: RuntimeWarning: There were no Annotations stored in <EpochsFIF |  28 events (all good), 0 – 10 s, baseline off, ~112.6 MB, data loaded,\n",
      " 'rest': 28>, so metadata was not modified.\n",
      "  connectivity = spectral_connectivity_epochs(epoch, fmin = frequency_bands[band][0], fmax = frequency_bands[band][1], faverage=True, n_jobs=40, mode = 'fourier', method = 'coh')\n",
      "[Parallel(n_jobs=40)]: Using backend LokyBackend with 40 concurrent workers.\n",
      "[Parallel(n_jobs=40)]: Done   7 out of  28 | elapsed:    0.5s remaining:    1.5s\n",
      "[Parallel(n_jobs=40)]: Done  13 out of  28 | elapsed:    0.7s remaining:    0.9s\n",
      "[Parallel(n_jobs=40)]: Done  19 out of  28 | elapsed:    1.0s remaining:    0.5s\n",
      "[Parallel(n_jobs=40)]: Done  25 out of  28 | elapsed:    1.3s remaining:    0.2s\n",
      "[Parallel(n_jobs=40)]: Done  28 out of  28 | elapsed:    1.4s finished\n"
     ]
    },
    {
     "name": "stdout",
     "output_type": "stream",
     "text": [
      "    assembling connectivity matrix\n",
      "[Connectivity computation done]\n",
      "[0.         0.33275864 0.         ... 0.04010147 0.03958935 0.        ]\n"
     ]
    },
    {
     "name": "stderr",
     "output_type": "stream",
     "text": [
      "/storage/store3/work/kachardo/adhd_brain_functional_connectivity/get_data.py:40: FutureWarning: Calling int on a single element Series is deprecated and will raise a TypeError in the future. Use int(ser.iloc[0]) instead\n",
      "  session = int(subjects_data[subjects_data['subject_id']==subject[4:]]['session'])\n"
     ]
    },
    {
     "name": "stdout",
     "output_type": "stream",
     "text": [
      "Removing 5 compensators from info because not all compensation channels were picked.\n",
      "Connectivity computation...\n",
      "only using indices for lower-triangular matrix\n",
      "    computing connectivity for 34191 connections\n",
      "    using t=0.000s..10.000s for estimation (2001 points)\n",
      "    frequencies: 8.1Hz..12.0Hz (40 points)\n",
      "    connectivity scores will be averaged for each band\n",
      "    using FFT with a Hanning window to estimate spectra\n",
      "    the following metrics will be computed: Coherence\n",
      "    computing connectivity for epochs 1..28\n"
     ]
    },
    {
     "name": "stderr",
     "output_type": "stream",
     "text": [
      "/storage/store3/work/kachardo/adhd_brain_functional_connectivity/get_data.py:46: RuntimeWarning: There were no Annotations stored in <EpochsFIF |  28 events (all good), 0 – 10 s, baseline off, ~112.6 MB, data loaded,\n",
      " 'rest': 28>, so metadata was not modified.\n",
      "  connectivity = spectral_connectivity_epochs(epoch, fmin = frequency_bands[band][0], fmax = frequency_bands[band][1], faverage=True, n_jobs=40, mode = 'fourier', method = 'coh')\n",
      "[Parallel(n_jobs=40)]: Using backend LokyBackend with 40 concurrent workers.\n",
      "[Parallel(n_jobs=40)]: Done   7 out of  28 | elapsed:    0.5s remaining:    1.5s\n",
      "[Parallel(n_jobs=40)]: Done  13 out of  28 | elapsed:    0.8s remaining:    0.9s\n",
      "[Parallel(n_jobs=40)]: Done  19 out of  28 | elapsed:    1.0s remaining:    0.5s\n",
      "[Parallel(n_jobs=40)]: Done  25 out of  28 | elapsed:    1.3s remaining:    0.2s\n",
      "[Parallel(n_jobs=40)]: Done  28 out of  28 | elapsed:    1.4s finished\n"
     ]
    },
    {
     "name": "stdout",
     "output_type": "stream",
     "text": [
      "    assembling connectivity matrix\n",
      "[Connectivity computation done]\n",
      "[0.         0.63987418 0.         ... 0.20619056 0.06281244 0.        ]\n"
     ]
    },
    {
     "name": "stderr",
     "output_type": "stream",
     "text": [
      "/storage/store3/work/kachardo/adhd_brain_functional_connectivity/get_data.py:40: FutureWarning: Calling int on a single element Series is deprecated and will raise a TypeError in the future. Use int(ser.iloc[0]) instead\n",
      "  session = int(subjects_data[subjects_data['subject_id']==subject[4:]]['session'])\n"
     ]
    },
    {
     "name": "stdout",
     "output_type": "stream",
     "text": [
      "Removing 5 compensators from info because not all compensation channels were picked.\n",
      "Connectivity computation...\n",
      "only using indices for lower-triangular matrix\n",
      "    computing connectivity for 34191 connections\n",
      "    using t=0.000s..10.000s for estimation (2001 points)\n",
      "    frequencies: 8.1Hz..12.0Hz (40 points)\n",
      "    connectivity scores will be averaged for each band\n",
      "    using FFT with a Hanning window to estimate spectra\n",
      "    the following metrics will be computed: Coherence\n",
      "    computing connectivity for epochs 1..28\n"
     ]
    },
    {
     "name": "stderr",
     "output_type": "stream",
     "text": [
      "/storage/store3/work/kachardo/adhd_brain_functional_connectivity/get_data.py:46: RuntimeWarning: There were no Annotations stored in <EpochsFIF |  28 events (all good), 0 – 10 s, baseline off, ~112.6 MB, data loaded,\n",
      " 'rest': 28>, so metadata was not modified.\n",
      "  connectivity = spectral_connectivity_epochs(epoch, fmin = frequency_bands[band][0], fmax = frequency_bands[band][1], faverage=True, n_jobs=40, mode = 'fourier', method = 'coh')\n",
      "[Parallel(n_jobs=40)]: Using backend LokyBackend with 40 concurrent workers.\n",
      "[Parallel(n_jobs=40)]: Done   7 out of  28 | elapsed:    0.5s remaining:    1.5s\n",
      "[Parallel(n_jobs=40)]: Done  13 out of  28 | elapsed:    0.8s remaining:    0.9s\n",
      "[Parallel(n_jobs=40)]: Done  19 out of  28 | elapsed:    1.0s remaining:    0.5s\n",
      "[Parallel(n_jobs=40)]: Done  25 out of  28 | elapsed:    1.3s remaining:    0.2s\n",
      "[Parallel(n_jobs=40)]: Done  28 out of  28 | elapsed:    1.4s finished\n"
     ]
    },
    {
     "name": "stdout",
     "output_type": "stream",
     "text": [
      "    assembling connectivity matrix\n",
      "[Connectivity computation done]\n",
      "[0.         0.22949709 0.         ... 0.03418266 0.05637451 0.        ]\n"
     ]
    },
    {
     "name": "stderr",
     "output_type": "stream",
     "text": [
      "/storage/store3/work/kachardo/adhd_brain_functional_connectivity/get_data.py:40: FutureWarning: Calling int on a single element Series is deprecated and will raise a TypeError in the future. Use int(ser.iloc[0]) instead\n",
      "  session = int(subjects_data[subjects_data['subject_id']==subject[4:]]['session'])\n"
     ]
    },
    {
     "name": "stdout",
     "output_type": "stream",
     "text": [
      "Removing 5 compensators from info because not all compensation channels were picked.\n",
      "Connectivity computation...\n",
      "only using indices for lower-triangular matrix\n",
      "    computing connectivity for 34191 connections\n",
      "    using t=0.000s..10.000s for estimation (2001 points)\n",
      "    frequencies: 8.1Hz..12.0Hz (40 points)\n",
      "    connectivity scores will be averaged for each band\n",
      "    using FFT with a Hanning window to estimate spectra\n",
      "    the following metrics will be computed: Coherence\n",
      "    computing connectivity for epochs 1..28\n"
     ]
    },
    {
     "name": "stderr",
     "output_type": "stream",
     "text": [
      "/storage/store3/work/kachardo/adhd_brain_functional_connectivity/get_data.py:46: RuntimeWarning: There were no Annotations stored in <EpochsFIF |  28 events (all good), 0 – 10 s, baseline off, ~112.6 MB, data loaded,\n",
      " 'rest': 28>, so metadata was not modified.\n",
      "  connectivity = spectral_connectivity_epochs(epoch, fmin = frequency_bands[band][0], fmax = frequency_bands[band][1], faverage=True, n_jobs=40, mode = 'fourier', method = 'coh')\n",
      "[Parallel(n_jobs=40)]: Using backend LokyBackend with 40 concurrent workers.\n",
      "[Parallel(n_jobs=40)]: Done   7 out of  28 | elapsed:    0.5s remaining:    1.4s\n",
      "[Parallel(n_jobs=40)]: Done  13 out of  28 | elapsed:    0.7s remaining:    0.8s\n",
      "[Parallel(n_jobs=40)]: Done  19 out of  28 | elapsed:    1.0s remaining:    0.5s\n",
      "[Parallel(n_jobs=40)]: Done  25 out of  28 | elapsed:    1.3s remaining:    0.2s\n",
      "[Parallel(n_jobs=40)]: Done  28 out of  28 | elapsed:    1.4s finished\n"
     ]
    },
    {
     "name": "stdout",
     "output_type": "stream",
     "text": [
      "    assembling connectivity matrix\n",
      "[Connectivity computation done]\n",
      "[0.         0.49103542 0.         ... 0.03899519 0.06679739 0.        ]\n"
     ]
    },
    {
     "name": "stderr",
     "output_type": "stream",
     "text": [
      "/storage/store3/work/kachardo/adhd_brain_functional_connectivity/get_data.py:40: FutureWarning: Calling int on a single element Series is deprecated and will raise a TypeError in the future. Use int(ser.iloc[0]) instead\n",
      "  session = int(subjects_data[subjects_data['subject_id']==subject[4:]]['session'])\n"
     ]
    },
    {
     "name": "stdout",
     "output_type": "stream",
     "text": [
      "Removing 5 compensators from info because not all compensation channels were picked.\n",
      "Connectivity computation...\n",
      "only using indices for lower-triangular matrix\n",
      "    computing connectivity for 34191 connections\n",
      "    using t=0.000s..10.000s for estimation (2001 points)\n",
      "    frequencies: 8.1Hz..12.0Hz (40 points)\n",
      "    connectivity scores will be averaged for each band\n",
      "    using FFT with a Hanning window to estimate spectra\n",
      "    the following metrics will be computed: Coherence\n",
      "    computing connectivity for epochs 1..28\n"
     ]
    },
    {
     "name": "stderr",
     "output_type": "stream",
     "text": [
      "/storage/store3/work/kachardo/adhd_brain_functional_connectivity/get_data.py:46: RuntimeWarning: There were no Annotations stored in <EpochsFIF |  28 events (all good), 0 – 10 s, baseline off, ~112.6 MB, data loaded,\n",
      " 'rest': 28>, so metadata was not modified.\n",
      "  connectivity = spectral_connectivity_epochs(epoch, fmin = frequency_bands[band][0], fmax = frequency_bands[band][1], faverage=True, n_jobs=40, mode = 'fourier', method = 'coh')\n",
      "[Parallel(n_jobs=40)]: Using backend LokyBackend with 40 concurrent workers.\n",
      "[Parallel(n_jobs=40)]: Done   7 out of  28 | elapsed:    0.5s remaining:    1.4s\n",
      "[Parallel(n_jobs=40)]: Done  13 out of  28 | elapsed:    0.7s remaining:    0.9s\n",
      "[Parallel(n_jobs=40)]: Done  19 out of  28 | elapsed:    1.0s remaining:    0.5s\n",
      "[Parallel(n_jobs=40)]: Done  25 out of  28 | elapsed:    1.3s remaining:    0.2s\n",
      "[Parallel(n_jobs=40)]: Done  28 out of  28 | elapsed:    1.4s finished\n"
     ]
    },
    {
     "name": "stdout",
     "output_type": "stream",
     "text": [
      "    assembling connectivity matrix\n",
      "[Connectivity computation done]\n",
      "[0.         0.44399082 0.         ... 0.08956564 0.04086749 0.        ]\n"
     ]
    },
    {
     "name": "stderr",
     "output_type": "stream",
     "text": [
      "/storage/store3/work/kachardo/adhd_brain_functional_connectivity/get_data.py:40: FutureWarning: Calling int on a single element Series is deprecated and will raise a TypeError in the future. Use int(ser.iloc[0]) instead\n",
      "  session = int(subjects_data[subjects_data['subject_id']==subject[4:]]['session'])\n"
     ]
    },
    {
     "name": "stdout",
     "output_type": "stream",
     "text": [
      "Removing 5 compensators from info because not all compensation channels were picked.\n",
      "Connectivity computation...\n",
      "only using indices for lower-triangular matrix\n",
      "    computing connectivity for 34191 connections\n",
      "    using t=0.000s..10.000s for estimation (2001 points)\n",
      "    frequencies: 8.1Hz..12.0Hz (40 points)\n",
      "    connectivity scores will be averaged for each band\n",
      "    using FFT with a Hanning window to estimate spectra\n",
      "    the following metrics will be computed: Coherence\n",
      "    computing connectivity for epochs 1..28\n"
     ]
    },
    {
     "name": "stderr",
     "output_type": "stream",
     "text": [
      "/storage/store3/work/kachardo/adhd_brain_functional_connectivity/get_data.py:46: RuntimeWarning: There were no Annotations stored in <EpochsFIF |  28 events (all good), 0 – 10 s, baseline off, ~112.6 MB, data loaded,\n",
      " 'rest': 28>, so metadata was not modified.\n",
      "  connectivity = spectral_connectivity_epochs(epoch, fmin = frequency_bands[band][0], fmax = frequency_bands[band][1], faverage=True, n_jobs=40, mode = 'fourier', method = 'coh')\n",
      "[Parallel(n_jobs=40)]: Using backend LokyBackend with 40 concurrent workers.\n",
      "[Parallel(n_jobs=40)]: Done   7 out of  28 | elapsed:    0.5s remaining:    1.6s\n",
      "[Parallel(n_jobs=40)]: Done  13 out of  28 | elapsed:    0.8s remaining:    1.0s\n",
      "[Parallel(n_jobs=40)]: Done  19 out of  28 | elapsed:    1.1s remaining:    0.5s\n",
      "[Parallel(n_jobs=40)]: Done  25 out of  28 | elapsed:    1.3s remaining:    0.2s\n",
      "[Parallel(n_jobs=40)]: Done  28 out of  28 | elapsed:    1.5s finished\n"
     ]
    },
    {
     "name": "stdout",
     "output_type": "stream",
     "text": [
      "    assembling connectivity matrix\n",
      "[Connectivity computation done]\n",
      "[0.         0.2309869  0.         ... 0.05994402 0.03304774 0.        ]\n"
     ]
    },
    {
     "name": "stderr",
     "output_type": "stream",
     "text": [
      "/storage/store3/work/kachardo/adhd_brain_functional_connectivity/get_data.py:40: FutureWarning: Calling int on a single element Series is deprecated and will raise a TypeError in the future. Use int(ser.iloc[0]) instead\n",
      "  session = int(subjects_data[subjects_data['subject_id']==subject[4:]]['session'])\n"
     ]
    },
    {
     "name": "stdout",
     "output_type": "stream",
     "text": [
      "Removing 5 compensators from info because not all compensation channels were picked.\n",
      "Connectivity computation...\n",
      "only using indices for lower-triangular matrix\n",
      "    computing connectivity for 34191 connections\n",
      "    using t=0.000s..10.000s for estimation (2001 points)\n",
      "    frequencies: 8.1Hz..12.0Hz (40 points)\n",
      "    connectivity scores will be averaged for each band\n",
      "    using FFT with a Hanning window to estimate spectra\n",
      "    the following metrics will be computed: Coherence\n",
      "    computing connectivity for epochs 1..28\n"
     ]
    },
    {
     "name": "stderr",
     "output_type": "stream",
     "text": [
      "/storage/store3/work/kachardo/adhd_brain_functional_connectivity/get_data.py:46: RuntimeWarning: There were no Annotations stored in <EpochsFIF |  28 events (all good), 0 – 10 s, baseline off, ~112.6 MB, data loaded,\n",
      " 'rest': 28>, so metadata was not modified.\n",
      "  connectivity = spectral_connectivity_epochs(epoch, fmin = frequency_bands[band][0], fmax = frequency_bands[band][1], faverage=True, n_jobs=40, mode = 'fourier', method = 'coh')\n",
      "[Parallel(n_jobs=40)]: Using backend LokyBackend with 40 concurrent workers.\n",
      "[Parallel(n_jobs=40)]: Done   7 out of  28 | elapsed:    0.5s remaining:    1.6s\n",
      "[Parallel(n_jobs=40)]: Done  13 out of  28 | elapsed:    0.8s remaining:    0.9s\n",
      "[Parallel(n_jobs=40)]: Done  19 out of  28 | elapsed:    1.0s remaining:    0.5s\n",
      "[Parallel(n_jobs=40)]: Done  25 out of  28 | elapsed:    1.3s remaining:    0.2s\n",
      "[Parallel(n_jobs=40)]: Done  28 out of  28 | elapsed:    1.4s finished\n"
     ]
    },
    {
     "name": "stdout",
     "output_type": "stream",
     "text": [
      "    assembling connectivity matrix\n",
      "[Connectivity computation done]\n",
      "[0.         0.35901952 0.         ... 0.03441827 0.03460035 0.        ]\n"
     ]
    },
    {
     "name": "stderr",
     "output_type": "stream",
     "text": [
      "/storage/store3/work/kachardo/adhd_brain_functional_connectivity/get_data.py:40: FutureWarning: Calling int on a single element Series is deprecated and will raise a TypeError in the future. Use int(ser.iloc[0]) instead\n",
      "  session = int(subjects_data[subjects_data['subject_id']==subject[4:]]['session'])\n"
     ]
    },
    {
     "name": "stdout",
     "output_type": "stream",
     "text": [
      "Removing 5 compensators from info because not all compensation channels were picked.\n",
      "Connectivity computation...\n",
      "only using indices for lower-triangular matrix\n",
      "    computing connectivity for 34191 connections\n",
      "    using t=0.000s..10.000s for estimation (2001 points)\n",
      "    frequencies: 8.1Hz..12.0Hz (40 points)\n",
      "    connectivity scores will be averaged for each band\n",
      "    using FFT with a Hanning window to estimate spectra\n",
      "    the following metrics will be computed: Coherence\n",
      "    computing connectivity for epochs 1..28\n"
     ]
    },
    {
     "name": "stderr",
     "output_type": "stream",
     "text": [
      "/storage/store3/work/kachardo/adhd_brain_functional_connectivity/get_data.py:46: RuntimeWarning: There were no Annotations stored in <EpochsFIF |  28 events (all good), 0 – 10 s, baseline off, ~112.6 MB, data loaded,\n",
      " 'rest': 28>, so metadata was not modified.\n",
      "  connectivity = spectral_connectivity_epochs(epoch, fmin = frequency_bands[band][0], fmax = frequency_bands[band][1], faverage=True, n_jobs=40, mode = 'fourier', method = 'coh')\n",
      "[Parallel(n_jobs=40)]: Using backend LokyBackend with 40 concurrent workers.\n",
      "[Parallel(n_jobs=40)]: Done   7 out of  28 | elapsed:    0.5s remaining:    1.4s\n",
      "[Parallel(n_jobs=40)]: Done  13 out of  28 | elapsed:    0.7s remaining:    0.8s\n",
      "[Parallel(n_jobs=40)]: Done  19 out of  28 | elapsed:    1.0s remaining:    0.5s\n",
      "[Parallel(n_jobs=40)]: Done  25 out of  28 | elapsed:    1.2s remaining:    0.1s\n",
      "[Parallel(n_jobs=40)]: Done  28 out of  28 | elapsed:    1.3s finished\n"
     ]
    },
    {
     "name": "stdout",
     "output_type": "stream",
     "text": [
      "    assembling connectivity matrix\n",
      "[Connectivity computation done]\n",
      "[0.         0.51524794 0.         ... 0.15013878 0.04230534 0.        ]\n"
     ]
    },
    {
     "name": "stderr",
     "output_type": "stream",
     "text": [
      "/storage/store3/work/kachardo/adhd_brain_functional_connectivity/get_data.py:40: FutureWarning: Calling int on a single element Series is deprecated and will raise a TypeError in the future. Use int(ser.iloc[0]) instead\n",
      "  session = int(subjects_data[subjects_data['subject_id']==subject[4:]]['session'])\n"
     ]
    },
    {
     "name": "stdout",
     "output_type": "stream",
     "text": [
      "Removing 5 compensators from info because not all compensation channels were picked.\n"
     ]
    },
    {
     "name": "stderr",
     "output_type": "stream",
     "text": [
      "/storage/store3/work/kachardo/adhd_brain_functional_connectivity/get_data.py:40: FutureWarning: Calling int on a single element Series is deprecated and will raise a TypeError in the future. Use int(ser.iloc[0]) instead\n",
      "  session = int(subjects_data[subjects_data['subject_id']==subject[4:]]['session'])\n"
     ]
    },
    {
     "name": "stdout",
     "output_type": "stream",
     "text": [
      "Removing 5 compensators from info because not all compensation channels were picked.\n",
      "Connectivity computation...\n",
      "only using indices for lower-triangular matrix\n",
      "    computing connectivity for 34191 connections\n",
      "    using t=0.000s..10.000s for estimation (2001 points)\n",
      "    frequencies: 8.1Hz..12.0Hz (40 points)\n",
      "    connectivity scores will be averaged for each band\n",
      "    using FFT with a Hanning window to estimate spectra\n",
      "    the following metrics will be computed: Coherence\n",
      "    computing connectivity for epochs 1..28\n"
     ]
    },
    {
     "name": "stderr",
     "output_type": "stream",
     "text": [
      "/storage/store3/work/kachardo/adhd_brain_functional_connectivity/get_data.py:46: RuntimeWarning: There were no Annotations stored in <EpochsFIF |  28 events (all good), 0 – 10 s, baseline off, ~112.6 MB, data loaded,\n",
      " 'rest': 28>, so metadata was not modified.\n",
      "  connectivity = spectral_connectivity_epochs(epoch, fmin = frequency_bands[band][0], fmax = frequency_bands[band][1], faverage=True, n_jobs=40, mode = 'fourier', method = 'coh')\n",
      "[Parallel(n_jobs=40)]: Using backend LokyBackend with 40 concurrent workers.\n",
      "[Parallel(n_jobs=40)]: Done   7 out of  28 | elapsed:    0.5s remaining:    1.4s\n",
      "[Parallel(n_jobs=40)]: Done  13 out of  28 | elapsed:    0.7s remaining:    0.8s\n",
      "[Parallel(n_jobs=40)]: Done  19 out of  28 | elapsed:    0.9s remaining:    0.4s\n",
      "[Parallel(n_jobs=40)]: Done  25 out of  28 | elapsed:    1.2s remaining:    0.1s\n",
      "[Parallel(n_jobs=40)]: Done  28 out of  28 | elapsed:    1.3s finished\n"
     ]
    },
    {
     "name": "stdout",
     "output_type": "stream",
     "text": [
      "    assembling connectivity matrix\n",
      "[Connectivity computation done]\n",
      "[0.         0.50119901 0.         ... 0.05018965 0.0876061  0.        ]\n"
     ]
    },
    {
     "name": "stderr",
     "output_type": "stream",
     "text": [
      "/storage/store3/work/kachardo/adhd_brain_functional_connectivity/get_data.py:40: FutureWarning: Calling int on a single element Series is deprecated and will raise a TypeError in the future. Use int(ser.iloc[0]) instead\n",
      "  session = int(subjects_data[subjects_data['subject_id']==subject[4:]]['session'])\n"
     ]
    },
    {
     "name": "stdout",
     "output_type": "stream",
     "text": [
      "Removing 5 compensators from info because not all compensation channels were picked.\n",
      "Connectivity computation...\n",
      "only using indices for lower-triangular matrix\n",
      "    computing connectivity for 34191 connections\n",
      "    using t=0.000s..10.000s for estimation (2001 points)\n",
      "    frequencies: 8.1Hz..12.0Hz (40 points)\n",
      "    connectivity scores will be averaged for each band\n",
      "    using FFT with a Hanning window to estimate spectra\n",
      "    the following metrics will be computed: Coherence\n",
      "    computing connectivity for epochs 1..28\n"
     ]
    },
    {
     "name": "stderr",
     "output_type": "stream",
     "text": [
      "/storage/store3/work/kachardo/adhd_brain_functional_connectivity/get_data.py:46: RuntimeWarning: There were no Annotations stored in <EpochsFIF |  28 events (all good), 0 – 10 s, baseline off, ~112.6 MB, data loaded,\n",
      " 'rest': 28>, so metadata was not modified.\n",
      "  connectivity = spectral_connectivity_epochs(epoch, fmin = frequency_bands[band][0], fmax = frequency_bands[band][1], faverage=True, n_jobs=40, mode = 'fourier', method = 'coh')\n",
      "[Parallel(n_jobs=40)]: Using backend LokyBackend with 40 concurrent workers.\n",
      "[Parallel(n_jobs=40)]: Done   7 out of  28 | elapsed:    0.5s remaining:    1.4s\n",
      "[Parallel(n_jobs=40)]: Done  13 out of  28 | elapsed:    0.7s remaining:    0.8s\n",
      "[Parallel(n_jobs=40)]: Done  19 out of  28 | elapsed:    1.0s remaining:    0.5s\n",
      "[Parallel(n_jobs=40)]: Done  25 out of  28 | elapsed:    1.2s remaining:    0.1s\n",
      "[Parallel(n_jobs=40)]: Done  28 out of  28 | elapsed:    1.4s finished\n"
     ]
    },
    {
     "name": "stdout",
     "output_type": "stream",
     "text": [
      "    assembling connectivity matrix\n",
      "[Connectivity computation done]\n",
      "[0.         0.33052528 0.         ... 0.03706174 0.08476153 0.        ]\n"
     ]
    },
    {
     "name": "stderr",
     "output_type": "stream",
     "text": [
      "/storage/store3/work/kachardo/adhd_brain_functional_connectivity/get_data.py:40: FutureWarning: Calling int on a single element Series is deprecated and will raise a TypeError in the future. Use int(ser.iloc[0]) instead\n",
      "  session = int(subjects_data[subjects_data['subject_id']==subject[4:]]['session'])\n"
     ]
    },
    {
     "name": "stdout",
     "output_type": "stream",
     "text": [
      "Removing 5 compensators from info because not all compensation channels were picked.\n",
      "Connectivity computation...\n",
      "only using indices for lower-triangular matrix\n",
      "    computing connectivity for 34191 connections\n",
      "    using t=0.000s..10.000s for estimation (2001 points)\n",
      "    frequencies: 8.1Hz..12.0Hz (40 points)\n",
      "    connectivity scores will be averaged for each band\n",
      "    using FFT with a Hanning window to estimate spectra\n",
      "    the following metrics will be computed: Coherence\n",
      "    computing connectivity for epochs 1..28\n"
     ]
    },
    {
     "name": "stderr",
     "output_type": "stream",
     "text": [
      "/storage/store3/work/kachardo/adhd_brain_functional_connectivity/get_data.py:46: RuntimeWarning: There were no Annotations stored in <EpochsFIF |  28 events (all good), 0 – 10 s, baseline off, ~112.6 MB, data loaded,\n",
      " 'rest': 28>, so metadata was not modified.\n",
      "  connectivity = spectral_connectivity_epochs(epoch, fmin = frequency_bands[band][0], fmax = frequency_bands[band][1], faverage=True, n_jobs=40, mode = 'fourier', method = 'coh')\n",
      "[Parallel(n_jobs=40)]: Using backend LokyBackend with 40 concurrent workers.\n",
      "[Parallel(n_jobs=40)]: Done   7 out of  28 | elapsed:    0.5s remaining:    1.5s\n",
      "[Parallel(n_jobs=40)]: Done  13 out of  28 | elapsed:    0.7s remaining:    0.8s\n",
      "[Parallel(n_jobs=40)]: Done  19 out of  28 | elapsed:    1.0s remaining:    0.5s\n",
      "[Parallel(n_jobs=40)]: Done  25 out of  28 | elapsed:    1.2s remaining:    0.1s\n",
      "[Parallel(n_jobs=40)]: Done  28 out of  28 | elapsed:    1.4s finished\n"
     ]
    },
    {
     "name": "stdout",
     "output_type": "stream",
     "text": [
      "    assembling connectivity matrix\n",
      "[Connectivity computation done]\n",
      "[0.         0.28543237 0.         ... 0.0625705  0.03445722 0.        ]\n"
     ]
    },
    {
     "name": "stderr",
     "output_type": "stream",
     "text": [
      "/storage/store3/work/kachardo/adhd_brain_functional_connectivity/get_data.py:40: FutureWarning: Calling int on a single element Series is deprecated and will raise a TypeError in the future. Use int(ser.iloc[0]) instead\n",
      "  session = int(subjects_data[subjects_data['subject_id']==subject[4:]]['session'])\n"
     ]
    },
    {
     "name": "stdout",
     "output_type": "stream",
     "text": [
      "Removing 5 compensators from info because not all compensation channels were picked.\n",
      "Connectivity computation...\n",
      "only using indices for lower-triangular matrix\n",
      "    computing connectivity for 34191 connections\n",
      "    using t=0.000s..10.000s for estimation (2001 points)\n",
      "    frequencies: 8.1Hz..12.0Hz (40 points)\n",
      "    connectivity scores will be averaged for each band\n",
      "    using FFT with a Hanning window to estimate spectra\n",
      "    the following metrics will be computed: Coherence\n",
      "    computing connectivity for epochs 1..28\n"
     ]
    },
    {
     "name": "stderr",
     "output_type": "stream",
     "text": [
      "/storage/store3/work/kachardo/adhd_brain_functional_connectivity/get_data.py:46: RuntimeWarning: There were no Annotations stored in <EpochsFIF |  28 events (all good), 0 – 10 s, baseline off, ~112.6 MB, data loaded,\n",
      " 'rest': 28>, so metadata was not modified.\n",
      "  connectivity = spectral_connectivity_epochs(epoch, fmin = frequency_bands[band][0], fmax = frequency_bands[band][1], faverage=True, n_jobs=40, mode = 'fourier', method = 'coh')\n",
      "[Parallel(n_jobs=40)]: Using backend LokyBackend with 40 concurrent workers.\n",
      "[Parallel(n_jobs=40)]: Done   7 out of  28 | elapsed:    0.5s remaining:    1.4s\n",
      "[Parallel(n_jobs=40)]: Done  13 out of  28 | elapsed:    0.7s remaining:    0.8s\n",
      "[Parallel(n_jobs=40)]: Done  19 out of  28 | elapsed:    1.0s remaining:    0.5s\n",
      "[Parallel(n_jobs=40)]: Done  25 out of  28 | elapsed:    1.2s remaining:    0.1s\n",
      "[Parallel(n_jobs=40)]: Done  28 out of  28 | elapsed:    1.4s finished\n"
     ]
    },
    {
     "name": "stdout",
     "output_type": "stream",
     "text": [
      "    assembling connectivity matrix\n",
      "[Connectivity computation done]\n",
      "[0.         0.47847629 0.         ... 0.04271257 0.03230117 0.        ]\n"
     ]
    },
    {
     "name": "stderr",
     "output_type": "stream",
     "text": [
      "/storage/store3/work/kachardo/adhd_brain_functional_connectivity/get_data.py:40: FutureWarning: Calling int on a single element Series is deprecated and will raise a TypeError in the future. Use int(ser.iloc[0]) instead\n",
      "  session = int(subjects_data[subjects_data['subject_id']==subject[4:]]['session'])\n"
     ]
    },
    {
     "name": "stdout",
     "output_type": "stream",
     "text": [
      "Removing 5 compensators from info because not all compensation channels were picked.\n",
      "Connectivity computation...\n",
      "only using indices for lower-triangular matrix\n",
      "    computing connectivity for 34191 connections\n",
      "    using t=0.000s..10.000s for estimation (2001 points)\n",
      "    frequencies: 8.1Hz..12.0Hz (40 points)\n",
      "    connectivity scores will be averaged for each band\n",
      "    using FFT with a Hanning window to estimate spectra\n",
      "    the following metrics will be computed: Coherence\n",
      "    computing connectivity for epochs 1..28\n"
     ]
    },
    {
     "name": "stderr",
     "output_type": "stream",
     "text": [
      "/storage/store3/work/kachardo/adhd_brain_functional_connectivity/get_data.py:46: RuntimeWarning: There were no Annotations stored in <EpochsFIF |  28 events (all good), 0 – 10 s, baseline off, ~112.6 MB, data loaded,\n",
      " 'rest': 28>, so metadata was not modified.\n",
      "  connectivity = spectral_connectivity_epochs(epoch, fmin = frequency_bands[band][0], fmax = frequency_bands[band][1], faverage=True, n_jobs=40, mode = 'fourier', method = 'coh')\n",
      "[Parallel(n_jobs=40)]: Using backend LokyBackend with 40 concurrent workers.\n",
      "[Parallel(n_jobs=40)]: Done   7 out of  28 | elapsed:    0.5s remaining:    1.5s\n",
      "[Parallel(n_jobs=40)]: Done  13 out of  28 | elapsed:    0.7s remaining:    0.9s\n",
      "[Parallel(n_jobs=40)]: Done  19 out of  28 | elapsed:    1.0s remaining:    0.5s\n",
      "[Parallel(n_jobs=40)]: Done  25 out of  28 | elapsed:    1.3s remaining:    0.2s\n",
      "[Parallel(n_jobs=40)]: Done  28 out of  28 | elapsed:    1.4s finished\n"
     ]
    },
    {
     "name": "stdout",
     "output_type": "stream",
     "text": [
      "    assembling connectivity matrix\n",
      "[Connectivity computation done]\n",
      "[0.         0.49924523 0.         ... 0.18534044 0.11564609 0.        ]\n"
     ]
    },
    {
     "name": "stderr",
     "output_type": "stream",
     "text": [
      "/storage/store3/work/kachardo/adhd_brain_functional_connectivity/get_data.py:40: FutureWarning: Calling int on a single element Series is deprecated and will raise a TypeError in the future. Use int(ser.iloc[0]) instead\n",
      "  session = int(subjects_data[subjects_data['subject_id']==subject[4:]]['session'])\n"
     ]
    },
    {
     "name": "stdout",
     "output_type": "stream",
     "text": [
      "Removing 5 compensators from info because not all compensation channels were picked.\n",
      "Connectivity computation...\n",
      "only using indices for lower-triangular matrix\n",
      "    computing connectivity for 34191 connections\n",
      "    using t=0.000s..10.000s for estimation (2001 points)\n",
      "    frequencies: 8.1Hz..12.0Hz (40 points)\n",
      "    connectivity scores will be averaged for each band\n",
      "    using FFT with a Hanning window to estimate spectra\n",
      "    the following metrics will be computed: Coherence\n",
      "    computing connectivity for epochs 1..28\n"
     ]
    },
    {
     "name": "stderr",
     "output_type": "stream",
     "text": [
      "/storage/store3/work/kachardo/adhd_brain_functional_connectivity/get_data.py:46: RuntimeWarning: There were no Annotations stored in <EpochsFIF |  28 events (all good), 0 – 10 s, baseline off, ~112.6 MB, data loaded,\n",
      " 'rest': 28>, so metadata was not modified.\n",
      "  connectivity = spectral_connectivity_epochs(epoch, fmin = frequency_bands[band][0], fmax = frequency_bands[band][1], faverage=True, n_jobs=40, mode = 'fourier', method = 'coh')\n",
      "[Parallel(n_jobs=40)]: Using backend LokyBackend with 40 concurrent workers.\n",
      "[Parallel(n_jobs=40)]: Done   7 out of  28 | elapsed:    0.5s remaining:    1.5s\n",
      "[Parallel(n_jobs=40)]: Done  13 out of  28 | elapsed:    0.8s remaining:    0.9s\n",
      "[Parallel(n_jobs=40)]: Done  19 out of  28 | elapsed:    1.0s remaining:    0.5s\n",
      "[Parallel(n_jobs=40)]: Done  25 out of  28 | elapsed:    1.3s remaining:    0.2s\n",
      "[Parallel(n_jobs=40)]: Done  28 out of  28 | elapsed:    1.4s finished\n"
     ]
    },
    {
     "name": "stdout",
     "output_type": "stream",
     "text": [
      "    assembling connectivity matrix\n",
      "[Connectivity computation done]\n",
      "[0.         0.47564751 0.         ... 0.11035315 0.04704119 0.        ]\n"
     ]
    },
    {
     "name": "stderr",
     "output_type": "stream",
     "text": [
      "/storage/store3/work/kachardo/adhd_brain_functional_connectivity/get_data.py:40: FutureWarning: Calling int on a single element Series is deprecated and will raise a TypeError in the future. Use int(ser.iloc[0]) instead\n",
      "  session = int(subjects_data[subjects_data['subject_id']==subject[4:]]['session'])\n"
     ]
    },
    {
     "name": "stdout",
     "output_type": "stream",
     "text": [
      "Removing 5 compensators from info because not all compensation channels were picked.\n",
      "Connectivity computation...\n",
      "only using indices for lower-triangular matrix\n",
      "    computing connectivity for 34191 connections\n",
      "    using t=0.000s..10.000s for estimation (2001 points)\n",
      "    frequencies: 8.1Hz..12.0Hz (40 points)\n",
      "    connectivity scores will be averaged for each band\n",
      "    using FFT with a Hanning window to estimate spectra\n",
      "    the following metrics will be computed: Coherence\n",
      "    computing connectivity for epochs 1..28\n"
     ]
    },
    {
     "name": "stderr",
     "output_type": "stream",
     "text": [
      "/storage/store3/work/kachardo/adhd_brain_functional_connectivity/get_data.py:46: RuntimeWarning: There were no Annotations stored in <EpochsFIF |  28 events (all good), 0 – 10 s, baseline off, ~112.6 MB, data loaded,\n",
      " 'rest': 28>, so metadata was not modified.\n",
      "  connectivity = spectral_connectivity_epochs(epoch, fmin = frequency_bands[band][0], fmax = frequency_bands[band][1], faverage=True, n_jobs=40, mode = 'fourier', method = 'coh')\n",
      "[Parallel(n_jobs=40)]: Using backend LokyBackend with 40 concurrent workers.\n",
      "[Parallel(n_jobs=40)]: Done   7 out of  28 | elapsed:    0.5s remaining:    1.5s\n",
      "[Parallel(n_jobs=40)]: Done  13 out of  28 | elapsed:    0.7s remaining:    0.9s\n",
      "[Parallel(n_jobs=40)]: Done  19 out of  28 | elapsed:    1.0s remaining:    0.5s\n",
      "[Parallel(n_jobs=40)]: Done  25 out of  28 | elapsed:    1.2s remaining:    0.1s\n",
      "[Parallel(n_jobs=40)]: Done  28 out of  28 | elapsed:    1.4s finished\n"
     ]
    },
    {
     "name": "stdout",
     "output_type": "stream",
     "text": [
      "    assembling connectivity matrix\n",
      "[Connectivity computation done]\n",
      "[0.         0.39381912 0.         ... 0.03679536 0.0246561  0.        ]\n"
     ]
    },
    {
     "name": "stderr",
     "output_type": "stream",
     "text": [
      "/storage/store3/work/kachardo/adhd_brain_functional_connectivity/get_data.py:40: FutureWarning: Calling int on a single element Series is deprecated and will raise a TypeError in the future. Use int(ser.iloc[0]) instead\n",
      "  session = int(subjects_data[subjects_data['subject_id']==subject[4:]]['session'])\n"
     ]
    },
    {
     "name": "stdout",
     "output_type": "stream",
     "text": [
      "Removing 5 compensators from info because not all compensation channels were picked.\n",
      "Connectivity computation...\n",
      "only using indices for lower-triangular matrix\n",
      "    computing connectivity for 34191 connections\n",
      "    using t=0.000s..10.000s for estimation (2001 points)\n",
      "    frequencies: 8.1Hz..12.0Hz (40 points)\n",
      "    connectivity scores will be averaged for each band\n",
      "    using FFT with a Hanning window to estimate spectra\n",
      "    the following metrics will be computed: Coherence\n",
      "    computing connectivity for epochs 1..28\n"
     ]
    },
    {
     "name": "stderr",
     "output_type": "stream",
     "text": [
      "/storage/store3/work/kachardo/adhd_brain_functional_connectivity/get_data.py:46: RuntimeWarning: There were no Annotations stored in <EpochsFIF |  28 events (all good), 0 – 10 s, baseline off, ~112.6 MB, data loaded,\n",
      " 'rest': 28>, so metadata was not modified.\n",
      "  connectivity = spectral_connectivity_epochs(epoch, fmin = frequency_bands[band][0], fmax = frequency_bands[band][1], faverage=True, n_jobs=40, mode = 'fourier', method = 'coh')\n",
      "[Parallel(n_jobs=40)]: Using backend LokyBackend with 40 concurrent workers.\n",
      "[Parallel(n_jobs=40)]: Done   7 out of  28 | elapsed:    0.5s remaining:    1.5s\n",
      "[Parallel(n_jobs=40)]: Done  13 out of  28 | elapsed:    0.8s remaining:    0.9s\n",
      "[Parallel(n_jobs=40)]: Done  19 out of  28 | elapsed:    1.1s remaining:    0.5s\n",
      "[Parallel(n_jobs=40)]: Done  25 out of  28 | elapsed:    1.3s remaining:    0.2s\n",
      "[Parallel(n_jobs=40)]: Done  28 out of  28 | elapsed:    1.4s finished\n"
     ]
    },
    {
     "name": "stdout",
     "output_type": "stream",
     "text": [
      "    assembling connectivity matrix\n",
      "[Connectivity computation done]\n",
      "[0.         0.57950571 0.         ... 0.03629665 0.03917682 0.        ]\n"
     ]
    },
    {
     "name": "stderr",
     "output_type": "stream",
     "text": [
      "/storage/store3/work/kachardo/adhd_brain_functional_connectivity/get_data.py:40: FutureWarning: Calling int on a single element Series is deprecated and will raise a TypeError in the future. Use int(ser.iloc[0]) instead\n",
      "  session = int(subjects_data[subjects_data['subject_id']==subject[4:]]['session'])\n"
     ]
    },
    {
     "name": "stdout",
     "output_type": "stream",
     "text": [
      "Removing 5 compensators from info because not all compensation channels were picked.\n",
      "Connectivity computation...\n",
      "only using indices for lower-triangular matrix\n",
      "    computing connectivity for 34191 connections\n",
      "    using t=0.000s..10.000s for estimation (2001 points)\n",
      "    frequencies: 8.1Hz..12.0Hz (40 points)\n",
      "    connectivity scores will be averaged for each band\n",
      "    using FFT with a Hanning window to estimate spectra\n",
      "    the following metrics will be computed: Coherence\n",
      "    computing connectivity for epochs 1..28\n"
     ]
    },
    {
     "name": "stderr",
     "output_type": "stream",
     "text": [
      "/storage/store3/work/kachardo/adhd_brain_functional_connectivity/get_data.py:46: RuntimeWarning: There were no Annotations stored in <EpochsFIF |  28 events (all good), 0 – 10 s, baseline off, ~112.6 MB, data loaded,\n",
      " 'rest': 28>, so metadata was not modified.\n",
      "  connectivity = spectral_connectivity_epochs(epoch, fmin = frequency_bands[band][0], fmax = frequency_bands[band][1], faverage=True, n_jobs=40, mode = 'fourier', method = 'coh')\n",
      "[Parallel(n_jobs=40)]: Using backend LokyBackend with 40 concurrent workers.\n",
      "[Parallel(n_jobs=40)]: Done   7 out of  28 | elapsed:    0.5s remaining:    1.5s\n",
      "[Parallel(n_jobs=40)]: Done  13 out of  28 | elapsed:    0.8s remaining:    0.9s\n",
      "[Parallel(n_jobs=40)]: Done  19 out of  28 | elapsed:    1.0s remaining:    0.5s\n",
      "[Parallel(n_jobs=40)]: Done  25 out of  28 | elapsed:    1.3s remaining:    0.2s\n",
      "[Parallel(n_jobs=40)]: Done  28 out of  28 | elapsed:    1.4s finished\n"
     ]
    },
    {
     "name": "stdout",
     "output_type": "stream",
     "text": [
      "    assembling connectivity matrix\n",
      "[Connectivity computation done]\n",
      "[0.         0.55769061 0.         ... 0.21356768 0.05243244 0.        ]\n"
     ]
    },
    {
     "name": "stderr",
     "output_type": "stream",
     "text": [
      "/storage/store3/work/kachardo/adhd_brain_functional_connectivity/get_data.py:40: FutureWarning: Calling int on a single element Series is deprecated and will raise a TypeError in the future. Use int(ser.iloc[0]) instead\n",
      "  session = int(subjects_data[subjects_data['subject_id']==subject[4:]]['session'])\n"
     ]
    },
    {
     "name": "stdout",
     "output_type": "stream",
     "text": [
      "Removing 5 compensators from info because not all compensation channels were picked.\n",
      "Connectivity computation...\n",
      "only using indices for lower-triangular matrix\n",
      "    computing connectivity for 34191 connections\n",
      "    using t=0.000s..10.000s for estimation (2001 points)\n",
      "    frequencies: 8.1Hz..12.0Hz (40 points)\n",
      "    connectivity scores will be averaged for each band\n",
      "    using FFT with a Hanning window to estimate spectra\n",
      "    the following metrics will be computed: Coherence\n",
      "    computing connectivity for epochs 1..28\n"
     ]
    },
    {
     "name": "stderr",
     "output_type": "stream",
     "text": [
      "/storage/store3/work/kachardo/adhd_brain_functional_connectivity/get_data.py:46: RuntimeWarning: There were no Annotations stored in <EpochsFIF |  28 events (all good), 0 – 10 s, baseline off, ~112.6 MB, data loaded,\n",
      " 'rest': 28>, so metadata was not modified.\n",
      "  connectivity = spectral_connectivity_epochs(epoch, fmin = frequency_bands[band][0], fmax = frequency_bands[band][1], faverage=True, n_jobs=40, mode = 'fourier', method = 'coh')\n",
      "[Parallel(n_jobs=40)]: Using backend LokyBackend with 40 concurrent workers.\n",
      "[Parallel(n_jobs=40)]: Done   7 out of  28 | elapsed:    0.5s remaining:    1.4s\n",
      "[Parallel(n_jobs=40)]: Done  13 out of  28 | elapsed:    0.7s remaining:    0.8s\n",
      "[Parallel(n_jobs=40)]: Done  19 out of  28 | elapsed:    1.0s remaining:    0.5s\n",
      "[Parallel(n_jobs=40)]: Done  25 out of  28 | elapsed:    1.2s remaining:    0.1s\n",
      "[Parallel(n_jobs=40)]: Done  28 out of  28 | elapsed:    1.4s finished\n"
     ]
    },
    {
     "name": "stdout",
     "output_type": "stream",
     "text": [
      "    assembling connectivity matrix\n",
      "[Connectivity computation done]\n",
      "[0.         0.30821023 0.         ... 0.25053792 0.10342255 0.        ]\n"
     ]
    },
    {
     "name": "stderr",
     "output_type": "stream",
     "text": [
      "/storage/store3/work/kachardo/adhd_brain_functional_connectivity/get_data.py:40: FutureWarning: Calling int on a single element Series is deprecated and will raise a TypeError in the future. Use int(ser.iloc[0]) instead\n",
      "  session = int(subjects_data[subjects_data['subject_id']==subject[4:]]['session'])\n"
     ]
    },
    {
     "name": "stdout",
     "output_type": "stream",
     "text": [
      "Removing 5 compensators from info because not all compensation channels were picked.\n",
      "Connectivity computation...\n",
      "only using indices for lower-triangular matrix\n",
      "    computing connectivity for 34191 connections\n",
      "    using t=0.000s..10.000s for estimation (2001 points)\n",
      "    frequencies: 8.1Hz..12.0Hz (40 points)\n",
      "    connectivity scores will be averaged for each band\n",
      "    using FFT with a Hanning window to estimate spectra\n",
      "    the following metrics will be computed: Coherence\n",
      "    computing connectivity for epochs 1..28\n"
     ]
    },
    {
     "name": "stderr",
     "output_type": "stream",
     "text": [
      "/storage/store3/work/kachardo/adhd_brain_functional_connectivity/get_data.py:46: RuntimeWarning: There were no Annotations stored in <EpochsFIF |  28 events (all good), 0 – 10 s, baseline off, ~112.6 MB, data loaded,\n",
      " 'rest': 28>, so metadata was not modified.\n",
      "  connectivity = spectral_connectivity_epochs(epoch, fmin = frequency_bands[band][0], fmax = frequency_bands[band][1], faverage=True, n_jobs=40, mode = 'fourier', method = 'coh')\n",
      "[Parallel(n_jobs=40)]: Using backend LokyBackend with 40 concurrent workers.\n",
      "[Parallel(n_jobs=40)]: Done   7 out of  28 | elapsed:    0.5s remaining:    1.4s\n",
      "[Parallel(n_jobs=40)]: Done  13 out of  28 | elapsed:    0.7s remaining:    0.9s\n",
      "[Parallel(n_jobs=40)]: Done  19 out of  28 | elapsed:    1.0s remaining:    0.5s\n",
      "[Parallel(n_jobs=40)]: Done  25 out of  28 | elapsed:    1.3s remaining:    0.2s\n",
      "[Parallel(n_jobs=40)]: Done  28 out of  28 | elapsed:    1.4s finished\n"
     ]
    },
    {
     "name": "stdout",
     "output_type": "stream",
     "text": [
      "    assembling connectivity matrix\n",
      "[Connectivity computation done]\n",
      "[0.         0.40743374 0.         ... 0.0910973  0.0382869  0.        ]\n"
     ]
    },
    {
     "name": "stderr",
     "output_type": "stream",
     "text": [
      "/storage/store3/work/kachardo/adhd_brain_functional_connectivity/get_data.py:40: FutureWarning: Calling int on a single element Series is deprecated and will raise a TypeError in the future. Use int(ser.iloc[0]) instead\n",
      "  session = int(subjects_data[subjects_data['subject_id']==subject[4:]]['session'])\n"
     ]
    },
    {
     "name": "stdout",
     "output_type": "stream",
     "text": [
      "Removing 5 compensators from info because not all compensation channels were picked.\n",
      "Connectivity computation...\n",
      "only using indices for lower-triangular matrix\n",
      "    computing connectivity for 34191 connections\n",
      "    using t=0.000s..10.000s for estimation (2001 points)\n",
      "    frequencies: 8.1Hz..12.0Hz (40 points)\n",
      "    connectivity scores will be averaged for each band\n",
      "    using FFT with a Hanning window to estimate spectra\n",
      "    the following metrics will be computed: Coherence\n",
      "    computing connectivity for epochs 1..28\n"
     ]
    },
    {
     "name": "stderr",
     "output_type": "stream",
     "text": [
      "/storage/store3/work/kachardo/adhd_brain_functional_connectivity/get_data.py:46: RuntimeWarning: There were no Annotations stored in <EpochsFIF |  28 events (all good), 0 – 10 s, baseline off, ~112.6 MB, data loaded,\n",
      " 'rest': 28>, so metadata was not modified.\n",
      "  connectivity = spectral_connectivity_epochs(epoch, fmin = frequency_bands[band][0], fmax = frequency_bands[band][1], faverage=True, n_jobs=40, mode = 'fourier', method = 'coh')\n",
      "[Parallel(n_jobs=40)]: Using backend LokyBackend with 40 concurrent workers.\n",
      "[Parallel(n_jobs=40)]: Done   7 out of  28 | elapsed:    0.5s remaining:    1.4s\n",
      "[Parallel(n_jobs=40)]: Done  13 out of  28 | elapsed:    0.7s remaining:    0.9s\n",
      "[Parallel(n_jobs=40)]: Done  19 out of  28 | elapsed:    1.0s remaining:    0.5s\n",
      "[Parallel(n_jobs=40)]: Done  25 out of  28 | elapsed:    1.3s remaining:    0.2s\n",
      "[Parallel(n_jobs=40)]: Done  28 out of  28 | elapsed:    1.4s finished\n"
     ]
    },
    {
     "name": "stdout",
     "output_type": "stream",
     "text": [
      "    assembling connectivity matrix\n",
      "[Connectivity computation done]\n",
      "[0.         0.69285143 0.         ... 0.05777867 0.0439232  0.        ]\n"
     ]
    },
    {
     "name": "stderr",
     "output_type": "stream",
     "text": [
      "/storage/store3/work/kachardo/adhd_brain_functional_connectivity/get_data.py:40: FutureWarning: Calling int on a single element Series is deprecated and will raise a TypeError in the future. Use int(ser.iloc[0]) instead\n",
      "  session = int(subjects_data[subjects_data['subject_id']==subject[4:]]['session'])\n"
     ]
    },
    {
     "name": "stdout",
     "output_type": "stream",
     "text": [
      "Removing 5 compensators from info because not all compensation channels were picked.\n",
      "Connectivity computation...\n",
      "only using indices for lower-triangular matrix\n",
      "    computing connectivity for 34191 connections\n",
      "    using t=0.000s..10.000s for estimation (2001 points)\n",
      "    frequencies: 8.1Hz..12.0Hz (40 points)\n",
      "    connectivity scores will be averaged for each band\n",
      "    using FFT with a Hanning window to estimate spectra\n",
      "    the following metrics will be computed: Coherence\n",
      "    computing connectivity for epochs 1..28\n"
     ]
    },
    {
     "name": "stderr",
     "output_type": "stream",
     "text": [
      "/storage/store3/work/kachardo/adhd_brain_functional_connectivity/get_data.py:46: RuntimeWarning: There were no Annotations stored in <EpochsFIF |  28 events (all good), 0 – 10 s, baseline off, ~112.6 MB, data loaded,\n",
      " 'rest': 28>, so metadata was not modified.\n",
      "  connectivity = spectral_connectivity_epochs(epoch, fmin = frequency_bands[band][0], fmax = frequency_bands[band][1], faverage=True, n_jobs=40, mode = 'fourier', method = 'coh')\n",
      "[Parallel(n_jobs=40)]: Using backend LokyBackend with 40 concurrent workers.\n",
      "[Parallel(n_jobs=40)]: Done   7 out of  28 | elapsed:    0.5s remaining:    1.4s\n",
      "[Parallel(n_jobs=40)]: Done  13 out of  28 | elapsed:    0.7s remaining:    0.8s\n",
      "[Parallel(n_jobs=40)]: Done  19 out of  28 | elapsed:    1.0s remaining:    0.5s\n",
      "[Parallel(n_jobs=40)]: Done  25 out of  28 | elapsed:    1.2s remaining:    0.1s\n",
      "[Parallel(n_jobs=40)]: Done  28 out of  28 | elapsed:    1.3s finished\n"
     ]
    },
    {
     "name": "stdout",
     "output_type": "stream",
     "text": [
      "    assembling connectivity matrix\n",
      "[Connectivity computation done]\n",
      "[0.         0.61623981 0.         ... 0.11287765 0.11349206 0.        ]\n"
     ]
    },
    {
     "name": "stderr",
     "output_type": "stream",
     "text": [
      "/storage/store3/work/kachardo/adhd_brain_functional_connectivity/get_data.py:40: FutureWarning: Calling int on a single element Series is deprecated and will raise a TypeError in the future. Use int(ser.iloc[0]) instead\n",
      "  session = int(subjects_data[subjects_data['subject_id']==subject[4:]]['session'])\n"
     ]
    },
    {
     "name": "stdout",
     "output_type": "stream",
     "text": [
      "Removing 5 compensators from info because not all compensation channels were picked.\n",
      "Connectivity computation...\n",
      "only using indices for lower-triangular matrix\n",
      "    computing connectivity for 34191 connections\n",
      "    using t=0.000s..10.000s for estimation (2001 points)\n",
      "    frequencies: 8.1Hz..12.0Hz (40 points)\n",
      "    connectivity scores will be averaged for each band\n",
      "    using FFT with a Hanning window to estimate spectra\n",
      "    the following metrics will be computed: Coherence\n",
      "    computing connectivity for epochs 1..28\n"
     ]
    },
    {
     "name": "stderr",
     "output_type": "stream",
     "text": [
      "/storage/store3/work/kachardo/adhd_brain_functional_connectivity/get_data.py:46: RuntimeWarning: There were no Annotations stored in <EpochsFIF |  28 events (all good), 0 – 10 s, baseline off, ~112.6 MB, data loaded,\n",
      " 'rest': 28>, so metadata was not modified.\n",
      "  connectivity = spectral_connectivity_epochs(epoch, fmin = frequency_bands[band][0], fmax = frequency_bands[band][1], faverage=True, n_jobs=40, mode = 'fourier', method = 'coh')\n",
      "[Parallel(n_jobs=40)]: Using backend LokyBackend with 40 concurrent workers.\n",
      "[Parallel(n_jobs=40)]: Done   7 out of  28 | elapsed:    0.5s remaining:    1.4s\n",
      "[Parallel(n_jobs=40)]: Done  13 out of  28 | elapsed:    0.7s remaining:    0.8s\n",
      "[Parallel(n_jobs=40)]: Done  19 out of  28 | elapsed:    1.0s remaining:    0.5s\n",
      "[Parallel(n_jobs=40)]: Done  25 out of  28 | elapsed:    1.2s remaining:    0.1s\n",
      "[Parallel(n_jobs=40)]: Done  28 out of  28 | elapsed:    1.3s finished\n"
     ]
    },
    {
     "name": "stdout",
     "output_type": "stream",
     "text": [
      "    assembling connectivity matrix\n",
      "[Connectivity computation done]\n",
      "[0.         0.62639083 0.         ... 0.04750925 0.04412618 0.        ]\n"
     ]
    },
    {
     "name": "stderr",
     "output_type": "stream",
     "text": [
      "/storage/store3/work/kachardo/adhd_brain_functional_connectivity/get_data.py:40: FutureWarning: Calling int on a single element Series is deprecated and will raise a TypeError in the future. Use int(ser.iloc[0]) instead\n",
      "  session = int(subjects_data[subjects_data['subject_id']==subject[4:]]['session'])\n"
     ]
    },
    {
     "name": "stdout",
     "output_type": "stream",
     "text": [
      "Removing 5 compensators from info because not all compensation channels were picked.\n",
      "Connectivity computation...\n",
      "only using indices for lower-triangular matrix\n",
      "    computing connectivity for 34191 connections\n",
      "    using t=0.000s..10.000s for estimation (2001 points)\n",
      "    frequencies: 8.1Hz..12.0Hz (40 points)\n",
      "    connectivity scores will be averaged for each band\n",
      "    using FFT with a Hanning window to estimate spectra\n",
      "    the following metrics will be computed: Coherence\n",
      "    computing connectivity for epochs 1..28\n"
     ]
    },
    {
     "name": "stderr",
     "output_type": "stream",
     "text": [
      "/storage/store3/work/kachardo/adhd_brain_functional_connectivity/get_data.py:46: RuntimeWarning: There were no Annotations stored in <EpochsFIF |  28 events (all good), 0 – 10 s, baseline off, ~112.6 MB, data loaded,\n",
      " 'rest': 28>, so metadata was not modified.\n",
      "  connectivity = spectral_connectivity_epochs(epoch, fmin = frequency_bands[band][0], fmax = frequency_bands[band][1], faverage=True, n_jobs=40, mode = 'fourier', method = 'coh')\n",
      "[Parallel(n_jobs=40)]: Using backend LokyBackend with 40 concurrent workers.\n",
      "[Parallel(n_jobs=40)]: Done   7 out of  28 | elapsed:    0.5s remaining:    1.5s\n",
      "[Parallel(n_jobs=40)]: Done  13 out of  28 | elapsed:    0.8s remaining:    0.9s\n",
      "[Parallel(n_jobs=40)]: Done  19 out of  28 | elapsed:    1.0s remaining:    0.5s\n",
      "[Parallel(n_jobs=40)]: Done  25 out of  28 | elapsed:    1.3s remaining:    0.2s\n",
      "[Parallel(n_jobs=40)]: Done  28 out of  28 | elapsed:    1.4s finished\n"
     ]
    },
    {
     "name": "stdout",
     "output_type": "stream",
     "text": [
      "    assembling connectivity matrix\n",
      "[Connectivity computation done]\n",
      "[0.         0.59852521 0.         ... 0.17701428 0.05259223 0.        ]\n"
     ]
    },
    {
     "name": "stderr",
     "output_type": "stream",
     "text": [
      "/storage/store3/work/kachardo/adhd_brain_functional_connectivity/get_data.py:40: FutureWarning: Calling int on a single element Series is deprecated and will raise a TypeError in the future. Use int(ser.iloc[0]) instead\n",
      "  session = int(subjects_data[subjects_data['subject_id']==subject[4:]]['session'])\n"
     ]
    },
    {
     "name": "stdout",
     "output_type": "stream",
     "text": [
      "Removing 5 compensators from info because not all compensation channels were picked.\n",
      "Connectivity computation...\n",
      "only using indices for lower-triangular matrix\n",
      "    computing connectivity for 34191 connections\n",
      "    using t=0.000s..10.000s for estimation (2001 points)\n",
      "    frequencies: 8.1Hz..12.0Hz (40 points)\n",
      "    connectivity scores will be averaged for each band\n",
      "    using FFT with a Hanning window to estimate spectra\n",
      "    the following metrics will be computed: Coherence\n",
      "    computing connectivity for epochs 1..28\n"
     ]
    },
    {
     "name": "stderr",
     "output_type": "stream",
     "text": [
      "/storage/store3/work/kachardo/adhd_brain_functional_connectivity/get_data.py:46: RuntimeWarning: There were no Annotations stored in <EpochsFIF |  28 events (all good), 0 – 10 s, baseline off, ~112.6 MB, data loaded,\n",
      " 'rest': 28>, so metadata was not modified.\n",
      "  connectivity = spectral_connectivity_epochs(epoch, fmin = frequency_bands[band][0], fmax = frequency_bands[band][1], faverage=True, n_jobs=40, mode = 'fourier', method = 'coh')\n",
      "[Parallel(n_jobs=40)]: Using backend LokyBackend with 40 concurrent workers.\n",
      "[Parallel(n_jobs=40)]: Done   7 out of  28 | elapsed:    0.5s remaining:    1.6s\n",
      "[Parallel(n_jobs=40)]: Done  13 out of  28 | elapsed:    0.7s remaining:    0.9s\n",
      "[Parallel(n_jobs=40)]: Done  19 out of  28 | elapsed:    1.0s remaining:    0.5s\n",
      "[Parallel(n_jobs=40)]: Done  25 out of  28 | elapsed:    1.2s remaining:    0.1s\n",
      "[Parallel(n_jobs=40)]: Done  28 out of  28 | elapsed:    1.4s finished\n"
     ]
    },
    {
     "name": "stdout",
     "output_type": "stream",
     "text": [
      "    assembling connectivity matrix\n",
      "[Connectivity computation done]\n",
      "[0.         0.34893246 0.         ... 0.06179657 0.06878602 0.        ]\n"
     ]
    },
    {
     "name": "stderr",
     "output_type": "stream",
     "text": [
      "/storage/store3/work/kachardo/adhd_brain_functional_connectivity/get_data.py:40: FutureWarning: Calling int on a single element Series is deprecated and will raise a TypeError in the future. Use int(ser.iloc[0]) instead\n",
      "  session = int(subjects_data[subjects_data['subject_id']==subject[4:]]['session'])\n"
     ]
    },
    {
     "name": "stdout",
     "output_type": "stream",
     "text": [
      "Removing 5 compensators from info because not all compensation channels were picked.\n",
      "Connectivity computation...\n",
      "only using indices for lower-triangular matrix\n",
      "    computing connectivity for 34191 connections\n",
      "    using t=0.000s..10.000s for estimation (2001 points)\n",
      "    frequencies: 8.1Hz..12.0Hz (40 points)\n",
      "    connectivity scores will be averaged for each band\n",
      "    using FFT with a Hanning window to estimate spectra\n",
      "    the following metrics will be computed: Coherence\n",
      "    computing connectivity for epochs 1..28\n"
     ]
    },
    {
     "name": "stderr",
     "output_type": "stream",
     "text": [
      "/storage/store3/work/kachardo/adhd_brain_functional_connectivity/get_data.py:46: RuntimeWarning: There were no Annotations stored in <EpochsFIF |  28 events (all good), 0 – 10 s, baseline off, ~112.6 MB, data loaded,\n",
      " 'rest': 28>, so metadata was not modified.\n",
      "  connectivity = spectral_connectivity_epochs(epoch, fmin = frequency_bands[band][0], fmax = frequency_bands[band][1], faverage=True, n_jobs=40, mode = 'fourier', method = 'coh')\n",
      "[Parallel(n_jobs=40)]: Using backend LokyBackend with 40 concurrent workers.\n",
      "[Parallel(n_jobs=40)]: Done   7 out of  28 | elapsed:    0.5s remaining:    1.4s\n",
      "[Parallel(n_jobs=40)]: Done  13 out of  28 | elapsed:    0.7s remaining:    0.8s\n",
      "[Parallel(n_jobs=40)]: Done  19 out of  28 | elapsed:    1.0s remaining:    0.5s\n",
      "[Parallel(n_jobs=40)]: Done  25 out of  28 | elapsed:    1.2s remaining:    0.1s\n",
      "[Parallel(n_jobs=40)]: Done  28 out of  28 | elapsed:    1.3s finished\n"
     ]
    },
    {
     "name": "stdout",
     "output_type": "stream",
     "text": [
      "    assembling connectivity matrix\n",
      "[Connectivity computation done]\n",
      "[0.         0.47496393 0.         ... 0.18147553 0.03970056 0.        ]\n"
     ]
    },
    {
     "name": "stderr",
     "output_type": "stream",
     "text": [
      "/storage/store3/work/kachardo/adhd_brain_functional_connectivity/get_data.py:40: FutureWarning: Calling int on a single element Series is deprecated and will raise a TypeError in the future. Use int(ser.iloc[0]) instead\n",
      "  session = int(subjects_data[subjects_data['subject_id']==subject[4:]]['session'])\n"
     ]
    },
    {
     "name": "stdout",
     "output_type": "stream",
     "text": [
      "Removing 5 compensators from info because not all compensation channels were picked.\n",
      "Connectivity computation...\n",
      "only using indices for lower-triangular matrix\n",
      "    computing connectivity for 34191 connections\n",
      "    using t=0.000s..10.000s for estimation (2001 points)\n",
      "    frequencies: 8.1Hz..12.0Hz (40 points)\n",
      "    connectivity scores will be averaged for each band\n",
      "    using FFT with a Hanning window to estimate spectra\n",
      "    the following metrics will be computed: Coherence\n",
      "    computing connectivity for epochs 1..28\n"
     ]
    },
    {
     "name": "stderr",
     "output_type": "stream",
     "text": [
      "/storage/store3/work/kachardo/adhd_brain_functional_connectivity/get_data.py:46: RuntimeWarning: There were no Annotations stored in <EpochsFIF |  28 events (all good), 0 – 10 s, baseline off, ~112.6 MB, data loaded,\n",
      " 'rest': 28>, so metadata was not modified.\n",
      "  connectivity = spectral_connectivity_epochs(epoch, fmin = frequency_bands[band][0], fmax = frequency_bands[band][1], faverage=True, n_jobs=40, mode = 'fourier', method = 'coh')\n",
      "[Parallel(n_jobs=40)]: Using backend LokyBackend with 40 concurrent workers.\n",
      "[Parallel(n_jobs=40)]: Done   7 out of  28 | elapsed:    0.5s remaining:    1.4s\n",
      "[Parallel(n_jobs=40)]: Done  13 out of  28 | elapsed:    0.7s remaining:    0.8s\n",
      "[Parallel(n_jobs=40)]: Done  19 out of  28 | elapsed:    1.0s remaining:    0.5s\n",
      "[Parallel(n_jobs=40)]: Done  25 out of  28 | elapsed:    1.2s remaining:    0.1s\n",
      "[Parallel(n_jobs=40)]: Done  28 out of  28 | elapsed:    1.3s finished\n"
     ]
    },
    {
     "name": "stdout",
     "output_type": "stream",
     "text": [
      "    assembling connectivity matrix\n",
      "[Connectivity computation done]\n",
      "[0.         0.48286589 0.         ... 0.2511223  0.04167056 0.        ]\n"
     ]
    },
    {
     "name": "stderr",
     "output_type": "stream",
     "text": [
      "/storage/store3/work/kachardo/adhd_brain_functional_connectivity/get_data.py:40: FutureWarning: Calling int on a single element Series is deprecated and will raise a TypeError in the future. Use int(ser.iloc[0]) instead\n",
      "  session = int(subjects_data[subjects_data['subject_id']==subject[4:]]['session'])\n"
     ]
    },
    {
     "name": "stdout",
     "output_type": "stream",
     "text": [
      "Removing 5 compensators from info because not all compensation channels were picked.\n",
      "Connectivity computation...\n",
      "only using indices for lower-triangular matrix\n",
      "    computing connectivity for 34191 connections\n",
      "    using t=0.000s..10.000s for estimation (2001 points)\n",
      "    frequencies: 8.1Hz..12.0Hz (40 points)\n",
      "    connectivity scores will be averaged for each band\n",
      "    using FFT with a Hanning window to estimate spectra\n",
      "    the following metrics will be computed: Coherence\n",
      "    computing connectivity for epochs 1..28\n"
     ]
    },
    {
     "name": "stderr",
     "output_type": "stream",
     "text": [
      "/storage/store3/work/kachardo/adhd_brain_functional_connectivity/get_data.py:46: RuntimeWarning: There were no Annotations stored in <EpochsFIF |  28 events (all good), 0 – 10 s, baseline off, ~112.6 MB, data loaded,\n",
      " 'rest': 28>, so metadata was not modified.\n",
      "  connectivity = spectral_connectivity_epochs(epoch, fmin = frequency_bands[band][0], fmax = frequency_bands[band][1], faverage=True, n_jobs=40, mode = 'fourier', method = 'coh')\n",
      "[Parallel(n_jobs=40)]: Using backend LokyBackend with 40 concurrent workers.\n",
      "[Parallel(n_jobs=40)]: Done   7 out of  28 | elapsed:    0.5s remaining:    1.5s\n",
      "[Parallel(n_jobs=40)]: Done  13 out of  28 | elapsed:    0.7s remaining:    0.9s\n",
      "[Parallel(n_jobs=40)]: Done  19 out of  28 | elapsed:    1.0s remaining:    0.5s\n",
      "[Parallel(n_jobs=40)]: Done  25 out of  28 | elapsed:    1.2s remaining:    0.1s\n",
      "[Parallel(n_jobs=40)]: Done  28 out of  28 | elapsed:    1.4s finished\n"
     ]
    },
    {
     "name": "stdout",
     "output_type": "stream",
     "text": [
      "    assembling connectivity matrix\n",
      "[Connectivity computation done]\n",
      "[0.         0.24233709 0.         ... 0.04123305 0.03760792 0.        ]\n"
     ]
    },
    {
     "name": "stderr",
     "output_type": "stream",
     "text": [
      "/storage/store3/work/kachardo/adhd_brain_functional_connectivity/get_data.py:40: FutureWarning: Calling int on a single element Series is deprecated and will raise a TypeError in the future. Use int(ser.iloc[0]) instead\n",
      "  session = int(subjects_data[subjects_data['subject_id']==subject[4:]]['session'])\n"
     ]
    },
    {
     "name": "stdout",
     "output_type": "stream",
     "text": [
      "Removing 5 compensators from info because not all compensation channels were picked.\n",
      "Connectivity computation...\n",
      "only using indices for lower-triangular matrix\n",
      "    computing connectivity for 34191 connections\n",
      "    using t=0.000s..10.000s for estimation (2001 points)\n",
      "    frequencies: 8.1Hz..12.0Hz (40 points)\n",
      "    connectivity scores will be averaged for each band\n",
      "    using FFT with a Hanning window to estimate spectra\n",
      "    the following metrics will be computed: Coherence\n",
      "    computing connectivity for epochs 1..28\n"
     ]
    },
    {
     "name": "stderr",
     "output_type": "stream",
     "text": [
      "/storage/store3/work/kachardo/adhd_brain_functional_connectivity/get_data.py:46: RuntimeWarning: There were no Annotations stored in <EpochsFIF |  28 events (all good), 0 – 10 s, baseline off, ~112.6 MB, data loaded,\n",
      " 'rest': 28>, so metadata was not modified.\n",
      "  connectivity = spectral_connectivity_epochs(epoch, fmin = frequency_bands[band][0], fmax = frequency_bands[band][1], faverage=True, n_jobs=40, mode = 'fourier', method = 'coh')\n",
      "[Parallel(n_jobs=40)]: Using backend LokyBackend with 40 concurrent workers.\n",
      "[Parallel(n_jobs=40)]: Done   7 out of  28 | elapsed:    0.5s remaining:    1.4s\n",
      "[Parallel(n_jobs=40)]: Done  13 out of  28 | elapsed:    0.7s remaining:    0.8s\n",
      "[Parallel(n_jobs=40)]: Done  19 out of  28 | elapsed:    1.0s remaining:    0.5s\n",
      "[Parallel(n_jobs=40)]: Done  25 out of  28 | elapsed:    1.2s remaining:    0.1s\n",
      "[Parallel(n_jobs=40)]: Done  28 out of  28 | elapsed:    1.3s finished\n"
     ]
    },
    {
     "name": "stdout",
     "output_type": "stream",
     "text": [
      "    assembling connectivity matrix\n",
      "[Connectivity computation done]\n",
      "[0.         0.47582458 0.         ... 0.23742968 0.05635237 0.        ]\n"
     ]
    },
    {
     "name": "stderr",
     "output_type": "stream",
     "text": [
      "/storage/store3/work/kachardo/adhd_brain_functional_connectivity/get_data.py:40: FutureWarning: Calling int on a single element Series is deprecated and will raise a TypeError in the future. Use int(ser.iloc[0]) instead\n",
      "  session = int(subjects_data[subjects_data['subject_id']==subject[4:]]['session'])\n"
     ]
    },
    {
     "name": "stdout",
     "output_type": "stream",
     "text": [
      "Removing 5 compensators from info because not all compensation channels were picked.\n",
      "Connectivity computation...\n",
      "only using indices for lower-triangular matrix\n",
      "    computing connectivity for 34191 connections\n",
      "    using t=0.000s..10.000s for estimation (2001 points)\n",
      "    frequencies: 8.1Hz..12.0Hz (40 points)\n",
      "    connectivity scores will be averaged for each band\n",
      "    using FFT with a Hanning window to estimate spectra\n",
      "    the following metrics will be computed: Coherence\n",
      "    computing connectivity for epochs 1..28\n"
     ]
    },
    {
     "name": "stderr",
     "output_type": "stream",
     "text": [
      "/storage/store3/work/kachardo/adhd_brain_functional_connectivity/get_data.py:46: RuntimeWarning: There were no Annotations stored in <EpochsFIF |  28 events (all good), 0 – 10 s, baseline off, ~112.6 MB, data loaded,\n",
      " 'rest': 28>, so metadata was not modified.\n",
      "  connectivity = spectral_connectivity_epochs(epoch, fmin = frequency_bands[band][0], fmax = frequency_bands[band][1], faverage=True, n_jobs=40, mode = 'fourier', method = 'coh')\n",
      "[Parallel(n_jobs=40)]: Using backend LokyBackend with 40 concurrent workers.\n",
      "[Parallel(n_jobs=40)]: Done   7 out of  28 | elapsed:    0.5s remaining:    1.4s\n",
      "[Parallel(n_jobs=40)]: Done  13 out of  28 | elapsed:    0.7s remaining:    0.8s\n",
      "[Parallel(n_jobs=40)]: Done  19 out of  28 | elapsed:    0.9s remaining:    0.4s\n",
      "[Parallel(n_jobs=40)]: Done  25 out of  28 | elapsed:    1.2s remaining:    0.1s\n",
      "[Parallel(n_jobs=40)]: Done  28 out of  28 | elapsed:    1.3s finished\n"
     ]
    },
    {
     "name": "stdout",
     "output_type": "stream",
     "text": [
      "    assembling connectivity matrix\n",
      "[Connectivity computation done]\n",
      "[0.         0.72318937 0.         ... 0.125906   0.05771873 0.        ]\n"
     ]
    },
    {
     "name": "stderr",
     "output_type": "stream",
     "text": [
      "/storage/store3/work/kachardo/adhd_brain_functional_connectivity/get_data.py:40: FutureWarning: Calling int on a single element Series is deprecated and will raise a TypeError in the future. Use int(ser.iloc[0]) instead\n",
      "  session = int(subjects_data[subjects_data['subject_id']==subject[4:]]['session'])\n"
     ]
    },
    {
     "name": "stdout",
     "output_type": "stream",
     "text": [
      "Removing 5 compensators from info because not all compensation channels were picked.\n",
      "Connectivity computation...\n",
      "only using indices for lower-triangular matrix\n",
      "    computing connectivity for 34191 connections\n",
      "    using t=0.000s..10.000s for estimation (2001 points)\n",
      "    frequencies: 8.1Hz..12.0Hz (40 points)\n",
      "    connectivity scores will be averaged for each band\n",
      "    using FFT with a Hanning window to estimate spectra\n",
      "    the following metrics will be computed: Coherence\n",
      "    computing connectivity for epochs 1..28\n"
     ]
    },
    {
     "name": "stderr",
     "output_type": "stream",
     "text": [
      "/storage/store3/work/kachardo/adhd_brain_functional_connectivity/get_data.py:46: RuntimeWarning: There were no Annotations stored in <EpochsFIF |  28 events (all good), 0 – 10 s, baseline off, ~112.6 MB, data loaded,\n",
      " 'rest': 28>, so metadata was not modified.\n",
      "  connectivity = spectral_connectivity_epochs(epoch, fmin = frequency_bands[band][0], fmax = frequency_bands[band][1], faverage=True, n_jobs=40, mode = 'fourier', method = 'coh')\n",
      "[Parallel(n_jobs=40)]: Using backend LokyBackend with 40 concurrent workers.\n",
      "[Parallel(n_jobs=40)]: Done   7 out of  28 | elapsed:    0.5s remaining:    1.4s\n",
      "[Parallel(n_jobs=40)]: Done  13 out of  28 | elapsed:    0.7s remaining:    0.8s\n",
      "[Parallel(n_jobs=40)]: Done  19 out of  28 | elapsed:    1.0s remaining:    0.5s\n",
      "[Parallel(n_jobs=40)]: Done  25 out of  28 | elapsed:    1.2s remaining:    0.1s\n",
      "[Parallel(n_jobs=40)]: Done  28 out of  28 | elapsed:    1.3s finished\n"
     ]
    },
    {
     "name": "stdout",
     "output_type": "stream",
     "text": [
      "    assembling connectivity matrix\n",
      "[Connectivity computation done]\n",
      "[0.         0.49000619 0.         ... 0.04786878 0.04241072 0.        ]\n"
     ]
    },
    {
     "name": "stderr",
     "output_type": "stream",
     "text": [
      "/storage/store3/work/kachardo/adhd_brain_functional_connectivity/get_data.py:40: FutureWarning: Calling int on a single element Series is deprecated and will raise a TypeError in the future. Use int(ser.iloc[0]) instead\n",
      "  session = int(subjects_data[subjects_data['subject_id']==subject[4:]]['session'])\n"
     ]
    },
    {
     "name": "stdout",
     "output_type": "stream",
     "text": [
      "Removing 5 compensators from info because not all compensation channels were picked.\n",
      "Connectivity computation...\n",
      "only using indices for lower-triangular matrix\n",
      "    computing connectivity for 34191 connections\n",
      "    using t=0.000s..10.000s for estimation (2001 points)\n",
      "    frequencies: 8.1Hz..12.0Hz (40 points)\n",
      "    connectivity scores will be averaged for each band\n",
      "    using FFT with a Hanning window to estimate spectra\n",
      "    the following metrics will be computed: Coherence\n",
      "    computing connectivity for epochs 1..28\n"
     ]
    },
    {
     "name": "stderr",
     "output_type": "stream",
     "text": [
      "/storage/store3/work/kachardo/adhd_brain_functional_connectivity/get_data.py:46: RuntimeWarning: There were no Annotations stored in <EpochsFIF |  28 events (all good), 0 – 10 s, baseline off, ~112.6 MB, data loaded,\n",
      " 'rest': 28>, so metadata was not modified.\n",
      "  connectivity = spectral_connectivity_epochs(epoch, fmin = frequency_bands[band][0], fmax = frequency_bands[band][1], faverage=True, n_jobs=40, mode = 'fourier', method = 'coh')\n",
      "[Parallel(n_jobs=40)]: Using backend LokyBackend with 40 concurrent workers.\n",
      "[Parallel(n_jobs=40)]: Done   7 out of  28 | elapsed:    0.5s remaining:    1.4s\n",
      "[Parallel(n_jobs=40)]: Done  13 out of  28 | elapsed:    0.7s remaining:    0.8s\n",
      "[Parallel(n_jobs=40)]: Done  19 out of  28 | elapsed:    1.0s remaining:    0.5s\n",
      "[Parallel(n_jobs=40)]: Done  25 out of  28 | elapsed:    1.2s remaining:    0.1s\n",
      "[Parallel(n_jobs=40)]: Done  28 out of  28 | elapsed:    1.3s finished\n"
     ]
    },
    {
     "name": "stdout",
     "output_type": "stream",
     "text": [
      "    assembling connectivity matrix\n",
      "[Connectivity computation done]\n",
      "[0.         0.41642754 0.         ... 0.17281317 0.16017707 0.        ]\n"
     ]
    },
    {
     "name": "stderr",
     "output_type": "stream",
     "text": [
      "/storage/store3/work/kachardo/adhd_brain_functional_connectivity/get_data.py:40: FutureWarning: Calling int on a single element Series is deprecated and will raise a TypeError in the future. Use int(ser.iloc[0]) instead\n",
      "  session = int(subjects_data[subjects_data['subject_id']==subject[4:]]['session'])\n"
     ]
    },
    {
     "name": "stdout",
     "output_type": "stream",
     "text": [
      "Removing 5 compensators from info because not all compensation channels were picked.\n",
      "Connectivity computation...\n",
      "only using indices for lower-triangular matrix\n",
      "    computing connectivity for 34191 connections\n",
      "    using t=0.000s..10.000s for estimation (2001 points)\n",
      "    frequencies: 8.1Hz..12.0Hz (40 points)\n",
      "    connectivity scores will be averaged for each band\n",
      "    using FFT with a Hanning window to estimate spectra\n",
      "    the following metrics will be computed: Coherence\n",
      "    computing connectivity for epochs 1..28\n"
     ]
    },
    {
     "name": "stderr",
     "output_type": "stream",
     "text": [
      "/storage/store3/work/kachardo/adhd_brain_functional_connectivity/get_data.py:46: RuntimeWarning: There were no Annotations stored in <EpochsFIF |  28 events (all good), 0 – 10 s, baseline off, ~112.6 MB, data loaded,\n",
      " 'rest': 28>, so metadata was not modified.\n",
      "  connectivity = spectral_connectivity_epochs(epoch, fmin = frequency_bands[band][0], fmax = frequency_bands[band][1], faverage=True, n_jobs=40, mode = 'fourier', method = 'coh')\n",
      "[Parallel(n_jobs=40)]: Using backend LokyBackend with 40 concurrent workers.\n",
      "[Parallel(n_jobs=40)]: Done   7 out of  28 | elapsed:    0.5s remaining:    1.4s\n",
      "[Parallel(n_jobs=40)]: Done  13 out of  28 | elapsed:    0.7s remaining:    0.8s\n",
      "[Parallel(n_jobs=40)]: Done  19 out of  28 | elapsed:    1.0s remaining:    0.5s\n",
      "[Parallel(n_jobs=40)]: Done  25 out of  28 | elapsed:    1.2s remaining:    0.1s\n",
      "[Parallel(n_jobs=40)]: Done  28 out of  28 | elapsed:    1.3s finished\n"
     ]
    },
    {
     "name": "stdout",
     "output_type": "stream",
     "text": [
      "    assembling connectivity matrix\n",
      "[Connectivity computation done]\n",
      "[0.         0.22921551 0.         ... 0.12046184 0.0404684  0.        ]\n"
     ]
    },
    {
     "name": "stderr",
     "output_type": "stream",
     "text": [
      "/storage/store3/work/kachardo/adhd_brain_functional_connectivity/get_data.py:40: FutureWarning: Calling int on a single element Series is deprecated and will raise a TypeError in the future. Use int(ser.iloc[0]) instead\n",
      "  session = int(subjects_data[subjects_data['subject_id']==subject[4:]]['session'])\n"
     ]
    },
    {
     "name": "stdout",
     "output_type": "stream",
     "text": [
      "Removing 5 compensators from info because not all compensation channels were picked.\n",
      "Connectivity computation...\n",
      "only using indices for lower-triangular matrix\n",
      "    computing connectivity for 34191 connections\n",
      "    using t=0.000s..10.000s for estimation (2001 points)\n",
      "    frequencies: 8.1Hz..12.0Hz (40 points)\n",
      "    connectivity scores will be averaged for each band\n",
      "    using FFT with a Hanning window to estimate spectra\n",
      "    the following metrics will be computed: Coherence\n",
      "    computing connectivity for epochs 1..28\n"
     ]
    },
    {
     "name": "stderr",
     "output_type": "stream",
     "text": [
      "/storage/store3/work/kachardo/adhd_brain_functional_connectivity/get_data.py:46: RuntimeWarning: There were no Annotations stored in <EpochsFIF |  28 events (all good), 0 – 10 s, baseline off, ~112.6 MB, data loaded,\n",
      " 'rest': 28>, so metadata was not modified.\n",
      "  connectivity = spectral_connectivity_epochs(epoch, fmin = frequency_bands[band][0], fmax = frequency_bands[band][1], faverage=True, n_jobs=40, mode = 'fourier', method = 'coh')\n",
      "[Parallel(n_jobs=40)]: Using backend LokyBackend with 40 concurrent workers.\n",
      "[Parallel(n_jobs=40)]: Done   7 out of  28 | elapsed:    0.5s remaining:    1.4s\n",
      "[Parallel(n_jobs=40)]: Done  13 out of  28 | elapsed:    0.7s remaining:    0.8s\n",
      "[Parallel(n_jobs=40)]: Done  19 out of  28 | elapsed:    1.0s remaining:    0.5s\n",
      "[Parallel(n_jobs=40)]: Done  25 out of  28 | elapsed:    1.2s remaining:    0.1s\n",
      "[Parallel(n_jobs=40)]: Done  28 out of  28 | elapsed:    1.3s finished\n"
     ]
    },
    {
     "name": "stdout",
     "output_type": "stream",
     "text": [
      "    assembling connectivity matrix\n",
      "[Connectivity computation done]\n",
      "[0.         0.5021933  0.         ... 0.1395506  0.04663515 0.        ]\n"
     ]
    },
    {
     "name": "stderr",
     "output_type": "stream",
     "text": [
      "/storage/store3/work/kachardo/adhd_brain_functional_connectivity/get_data.py:40: FutureWarning: Calling int on a single element Series is deprecated and will raise a TypeError in the future. Use int(ser.iloc[0]) instead\n",
      "  session = int(subjects_data[subjects_data['subject_id']==subject[4:]]['session'])\n"
     ]
    },
    {
     "name": "stdout",
     "output_type": "stream",
     "text": [
      "Removing 5 compensators from info because not all compensation channels were picked.\n",
      "Connectivity computation...\n",
      "only using indices for lower-triangular matrix\n",
      "    computing connectivity for 34191 connections\n",
      "    using t=0.000s..10.000s for estimation (2001 points)\n",
      "    frequencies: 8.1Hz..12.0Hz (40 points)\n",
      "    connectivity scores will be averaged for each band\n",
      "    using FFT with a Hanning window to estimate spectra\n",
      "    the following metrics will be computed: Coherence\n",
      "    computing connectivity for epochs 1..28\n"
     ]
    },
    {
     "name": "stderr",
     "output_type": "stream",
     "text": [
      "/storage/store3/work/kachardo/adhd_brain_functional_connectivity/get_data.py:46: RuntimeWarning: There were no Annotations stored in <EpochsFIF |  28 events (all good), 0 – 10 s, baseline off, ~112.6 MB, data loaded,\n",
      " 'rest': 28>, so metadata was not modified.\n",
      "  connectivity = spectral_connectivity_epochs(epoch, fmin = frequency_bands[band][0], fmax = frequency_bands[band][1], faverage=True, n_jobs=40, mode = 'fourier', method = 'coh')\n",
      "[Parallel(n_jobs=40)]: Using backend LokyBackend with 40 concurrent workers.\n",
      "[Parallel(n_jobs=40)]: Done   7 out of  28 | elapsed:    0.5s remaining:    1.4s\n",
      "[Parallel(n_jobs=40)]: Done  13 out of  28 | elapsed:    0.7s remaining:    0.8s\n",
      "[Parallel(n_jobs=40)]: Done  19 out of  28 | elapsed:    1.0s remaining:    0.5s\n",
      "[Parallel(n_jobs=40)]: Done  25 out of  28 | elapsed:    1.2s remaining:    0.1s\n",
      "[Parallel(n_jobs=40)]: Done  28 out of  28 | elapsed:    1.3s finished\n"
     ]
    },
    {
     "name": "stdout",
     "output_type": "stream",
     "text": [
      "    assembling connectivity matrix\n",
      "[Connectivity computation done]\n",
      "[0.         0.46429688 0.         ... 0.0743934  0.16100679 0.        ]\n"
     ]
    },
    {
     "name": "stderr",
     "output_type": "stream",
     "text": [
      "/storage/store3/work/kachardo/adhd_brain_functional_connectivity/get_data.py:40: FutureWarning: Calling int on a single element Series is deprecated and will raise a TypeError in the future. Use int(ser.iloc[0]) instead\n",
      "  session = int(subjects_data[subjects_data['subject_id']==subject[4:]]['session'])\n"
     ]
    },
    {
     "name": "stdout",
     "output_type": "stream",
     "text": [
      "Removing 5 compensators from info because not all compensation channels were picked.\n",
      "Connectivity computation...\n",
      "only using indices for lower-triangular matrix\n",
      "    computing connectivity for 34191 connections\n",
      "    using t=0.000s..10.000s for estimation (2001 points)\n",
      "    frequencies: 8.1Hz..12.0Hz (40 points)\n",
      "    connectivity scores will be averaged for each band\n",
      "    using FFT with a Hanning window to estimate spectra\n",
      "    the following metrics will be computed: Coherence\n",
      "    computing connectivity for epochs 1..28\n"
     ]
    },
    {
     "name": "stderr",
     "output_type": "stream",
     "text": [
      "/storage/store3/work/kachardo/adhd_brain_functional_connectivity/get_data.py:46: RuntimeWarning: There were no Annotations stored in <EpochsFIF |  28 events (all good), 0 – 10 s, baseline off, ~112.6 MB, data loaded,\n",
      " 'rest': 28>, so metadata was not modified.\n",
      "  connectivity = spectral_connectivity_epochs(epoch, fmin = frequency_bands[band][0], fmax = frequency_bands[band][1], faverage=True, n_jobs=40, mode = 'fourier', method = 'coh')\n",
      "[Parallel(n_jobs=40)]: Using backend LokyBackend with 40 concurrent workers.\n",
      "[Parallel(n_jobs=40)]: Done   7 out of  28 | elapsed:    0.5s remaining:    1.5s\n",
      "[Parallel(n_jobs=40)]: Done  13 out of  28 | elapsed:    0.8s remaining:    0.9s\n",
      "[Parallel(n_jobs=40)]: Done  19 out of  28 | elapsed:    1.0s remaining:    0.5s\n",
      "[Parallel(n_jobs=40)]: Done  25 out of  28 | elapsed:    1.3s remaining:    0.2s\n",
      "[Parallel(n_jobs=40)]: Done  28 out of  28 | elapsed:    1.4s finished\n"
     ]
    },
    {
     "name": "stdout",
     "output_type": "stream",
     "text": [
      "    assembling connectivity matrix\n",
      "[Connectivity computation done]\n",
      "[0.         0.12343844 0.         ... 0.14367343 0.08529324 0.        ]\n"
     ]
    },
    {
     "name": "stderr",
     "output_type": "stream",
     "text": [
      "/storage/store3/work/kachardo/adhd_brain_functional_connectivity/get_data.py:40: FutureWarning: Calling int on a single element Series is deprecated and will raise a TypeError in the future. Use int(ser.iloc[0]) instead\n",
      "  session = int(subjects_data[subjects_data['subject_id']==subject[4:]]['session'])\n"
     ]
    },
    {
     "name": "stdout",
     "output_type": "stream",
     "text": [
      "Removing 5 compensators from info because not all compensation channels were picked.\n",
      "Connectivity computation...\n",
      "only using indices for lower-triangular matrix\n",
      "    computing connectivity for 34191 connections\n",
      "    using t=0.000s..10.000s for estimation (2001 points)\n",
      "    frequencies: 8.1Hz..12.0Hz (40 points)\n",
      "    connectivity scores will be averaged for each band\n",
      "    using FFT with a Hanning window to estimate spectra\n",
      "    the following metrics will be computed: Coherence\n",
      "    computing connectivity for epochs 1..28\n"
     ]
    },
    {
     "name": "stderr",
     "output_type": "stream",
     "text": [
      "/storage/store3/work/kachardo/adhd_brain_functional_connectivity/get_data.py:46: RuntimeWarning: There were no Annotations stored in <EpochsFIF |  28 events (all good), 0 – 10 s, baseline off, ~112.6 MB, data loaded,\n",
      " 'rest': 28>, so metadata was not modified.\n",
      "  connectivity = spectral_connectivity_epochs(epoch, fmin = frequency_bands[band][0], fmax = frequency_bands[band][1], faverage=True, n_jobs=40, mode = 'fourier', method = 'coh')\n",
      "[Parallel(n_jobs=40)]: Using backend LokyBackend with 40 concurrent workers.\n",
      "[Parallel(n_jobs=40)]: Done   7 out of  28 | elapsed:    0.5s remaining:    1.4s\n",
      "[Parallel(n_jobs=40)]: Done  13 out of  28 | elapsed:    0.7s remaining:    0.9s\n",
      "[Parallel(n_jobs=40)]: Done  19 out of  28 | elapsed:    1.0s remaining:    0.5s\n",
      "[Parallel(n_jobs=40)]: Done  25 out of  28 | elapsed:    1.2s remaining:    0.1s\n",
      "[Parallel(n_jobs=40)]: Done  28 out of  28 | elapsed:    1.4s finished\n"
     ]
    },
    {
     "name": "stdout",
     "output_type": "stream",
     "text": [
      "    assembling connectivity matrix\n",
      "[Connectivity computation done]\n",
      "[0.         0.32985775 0.         ... 0.05903565 0.03505456 0.        ]\n"
     ]
    },
    {
     "name": "stderr",
     "output_type": "stream",
     "text": [
      "/storage/store3/work/kachardo/adhd_brain_functional_connectivity/get_data.py:40: FutureWarning: Calling int on a single element Series is deprecated and will raise a TypeError in the future. Use int(ser.iloc[0]) instead\n",
      "  session = int(subjects_data[subjects_data['subject_id']==subject[4:]]['session'])\n"
     ]
    },
    {
     "name": "stdout",
     "output_type": "stream",
     "text": [
      "Removing 5 compensators from info because not all compensation channels were picked.\n",
      "Connectivity computation...\n",
      "only using indices for lower-triangular matrix\n",
      "    computing connectivity for 34191 connections\n",
      "    using t=0.000s..10.000s for estimation (2001 points)\n",
      "    frequencies: 8.1Hz..12.0Hz (40 points)\n",
      "    connectivity scores will be averaged for each band\n",
      "    using FFT with a Hanning window to estimate spectra\n",
      "    the following metrics will be computed: Coherence\n",
      "    computing connectivity for epochs 1..28\n"
     ]
    },
    {
     "name": "stderr",
     "output_type": "stream",
     "text": [
      "/storage/store3/work/kachardo/adhd_brain_functional_connectivity/get_data.py:46: RuntimeWarning: There were no Annotations stored in <EpochsFIF |  28 events (all good), 0 – 10 s, baseline off, ~112.6 MB, data loaded,\n",
      " 'rest': 28>, so metadata was not modified.\n",
      "  connectivity = spectral_connectivity_epochs(epoch, fmin = frequency_bands[band][0], fmax = frequency_bands[band][1], faverage=True, n_jobs=40, mode = 'fourier', method = 'coh')\n",
      "[Parallel(n_jobs=40)]: Using backend LokyBackend with 40 concurrent workers.\n",
      "[Parallel(n_jobs=40)]: Done   7 out of  28 | elapsed:    0.5s remaining:    1.4s\n",
      "[Parallel(n_jobs=40)]: Done  13 out of  28 | elapsed:    0.7s remaining:    0.8s\n",
      "[Parallel(n_jobs=40)]: Done  19 out of  28 | elapsed:    1.0s remaining:    0.5s\n",
      "[Parallel(n_jobs=40)]: Done  25 out of  28 | elapsed:    1.2s remaining:    0.1s\n",
      "[Parallel(n_jobs=40)]: Done  28 out of  28 | elapsed:    1.4s finished\n"
     ]
    },
    {
     "name": "stdout",
     "output_type": "stream",
     "text": [
      "    assembling connectivity matrix\n",
      "[Connectivity computation done]\n",
      "[0.         0.56603825 0.         ... 0.07250748 0.02648167 0.        ]\n"
     ]
    },
    {
     "name": "stderr",
     "output_type": "stream",
     "text": [
      "/storage/store3/work/kachardo/adhd_brain_functional_connectivity/get_data.py:40: FutureWarning: Calling int on a single element Series is deprecated and will raise a TypeError in the future. Use int(ser.iloc[0]) instead\n",
      "  session = int(subjects_data[subjects_data['subject_id']==subject[4:]]['session'])\n"
     ]
    },
    {
     "name": "stdout",
     "output_type": "stream",
     "text": [
      "Removing 5 compensators from info because not all compensation channels were picked.\n",
      "Connectivity computation...\n",
      "only using indices for lower-triangular matrix\n",
      "    computing connectivity for 34191 connections\n",
      "    using t=0.000s..10.000s for estimation (2001 points)\n",
      "    frequencies: 8.1Hz..12.0Hz (40 points)\n",
      "    connectivity scores will be averaged for each band\n",
      "    using FFT with a Hanning window to estimate spectra\n",
      "    the following metrics will be computed: Coherence\n",
      "    computing connectivity for epochs 1..28\n"
     ]
    },
    {
     "name": "stderr",
     "output_type": "stream",
     "text": [
      "/storage/store3/work/kachardo/adhd_brain_functional_connectivity/get_data.py:46: RuntimeWarning: There were no Annotations stored in <EpochsFIF |  28 events (all good), 0 – 10 s, baseline off, ~112.6 MB, data loaded,\n",
      " 'rest': 28>, so metadata was not modified.\n",
      "  connectivity = spectral_connectivity_epochs(epoch, fmin = frequency_bands[band][0], fmax = frequency_bands[band][1], faverage=True, n_jobs=40, mode = 'fourier', method = 'coh')\n",
      "[Parallel(n_jobs=40)]: Using backend LokyBackend with 40 concurrent workers.\n",
      "[Parallel(n_jobs=40)]: Done   7 out of  28 | elapsed:    0.5s remaining:    1.4s\n",
      "[Parallel(n_jobs=40)]: Done  13 out of  28 | elapsed:    0.7s remaining:    0.8s\n",
      "[Parallel(n_jobs=40)]: Done  19 out of  28 | elapsed:    1.0s remaining:    0.5s\n",
      "[Parallel(n_jobs=40)]: Done  25 out of  28 | elapsed:    1.2s remaining:    0.1s\n",
      "[Parallel(n_jobs=40)]: Done  28 out of  28 | elapsed:    1.3s finished\n"
     ]
    },
    {
     "name": "stdout",
     "output_type": "stream",
     "text": [
      "    assembling connectivity matrix\n",
      "[Connectivity computation done]\n",
      "[0.         0.23168749 0.         ... 0.04930167 0.04594455 0.        ]\n"
     ]
    },
    {
     "name": "stderr",
     "output_type": "stream",
     "text": [
      "/storage/store3/work/kachardo/adhd_brain_functional_connectivity/get_data.py:40: FutureWarning: Calling int on a single element Series is deprecated and will raise a TypeError in the future. Use int(ser.iloc[0]) instead\n",
      "  session = int(subjects_data[subjects_data['subject_id']==subject[4:]]['session'])\n"
     ]
    },
    {
     "name": "stdout",
     "output_type": "stream",
     "text": [
      "Removing 5 compensators from info because not all compensation channels were picked.\n",
      "Connectivity computation...\n",
      "only using indices for lower-triangular matrix\n",
      "    computing connectivity for 34191 connections\n",
      "    using t=0.000s..10.000s for estimation (2001 points)\n",
      "    frequencies: 8.1Hz..12.0Hz (40 points)\n",
      "    connectivity scores will be averaged for each band\n",
      "    using FFT with a Hanning window to estimate spectra\n",
      "    the following metrics will be computed: Coherence\n",
      "    computing connectivity for epochs 1..28\n"
     ]
    },
    {
     "name": "stderr",
     "output_type": "stream",
     "text": [
      "/storage/store3/work/kachardo/adhd_brain_functional_connectivity/get_data.py:46: RuntimeWarning: There were no Annotations stored in <EpochsFIF |  28 events (all good), 0 – 10 s, baseline off, ~112.6 MB, data loaded,\n",
      " 'rest': 28>, so metadata was not modified.\n",
      "  connectivity = spectral_connectivity_epochs(epoch, fmin = frequency_bands[band][0], fmax = frequency_bands[band][1], faverage=True, n_jobs=40, mode = 'fourier', method = 'coh')\n",
      "[Parallel(n_jobs=40)]: Using backend LokyBackend with 40 concurrent workers.\n",
      "[Parallel(n_jobs=40)]: Done   7 out of  28 | elapsed:    0.5s remaining:    1.4s\n",
      "[Parallel(n_jobs=40)]: Done  13 out of  28 | elapsed:    0.7s remaining:    0.8s\n",
      "[Parallel(n_jobs=40)]: Done  19 out of  28 | elapsed:    1.0s remaining:    0.5s\n",
      "[Parallel(n_jobs=40)]: Done  25 out of  28 | elapsed:    1.2s remaining:    0.1s\n",
      "[Parallel(n_jobs=40)]: Done  28 out of  28 | elapsed:    1.3s finished\n"
     ]
    },
    {
     "name": "stdout",
     "output_type": "stream",
     "text": [
      "    assembling connectivity matrix\n",
      "[Connectivity computation done]\n",
      "[0.         0.6295207  0.         ... 0.06108006 0.03842927 0.        ]\n"
     ]
    },
    {
     "name": "stderr",
     "output_type": "stream",
     "text": [
      "/storage/store3/work/kachardo/adhd_brain_functional_connectivity/get_data.py:40: FutureWarning: Calling int on a single element Series is deprecated and will raise a TypeError in the future. Use int(ser.iloc[0]) instead\n",
      "  session = int(subjects_data[subjects_data['subject_id']==subject[4:]]['session'])\n"
     ]
    },
    {
     "name": "stdout",
     "output_type": "stream",
     "text": [
      "Removing 5 compensators from info because not all compensation channels were picked.\n",
      "Connectivity computation...\n",
      "only using indices for lower-triangular matrix\n",
      "    computing connectivity for 34191 connections\n",
      "    using t=0.000s..10.000s for estimation (2001 points)\n",
      "    frequencies: 8.1Hz..12.0Hz (40 points)\n",
      "    connectivity scores will be averaged for each band\n",
      "    using FFT with a Hanning window to estimate spectra\n",
      "    the following metrics will be computed: Coherence\n",
      "    computing connectivity for epochs 1..28\n"
     ]
    },
    {
     "name": "stderr",
     "output_type": "stream",
     "text": [
      "/storage/store3/work/kachardo/adhd_brain_functional_connectivity/get_data.py:46: RuntimeWarning: There were no Annotations stored in <EpochsFIF |  28 events (all good), 0 – 10 s, baseline off, ~112.6 MB, data loaded,\n",
      " 'rest': 28>, so metadata was not modified.\n",
      "  connectivity = spectral_connectivity_epochs(epoch, fmin = frequency_bands[band][0], fmax = frequency_bands[band][1], faverage=True, n_jobs=40, mode = 'fourier', method = 'coh')\n",
      "[Parallel(n_jobs=40)]: Using backend LokyBackend with 40 concurrent workers.\n",
      "[Parallel(n_jobs=40)]: Done   7 out of  28 | elapsed:    0.5s remaining:    1.5s\n",
      "[Parallel(n_jobs=40)]: Done  13 out of  28 | elapsed:    0.8s remaining:    0.9s\n",
      "[Parallel(n_jobs=40)]: Done  19 out of  28 | elapsed:    1.0s remaining:    0.5s\n",
      "[Parallel(n_jobs=40)]: Done  25 out of  28 | elapsed:    1.3s remaining:    0.2s\n",
      "[Parallel(n_jobs=40)]: Done  28 out of  28 | elapsed:    1.5s finished\n"
     ]
    },
    {
     "name": "stdout",
     "output_type": "stream",
     "text": [
      "    assembling connectivity matrix\n",
      "[Connectivity computation done]\n",
      "[0.         0.34460657 0.         ... 0.08972522 0.07379107 0.        ]\n"
     ]
    },
    {
     "name": "stderr",
     "output_type": "stream",
     "text": [
      "/storage/store3/work/kachardo/adhd_brain_functional_connectivity/get_data.py:40: FutureWarning: Calling int on a single element Series is deprecated and will raise a TypeError in the future. Use int(ser.iloc[0]) instead\n",
      "  session = int(subjects_data[subjects_data['subject_id']==subject[4:]]['session'])\n"
     ]
    },
    {
     "name": "stdout",
     "output_type": "stream",
     "text": [
      "Removing 5 compensators from info because not all compensation channels were picked.\n",
      "Connectivity computation...\n",
      "only using indices for lower-triangular matrix\n",
      "    computing connectivity for 34191 connections\n",
      "    using t=0.000s..10.000s for estimation (2001 points)\n",
      "    frequencies: 8.1Hz..12.0Hz (40 points)\n",
      "    connectivity scores will be averaged for each band\n",
      "    using FFT with a Hanning window to estimate spectra\n",
      "    the following metrics will be computed: Coherence\n",
      "    computing connectivity for epochs 1..28\n"
     ]
    },
    {
     "name": "stderr",
     "output_type": "stream",
     "text": [
      "/storage/store3/work/kachardo/adhd_brain_functional_connectivity/get_data.py:46: RuntimeWarning: There were no Annotations stored in <EpochsFIF |  28 events (all good), 0 – 10 s, baseline off, ~112.6 MB, data loaded,\n",
      " 'rest': 28>, so metadata was not modified.\n",
      "  connectivity = spectral_connectivity_epochs(epoch, fmin = frequency_bands[band][0], fmax = frequency_bands[band][1], faverage=True, n_jobs=40, mode = 'fourier', method = 'coh')\n",
      "[Parallel(n_jobs=40)]: Using backend LokyBackend with 40 concurrent workers.\n",
      "[Parallel(n_jobs=40)]: Done   7 out of  28 | elapsed:    0.5s remaining:    1.5s\n",
      "[Parallel(n_jobs=40)]: Done  13 out of  28 | elapsed:    0.7s remaining:    0.8s\n",
      "[Parallel(n_jobs=40)]: Done  19 out of  28 | elapsed:    1.0s remaining:    0.5s\n",
      "[Parallel(n_jobs=40)]: Done  25 out of  28 | elapsed:    1.2s remaining:    0.1s\n",
      "[Parallel(n_jobs=40)]: Done  28 out of  28 | elapsed:    1.4s finished\n"
     ]
    },
    {
     "name": "stdout",
     "output_type": "stream",
     "text": [
      "    assembling connectivity matrix\n",
      "[Connectivity computation done]\n",
      "[0.         0.30898309 0.         ... 0.0748264  0.12103839 0.        ]\n"
     ]
    },
    {
     "name": "stderr",
     "output_type": "stream",
     "text": [
      "/storage/store3/work/kachardo/adhd_brain_functional_connectivity/get_data.py:40: FutureWarning: Calling int on a single element Series is deprecated and will raise a TypeError in the future. Use int(ser.iloc[0]) instead\n",
      "  session = int(subjects_data[subjects_data['subject_id']==subject[4:]]['session'])\n"
     ]
    },
    {
     "name": "stdout",
     "output_type": "stream",
     "text": [
      "Removing 5 compensators from info because not all compensation channels were picked.\n",
      "Connectivity computation...\n",
      "only using indices for lower-triangular matrix\n",
      "    computing connectivity for 34191 connections\n",
      "    using t=0.000s..10.000s for estimation (2001 points)\n",
      "    frequencies: 8.1Hz..12.0Hz (40 points)\n",
      "    connectivity scores will be averaged for each band\n",
      "    using FFT with a Hanning window to estimate spectra\n",
      "    the following metrics will be computed: Coherence\n",
      "    computing connectivity for epochs 1..28\n"
     ]
    },
    {
     "name": "stderr",
     "output_type": "stream",
     "text": [
      "/storage/store3/work/kachardo/adhd_brain_functional_connectivity/get_data.py:46: RuntimeWarning: There were no Annotations stored in <EpochsFIF |  28 events (all good), 0 – 10 s, baseline off, ~112.6 MB, data loaded,\n",
      " 'rest': 28>, so metadata was not modified.\n",
      "  connectivity = spectral_connectivity_epochs(epoch, fmin = frequency_bands[band][0], fmax = frequency_bands[band][1], faverage=True, n_jobs=40, mode = 'fourier', method = 'coh')\n",
      "[Parallel(n_jobs=40)]: Using backend LokyBackend with 40 concurrent workers.\n",
      "[Parallel(n_jobs=40)]: Done   7 out of  28 | elapsed:    0.5s remaining:    1.4s\n",
      "[Parallel(n_jobs=40)]: Done  13 out of  28 | elapsed:    0.7s remaining:    0.8s\n",
      "[Parallel(n_jobs=40)]: Done  19 out of  28 | elapsed:    1.0s remaining:    0.5s\n",
      "[Parallel(n_jobs=40)]: Done  25 out of  28 | elapsed:    1.2s remaining:    0.1s\n",
      "[Parallel(n_jobs=40)]: Done  28 out of  28 | elapsed:    1.4s finished\n"
     ]
    },
    {
     "name": "stdout",
     "output_type": "stream",
     "text": [
      "    assembling connectivity matrix\n",
      "[Connectivity computation done]\n",
      "[0.         0.4827162  0.         ... 0.08404441 0.03286776 0.        ]\n"
     ]
    },
    {
     "name": "stderr",
     "output_type": "stream",
     "text": [
      "/storage/store3/work/kachardo/adhd_brain_functional_connectivity/get_data.py:40: FutureWarning: Calling int on a single element Series is deprecated and will raise a TypeError in the future. Use int(ser.iloc[0]) instead\n",
      "  session = int(subjects_data[subjects_data['subject_id']==subject[4:]]['session'])\n"
     ]
    },
    {
     "name": "stdout",
     "output_type": "stream",
     "text": [
      "Removing 5 compensators from info because not all compensation channels were picked.\n",
      "Connectivity computation...\n",
      "only using indices for lower-triangular matrix\n",
      "    computing connectivity for 34191 connections\n",
      "    using t=0.000s..10.000s for estimation (2001 points)\n",
      "    frequencies: 8.1Hz..12.0Hz (40 points)\n",
      "    connectivity scores will be averaged for each band\n",
      "    using FFT with a Hanning window to estimate spectra\n",
      "    the following metrics will be computed: Coherence\n",
      "    computing connectivity for epochs 1..28\n"
     ]
    },
    {
     "name": "stderr",
     "output_type": "stream",
     "text": [
      "/storage/store3/work/kachardo/adhd_brain_functional_connectivity/get_data.py:46: RuntimeWarning: There were no Annotations stored in <EpochsFIF |  28 events (all good), 0 – 10 s, baseline off, ~112.6 MB, data loaded,\n",
      " 'rest': 28>, so metadata was not modified.\n",
      "  connectivity = spectral_connectivity_epochs(epoch, fmin = frequency_bands[band][0], fmax = frequency_bands[band][1], faverage=True, n_jobs=40, mode = 'fourier', method = 'coh')\n",
      "[Parallel(n_jobs=40)]: Using backend LokyBackend with 40 concurrent workers.\n",
      "[Parallel(n_jobs=40)]: Done   7 out of  28 | elapsed:    0.5s remaining:    1.5s\n",
      "[Parallel(n_jobs=40)]: Done  13 out of  28 | elapsed:    0.8s remaining:    0.9s\n",
      "[Parallel(n_jobs=40)]: Done  19 out of  28 | elapsed:    1.0s remaining:    0.5s\n",
      "[Parallel(n_jobs=40)]: Done  25 out of  28 | elapsed:    1.3s remaining:    0.2s\n",
      "[Parallel(n_jobs=40)]: Done  28 out of  28 | elapsed:    1.4s finished\n"
     ]
    },
    {
     "name": "stdout",
     "output_type": "stream",
     "text": [
      "    assembling connectivity matrix\n",
      "[Connectivity computation done]\n",
      "[0.         0.44866344 0.         ... 0.0915294  0.09665921 0.        ]\n"
     ]
    },
    {
     "name": "stderr",
     "output_type": "stream",
     "text": [
      "/storage/store3/work/kachardo/adhd_brain_functional_connectivity/get_data.py:40: FutureWarning: Calling int on a single element Series is deprecated and will raise a TypeError in the future. Use int(ser.iloc[0]) instead\n",
      "  session = int(subjects_data[subjects_data['subject_id']==subject[4:]]['session'])\n"
     ]
    },
    {
     "name": "stdout",
     "output_type": "stream",
     "text": [
      "Removing 5 compensators from info because not all compensation channels were picked.\n",
      "Connectivity computation...\n",
      "only using indices for lower-triangular matrix\n",
      "    computing connectivity for 34191 connections\n",
      "    using t=0.000s..10.000s for estimation (2001 points)\n",
      "    frequencies: 8.1Hz..12.0Hz (40 points)\n",
      "    connectivity scores will be averaged for each band\n",
      "    using FFT with a Hanning window to estimate spectra\n",
      "    the following metrics will be computed: Coherence\n",
      "    computing connectivity for epochs 1..28\n"
     ]
    },
    {
     "name": "stderr",
     "output_type": "stream",
     "text": [
      "/storage/store3/work/kachardo/adhd_brain_functional_connectivity/get_data.py:46: RuntimeWarning: There were no Annotations stored in <EpochsFIF |  28 events (all good), 0 – 10 s, baseline off, ~112.6 MB, data loaded,\n",
      " 'rest': 28>, so metadata was not modified.\n",
      "  connectivity = spectral_connectivity_epochs(epoch, fmin = frequency_bands[band][0], fmax = frequency_bands[band][1], faverage=True, n_jobs=40, mode = 'fourier', method = 'coh')\n",
      "[Parallel(n_jobs=40)]: Using backend LokyBackend with 40 concurrent workers.\n",
      "[Parallel(n_jobs=40)]: Done   7 out of  28 | elapsed:    0.5s remaining:    1.5s\n",
      "[Parallel(n_jobs=40)]: Done  13 out of  28 | elapsed:    0.8s remaining:    0.9s\n",
      "[Parallel(n_jobs=40)]: Done  19 out of  28 | elapsed:    1.1s remaining:    0.5s\n",
      "[Parallel(n_jobs=40)]: Done  25 out of  28 | elapsed:    1.3s remaining:    0.2s\n",
      "[Parallel(n_jobs=40)]: Done  28 out of  28 | elapsed:    1.5s finished\n"
     ]
    },
    {
     "name": "stdout",
     "output_type": "stream",
     "text": [
      "    assembling connectivity matrix\n",
      "[Connectivity computation done]\n",
      "[0.         0.43725951 0.         ... 0.07633468 0.12201231 0.        ]\n"
     ]
    },
    {
     "name": "stderr",
     "output_type": "stream",
     "text": [
      "/storage/store3/work/kachardo/adhd_brain_functional_connectivity/get_data.py:40: FutureWarning: Calling int on a single element Series is deprecated and will raise a TypeError in the future. Use int(ser.iloc[0]) instead\n",
      "  session = int(subjects_data[subjects_data['subject_id']==subject[4:]]['session'])\n"
     ]
    },
    {
     "name": "stdout",
     "output_type": "stream",
     "text": [
      "Removing 5 compensators from info because not all compensation channels were picked.\n",
      "Connectivity computation...\n",
      "only using indices for lower-triangular matrix\n",
      "    computing connectivity for 34191 connections\n",
      "    using t=0.000s..10.000s for estimation (2001 points)\n",
      "    frequencies: 8.1Hz..12.0Hz (40 points)\n",
      "    connectivity scores will be averaged for each band\n",
      "    using FFT with a Hanning window to estimate spectra\n",
      "    the following metrics will be computed: Coherence\n",
      "    computing connectivity for epochs 1..28\n"
     ]
    },
    {
     "name": "stderr",
     "output_type": "stream",
     "text": [
      "/storage/store3/work/kachardo/adhd_brain_functional_connectivity/get_data.py:46: RuntimeWarning: There were no Annotations stored in <EpochsFIF |  28 events (all good), 0 – 10 s, baseline off, ~112.6 MB, data loaded,\n",
      " 'rest': 28>, so metadata was not modified.\n",
      "  connectivity = spectral_connectivity_epochs(epoch, fmin = frequency_bands[band][0], fmax = frequency_bands[band][1], faverage=True, n_jobs=40, mode = 'fourier', method = 'coh')\n",
      "[Parallel(n_jobs=40)]: Using backend LokyBackend with 40 concurrent workers.\n",
      "[Parallel(n_jobs=40)]: Done   7 out of  28 | elapsed:    0.5s remaining:    1.5s\n",
      "[Parallel(n_jobs=40)]: Done  13 out of  28 | elapsed:    0.7s remaining:    0.9s\n",
      "[Parallel(n_jobs=40)]: Done  19 out of  28 | elapsed:    1.0s remaining:    0.5s\n",
      "[Parallel(n_jobs=40)]: Done  25 out of  28 | elapsed:    1.3s remaining:    0.2s\n",
      "[Parallel(n_jobs=40)]: Done  28 out of  28 | elapsed:    1.4s finished\n"
     ]
    },
    {
     "name": "stdout",
     "output_type": "stream",
     "text": [
      "    assembling connectivity matrix\n",
      "[Connectivity computation done]\n",
      "[0.         0.25645029 0.         ... 0.0940562  0.03517782 0.        ]\n"
     ]
    },
    {
     "name": "stderr",
     "output_type": "stream",
     "text": [
      "/storage/store3/work/kachardo/adhd_brain_functional_connectivity/get_data.py:40: FutureWarning: Calling int on a single element Series is deprecated and will raise a TypeError in the future. Use int(ser.iloc[0]) instead\n",
      "  session = int(subjects_data[subjects_data['subject_id']==subject[4:]]['session'])\n"
     ]
    },
    {
     "name": "stdout",
     "output_type": "stream",
     "text": [
      "Removing 5 compensators from info because not all compensation channels were picked.\n",
      "Connectivity computation...\n",
      "only using indices for lower-triangular matrix\n",
      "    computing connectivity for 34191 connections\n",
      "    using t=0.000s..10.000s for estimation (2001 points)\n",
      "    frequencies: 8.1Hz..12.0Hz (40 points)\n",
      "    connectivity scores will be averaged for each band\n",
      "    using FFT with a Hanning window to estimate spectra\n",
      "    the following metrics will be computed: Coherence\n",
      "    computing connectivity for epochs 1..28\n"
     ]
    },
    {
     "name": "stderr",
     "output_type": "stream",
     "text": [
      "/storage/store3/work/kachardo/adhd_brain_functional_connectivity/get_data.py:46: RuntimeWarning: There were no Annotations stored in <EpochsFIF |  28 events (all good), 0 – 10 s, baseline off, ~112.6 MB, data loaded,\n",
      " 'rest': 28>, so metadata was not modified.\n",
      "  connectivity = spectral_connectivity_epochs(epoch, fmin = frequency_bands[band][0], fmax = frequency_bands[band][1], faverage=True, n_jobs=40, mode = 'fourier', method = 'coh')\n",
      "[Parallel(n_jobs=40)]: Using backend LokyBackend with 40 concurrent workers.\n",
      "[Parallel(n_jobs=40)]: Done   7 out of  28 | elapsed:    0.5s remaining:    1.4s\n",
      "[Parallel(n_jobs=40)]: Done  13 out of  28 | elapsed:    0.7s remaining:    0.8s\n",
      "[Parallel(n_jobs=40)]: Done  19 out of  28 | elapsed:    1.0s remaining:    0.5s\n",
      "[Parallel(n_jobs=40)]: Done  25 out of  28 | elapsed:    1.2s remaining:    0.1s\n",
      "[Parallel(n_jobs=40)]: Done  28 out of  28 | elapsed:    1.3s finished\n"
     ]
    },
    {
     "name": "stdout",
     "output_type": "stream",
     "text": [
      "    assembling connectivity matrix\n",
      "[Connectivity computation done]\n",
      "[0.         0.33771533 0.         ... 0.0678515  0.05106023 0.        ]\n"
     ]
    },
    {
     "name": "stderr",
     "output_type": "stream",
     "text": [
      "/storage/store3/work/kachardo/adhd_brain_functional_connectivity/get_data.py:40: FutureWarning: Calling int on a single element Series is deprecated and will raise a TypeError in the future. Use int(ser.iloc[0]) instead\n",
      "  session = int(subjects_data[subjects_data['subject_id']==subject[4:]]['session'])\n"
     ]
    },
    {
     "name": "stdout",
     "output_type": "stream",
     "text": [
      "Removing 5 compensators from info because not all compensation channels were picked.\n",
      "Connectivity computation...\n",
      "only using indices for lower-triangular matrix\n",
      "    computing connectivity for 34191 connections\n",
      "    using t=0.000s..10.000s for estimation (2001 points)\n",
      "    frequencies: 8.1Hz..12.0Hz (40 points)\n",
      "    connectivity scores will be averaged for each band\n",
      "    using FFT with a Hanning window to estimate spectra\n",
      "    the following metrics will be computed: Coherence\n",
      "    computing connectivity for epochs 1..28\n"
     ]
    },
    {
     "name": "stderr",
     "output_type": "stream",
     "text": [
      "/storage/store3/work/kachardo/adhd_brain_functional_connectivity/get_data.py:46: RuntimeWarning: There were no Annotations stored in <EpochsFIF |  28 events (all good), 0 – 10 s, baseline off, ~112.6 MB, data loaded,\n",
      " 'rest': 28>, so metadata was not modified.\n",
      "  connectivity = spectral_connectivity_epochs(epoch, fmin = frequency_bands[band][0], fmax = frequency_bands[band][1], faverage=True, n_jobs=40, mode = 'fourier', method = 'coh')\n",
      "[Parallel(n_jobs=40)]: Using backend LokyBackend with 40 concurrent workers.\n",
      "[Parallel(n_jobs=40)]: Done   7 out of  28 | elapsed:    0.5s remaining:    1.5s\n",
      "[Parallel(n_jobs=40)]: Done  13 out of  28 | elapsed:    0.7s remaining:    0.8s\n",
      "[Parallel(n_jobs=40)]: Done  19 out of  28 | elapsed:    1.0s remaining:    0.5s\n",
      "[Parallel(n_jobs=40)]: Done  25 out of  28 | elapsed:    1.2s remaining:    0.1s\n",
      "[Parallel(n_jobs=40)]: Done  28 out of  28 | elapsed:    1.4s finished\n"
     ]
    },
    {
     "name": "stdout",
     "output_type": "stream",
     "text": [
      "    assembling connectivity matrix\n",
      "[Connectivity computation done]\n",
      "[0.         0.34742402 0.         ... 0.06224973 0.2184273  0.        ]\n"
     ]
    },
    {
     "name": "stderr",
     "output_type": "stream",
     "text": [
      "/storage/store3/work/kachardo/adhd_brain_functional_connectivity/get_data.py:40: FutureWarning: Calling int on a single element Series is deprecated and will raise a TypeError in the future. Use int(ser.iloc[0]) instead\n",
      "  session = int(subjects_data[subjects_data['subject_id']==subject[4:]]['session'])\n"
     ]
    },
    {
     "name": "stdout",
     "output_type": "stream",
     "text": [
      "Removing 5 compensators from info because not all compensation channels were picked.\n",
      "Connectivity computation...\n",
      "only using indices for lower-triangular matrix\n",
      "    computing connectivity for 34191 connections\n",
      "    using t=0.000s..10.000s for estimation (2001 points)\n",
      "    frequencies: 8.1Hz..12.0Hz (40 points)\n",
      "    connectivity scores will be averaged for each band\n",
      "    using FFT with a Hanning window to estimate spectra\n",
      "    the following metrics will be computed: Coherence\n",
      "    computing connectivity for epochs 1..28\n"
     ]
    },
    {
     "name": "stderr",
     "output_type": "stream",
     "text": [
      "/storage/store3/work/kachardo/adhd_brain_functional_connectivity/get_data.py:46: RuntimeWarning: There were no Annotations stored in <EpochsFIF |  28 events (all good), 0 – 10 s, baseline off, ~112.6 MB, data loaded,\n",
      " 'rest': 28>, so metadata was not modified.\n",
      "  connectivity = spectral_connectivity_epochs(epoch, fmin = frequency_bands[band][0], fmax = frequency_bands[band][1], faverage=True, n_jobs=40, mode = 'fourier', method = 'coh')\n",
      "[Parallel(n_jobs=40)]: Using backend LokyBackend with 40 concurrent workers.\n",
      "[Parallel(n_jobs=40)]: Done   7 out of  28 | elapsed:    0.5s remaining:    1.4s\n",
      "[Parallel(n_jobs=40)]: Done  13 out of  28 | elapsed:    0.7s remaining:    0.8s\n",
      "[Parallel(n_jobs=40)]: Done  19 out of  28 | elapsed:    1.0s remaining:    0.5s\n",
      "[Parallel(n_jobs=40)]: Done  25 out of  28 | elapsed:    1.2s remaining:    0.1s\n",
      "[Parallel(n_jobs=40)]: Done  28 out of  28 | elapsed:    1.3s finished\n"
     ]
    },
    {
     "name": "stdout",
     "output_type": "stream",
     "text": [
      "    assembling connectivity matrix\n",
      "[Connectivity computation done]\n",
      "[0.         0.34295078 0.         ... 0.14790537 0.04461096 0.        ]\n"
     ]
    },
    {
     "name": "stderr",
     "output_type": "stream",
     "text": [
      "/storage/store3/work/kachardo/adhd_brain_functional_connectivity/get_data.py:40: FutureWarning: Calling int on a single element Series is deprecated and will raise a TypeError in the future. Use int(ser.iloc[0]) instead\n",
      "  session = int(subjects_data[subjects_data['subject_id']==subject[4:]]['session'])\n"
     ]
    },
    {
     "name": "stdout",
     "output_type": "stream",
     "text": [
      "Removing 5 compensators from info because not all compensation channels were picked.\n",
      "Connectivity computation...\n",
      "only using indices for lower-triangular matrix\n",
      "    computing connectivity for 34191 connections\n",
      "    using t=0.000s..10.000s for estimation (2001 points)\n",
      "    frequencies: 8.1Hz..12.0Hz (40 points)\n",
      "    connectivity scores will be averaged for each band\n",
      "    using FFT with a Hanning window to estimate spectra\n",
      "    the following metrics will be computed: Coherence\n",
      "    computing connectivity for epochs 1..28\n"
     ]
    },
    {
     "name": "stderr",
     "output_type": "stream",
     "text": [
      "/storage/store3/work/kachardo/adhd_brain_functional_connectivity/get_data.py:46: RuntimeWarning: There were no Annotations stored in <EpochsFIF |  28 events (all good), 0 – 10 s, baseline off, ~112.6 MB, data loaded,\n",
      " 'rest': 28>, so metadata was not modified.\n",
      "  connectivity = spectral_connectivity_epochs(epoch, fmin = frequency_bands[band][0], fmax = frequency_bands[band][1], faverage=True, n_jobs=40, mode = 'fourier', method = 'coh')\n",
      "[Parallel(n_jobs=40)]: Using backend LokyBackend with 40 concurrent workers.\n",
      "[Parallel(n_jobs=40)]: Done   7 out of  28 | elapsed:    0.5s remaining:    1.4s\n",
      "[Parallel(n_jobs=40)]: Done  13 out of  28 | elapsed:    0.7s remaining:    0.8s\n",
      "[Parallel(n_jobs=40)]: Done  19 out of  28 | elapsed:    1.0s remaining:    0.5s\n",
      "[Parallel(n_jobs=40)]: Done  25 out of  28 | elapsed:    1.2s remaining:    0.1s\n",
      "[Parallel(n_jobs=40)]: Done  28 out of  28 | elapsed:    1.4s finished\n"
     ]
    },
    {
     "name": "stdout",
     "output_type": "stream",
     "text": [
      "    assembling connectivity matrix\n",
      "[Connectivity computation done]\n",
      "[0.         0.41110806 0.         ... 0.14270405 0.05579484 0.        ]\n"
     ]
    },
    {
     "name": "stderr",
     "output_type": "stream",
     "text": [
      "/storage/store3/work/kachardo/adhd_brain_functional_connectivity/get_data.py:40: FutureWarning: Calling int on a single element Series is deprecated and will raise a TypeError in the future. Use int(ser.iloc[0]) instead\n",
      "  session = int(subjects_data[subjects_data['subject_id']==subject[4:]]['session'])\n"
     ]
    },
    {
     "name": "stdout",
     "output_type": "stream",
     "text": [
      "Removing 5 compensators from info because not all compensation channels were picked.\n",
      "Connectivity computation...\n",
      "only using indices for lower-triangular matrix\n",
      "    computing connectivity for 34191 connections\n",
      "    using t=0.000s..10.000s for estimation (2001 points)\n",
      "    frequencies: 8.1Hz..12.0Hz (40 points)\n",
      "    connectivity scores will be averaged for each band\n",
      "    using FFT with a Hanning window to estimate spectra\n",
      "    the following metrics will be computed: Coherence\n",
      "    computing connectivity for epochs 1..28\n"
     ]
    },
    {
     "name": "stderr",
     "output_type": "stream",
     "text": [
      "/storage/store3/work/kachardo/adhd_brain_functional_connectivity/get_data.py:46: RuntimeWarning: There were no Annotations stored in <EpochsFIF |  28 events (all good), 0 – 10 s, baseline off, ~112.6 MB, data loaded,\n",
      " 'rest': 28>, so metadata was not modified.\n",
      "  connectivity = spectral_connectivity_epochs(epoch, fmin = frequency_bands[band][0], fmax = frequency_bands[band][1], faverage=True, n_jobs=40, mode = 'fourier', method = 'coh')\n",
      "[Parallel(n_jobs=40)]: Using backend LokyBackend with 40 concurrent workers.\n",
      "[Parallel(n_jobs=40)]: Done   7 out of  28 | elapsed:    0.5s remaining:    1.5s\n",
      "[Parallel(n_jobs=40)]: Done  13 out of  28 | elapsed:    0.7s remaining:    0.9s\n",
      "[Parallel(n_jobs=40)]: Done  19 out of  28 | elapsed:    1.0s remaining:    0.5s\n",
      "[Parallel(n_jobs=40)]: Done  25 out of  28 | elapsed:    1.3s remaining:    0.2s\n",
      "[Parallel(n_jobs=40)]: Done  28 out of  28 | elapsed:    1.4s finished\n"
     ]
    },
    {
     "name": "stdout",
     "output_type": "stream",
     "text": [
      "    assembling connectivity matrix\n",
      "[Connectivity computation done]\n",
      "[0.         0.1968661  0.         ... 0.04168833 0.02572089 0.        ]\n"
     ]
    },
    {
     "name": "stderr",
     "output_type": "stream",
     "text": [
      "/storage/store3/work/kachardo/adhd_brain_functional_connectivity/get_data.py:40: FutureWarning: Calling int on a single element Series is deprecated and will raise a TypeError in the future. Use int(ser.iloc[0]) instead\n",
      "  session = int(subjects_data[subjects_data['subject_id']==subject[4:]]['session'])\n"
     ]
    },
    {
     "name": "stdout",
     "output_type": "stream",
     "text": [
      "Removing 5 compensators from info because not all compensation channels were picked.\n",
      "Connectivity computation...\n",
      "only using indices for lower-triangular matrix\n",
      "    computing connectivity for 34191 connections\n",
      "    using t=0.000s..10.000s for estimation (2001 points)\n",
      "    frequencies: 8.1Hz..12.0Hz (40 points)\n",
      "    connectivity scores will be averaged for each band\n",
      "    using FFT with a Hanning window to estimate spectra\n",
      "    the following metrics will be computed: Coherence\n",
      "    computing connectivity for epochs 1..28\n"
     ]
    },
    {
     "name": "stderr",
     "output_type": "stream",
     "text": [
      "/storage/store3/work/kachardo/adhd_brain_functional_connectivity/get_data.py:46: RuntimeWarning: There were no Annotations stored in <EpochsFIF |  28 events (all good), 0 – 10 s, baseline off, ~112.6 MB, data loaded,\n",
      " 'rest': 28>, so metadata was not modified.\n",
      "  connectivity = spectral_connectivity_epochs(epoch, fmin = frequency_bands[band][0], fmax = frequency_bands[band][1], faverage=True, n_jobs=40, mode = 'fourier', method = 'coh')\n",
      "[Parallel(n_jobs=40)]: Using backend LokyBackend with 40 concurrent workers.\n",
      "[Parallel(n_jobs=40)]: Done   7 out of  28 | elapsed:    0.5s remaining:    1.5s\n",
      "[Parallel(n_jobs=40)]: Done  13 out of  28 | elapsed:    0.8s remaining:    0.9s\n",
      "[Parallel(n_jobs=40)]: Done  19 out of  28 | elapsed:    1.0s remaining:    0.5s\n",
      "[Parallel(n_jobs=40)]: Done  25 out of  28 | elapsed:    1.3s remaining:    0.2s\n",
      "[Parallel(n_jobs=40)]: Done  28 out of  28 | elapsed:    1.4s finished\n"
     ]
    },
    {
     "name": "stdout",
     "output_type": "stream",
     "text": [
      "    assembling connectivity matrix\n",
      "[Connectivity computation done]\n",
      "[0.         0.17121663 0.         ... 0.02175391 0.02304338 0.        ]\n"
     ]
    },
    {
     "name": "stderr",
     "output_type": "stream",
     "text": [
      "/storage/store3/work/kachardo/adhd_brain_functional_connectivity/get_data.py:40: FutureWarning: Calling int on a single element Series is deprecated and will raise a TypeError in the future. Use int(ser.iloc[0]) instead\n",
      "  session = int(subjects_data[subjects_data['subject_id']==subject[4:]]['session'])\n"
     ]
    },
    {
     "name": "stdout",
     "output_type": "stream",
     "text": [
      "Removing 5 compensators from info because not all compensation channels were picked.\n",
      "Connectivity computation...\n",
      "only using indices for lower-triangular matrix\n",
      "    computing connectivity for 34191 connections\n",
      "    using t=0.000s..10.000s for estimation (2001 points)\n",
      "    frequencies: 8.1Hz..12.0Hz (40 points)\n",
      "    connectivity scores will be averaged for each band\n",
      "    using FFT with a Hanning window to estimate spectra\n",
      "    the following metrics will be computed: Coherence\n",
      "    computing connectivity for epochs 1..28\n"
     ]
    },
    {
     "name": "stderr",
     "output_type": "stream",
     "text": [
      "/storage/store3/work/kachardo/adhd_brain_functional_connectivity/get_data.py:46: RuntimeWarning: There were no Annotations stored in <EpochsFIF |  28 events (all good), 0 – 10 s, baseline off, ~112.6 MB, data loaded,\n",
      " 'rest': 28>, so metadata was not modified.\n",
      "  connectivity = spectral_connectivity_epochs(epoch, fmin = frequency_bands[band][0], fmax = frequency_bands[band][1], faverage=True, n_jobs=40, mode = 'fourier', method = 'coh')\n",
      "[Parallel(n_jobs=40)]: Using backend LokyBackend with 40 concurrent workers.\n",
      "[Parallel(n_jobs=40)]: Done   7 out of  28 | elapsed:    0.5s remaining:    1.5s\n",
      "[Parallel(n_jobs=40)]: Done  13 out of  28 | elapsed:    0.7s remaining:    0.9s\n",
      "[Parallel(n_jobs=40)]: Done  19 out of  28 | elapsed:    1.0s remaining:    0.5s\n",
      "[Parallel(n_jobs=40)]: Done  25 out of  28 | elapsed:    1.3s remaining:    0.2s\n",
      "[Parallel(n_jobs=40)]: Done  28 out of  28 | elapsed:    1.4s finished\n"
     ]
    },
    {
     "name": "stdout",
     "output_type": "stream",
     "text": [
      "    assembling connectivity matrix\n",
      "[Connectivity computation done]\n",
      "[0.         0.42862846 0.         ... 0.04258496 0.08726143 0.        ]\n"
     ]
    },
    {
     "name": "stderr",
     "output_type": "stream",
     "text": [
      "/storage/store3/work/kachardo/adhd_brain_functional_connectivity/get_data.py:40: FutureWarning: Calling int on a single element Series is deprecated and will raise a TypeError in the future. Use int(ser.iloc[0]) instead\n",
      "  session = int(subjects_data[subjects_data['subject_id']==subject[4:]]['session'])\n"
     ]
    },
    {
     "name": "stdout",
     "output_type": "stream",
     "text": [
      "Removing 5 compensators from info because not all compensation channels were picked.\n",
      "Connectivity computation...\n",
      "only using indices for lower-triangular matrix\n",
      "    computing connectivity for 34191 connections\n",
      "    using t=0.000s..10.000s for estimation (2001 points)\n",
      "    frequencies: 8.1Hz..12.0Hz (40 points)\n",
      "    connectivity scores will be averaged for each band\n",
      "    using FFT with a Hanning window to estimate spectra\n",
      "    the following metrics will be computed: Coherence\n",
      "    computing connectivity for epochs 1..28\n"
     ]
    },
    {
     "name": "stderr",
     "output_type": "stream",
     "text": [
      "/storage/store3/work/kachardo/adhd_brain_functional_connectivity/get_data.py:46: RuntimeWarning: There were no Annotations stored in <EpochsFIF |  28 events (all good), 0 – 10 s, baseline off, ~112.6 MB, data loaded,\n",
      " 'rest': 28>, so metadata was not modified.\n",
      "  connectivity = spectral_connectivity_epochs(epoch, fmin = frequency_bands[band][0], fmax = frequency_bands[band][1], faverage=True, n_jobs=40, mode = 'fourier', method = 'coh')\n",
      "[Parallel(n_jobs=40)]: Using backend LokyBackend with 40 concurrent workers.\n",
      "[Parallel(n_jobs=40)]: Done   7 out of  28 | elapsed:    0.5s remaining:    1.5s\n",
      "[Parallel(n_jobs=40)]: Done  13 out of  28 | elapsed:    0.7s remaining:    0.8s\n",
      "[Parallel(n_jobs=40)]: Done  19 out of  28 | elapsed:    1.0s remaining:    0.5s\n",
      "[Parallel(n_jobs=40)]: Done  25 out of  28 | elapsed:    1.2s remaining:    0.1s\n",
      "[Parallel(n_jobs=40)]: Done  28 out of  28 | elapsed:    1.3s finished\n"
     ]
    },
    {
     "name": "stdout",
     "output_type": "stream",
     "text": [
      "    assembling connectivity matrix\n",
      "[Connectivity computation done]\n",
      "[0.         0.60244326 0.         ... 0.08643124 0.13547212 0.        ]\n"
     ]
    },
    {
     "name": "stderr",
     "output_type": "stream",
     "text": [
      "/storage/store3/work/kachardo/adhd_brain_functional_connectivity/get_data.py:40: FutureWarning: Calling int on a single element Series is deprecated and will raise a TypeError in the future. Use int(ser.iloc[0]) instead\n",
      "  session = int(subjects_data[subjects_data['subject_id']==subject[4:]]['session'])\n"
     ]
    },
    {
     "name": "stdout",
     "output_type": "stream",
     "text": [
      "Removing 5 compensators from info because not all compensation channels were picked.\n",
      "Connectivity computation...\n",
      "only using indices for lower-triangular matrix\n",
      "    computing connectivity for 34191 connections\n",
      "    using t=0.000s..10.000s for estimation (2001 points)\n",
      "    frequencies: 8.1Hz..12.0Hz (40 points)\n",
      "    connectivity scores will be averaged for each band\n",
      "    using FFT with a Hanning window to estimate spectra\n",
      "    the following metrics will be computed: Coherence\n",
      "    computing connectivity for epochs 1..28\n"
     ]
    },
    {
     "name": "stderr",
     "output_type": "stream",
     "text": [
      "/storage/store3/work/kachardo/adhd_brain_functional_connectivity/get_data.py:46: RuntimeWarning: There were no Annotations stored in <EpochsFIF |  28 events (all good), 0 – 10 s, baseline off, ~112.6 MB, data loaded,\n",
      " 'rest': 28>, so metadata was not modified.\n",
      "  connectivity = spectral_connectivity_epochs(epoch, fmin = frequency_bands[band][0], fmax = frequency_bands[band][1], faverage=True, n_jobs=40, mode = 'fourier', method = 'coh')\n",
      "[Parallel(n_jobs=40)]: Using backend LokyBackend with 40 concurrent workers.\n",
      "[Parallel(n_jobs=40)]: Done   7 out of  28 | elapsed:    0.5s remaining:    1.4s\n",
      "[Parallel(n_jobs=40)]: Done  13 out of  28 | elapsed:    0.8s remaining:    0.9s\n",
      "[Parallel(n_jobs=40)]: Done  19 out of  28 | elapsed:    1.0s remaining:    0.5s\n",
      "[Parallel(n_jobs=40)]: Done  25 out of  28 | elapsed:    1.3s remaining:    0.2s\n",
      "[Parallel(n_jobs=40)]: Done  28 out of  28 | elapsed:    1.4s finished\n"
     ]
    },
    {
     "name": "stdout",
     "output_type": "stream",
     "text": [
      "    assembling connectivity matrix\n",
      "[Connectivity computation done]\n",
      "[0.         0.66136004 0.         ... 0.129518   0.07677649 0.        ]\n"
     ]
    },
    {
     "name": "stderr",
     "output_type": "stream",
     "text": [
      "/storage/store3/work/kachardo/adhd_brain_functional_connectivity/get_data.py:40: FutureWarning: Calling int on a single element Series is deprecated and will raise a TypeError in the future. Use int(ser.iloc[0]) instead\n",
      "  session = int(subjects_data[subjects_data['subject_id']==subject[4:]]['session'])\n"
     ]
    },
    {
     "name": "stdout",
     "output_type": "stream",
     "text": [
      "Removing 5 compensators from info because not all compensation channels were picked.\n",
      "Connectivity computation...\n",
      "only using indices for lower-triangular matrix\n",
      "    computing connectivity for 34191 connections\n",
      "    using t=0.000s..10.000s for estimation (2001 points)\n",
      "    frequencies: 8.1Hz..12.0Hz (40 points)\n",
      "    connectivity scores will be averaged for each band\n",
      "    using FFT with a Hanning window to estimate spectra\n",
      "    the following metrics will be computed: Coherence\n",
      "    computing connectivity for epochs 1..28\n"
     ]
    },
    {
     "name": "stderr",
     "output_type": "stream",
     "text": [
      "/storage/store3/work/kachardo/adhd_brain_functional_connectivity/get_data.py:46: RuntimeWarning: There were no Annotations stored in <EpochsFIF |  28 events (all good), 0 – 10 s, baseline off, ~112.6 MB, data loaded,\n",
      " 'rest': 28>, so metadata was not modified.\n",
      "  connectivity = spectral_connectivity_epochs(epoch, fmin = frequency_bands[band][0], fmax = frequency_bands[band][1], faverage=True, n_jobs=40, mode = 'fourier', method = 'coh')\n",
      "[Parallel(n_jobs=40)]: Using backend LokyBackend with 40 concurrent workers.\n",
      "[Parallel(n_jobs=40)]: Done   7 out of  28 | elapsed:    0.5s remaining:    1.5s\n",
      "[Parallel(n_jobs=40)]: Done  13 out of  28 | elapsed:    0.7s remaining:    0.9s\n",
      "[Parallel(n_jobs=40)]: Done  19 out of  28 | elapsed:    1.0s remaining:    0.5s\n",
      "[Parallel(n_jobs=40)]: Done  25 out of  28 | elapsed:    1.2s remaining:    0.1s\n",
      "[Parallel(n_jobs=40)]: Done  28 out of  28 | elapsed:    1.4s finished\n"
     ]
    },
    {
     "name": "stdout",
     "output_type": "stream",
     "text": [
      "    assembling connectivity matrix\n",
      "[Connectivity computation done]\n",
      "[0.         0.42828143 0.         ... 0.14398143 0.05942327 0.        ]\n"
     ]
    },
    {
     "name": "stderr",
     "output_type": "stream",
     "text": [
      "/storage/store3/work/kachardo/adhd_brain_functional_connectivity/get_data.py:40: FutureWarning: Calling int on a single element Series is deprecated and will raise a TypeError in the future. Use int(ser.iloc[0]) instead\n",
      "  session = int(subjects_data[subjects_data['subject_id']==subject[4:]]['session'])\n"
     ]
    },
    {
     "name": "stdout",
     "output_type": "stream",
     "text": [
      "Removing 5 compensators from info because not all compensation channels were picked.\n",
      "Connectivity computation...\n",
      "only using indices for lower-triangular matrix\n",
      "    computing connectivity for 34191 connections\n",
      "    using t=0.000s..10.000s for estimation (2001 points)\n",
      "    frequencies: 8.1Hz..12.0Hz (40 points)\n",
      "    connectivity scores will be averaged for each band\n",
      "    using FFT with a Hanning window to estimate spectra\n",
      "    the following metrics will be computed: Coherence\n",
      "    computing connectivity for epochs 1..28\n"
     ]
    },
    {
     "name": "stderr",
     "output_type": "stream",
     "text": [
      "/storage/store3/work/kachardo/adhd_brain_functional_connectivity/get_data.py:46: RuntimeWarning: There were no Annotations stored in <EpochsFIF |  28 events (all good), 0 – 10 s, baseline off, ~112.6 MB, data loaded,\n",
      " 'rest': 28>, so metadata was not modified.\n",
      "  connectivity = spectral_connectivity_epochs(epoch, fmin = frequency_bands[band][0], fmax = frequency_bands[band][1], faverage=True, n_jobs=40, mode = 'fourier', method = 'coh')\n",
      "[Parallel(n_jobs=40)]: Using backend LokyBackend with 40 concurrent workers.\n",
      "[Parallel(n_jobs=40)]: Done   7 out of  28 | elapsed:    0.5s remaining:    1.5s\n",
      "[Parallel(n_jobs=40)]: Done  13 out of  28 | elapsed:    0.7s remaining:    0.9s\n",
      "[Parallel(n_jobs=40)]: Done  19 out of  28 | elapsed:    1.0s remaining:    0.5s\n",
      "[Parallel(n_jobs=40)]: Done  25 out of  28 | elapsed:    1.3s remaining:    0.2s\n",
      "[Parallel(n_jobs=40)]: Done  28 out of  28 | elapsed:    1.4s finished\n"
     ]
    },
    {
     "name": "stdout",
     "output_type": "stream",
     "text": [
      "    assembling connectivity matrix\n",
      "[Connectivity computation done]\n",
      "[0.         0.51584188 0.         ... 0.05532268 0.09165496 0.        ]\n"
     ]
    },
    {
     "name": "stderr",
     "output_type": "stream",
     "text": [
      "/storage/store3/work/kachardo/adhd_brain_functional_connectivity/get_data.py:40: FutureWarning: Calling int on a single element Series is deprecated and will raise a TypeError in the future. Use int(ser.iloc[0]) instead\n",
      "  session = int(subjects_data[subjects_data['subject_id']==subject[4:]]['session'])\n"
     ]
    },
    {
     "name": "stdout",
     "output_type": "stream",
     "text": [
      "Removing 5 compensators from info because not all compensation channels were picked.\n",
      "Connectivity computation...\n",
      "only using indices for lower-triangular matrix\n",
      "    computing connectivity for 34191 connections\n",
      "    using t=0.000s..10.000s for estimation (2001 points)\n",
      "    frequencies: 8.1Hz..12.0Hz (40 points)\n",
      "    connectivity scores will be averaged for each band\n",
      "    using FFT with a Hanning window to estimate spectra\n",
      "    the following metrics will be computed: Coherence\n",
      "    computing connectivity for epochs 1..28\n"
     ]
    },
    {
     "name": "stderr",
     "output_type": "stream",
     "text": [
      "/storage/store3/work/kachardo/adhd_brain_functional_connectivity/get_data.py:46: RuntimeWarning: There were no Annotations stored in <EpochsFIF |  28 events (all good), 0 – 10 s, baseline off, ~112.6 MB, data loaded,\n",
      " 'rest': 28>, so metadata was not modified.\n",
      "  connectivity = spectral_connectivity_epochs(epoch, fmin = frequency_bands[band][0], fmax = frequency_bands[band][1], faverage=True, n_jobs=40, mode = 'fourier', method = 'coh')\n",
      "[Parallel(n_jobs=40)]: Using backend LokyBackend with 40 concurrent workers.\n",
      "[Parallel(n_jobs=40)]: Done   7 out of  28 | elapsed:    0.5s remaining:    1.5s\n",
      "[Parallel(n_jobs=40)]: Done  13 out of  28 | elapsed:    0.7s remaining:    0.9s\n",
      "[Parallel(n_jobs=40)]: Done  19 out of  28 | elapsed:    1.0s remaining:    0.5s\n",
      "[Parallel(n_jobs=40)]: Done  25 out of  28 | elapsed:    1.2s remaining:    0.1s\n",
      "[Parallel(n_jobs=40)]: Done  28 out of  28 | elapsed:    1.4s finished\n"
     ]
    },
    {
     "name": "stdout",
     "output_type": "stream",
     "text": [
      "    assembling connectivity matrix\n",
      "[Connectivity computation done]\n",
      "[0.         0.26976356 0.         ... 0.05996757 0.04129507 0.        ]\n"
     ]
    },
    {
     "name": "stderr",
     "output_type": "stream",
     "text": [
      "/storage/store3/work/kachardo/adhd_brain_functional_connectivity/get_data.py:40: FutureWarning: Calling int on a single element Series is deprecated and will raise a TypeError in the future. Use int(ser.iloc[0]) instead\n",
      "  session = int(subjects_data[subjects_data['subject_id']==subject[4:]]['session'])\n"
     ]
    },
    {
     "name": "stdout",
     "output_type": "stream",
     "text": [
      "Removing 5 compensators from info because not all compensation channels were picked.\n",
      "Connectivity computation...\n",
      "only using indices for lower-triangular matrix\n",
      "    computing connectivity for 34191 connections\n",
      "    using t=0.000s..10.000s for estimation (2001 points)\n",
      "    frequencies: 8.1Hz..12.0Hz (40 points)\n",
      "    connectivity scores will be averaged for each band\n",
      "    using FFT with a Hanning window to estimate spectra\n",
      "    the following metrics will be computed: Coherence\n",
      "    computing connectivity for epochs 1..28\n"
     ]
    },
    {
     "name": "stderr",
     "output_type": "stream",
     "text": [
      "/storage/store3/work/kachardo/adhd_brain_functional_connectivity/get_data.py:46: RuntimeWarning: There were no Annotations stored in <EpochsFIF |  28 events (all good), 0 – 10 s, baseline off, ~112.6 MB, data loaded,\n",
      " 'rest': 28>, so metadata was not modified.\n",
      "  connectivity = spectral_connectivity_epochs(epoch, fmin = frequency_bands[band][0], fmax = frequency_bands[band][1], faverage=True, n_jobs=40, mode = 'fourier', method = 'coh')\n",
      "[Parallel(n_jobs=40)]: Using backend LokyBackend with 40 concurrent workers.\n",
      "[Parallel(n_jobs=40)]: Done   7 out of  28 | elapsed:    0.5s remaining:    1.5s\n",
      "[Parallel(n_jobs=40)]: Done  13 out of  28 | elapsed:    0.7s remaining:    0.8s\n",
      "[Parallel(n_jobs=40)]: Done  19 out of  28 | elapsed:    1.0s remaining:    0.5s\n",
      "[Parallel(n_jobs=40)]: Done  25 out of  28 | elapsed:    1.2s remaining:    0.1s\n",
      "[Parallel(n_jobs=40)]: Done  28 out of  28 | elapsed:    1.4s finished\n"
     ]
    },
    {
     "name": "stdout",
     "output_type": "stream",
     "text": [
      "    assembling connectivity matrix\n",
      "[Connectivity computation done]\n",
      "[0.         0.42354673 0.         ... 0.05435217 0.05956578 0.        ]\n"
     ]
    },
    {
     "name": "stderr",
     "output_type": "stream",
     "text": [
      "/storage/store3/work/kachardo/adhd_brain_functional_connectivity/get_data.py:40: FutureWarning: Calling int on a single element Series is deprecated and will raise a TypeError in the future. Use int(ser.iloc[0]) instead\n",
      "  session = int(subjects_data[subjects_data['subject_id']==subject[4:]]['session'])\n"
     ]
    },
    {
     "name": "stdout",
     "output_type": "stream",
     "text": [
      "Removing 5 compensators from info because not all compensation channels were picked.\n",
      "Connectivity computation...\n",
      "only using indices for lower-triangular matrix\n",
      "    computing connectivity for 34191 connections\n",
      "    using t=0.000s..10.000s for estimation (2001 points)\n",
      "    frequencies: 8.1Hz..12.0Hz (40 points)\n",
      "    connectivity scores will be averaged for each band\n",
      "    using FFT with a Hanning window to estimate spectra\n",
      "    the following metrics will be computed: Coherence\n",
      "    computing connectivity for epochs 1..28\n"
     ]
    },
    {
     "name": "stderr",
     "output_type": "stream",
     "text": [
      "/storage/store3/work/kachardo/adhd_brain_functional_connectivity/get_data.py:46: RuntimeWarning: There were no Annotations stored in <EpochsFIF |  28 events (all good), 0 – 10 s, baseline off, ~112.6 MB, data loaded,\n",
      " 'rest': 28>, so metadata was not modified.\n",
      "  connectivity = spectral_connectivity_epochs(epoch, fmin = frequency_bands[band][0], fmax = frequency_bands[band][1], faverage=True, n_jobs=40, mode = 'fourier', method = 'coh')\n",
      "[Parallel(n_jobs=40)]: Using backend LokyBackend with 40 concurrent workers.\n",
      "[Parallel(n_jobs=40)]: Done   7 out of  28 | elapsed:    0.5s remaining:    1.4s\n",
      "[Parallel(n_jobs=40)]: Done  13 out of  28 | elapsed:    0.7s remaining:    0.9s\n",
      "[Parallel(n_jobs=40)]: Done  19 out of  28 | elapsed:    1.0s remaining:    0.5s\n",
      "[Parallel(n_jobs=40)]: Done  25 out of  28 | elapsed:    1.2s remaining:    0.1s\n",
      "[Parallel(n_jobs=40)]: Done  28 out of  28 | elapsed:    1.4s finished\n"
     ]
    },
    {
     "name": "stdout",
     "output_type": "stream",
     "text": [
      "    assembling connectivity matrix\n",
      "[Connectivity computation done]\n",
      "[0.         0.33858493 0.         ... 0.10525915 0.03630489 0.        ]\n"
     ]
    },
    {
     "name": "stderr",
     "output_type": "stream",
     "text": [
      "/storage/store3/work/kachardo/adhd_brain_functional_connectivity/get_data.py:40: FutureWarning: Calling int on a single element Series is deprecated and will raise a TypeError in the future. Use int(ser.iloc[0]) instead\n",
      "  session = int(subjects_data[subjects_data['subject_id']==subject[4:]]['session'])\n"
     ]
    },
    {
     "name": "stdout",
     "output_type": "stream",
     "text": [
      "Removing 5 compensators from info because not all compensation channels were picked.\n",
      "Connectivity computation...\n",
      "only using indices for lower-triangular matrix\n",
      "    computing connectivity for 34191 connections\n",
      "    using t=0.000s..10.000s for estimation (2001 points)\n",
      "    frequencies: 8.1Hz..12.0Hz (40 points)\n",
      "    connectivity scores will be averaged for each band\n",
      "    using FFT with a Hanning window to estimate spectra\n",
      "    the following metrics will be computed: Coherence\n",
      "    computing connectivity for epochs 1..28\n"
     ]
    },
    {
     "name": "stderr",
     "output_type": "stream",
     "text": [
      "/storage/store3/work/kachardo/adhd_brain_functional_connectivity/get_data.py:46: RuntimeWarning: There were no Annotations stored in <EpochsFIF |  28 events (all good), 0 – 10 s, baseline off, ~112.6 MB, data loaded,\n",
      " 'rest': 28>, so metadata was not modified.\n",
      "  connectivity = spectral_connectivity_epochs(epoch, fmin = frequency_bands[band][0], fmax = frequency_bands[band][1], faverage=True, n_jobs=40, mode = 'fourier', method = 'coh')\n",
      "[Parallel(n_jobs=40)]: Using backend LokyBackend with 40 concurrent workers.\n",
      "[Parallel(n_jobs=40)]: Done   7 out of  28 | elapsed:    0.5s remaining:    1.5s\n",
      "[Parallel(n_jobs=40)]: Done  13 out of  28 | elapsed:    0.7s remaining:    0.8s\n",
      "[Parallel(n_jobs=40)]: Done  19 out of  28 | elapsed:    1.0s remaining:    0.5s\n",
      "[Parallel(n_jobs=40)]: Done  25 out of  28 | elapsed:    1.2s remaining:    0.1s\n",
      "[Parallel(n_jobs=40)]: Done  28 out of  28 | elapsed:    1.3s finished\n"
     ]
    },
    {
     "name": "stdout",
     "output_type": "stream",
     "text": [
      "    assembling connectivity matrix\n",
      "[Connectivity computation done]\n",
      "[0.         0.28801455 0.         ... 0.07283004 0.0356067  0.        ]\n"
     ]
    },
    {
     "name": "stderr",
     "output_type": "stream",
     "text": [
      "/storage/store3/work/kachardo/adhd_brain_functional_connectivity/get_data.py:40: FutureWarning: Calling int on a single element Series is deprecated and will raise a TypeError in the future. Use int(ser.iloc[0]) instead\n",
      "  session = int(subjects_data[subjects_data['subject_id']==subject[4:]]['session'])\n"
     ]
    },
    {
     "name": "stdout",
     "output_type": "stream",
     "text": [
      "Removing 5 compensators from info because not all compensation channels were picked.\n",
      "Connectivity computation...\n",
      "only using indices for lower-triangular matrix\n",
      "    computing connectivity for 34191 connections\n",
      "    using t=0.000s..10.000s for estimation (2001 points)\n",
      "    frequencies: 8.1Hz..12.0Hz (40 points)\n",
      "    connectivity scores will be averaged for each band\n",
      "    using FFT with a Hanning window to estimate spectra\n",
      "    the following metrics will be computed: Coherence\n",
      "    computing connectivity for epochs 1..28\n"
     ]
    },
    {
     "name": "stderr",
     "output_type": "stream",
     "text": [
      "/storage/store3/work/kachardo/adhd_brain_functional_connectivity/get_data.py:46: RuntimeWarning: There were no Annotations stored in <EpochsFIF |  28 events (all good), 0 – 10 s, baseline off, ~112.6 MB, data loaded,\n",
      " 'rest': 28>, so metadata was not modified.\n",
      "  connectivity = spectral_connectivity_epochs(epoch, fmin = frequency_bands[band][0], fmax = frequency_bands[band][1], faverage=True, n_jobs=40, mode = 'fourier', method = 'coh')\n",
      "[Parallel(n_jobs=40)]: Using backend LokyBackend with 40 concurrent workers.\n",
      "[Parallel(n_jobs=40)]: Done   7 out of  28 | elapsed:    0.5s remaining:    1.4s\n",
      "[Parallel(n_jobs=40)]: Done  13 out of  28 | elapsed:    0.7s remaining:    0.8s\n",
      "[Parallel(n_jobs=40)]: Done  19 out of  28 | elapsed:    1.0s remaining:    0.5s\n",
      "[Parallel(n_jobs=40)]: Done  25 out of  28 | elapsed:    1.2s remaining:    0.1s\n",
      "[Parallel(n_jobs=40)]: Done  28 out of  28 | elapsed:    1.4s finished\n"
     ]
    },
    {
     "name": "stdout",
     "output_type": "stream",
     "text": [
      "    assembling connectivity matrix\n",
      "[Connectivity computation done]\n",
      "[0.         0.64393664 0.         ... 0.15755291 0.04157217 0.        ]\n"
     ]
    },
    {
     "name": "stderr",
     "output_type": "stream",
     "text": [
      "/storage/store3/work/kachardo/adhd_brain_functional_connectivity/get_data.py:40: FutureWarning: Calling int on a single element Series is deprecated and will raise a TypeError in the future. Use int(ser.iloc[0]) instead\n",
      "  session = int(subjects_data[subjects_data['subject_id']==subject[4:]]['session'])\n"
     ]
    },
    {
     "name": "stdout",
     "output_type": "stream",
     "text": [
      "Removing 5 compensators from info because not all compensation channels were picked.\n",
      "Connectivity computation...\n",
      "only using indices for lower-triangular matrix\n",
      "    computing connectivity for 34191 connections\n",
      "    using t=0.000s..10.000s for estimation (2001 points)\n",
      "    frequencies: 8.1Hz..12.0Hz (40 points)\n",
      "    connectivity scores will be averaged for each band\n",
      "    using FFT with a Hanning window to estimate spectra\n",
      "    the following metrics will be computed: Coherence\n",
      "    computing connectivity for epochs 1..28\n"
     ]
    },
    {
     "name": "stderr",
     "output_type": "stream",
     "text": [
      "/storage/store3/work/kachardo/adhd_brain_functional_connectivity/get_data.py:46: RuntimeWarning: There were no Annotations stored in <EpochsFIF |  28 events (all good), 0 – 10 s, baseline off, ~112.6 MB, data loaded,\n",
      " 'rest': 28>, so metadata was not modified.\n",
      "  connectivity = spectral_connectivity_epochs(epoch, fmin = frequency_bands[band][0], fmax = frequency_bands[band][1], faverage=True, n_jobs=40, mode = 'fourier', method = 'coh')\n",
      "[Parallel(n_jobs=40)]: Using backend LokyBackend with 40 concurrent workers.\n",
      "[Parallel(n_jobs=40)]: Done   7 out of  28 | elapsed:    0.5s remaining:    1.4s\n",
      "[Parallel(n_jobs=40)]: Done  13 out of  28 | elapsed:    0.7s remaining:    0.8s\n",
      "[Parallel(n_jobs=40)]: Done  19 out of  28 | elapsed:    1.0s remaining:    0.5s\n",
      "[Parallel(n_jobs=40)]: Done  25 out of  28 | elapsed:    1.2s remaining:    0.1s\n",
      "[Parallel(n_jobs=40)]: Done  28 out of  28 | elapsed:    1.4s finished\n"
     ]
    },
    {
     "name": "stdout",
     "output_type": "stream",
     "text": [
      "    assembling connectivity matrix\n",
      "[Connectivity computation done]\n",
      "[0.         0.2088449  0.         ... 0.10542482 0.03465104 0.        ]\n"
     ]
    },
    {
     "name": "stderr",
     "output_type": "stream",
     "text": [
      "/storage/store3/work/kachardo/adhd_brain_functional_connectivity/get_data.py:40: FutureWarning: Calling int on a single element Series is deprecated and will raise a TypeError in the future. Use int(ser.iloc[0]) instead\n",
      "  session = int(subjects_data[subjects_data['subject_id']==subject[4:]]['session'])\n"
     ]
    },
    {
     "name": "stdout",
     "output_type": "stream",
     "text": [
      "Removing 5 compensators from info because not all compensation channels were picked.\n",
      "Connectivity computation...\n",
      "only using indices for lower-triangular matrix\n",
      "    computing connectivity for 34191 connections\n",
      "    using t=0.000s..10.000s for estimation (2001 points)\n",
      "    frequencies: 8.1Hz..12.0Hz (40 points)\n",
      "    connectivity scores will be averaged for each band\n",
      "    using FFT with a Hanning window to estimate spectra\n",
      "    the following metrics will be computed: Coherence\n",
      "    computing connectivity for epochs 1..28\n"
     ]
    },
    {
     "name": "stderr",
     "output_type": "stream",
     "text": [
      "/storage/store3/work/kachardo/adhd_brain_functional_connectivity/get_data.py:46: RuntimeWarning: There were no Annotations stored in <EpochsFIF |  28 events (all good), 0 – 10 s, baseline off, ~112.6 MB, data loaded,\n",
      " 'rest': 28>, so metadata was not modified.\n",
      "  connectivity = spectral_connectivity_epochs(epoch, fmin = frequency_bands[band][0], fmax = frequency_bands[band][1], faverage=True, n_jobs=40, mode = 'fourier', method = 'coh')\n",
      "[Parallel(n_jobs=40)]: Using backend LokyBackend with 40 concurrent workers.\n",
      "[Parallel(n_jobs=40)]: Done   7 out of  28 | elapsed:    0.5s remaining:    1.6s\n",
      "[Parallel(n_jobs=40)]: Done  13 out of  28 | elapsed:    0.8s remaining:    0.9s\n",
      "[Parallel(n_jobs=40)]: Done  19 out of  28 | elapsed:    1.1s remaining:    0.5s\n",
      "[Parallel(n_jobs=40)]: Done  25 out of  28 | elapsed:    1.3s remaining:    0.2s\n",
      "[Parallel(n_jobs=40)]: Done  28 out of  28 | elapsed:    1.5s finished\n"
     ]
    },
    {
     "name": "stdout",
     "output_type": "stream",
     "text": [
      "    assembling connectivity matrix\n",
      "[Connectivity computation done]\n",
      "[0.         0.47240486 0.         ... 0.07461092 0.05307896 0.        ]\n"
     ]
    },
    {
     "name": "stderr",
     "output_type": "stream",
     "text": [
      "/storage/store3/work/kachardo/adhd_brain_functional_connectivity/get_data.py:40: FutureWarning: Calling int on a single element Series is deprecated and will raise a TypeError in the future. Use int(ser.iloc[0]) instead\n",
      "  session = int(subjects_data[subjects_data['subject_id']==subject[4:]]['session'])\n"
     ]
    },
    {
     "name": "stdout",
     "output_type": "stream",
     "text": [
      "Removing 5 compensators from info because not all compensation channels were picked.\n",
      "Connectivity computation...\n",
      "only using indices for lower-triangular matrix\n",
      "    computing connectivity for 34191 connections\n",
      "    using t=0.000s..10.000s for estimation (2001 points)\n",
      "    frequencies: 8.1Hz..12.0Hz (40 points)\n",
      "    connectivity scores will be averaged for each band\n",
      "    using FFT with a Hanning window to estimate spectra\n",
      "    the following metrics will be computed: Coherence\n",
      "    computing connectivity for epochs 1..28\n"
     ]
    },
    {
     "name": "stderr",
     "output_type": "stream",
     "text": [
      "/storage/store3/work/kachardo/adhd_brain_functional_connectivity/get_data.py:46: RuntimeWarning: There were no Annotations stored in <EpochsFIF |  28 events (all good), 0 – 10 s, baseline off, ~112.6 MB, data loaded,\n",
      " 'rest': 28>, so metadata was not modified.\n",
      "  connectivity = spectral_connectivity_epochs(epoch, fmin = frequency_bands[band][0], fmax = frequency_bands[band][1], faverage=True, n_jobs=40, mode = 'fourier', method = 'coh')\n",
      "[Parallel(n_jobs=40)]: Using backend LokyBackend with 40 concurrent workers.\n",
      "[Parallel(n_jobs=40)]: Done   7 out of  28 | elapsed:    0.5s remaining:    1.5s\n",
      "[Parallel(n_jobs=40)]: Done  13 out of  28 | elapsed:    0.8s remaining:    0.9s\n",
      "[Parallel(n_jobs=40)]: Done  19 out of  28 | elapsed:    1.0s remaining:    0.5s\n",
      "[Parallel(n_jobs=40)]: Done  25 out of  28 | elapsed:    1.3s remaining:    0.2s\n",
      "[Parallel(n_jobs=40)]: Done  28 out of  28 | elapsed:    1.4s finished\n"
     ]
    },
    {
     "name": "stdout",
     "output_type": "stream",
     "text": [
      "    assembling connectivity matrix\n",
      "[Connectivity computation done]\n",
      "[0.         0.28925891 0.         ... 0.05277743 0.05835521 0.        ]\n"
     ]
    },
    {
     "name": "stderr",
     "output_type": "stream",
     "text": [
      "/storage/store3/work/kachardo/adhd_brain_functional_connectivity/get_data.py:40: FutureWarning: Calling int on a single element Series is deprecated and will raise a TypeError in the future. Use int(ser.iloc[0]) instead\n",
      "  session = int(subjects_data[subjects_data['subject_id']==subject[4:]]['session'])\n"
     ]
    },
    {
     "name": "stdout",
     "output_type": "stream",
     "text": [
      "Removing 5 compensators from info because not all compensation channels were picked.\n",
      "Connectivity computation...\n",
      "only using indices for lower-triangular matrix\n",
      "    computing connectivity for 34191 connections\n",
      "    using t=0.000s..10.000s for estimation (2001 points)\n",
      "    frequencies: 8.1Hz..12.0Hz (40 points)\n",
      "    connectivity scores will be averaged for each band\n",
      "    using FFT with a Hanning window to estimate spectra\n",
      "    the following metrics will be computed: Coherence\n",
      "    computing connectivity for epochs 1..28\n"
     ]
    },
    {
     "name": "stderr",
     "output_type": "stream",
     "text": [
      "/storage/store3/work/kachardo/adhd_brain_functional_connectivity/get_data.py:46: RuntimeWarning: There were no Annotations stored in <EpochsFIF |  28 events (all good), 0 – 10 s, baseline off, ~112.6 MB, data loaded,\n",
      " 'rest': 28>, so metadata was not modified.\n",
      "  connectivity = spectral_connectivity_epochs(epoch, fmin = frequency_bands[band][0], fmax = frequency_bands[band][1], faverage=True, n_jobs=40, mode = 'fourier', method = 'coh')\n",
      "[Parallel(n_jobs=40)]: Using backend LokyBackend with 40 concurrent workers.\n",
      "[Parallel(n_jobs=40)]: Done   7 out of  28 | elapsed:    0.5s remaining:    1.5s\n",
      "[Parallel(n_jobs=40)]: Done  13 out of  28 | elapsed:    0.7s remaining:    0.9s\n",
      "[Parallel(n_jobs=40)]: Done  19 out of  28 | elapsed:    1.0s remaining:    0.5s\n",
      "[Parallel(n_jobs=40)]: Done  25 out of  28 | elapsed:    1.3s remaining:    0.2s\n",
      "[Parallel(n_jobs=40)]: Done  28 out of  28 | elapsed:    1.4s finished\n"
     ]
    },
    {
     "name": "stdout",
     "output_type": "stream",
     "text": [
      "    assembling connectivity matrix\n",
      "[Connectivity computation done]\n",
      "[0.         0.44445346 0.         ... 0.14998788 0.04212979 0.        ]\n"
     ]
    },
    {
     "name": "stderr",
     "output_type": "stream",
     "text": [
      "/storage/store3/work/kachardo/adhd_brain_functional_connectivity/get_data.py:40: FutureWarning: Calling int on a single element Series is deprecated and will raise a TypeError in the future. Use int(ser.iloc[0]) instead\n",
      "  session = int(subjects_data[subjects_data['subject_id']==subject[4:]]['session'])\n"
     ]
    },
    {
     "name": "stdout",
     "output_type": "stream",
     "text": [
      "Removing 5 compensators from info because not all compensation channels were picked.\n",
      "Connectivity computation...\n",
      "only using indices for lower-triangular matrix\n",
      "    computing connectivity for 34191 connections\n",
      "    using t=0.000s..10.000s for estimation (2001 points)\n",
      "    frequencies: 8.1Hz..12.0Hz (40 points)\n",
      "    connectivity scores will be averaged for each band\n",
      "    using FFT with a Hanning window to estimate spectra\n",
      "    the following metrics will be computed: Coherence\n",
      "    computing connectivity for epochs 1..28\n"
     ]
    },
    {
     "name": "stderr",
     "output_type": "stream",
     "text": [
      "/storage/store3/work/kachardo/adhd_brain_functional_connectivity/get_data.py:46: RuntimeWarning: There were no Annotations stored in <EpochsFIF |  28 events (all good), 0 – 10 s, baseline off, ~112.6 MB, data loaded,\n",
      " 'rest': 28>, so metadata was not modified.\n",
      "  connectivity = spectral_connectivity_epochs(epoch, fmin = frequency_bands[band][0], fmax = frequency_bands[band][1], faverage=True, n_jobs=40, mode = 'fourier', method = 'coh')\n",
      "[Parallel(n_jobs=40)]: Using backend LokyBackend with 40 concurrent workers.\n",
      "[Parallel(n_jobs=40)]: Done   7 out of  28 | elapsed:    0.5s remaining:    1.5s\n",
      "[Parallel(n_jobs=40)]: Done  13 out of  28 | elapsed:    0.8s remaining:    0.9s\n",
      "[Parallel(n_jobs=40)]: Done  19 out of  28 | elapsed:    1.0s remaining:    0.5s\n",
      "[Parallel(n_jobs=40)]: Done  25 out of  28 | elapsed:    1.3s remaining:    0.2s\n",
      "[Parallel(n_jobs=40)]: Done  28 out of  28 | elapsed:    1.4s finished\n"
     ]
    },
    {
     "name": "stdout",
     "output_type": "stream",
     "text": [
      "    assembling connectivity matrix\n",
      "[Connectivity computation done]\n",
      "[0.         0.69221847 0.         ... 0.06959397 0.0300033  0.        ]\n"
     ]
    },
    {
     "name": "stderr",
     "output_type": "stream",
     "text": [
      "/storage/store3/work/kachardo/adhd_brain_functional_connectivity/get_data.py:40: FutureWarning: Calling int on a single element Series is deprecated and will raise a TypeError in the future. Use int(ser.iloc[0]) instead\n",
      "  session = int(subjects_data[subjects_data['subject_id']==subject[4:]]['session'])\n"
     ]
    },
    {
     "name": "stdout",
     "output_type": "stream",
     "text": [
      "Removing 5 compensators from info because not all compensation channels were picked.\n",
      "Connectivity computation...\n",
      "only using indices for lower-triangular matrix\n",
      "    computing connectivity for 34191 connections\n",
      "    using t=0.000s..10.000s for estimation (2001 points)\n",
      "    frequencies: 8.1Hz..12.0Hz (40 points)\n",
      "    connectivity scores will be averaged for each band\n",
      "    using FFT with a Hanning window to estimate spectra\n",
      "    the following metrics will be computed: Coherence\n",
      "    computing connectivity for epochs 1..28\n"
     ]
    },
    {
     "name": "stderr",
     "output_type": "stream",
     "text": [
      "/storage/store3/work/kachardo/adhd_brain_functional_connectivity/get_data.py:46: RuntimeWarning: There were no Annotations stored in <EpochsFIF |  28 events (all good), 0 – 10 s, baseline off, ~112.6 MB, data loaded,\n",
      " 'rest': 28>, so metadata was not modified.\n",
      "  connectivity = spectral_connectivity_epochs(epoch, fmin = frequency_bands[band][0], fmax = frequency_bands[band][1], faverage=True, n_jobs=40, mode = 'fourier', method = 'coh')\n",
      "[Parallel(n_jobs=40)]: Using backend LokyBackend with 40 concurrent workers.\n",
      "[Parallel(n_jobs=40)]: Done   7 out of  28 | elapsed:    0.5s remaining:    1.5s\n",
      "[Parallel(n_jobs=40)]: Done  13 out of  28 | elapsed:    0.7s remaining:    0.8s\n",
      "[Parallel(n_jobs=40)]: Done  19 out of  28 | elapsed:    1.0s remaining:    0.5s\n",
      "[Parallel(n_jobs=40)]: Done  25 out of  28 | elapsed:    1.2s remaining:    0.1s\n",
      "[Parallel(n_jobs=40)]: Done  28 out of  28 | elapsed:    1.3s finished\n"
     ]
    },
    {
     "name": "stdout",
     "output_type": "stream",
     "text": [
      "    assembling connectivity matrix\n",
      "[Connectivity computation done]\n",
      "[0.         0.35352102 0.         ... 0.03440963 0.02472451 0.        ]\n"
     ]
    },
    {
     "name": "stderr",
     "output_type": "stream",
     "text": [
      "/storage/store3/work/kachardo/adhd_brain_functional_connectivity/get_data.py:40: FutureWarning: Calling int on a single element Series is deprecated and will raise a TypeError in the future. Use int(ser.iloc[0]) instead\n",
      "  session = int(subjects_data[subjects_data['subject_id']==subject[4:]]['session'])\n"
     ]
    },
    {
     "name": "stdout",
     "output_type": "stream",
     "text": [
      "Removing 5 compensators from info because not all compensation channels were picked.\n",
      "Connectivity computation...\n",
      "only using indices for lower-triangular matrix\n",
      "    computing connectivity for 34191 connections\n",
      "    using t=0.000s..10.000s for estimation (2001 points)\n",
      "    frequencies: 8.1Hz..12.0Hz (40 points)\n",
      "    connectivity scores will be averaged for each band\n",
      "    using FFT with a Hanning window to estimate spectra\n",
      "    the following metrics will be computed: Coherence\n",
      "    computing connectivity for epochs 1..28\n"
     ]
    },
    {
     "name": "stderr",
     "output_type": "stream",
     "text": [
      "/storage/store3/work/kachardo/adhd_brain_functional_connectivity/get_data.py:46: RuntimeWarning: There were no Annotations stored in <EpochsFIF |  28 events (all good), 0 – 10 s, baseline off, ~112.6 MB, data loaded,\n",
      " 'rest': 28>, so metadata was not modified.\n",
      "  connectivity = spectral_connectivity_epochs(epoch, fmin = frequency_bands[band][0], fmax = frequency_bands[band][1], faverage=True, n_jobs=40, mode = 'fourier', method = 'coh')\n",
      "[Parallel(n_jobs=40)]: Using backend LokyBackend with 40 concurrent workers.\n",
      "[Parallel(n_jobs=40)]: Done   7 out of  28 | elapsed:    0.5s remaining:    1.4s\n",
      "[Parallel(n_jobs=40)]: Done  13 out of  28 | elapsed:    0.7s remaining:    0.8s\n",
      "[Parallel(n_jobs=40)]: Done  19 out of  28 | elapsed:    1.0s remaining:    0.5s\n",
      "[Parallel(n_jobs=40)]: Done  25 out of  28 | elapsed:    1.2s remaining:    0.1s\n",
      "[Parallel(n_jobs=40)]: Done  28 out of  28 | elapsed:    1.4s finished\n"
     ]
    },
    {
     "name": "stdout",
     "output_type": "stream",
     "text": [
      "    assembling connectivity matrix\n",
      "[Connectivity computation done]\n",
      "[0.         0.36812563 0.         ... 0.10316426 0.04872778 0.        ]\n"
     ]
    },
    {
     "name": "stderr",
     "output_type": "stream",
     "text": [
      "/storage/store3/work/kachardo/adhd_brain_functional_connectivity/get_data.py:40: FutureWarning: Calling int on a single element Series is deprecated and will raise a TypeError in the future. Use int(ser.iloc[0]) instead\n",
      "  session = int(subjects_data[subjects_data['subject_id']==subject[4:]]['session'])\n"
     ]
    },
    {
     "name": "stdout",
     "output_type": "stream",
     "text": [
      "Removing 5 compensators from info because not all compensation channels were picked.\n",
      "Connectivity computation...\n",
      "only using indices for lower-triangular matrix\n",
      "    computing connectivity for 34191 connections\n",
      "    using t=0.000s..10.000s for estimation (2001 points)\n",
      "    frequencies: 8.1Hz..12.0Hz (40 points)\n",
      "    connectivity scores will be averaged for each band\n",
      "    using FFT with a Hanning window to estimate spectra\n",
      "    the following metrics will be computed: Coherence\n",
      "    computing connectivity for epochs 1..28\n"
     ]
    },
    {
     "name": "stderr",
     "output_type": "stream",
     "text": [
      "/storage/store3/work/kachardo/adhd_brain_functional_connectivity/get_data.py:46: RuntimeWarning: There were no Annotations stored in <EpochsFIF |  28 events (all good), 0 – 10 s, baseline off, ~112.6 MB, data loaded,\n",
      " 'rest': 28>, so metadata was not modified.\n",
      "  connectivity = spectral_connectivity_epochs(epoch, fmin = frequency_bands[band][0], fmax = frequency_bands[band][1], faverage=True, n_jobs=40, mode = 'fourier', method = 'coh')\n",
      "[Parallel(n_jobs=40)]: Using backend LokyBackend with 40 concurrent workers.\n",
      "[Parallel(n_jobs=40)]: Done   7 out of  28 | elapsed:    0.5s remaining:    1.5s\n",
      "[Parallel(n_jobs=40)]: Done  13 out of  28 | elapsed:    0.7s remaining:    0.9s\n",
      "[Parallel(n_jobs=40)]: Done  19 out of  28 | elapsed:    1.0s remaining:    0.5s\n",
      "[Parallel(n_jobs=40)]: Done  25 out of  28 | elapsed:    1.2s remaining:    0.1s\n",
      "[Parallel(n_jobs=40)]: Done  28 out of  28 | elapsed:    1.3s finished\n"
     ]
    },
    {
     "name": "stdout",
     "output_type": "stream",
     "text": [
      "    assembling connectivity matrix\n",
      "[Connectivity computation done]\n",
      "[0.         0.31837504 0.         ... 0.06155772 0.05210882 0.        ]\n"
     ]
    },
    {
     "name": "stderr",
     "output_type": "stream",
     "text": [
      "/storage/store3/work/kachardo/adhd_brain_functional_connectivity/get_data.py:40: FutureWarning: Calling int on a single element Series is deprecated and will raise a TypeError in the future. Use int(ser.iloc[0]) instead\n",
      "  session = int(subjects_data[subjects_data['subject_id']==subject[4:]]['session'])\n"
     ]
    },
    {
     "name": "stdout",
     "output_type": "stream",
     "text": [
      "Removing 5 compensators from info because not all compensation channels were picked.\n",
      "Connectivity computation...\n",
      "only using indices for lower-triangular matrix\n",
      "    computing connectivity for 34191 connections\n",
      "    using t=0.000s..10.000s for estimation (2001 points)\n",
      "    frequencies: 8.1Hz..12.0Hz (40 points)\n",
      "    connectivity scores will be averaged for each band\n",
      "    using FFT with a Hanning window to estimate spectra\n",
      "    the following metrics will be computed: Coherence\n",
      "    computing connectivity for epochs 1..28\n"
     ]
    },
    {
     "name": "stderr",
     "output_type": "stream",
     "text": [
      "/storage/store3/work/kachardo/adhd_brain_functional_connectivity/get_data.py:46: RuntimeWarning: There were no Annotations stored in <EpochsFIF |  28 events (all good), 0 – 10 s, baseline off, ~112.6 MB, data loaded,\n",
      " 'rest': 28>, so metadata was not modified.\n",
      "  connectivity = spectral_connectivity_epochs(epoch, fmin = frequency_bands[band][0], fmax = frequency_bands[band][1], faverage=True, n_jobs=40, mode = 'fourier', method = 'coh')\n",
      "[Parallel(n_jobs=40)]: Using backend LokyBackend with 40 concurrent workers.\n",
      "[Parallel(n_jobs=40)]: Done   7 out of  28 | elapsed:    0.5s remaining:    1.4s\n",
      "[Parallel(n_jobs=40)]: Done  13 out of  28 | elapsed:    0.7s remaining:    0.8s\n",
      "[Parallel(n_jobs=40)]: Done  19 out of  28 | elapsed:    1.0s remaining:    0.5s\n",
      "[Parallel(n_jobs=40)]: Done  25 out of  28 | elapsed:    1.2s remaining:    0.1s\n",
      "[Parallel(n_jobs=40)]: Done  28 out of  28 | elapsed:    1.4s finished\n"
     ]
    },
    {
     "name": "stdout",
     "output_type": "stream",
     "text": [
      "    assembling connectivity matrix\n",
      "[Connectivity computation done]\n",
      "[0.         0.3949931  0.         ... 0.03280045 0.05493013 0.        ]\n"
     ]
    },
    {
     "name": "stderr",
     "output_type": "stream",
     "text": [
      "/storage/store3/work/kachardo/adhd_brain_functional_connectivity/get_data.py:40: FutureWarning: Calling int on a single element Series is deprecated and will raise a TypeError in the future. Use int(ser.iloc[0]) instead\n",
      "  session = int(subjects_data[subjects_data['subject_id']==subject[4:]]['session'])\n"
     ]
    },
    {
     "name": "stdout",
     "output_type": "stream",
     "text": [
      "Removing 5 compensators from info because not all compensation channels were picked.\n",
      "Connectivity computation...\n",
      "only using indices for lower-triangular matrix\n",
      "    computing connectivity for 34191 connections\n",
      "    using t=0.000s..10.000s for estimation (2001 points)\n",
      "    frequencies: 8.1Hz..12.0Hz (40 points)\n",
      "    connectivity scores will be averaged for each band\n",
      "    using FFT with a Hanning window to estimate spectra\n",
      "    the following metrics will be computed: Coherence\n",
      "    computing connectivity for epochs 1..28\n"
     ]
    },
    {
     "name": "stderr",
     "output_type": "stream",
     "text": [
      "/storage/store3/work/kachardo/adhd_brain_functional_connectivity/get_data.py:46: RuntimeWarning: There were no Annotations stored in <EpochsFIF |  28 events (all good), 0 – 10 s, baseline off, ~112.6 MB, data loaded,\n",
      " 'rest': 28>, so metadata was not modified.\n",
      "  connectivity = spectral_connectivity_epochs(epoch, fmin = frequency_bands[band][0], fmax = frequency_bands[band][1], faverage=True, n_jobs=40, mode = 'fourier', method = 'coh')\n",
      "[Parallel(n_jobs=40)]: Using backend LokyBackend with 40 concurrent workers.\n",
      "[Parallel(n_jobs=40)]: Done   7 out of  28 | elapsed:    0.5s remaining:    1.4s\n",
      "[Parallel(n_jobs=40)]: Done  13 out of  28 | elapsed:    0.7s remaining:    0.8s\n",
      "[Parallel(n_jobs=40)]: Done  19 out of  28 | elapsed:    0.9s remaining:    0.4s\n",
      "[Parallel(n_jobs=40)]: Done  25 out of  28 | elapsed:    1.1s remaining:    0.1s\n",
      "[Parallel(n_jobs=40)]: Done  28 out of  28 | elapsed:    1.3s finished\n"
     ]
    },
    {
     "name": "stdout",
     "output_type": "stream",
     "text": [
      "    assembling connectivity matrix\n",
      "[Connectivity computation done]\n",
      "[0.         0.16477566 0.         ... 0.11584255 0.0270699  0.        ]\n"
     ]
    },
    {
     "name": "stderr",
     "output_type": "stream",
     "text": [
      "/storage/store3/work/kachardo/adhd_brain_functional_connectivity/get_data.py:40: FutureWarning: Calling int on a single element Series is deprecated and will raise a TypeError in the future. Use int(ser.iloc[0]) instead\n",
      "  session = int(subjects_data[subjects_data['subject_id']==subject[4:]]['session'])\n"
     ]
    },
    {
     "name": "stdout",
     "output_type": "stream",
     "text": [
      "Removing 5 compensators from info because not all compensation channels were picked.\n",
      "Connectivity computation...\n",
      "only using indices for lower-triangular matrix\n",
      "    computing connectivity for 34191 connections\n",
      "    using t=0.000s..10.000s for estimation (2001 points)\n",
      "    frequencies: 8.1Hz..12.0Hz (40 points)\n",
      "    connectivity scores will be averaged for each band\n",
      "    using FFT with a Hanning window to estimate spectra\n",
      "    the following metrics will be computed: Coherence\n",
      "    computing connectivity for epochs 1..28\n"
     ]
    },
    {
     "name": "stderr",
     "output_type": "stream",
     "text": [
      "/storage/store3/work/kachardo/adhd_brain_functional_connectivity/get_data.py:46: RuntimeWarning: There were no Annotations stored in <EpochsFIF |  28 events (all good), 0 – 10 s, baseline off, ~112.6 MB, data loaded,\n",
      " 'rest': 28>, so metadata was not modified.\n",
      "  connectivity = spectral_connectivity_epochs(epoch, fmin = frequency_bands[band][0], fmax = frequency_bands[band][1], faverage=True, n_jobs=40, mode = 'fourier', method = 'coh')\n",
      "[Parallel(n_jobs=40)]: Using backend LokyBackend with 40 concurrent workers.\n",
      "[Parallel(n_jobs=40)]: Done   7 out of  28 | elapsed:    0.5s remaining:    1.5s\n",
      "[Parallel(n_jobs=40)]: Done  13 out of  28 | elapsed:    0.7s remaining:    0.8s\n",
      "[Parallel(n_jobs=40)]: Done  19 out of  28 | elapsed:    0.9s remaining:    0.4s\n",
      "[Parallel(n_jobs=40)]: Done  25 out of  28 | elapsed:    1.2s remaining:    0.1s\n",
      "[Parallel(n_jobs=40)]: Done  28 out of  28 | elapsed:    1.3s finished\n"
     ]
    },
    {
     "name": "stdout",
     "output_type": "stream",
     "text": [
      "    assembling connectivity matrix\n",
      "[Connectivity computation done]\n",
      "[0.         0.40738811 0.         ... 0.05804623 0.08215172 0.        ]\n"
     ]
    },
    {
     "name": "stderr",
     "output_type": "stream",
     "text": [
      "/storage/store3/work/kachardo/adhd_brain_functional_connectivity/get_data.py:40: FutureWarning: Calling int on a single element Series is deprecated and will raise a TypeError in the future. Use int(ser.iloc[0]) instead\n",
      "  session = int(subjects_data[subjects_data['subject_id']==subject[4:]]['session'])\n"
     ]
    }
   ],
   "source": [
    "X, y, subjects = get_data()"
   ]
  },
  {
   "cell_type": "code",
   "execution_count": null,
   "metadata": {},
   "outputs": [],
   "source": [
    "X"
   ]
  },
  {
   "cell_type": "code",
   "execution_count": null,
   "metadata": {},
   "outputs": [],
   "source": [
    "X.loc[0,'alpha']"
   ]
  },
  {
   "cell_type": "code",
   "execution_count": null,
   "metadata": {},
   "outputs": [],
   "source": [
    "X.loc[0,'alpha'].shape"
   ]
  },
  {
   "cell_type": "code",
   "execution_count": null,
   "metadata": {},
   "outputs": [],
   "source": [
    "X.loc[0, 'alpha'].max()"
   ]
  },
  {
   "cell_type": "code",
   "execution_count": null,
   "metadata": {},
   "outputs": [],
   "source": [
    "fs_clf = NCAFSC(n_features_to_select=5, fit_method='average', n_splits = 57)\n",
    "fs_clf.fit(X.loc[0,'alpha'], y)\n",
    "w = fs_clf.weights_\n",
    "w"
   ]
  },
  {
   "cell_type": "code",
   "execution_count": null,
   "metadata": {},
   "outputs": [],
   "source": [
    "fs_clf.transform(X.loc[0, 'alpha'])"
   ]
  },
  {
   "cell_type": "code",
   "execution_count": null,
   "metadata": {},
   "outputs": [],
   "source": [
    "fs_clf.support_"
   ]
  },
  {
   "cell_type": "code",
   "execution_count": null,
   "metadata": {},
   "outputs": [],
   "source": [
    "w.sort()\n",
    "w.argsort()[::-1]\n",
    "w[w.argsort()[::-1]]"
   ]
  },
  {
   "cell_type": "code",
   "execution_count": null,
   "metadata": {},
   "outputs": [],
   "source": [
    "X2 = fs_clf.transform(X)"
   ]
  },
  {
   "cell_type": "code",
   "execution_count": null,
   "metadata": {},
   "outputs": [],
   "source": [
    "from sklearn.neighbors import KNeighborsClassifier\n",
    "from sklearn.model_selection import cross_validate, KFold\n",
    "from sklearn.metrics import accuracy_score, balanced_accuracy_score\n",
    "\n",
    "knn = KNeighborsClassifier(n_neighbors = 3)\n",
    "kfold = KFold(n_splits=57)\n",
    "\n",
    "scores = cross_validate(knn, X2, y, cv=kfold, scoring = (accuracy_score, balanced_accuracy_score))\n",
    "print(scores)"
   ]
  }
 ],
 "metadata": {
  "kernelspec": {
   "display_name": "brain_age",
   "language": "python",
   "name": "python3"
  },
  "language_info": {
   "codemirror_mode": {
    "name": "ipython",
    "version": 3
   },
   "file_extension": ".py",
   "mimetype": "text/x-python",
   "name": "python",
   "nbconvert_exporter": "python",
   "pygments_lexer": "ipython3",
   "version": "3.11.3"
  },
  "orig_nbformat": 4
 },
 "nbformat": 4,
 "nbformat_minor": 2
}
